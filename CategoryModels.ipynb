{
 "cells": [
  {
   "cell_type": "markdown",
   "id": "63d0a1b5-f924-4a3f-8333-8a4eeef1e385",
   "metadata": {},
   "source": [
    "# Code for Hierarchical Clustering to obtain labels (suitability category)"
   ]
  },
  {
   "cell_type": "code",
   "execution_count": null,
   "id": "d9ea12df-584e-424a-9622-cfe100acd1b3",
   "metadata": {},
   "outputs": [],
   "source": [
    "import pandas as pd\n",
    "import numpy as np\n",
    "import seaborn as sns\n",
    "import matplotlib.pyplot as plt\n",
    "from sklearn import metrics\n",
    "from sklearn.cluster import KMeans\n",
    "from sklearn.cluster import AgglomerativeClustering\n",
    "import scipy.cluster.hierarchy as sch"
   ]
  },
  {
   "cell_type": "code",
   "execution_count": null,
   "id": "8a30ee99-fb62-4434-97e8-84e586137dff",
   "metadata": {},
   "outputs": [],
   "source": [
    "#Loading locational dataset\n",
    "df = pd.read_csv('Normalised DACCS data.csv', index_col ='Location')"
   ]
  },
  {
   "cell_type": "code",
   "execution_count": null,
   "id": "10f95bd6-1b0b-4f2e-a8ec-bd5a8ce3c22e",
   "metadata": {},
   "outputs": [],
   "source": [
    "# Using the elbow method to determine the k value to be applied\n",
    "k_rng = range(1, 10)\n",
    "sse = []\n",
    "for k in k_rng:\n",
    "    km = KMeans(n_clusters=k)\n",
    "    km.fit(df[['WA','GSP','LCEA','GNI']])\n",
    "    sse.append(km.inertia_)"
   ]
  },
  {
   "cell_type": "code",
   "execution_count": null,
   "id": "6501a9b5-1bd9-48eb-8634-913e5ea087dd",
   "metadata": {},
   "outputs": [],
   "source": [
    "# Plot to obtain elbow\n",
    "plt.xlabel('K')\n",
    "plt.ylabel('Sum of squared error')\n",
    "plt.plot(k_rng, sse)"
   ]
  },
  {
   "cell_type": "code",
   "execution_count": null,
   "id": "58151fd4-fced-4c31-a196-ad82bf276f29",
   "metadata": {},
   "outputs": [],
   "source": [
    "# create clusters using obtained k value\n",
    "hc = AgglomerativeClustering(n_clusters=5, affinity = 'euclidean', linkage = 'ward')"
   ]
  },
  {
   "cell_type": "code",
   "execution_count": null,
   "id": "c53e90bf-e922-4c51-90b1-4bfa397f72f7",
   "metadata": {},
   "outputs": [],
   "source": [
    "# Determining mean cluster characterisitics\n",
    "y_hc = hc.fit_predict(df[['WA','GSP','LCEA','GNI']])\n",
    "df['cluster'] = y_hc\n",
    "df.sort_values(\"cluster\", inplace = True, ascending=True)\n",
    "df_cluster = df.groupby('cluster').mean()"
   ]
  },
  {
   "cell_type": "code",
   "execution_count": null,
   "id": "69e32eb5-ea41-4fb8-acea-3ec3685ce322",
   "metadata": {},
   "outputs": [],
   "source": [
    "#Heatmap of cluster characteristics\n",
    "plt.figure(figsize=(8,6))\n",
    "sns.heatmap(df_cluster, annot=True, cmap=\"Blues\", linewidths=.5)"
   ]
  },
  {
   "cell_type": "code",
   "execution_count": null,
   "id": "7b5bc02b-f639-4adb-9d63-482c26a2a078",
   "metadata": {},
   "outputs": [],
   "source": [
    "#To obtain the entire cluster labels\n",
    "print(hc.labels_)"
   ]
  },
  {
   "cell_type": "markdown",
   "id": "4b923baf-0d77-4fcf-b1e7-df7263f5f77c",
   "metadata": {},
   "source": [
    "# Supervised ML for suitability prediction (Random Forest)"
   ]
  },
  {
   "cell_type": "code",
   "execution_count": null,
   "id": "e62a3d2e-9477-4601-ae04-fbed19b0adca",
   "metadata": {},
   "outputs": [],
   "source": [
    "import numpy as np\n",
    "import pandas as pd\n",
    "import matplotlib.pyplot as plt\n",
    "plt.rcParams['figure.figsize'] = (9, 6)\n",
    "from sklearn.ensemble import RandomForestClassifier\n",
    "from sklearn.model_selection import train_test_split"
   ]
  },
  {
   "cell_type": "code",
   "execution_count": null,
   "id": "86c174d5-738b-4906-ba06-31804f57b414",
   "metadata": {},
   "outputs": [],
   "source": [
    "# Reading data\n",
    "df = pd.read_csv(\"Labelled Normalised DACCS data.csv\")"
   ]
  },
  {
   "cell_type": "code",
   "execution_count": null,
   "id": "eabb6f7e-9326-4061-b3b2-60e38bfd3a65",
   "metadata": {},
   "outputs": [],
   "source": [
    "# creating input identity\n",
    "sub_df = df[['WA','GSP','LCEA','GNI']]\n",
    "X = sub_df\n",
    "y = df.Category\n",
    "X_train, X_test, y_train, y_test = train_test_split(X, y, train_size=0.7, random_state=1)"
   ]
  },
  {
   "cell_type": "code",
   "execution_count": null,
   "id": "28d9fa9d-87e6-40f2-bf71-5895603087a4",
   "metadata": {},
   "outputs": [],
   "source": [
    "# creating Model (with 100 trees)\n",
    "rf = RandomForestClassifier(n_estimators=100)"
   ]
  },
  {
   "cell_type": "code",
   "execution_count": null,
   "id": "ee6455a9-0e19-455a-98d1-457d5b5120ca",
   "metadata": {},
   "outputs": [],
   "source": [
    "# Fitting training data\n",
    "rf.fit(X_train, y_train)"
   ]
  },
  {
   "cell_type": "code",
   "execution_count": null,
   "id": "de0e2281-329f-4359-af89-6e8c767b7c85",
   "metadata": {},
   "outputs": [],
   "source": [
    "# y prediction for set of data\n",
    "y_pred = rf.predict(X_test)\n",
    "print(y_pred)"
   ]
  },
  {
   "cell_type": "code",
   "execution_count": null,
   "id": "54674aaa-2bff-4228-919d-5194dee8cc30",
   "metadata": {},
   "outputs": [],
   "source": [
    "# To get model performance\n",
    "from sklearn.metrics import classification_report\n",
    "cr = classification_report(y_test, y_pred)\n",
    "print(cr)"
   ]
  },
  {
   "cell_type": "code",
   "execution_count": null,
   "id": "bfa9b0f6-7e07-4564-8558-2d7fe819ddb3",
   "metadata": {},
   "outputs": [],
   "source": [
    "# Determining feature importance (Model Interpretation)\n",
    "feature_imp = pd.DataFrame(rf.feature_importances_,index= X_train.columns,\n",
    "columns=['importance']).sort_values('importance',ascending=False)\n",
    "print(feature_imp)"
   ]
  },
  {
   "cell_type": "code",
   "execution_count": null,
   "id": "6fbc191e-54f9-4aed-9b34-8425925ff767",
   "metadata": {},
   "outputs": [],
   "source": [
    "#Feature importance visualisation\n",
    "feature_imp.plot(kind='barh')"
   ]
  }
 ],
 "metadata": {
  "kernelspec": {
   "display_name": "Python 3 (ipykernel)",
   "language": "python",
   "name": "python3"
  },
  "language_info": {
   "codemirror_mode": {
    "name": "ipython",
    "version": 3
   },
   "file_extension": ".py",
   "mimetype": "text/x-python",
   "name": "python",
   "nbconvert_exporter": "python",
   "pygments_lexer": "ipython3",
   "version": "3.10.11"
  }
 },
 "nbformat": 4,
 "nbformat_minor": 5
}
