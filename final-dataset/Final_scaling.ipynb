{
  "nbformat": 4,
  "nbformat_minor": 0,
  "metadata": {
    "colab": {
      "provenance": []
    },
    "kernelspec": {
      "name": "python3",
      "display_name": "Python 3"
    },
    "language_info": {
      "name": "python"
    }
  },
  "cells": [
    {
      "cell_type": "code",
      "execution_count": null,
      "metadata": {
        "id": "_lu2CBbJktzd"
      },
      "outputs": [],
      "source": [
        "import pandas as pd\n",
        "import numpy as np\n",
        "\n",
        "import seaborn as sns\n",
        "import matplotlib.pyplot as plt"
      ]
    },
    {
      "cell_type": "code",
      "source": [
        "# load updated data\n",
        "final_data = pd.read_csv('final-data.csv')"
      ],
      "metadata": {
        "id": "i6xWzmg0k1ao"
      },
      "execution_count": null,
      "outputs": []
    },
    {
      "cell_type": "code",
      "source": [
        "# log transform 'Power' to new column 'Log_Power'\n",
        "final_data['Log_Power'] = np.log(final_data['Power'] + 0.0001)"
      ],
      "metadata": {
        "id": "FgfVSeFwk5X1"
      },
      "execution_count": null,
      "outputs": []
    },
    {
      "cell_type": "code",
      "source": [
        "# min max\n",
        "from sklearn.preprocessing import MinMaxScaler\n",
        "\n",
        "# columns to scale\n",
        "# added log_power here\n",
        "cols_select = ['Biomass', 'Power', 'Water Availability', 'Log_Power']\n",
        "\n",
        "scaler = MinMaxScaler()\n",
        "\n",
        "scaled_cols = scaler.fit_transform(final_data[cols_select])\n",
        "scaled_df = pd.DataFrame(scaled_cols, columns=cols_select)\n",
        "\n",
        "# add back columns that were already scaled/not continuous\n",
        "cols_add = ['FIPS', 'Income', 'DSCI', 'PQ1',\t'PQ2',\t'PQ3',\t'PQ4',\t'TQ1', 'TQ2', 'TQ3', 'TQ4', 'Forest', 'Agriculture', 'Watershed']\n",
        "scaled_df[cols_add] = final_data[cols_add]"
      ],
      "metadata": {
        "id": "HJ8AxUq0k9cA"
      },
      "execution_count": null,
      "outputs": []
    },
    {
      "cell_type": "code",
      "source": [
        "scaled_df[\"Log_Power\"].value_counts()"
      ],
      "metadata": {
        "id": "fIzYo3oYk9_N"
      },
      "execution_count": null,
      "outputs": []
    },
    {
      "cell_type": "code",
      "source": [
        "# distribution of log-power\n",
        "sns.distplot(scaled_df['Log_Power'], kde=False, bins=100)\n",
        "plt.title('Distribution')\n",
        "plt.ylabel('Frequency')\n",
        "plt.show();"
      ],
      "metadata": {
        "id": "APAcmSXAlCz-"
      },
      "execution_count": null,
      "outputs": []
    },
    {
      "cell_type": "code",
      "source": [
        "# export as\n",
        "scaled_df.to_csv('final-scaled-df.csv', index=True)"
      ],
      "metadata": {
        "id": "A96RWcdclEl2"
      },
      "execution_count": null,
      "outputs": []
    }
  ]
}