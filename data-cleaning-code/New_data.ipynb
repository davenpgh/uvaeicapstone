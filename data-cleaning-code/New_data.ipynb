{
 "cells": [
  {
   "cell_type": "code",
   "execution_count": 1,
   "id": "3c50f0e6-59fe-431a-8921-640035a42191",
   "metadata": {
    "tags": []
   },
   "outputs": [],
   "source": [
    "import pandas as pd"
   ]
  },
  {
   "cell_type": "markdown",
   "id": "03429772-7f13-4319-b49d-29584b410236",
   "metadata": {},
   "source": [
    "## Biomass"
   ]
  },
  {
   "cell_type": "code",
   "execution_count": 23,
   "id": "92df9e8b-6254-4d65-8584-73d975e3c485",
   "metadata": {},
   "outputs": [],
   "source": [
    "biomass = pd.read_excel('Biomass.xls')"
   ]
  },
  {
   "cell_type": "code",
   "execution_count": 24,
   "id": "75e5b6e1-0941-4b40-94fe-816ec18e929a",
   "metadata": {},
   "outputs": [],
   "source": [
    "#no repeated FIPS\n",
    "biomass = biomass[['FIPS','Total']]"
   ]
  },
  {
   "cell_type": "code",
   "execution_count": 68,
   "id": "aec6255c-e573-4208-bccd-c79101c73373",
   "metadata": {},
   "outputs": [
    {
     "data": {
      "text/html": [
       "<div>\n",
       "<style scoped>\n",
       "    .dataframe tbody tr th:only-of-type {\n",
       "        vertical-align: middle;\n",
       "    }\n",
       "\n",
       "    .dataframe tbody tr th {\n",
       "        vertical-align: top;\n",
       "    }\n",
       "\n",
       "    .dataframe thead th {\n",
       "        text-align: right;\n",
       "    }\n",
       "</style>\n",
       "<table border=\"1\" class=\"dataframe\">\n",
       "  <thead>\n",
       "    <tr style=\"text-align: right;\">\n",
       "      <th></th>\n",
       "      <th>FIPS</th>\n",
       "      <th>Total</th>\n",
       "    </tr>\n",
       "  </thead>\n",
       "  <tbody>\n",
       "    <tr>\n",
       "      <th>0</th>\n",
       "      <td>51063</td>\n",
       "      <td>22617.0</td>\n",
       "    </tr>\n",
       "    <tr>\n",
       "      <th>1</th>\n",
       "      <td>51141</td>\n",
       "      <td>104430.0</td>\n",
       "    </tr>\n",
       "    <tr>\n",
       "      <th>2</th>\n",
       "      <td>51121</td>\n",
       "      <td>90447.0</td>\n",
       "    </tr>\n",
       "    <tr>\n",
       "      <th>3</th>\n",
       "      <td>51045</td>\n",
       "      <td>8634.3</td>\n",
       "    </tr>\n",
       "    <tr>\n",
       "      <th>4</th>\n",
       "      <td>51005</td>\n",
       "      <td>195020.0</td>\n",
       "    </tr>\n",
       "    <tr>\n",
       "      <th>...</th>\n",
       "      <td>...</td>\n",
       "      <td>...</td>\n",
       "    </tr>\n",
       "    <tr>\n",
       "      <th>129</th>\n",
       "      <td>51550</td>\n",
       "      <td>73576.0</td>\n",
       "    </tr>\n",
       "    <tr>\n",
       "      <th>130</th>\n",
       "      <td>51115</td>\n",
       "      <td>6748.6</td>\n",
       "    </tr>\n",
       "    <tr>\n",
       "      <th>131</th>\n",
       "      <td>51650</td>\n",
       "      <td>24107.0</td>\n",
       "    </tr>\n",
       "    <tr>\n",
       "      <th>132</th>\n",
       "      <td>51740</td>\n",
       "      <td>16178.0</td>\n",
       "    </tr>\n",
       "    <tr>\n",
       "      <th>133</th>\n",
       "      <td>51735</td>\n",
       "      <td>1937.4</td>\n",
       "    </tr>\n",
       "  </tbody>\n",
       "</table>\n",
       "<p>134 rows × 2 columns</p>\n",
       "</div>"
      ],
      "text/plain": [
       "      FIPS     Total\n",
       "0    51063   22617.0\n",
       "1    51141  104430.0\n",
       "2    51121   90447.0\n",
       "3    51045    8634.3\n",
       "4    51005  195020.0\n",
       "..     ...       ...\n",
       "129  51550   73576.0\n",
       "130  51115    6748.6\n",
       "131  51650   24107.0\n",
       "132  51740   16178.0\n",
       "133  51735    1937.4\n",
       "\n",
       "[134 rows x 2 columns]"
      ]
     },
     "execution_count": 68,
     "metadata": {},
     "output_type": "execute_result"
    }
   ],
   "source": [
    "biomass"
   ]
  },
  {
   "cell_type": "markdown",
   "id": "a146379e-10f9-4c4a-94d2-890cf23f563b",
   "metadata": {},
   "source": [
    "## Water Availability"
   ]
  },
  {
   "cell_type": "code",
   "execution_count": 25,
   "id": "6eba995d-2c3c-4725-9025-c474a3adc47b",
   "metadata": {},
   "outputs": [],
   "source": [
    "water_avail = pd.read_excel('Water_Avail.xls')"
   ]
  },
  {
   "cell_type": "code",
   "execution_count": 26,
   "id": "e6b9f43a-c8ad-4638-906b-4460e0741401",
   "metadata": {},
   "outputs": [],
   "source": [
    "water_avail = water_avail[['FIPS','frsh_chg_Mton']]"
   ]
  },
  {
   "cell_type": "code",
   "execution_count": 27,
   "id": "7d309847-36c1-4df4-9d25-55014d695dab",
   "metadata": {},
   "outputs": [],
   "source": [
    "#rename column\n",
    "water_avail = water_avail.rename(columns={'frsh_chg_Mton':'Water Availability'})"
   ]
  },
  {
   "cell_type": "code",
   "execution_count": 21,
   "id": "fd794512-23bb-49ff-9359-11dae412ad8b",
   "metadata": {},
   "outputs": [
    {
     "data": {
      "text/html": [
       "<div>\n",
       "<style scoped>\n",
       "    .dataframe tbody tr th:only-of-type {\n",
       "        vertical-align: middle;\n",
       "    }\n",
       "\n",
       "    .dataframe tbody tr th {\n",
       "        vertical-align: top;\n",
       "    }\n",
       "\n",
       "    .dataframe thead th {\n",
       "        text-align: right;\n",
       "    }\n",
       "</style>\n",
       "<table border=\"1\" class=\"dataframe\">\n",
       "  <thead>\n",
       "    <tr style=\"text-align: right;\">\n",
       "      <th></th>\n",
       "      <th>FIPS</th>\n",
       "      <th>Water Availability</th>\n",
       "    </tr>\n",
       "  </thead>\n",
       "  <tbody>\n",
       "    <tr>\n",
       "      <th>0</th>\n",
       "      <td>51001</td>\n",
       "      <td>84.710667</td>\n",
       "    </tr>\n",
       "    <tr>\n",
       "      <th>1</th>\n",
       "      <td>51003</td>\n",
       "      <td>606.669853</td>\n",
       "    </tr>\n",
       "    <tr>\n",
       "      <th>2</th>\n",
       "      <td>51005</td>\n",
       "      <td>322.146458</td>\n",
       "    </tr>\n",
       "    <tr>\n",
       "      <th>3</th>\n",
       "      <td>51007</td>\n",
       "      <td>77.834088</td>\n",
       "    </tr>\n",
       "    <tr>\n",
       "      <th>4</th>\n",
       "      <td>51009</td>\n",
       "      <td>558.141032</td>\n",
       "    </tr>\n",
       "    <tr>\n",
       "      <th>...</th>\n",
       "      <td>...</td>\n",
       "      <td>...</td>\n",
       "    </tr>\n",
       "    <tr>\n",
       "      <th>128</th>\n",
       "      <td>51800</td>\n",
       "      <td>1115.128307</td>\n",
       "    </tr>\n",
       "    <tr>\n",
       "      <th>129</th>\n",
       "      <td>51810</td>\n",
       "      <td>122.122897</td>\n",
       "    </tr>\n",
       "    <tr>\n",
       "      <th>130</th>\n",
       "      <td>51820</td>\n",
       "      <td>6.652010</td>\n",
       "    </tr>\n",
       "    <tr>\n",
       "      <th>131</th>\n",
       "      <td>51830</td>\n",
       "      <td>17.100823</td>\n",
       "    </tr>\n",
       "    <tr>\n",
       "      <th>132</th>\n",
       "      <td>51840</td>\n",
       "      <td>20.300012</td>\n",
       "    </tr>\n",
       "  </tbody>\n",
       "</table>\n",
       "<p>133 rows × 2 columns</p>\n",
       "</div>"
      ],
      "text/plain": [
       "      FIPS  Water Availability\n",
       "0    51001           84.710667\n",
       "1    51003          606.669853\n",
       "2    51005          322.146458\n",
       "3    51007           77.834088\n",
       "4    51009          558.141032\n",
       "..     ...                 ...\n",
       "128  51800         1115.128307\n",
       "129  51810          122.122897\n",
       "130  51820            6.652010\n",
       "131  51830           17.100823\n",
       "132  51840           20.300012\n",
       "\n",
       "[133 rows x 2 columns]"
      ]
     },
     "execution_count": 21,
     "metadata": {},
     "output_type": "execute_result"
    }
   ],
   "source": [
    "water_avail"
   ]
  },
  {
   "cell_type": "markdown",
   "id": "b8b7718d-dbd7-44d2-a830-556e0539afa9",
   "metadata": {},
   "source": [
    "## Powerplant"
   ]
  },
  {
   "cell_type": "code",
   "execution_count": 2,
   "id": "ab876a80-bfcb-4be5-ae46-d7c93345fcee",
   "metadata": {
    "tags": []
   },
   "outputs": [],
   "source": [
    "power = pd.read_excel('Powerplant.xlsx')"
   ]
  },
  {
   "cell_type": "code",
   "execution_count": 3,
   "id": "7e648b71-fb66-4815-9db6-1e096fdd1283",
   "metadata": {
    "tags": []
   },
   "outputs": [],
   "source": [
    "#drop first row\n",
    "power = power.drop(power.index[0])"
   ]
  },
  {
   "cell_type": "code",
   "execution_count": 4,
   "id": "04a65d4c-ff58-4fce-93d9-d1be4ed87bca",
   "metadata": {
    "tags": []
   },
   "outputs": [],
   "source": [
    "#change fips to string\n",
    "power['Plant FIPS state code'] = power['Plant FIPS state code'].astype(\"str\")\n",
    "power['Plant FIPS county code'] = power['Plant FIPS county code'].astype(\"str\")"
   ]
  },
  {
   "cell_type": "code",
   "execution_count": 5,
   "id": "ac2fb7b1-93fa-4e8e-842d-935d239e3c21",
   "metadata": {
    "tags": []
   },
   "outputs": [
    {
     "data": {
      "text/plain": [
       "Plant FIPS state code     object\n",
       "Plant FIPS county code    object\n",
       "dtype: object"
      ]
     },
     "execution_count": 5,
     "metadata": {},
     "output_type": "execute_result"
    }
   ],
   "source": [
    "power[['Plant FIPS state code','Plant FIPS county code']].dtypes"
   ]
  },
  {
   "cell_type": "code",
   "execution_count": null,
   "id": "e0d98762-38b1-42b1-96ff-d3d78022ddea",
   "metadata": {},
   "outputs": [],
   "source": []
  },
  {
   "cell_type": "code",
   "execution_count": 6,
   "id": "86fdaf8b-03d8-4507-a5b0-1ec532d66157",
   "metadata": {
    "tags": []
   },
   "outputs": [],
   "source": [
    "#combine state and county code for full fips code\n",
    "power['FIPS'] = power['Plant FIPS state code'] + power['Plant FIPS county code']"
   ]
  },
  {
   "cell_type": "code",
   "execution_count": 7,
   "id": "6890b6bb-f367-4ab0-ba36-738aea8c1e49",
   "metadata": {
    "tags": []
   },
   "outputs": [],
   "source": [
    "power1 = power[['FIPS','Plant primary fuel category']]"
   ]
  },
  {
   "cell_type": "code",
   "execution_count": 8,
   "id": "5ef2f28f-10b8-4e28-b58b-144fe787e0ad",
   "metadata": {
    "tags": []
   },
   "outputs": [
    {
     "name": "stderr",
     "output_type": "stream",
     "text": [
      "/var/folders/bn/jw4b363n6cz8jy9jwmhp7q0c0000gn/T/ipykernel_99128/2962015886.py:2: SettingWithCopyWarning: \n",
      "A value is trying to be set on a copy of a slice from a DataFrame.\n",
      "Try using .loc[row_indexer,col_indexer] = value instead\n",
      "\n",
      "See the caveats in the documentation: https://pandas.pydata.org/pandas-docs/stable/user_guide/indexing.html#returning-a-view-versus-a-copy\n",
      "  power1['Renewable'] = power1['Plant primary fuel category'].apply(lambda x: 1 if x not in ['GAS', 'OIL', 'COAL', 'NUCLEAR'] else 0)\n"
     ]
    }
   ],
   "source": [
    "#0 if gas/oil/coal/nuclear (non-renewable), 1 else\n",
    "power1['Renewable'] = power1['Plant primary fuel category'].apply(lambda x: 1 if x not in ['GAS', 'OIL', 'COAL', 'NUCLEAR'] else 0)"
   ]
  },
  {
   "cell_type": "code",
   "execution_count": 10,
   "id": "434b00bd-70d7-47d3-aa78-2a4b8b623a80",
   "metadata": {
    "tags": []
   },
   "outputs": [
    {
     "data": {
      "text/html": [
       "<div>\n",
       "<style scoped>\n",
       "    .dataframe tbody tr th:only-of-type {\n",
       "        vertical-align: middle;\n",
       "    }\n",
       "\n",
       "    .dataframe tbody tr th {\n",
       "        vertical-align: top;\n",
       "    }\n",
       "\n",
       "    .dataframe thead th {\n",
       "        text-align: right;\n",
       "    }\n",
       "</style>\n",
       "<table border=\"1\" class=\"dataframe\">\n",
       "  <thead>\n",
       "    <tr style=\"text-align: right;\">\n",
       "      <th></th>\n",
       "      <th>FIPS</th>\n",
       "      <th>Plant primary fuel category</th>\n",
       "      <th>Renewable</th>\n",
       "    </tr>\n",
       "  </thead>\n",
       "  <tbody>\n",
       "    <tr>\n",
       "      <th>1</th>\n",
       "      <td>51031</td>\n",
       "      <td>BIOMASS</td>\n",
       "      <td>1</td>\n",
       "    </tr>\n",
       "    <tr>\n",
       "      <th>2</th>\n",
       "      <td>51031</td>\n",
       "      <td>SOLAR</td>\n",
       "      <td>1</td>\n",
       "    </tr>\n",
       "    <tr>\n",
       "      <th>3</th>\n",
       "      <td>51007</td>\n",
       "      <td>BIOMASS</td>\n",
       "      <td>1</td>\n",
       "    </tr>\n",
       "    <tr>\n",
       "      <th>4</th>\n",
       "      <td>51179</td>\n",
       "      <td>BIOMASS</td>\n",
       "      <td>1</td>\n",
       "    </tr>\n",
       "    <tr>\n",
       "      <th>5</th>\n",
       "      <td>51017</td>\n",
       "      <td>HYDRO</td>\n",
       "      <td>1</td>\n",
       "    </tr>\n",
       "    <tr>\n",
       "      <th>...</th>\n",
       "      <td>...</td>\n",
       "      <td>...</td>\n",
       "      <td>...</td>\n",
       "    </tr>\n",
       "    <tr>\n",
       "      <th>179</th>\n",
       "      <td>51143</td>\n",
       "      <td>SOLAR</td>\n",
       "      <td>1</td>\n",
       "    </tr>\n",
       "    <tr>\n",
       "      <th>180</th>\n",
       "      <td>51109</td>\n",
       "      <td>SOLAR</td>\n",
       "      <td>1</td>\n",
       "    </tr>\n",
       "    <tr>\n",
       "      <th>181</th>\n",
       "      <td>51191</td>\n",
       "      <td>GAS</td>\n",
       "      <td>0</td>\n",
       "    </tr>\n",
       "    <tr>\n",
       "      <th>182</th>\n",
       "      <td>51093</td>\n",
       "      <td>SOLAR</td>\n",
       "      <td>1</td>\n",
       "    </tr>\n",
       "    <tr>\n",
       "      <th>183</th>\n",
       "      <td>51199</td>\n",
       "      <td>OIL</td>\n",
       "      <td>0</td>\n",
       "    </tr>\n",
       "  </tbody>\n",
       "</table>\n",
       "<p>183 rows × 3 columns</p>\n",
       "</div>"
      ],
      "text/plain": [
       "      FIPS Plant primary fuel category  Renewable\n",
       "1    51031                     BIOMASS          1\n",
       "2    51031                       SOLAR          1\n",
       "3    51007                     BIOMASS          1\n",
       "4    51179                     BIOMASS          1\n",
       "5    51017                       HYDRO          1\n",
       "..     ...                         ...        ...\n",
       "179  51143                       SOLAR          1\n",
       "180  51109                       SOLAR          1\n",
       "181  51191                         GAS          0\n",
       "182  51093                       SOLAR          1\n",
       "183  51199                         OIL          0\n",
       "\n",
       "[183 rows x 3 columns]"
      ]
     },
     "execution_count": 10,
     "metadata": {},
     "output_type": "execute_result"
    }
   ],
   "source": [
    "power1"
   ]
  },
  {
   "cell_type": "code",
   "execution_count": 128,
   "id": "afd0d4f9-2ac0-48ac-824b-7a931c1fe13a",
   "metadata": {},
   "outputs": [],
   "source": [
    "#groupby FIPS and sum over renewable column\n",
    "power1 = power1.groupby('FIPS').agg({'Renewable':'sum'})"
   ]
  },
  {
   "cell_type": "code",
   "execution_count": 129,
   "id": "5e2299b2-f826-4062-85ca-369b7d8bb953",
   "metadata": {},
   "outputs": [],
   "source": [
    "#anything > 0 is assigned 1, meaning it a renewable energy powerplant in county \n",
    "power1 = power1['Renewable'].apply(lambda x: 0 if x == 0 else 1)"
   ]
  },
  {
   "cell_type": "code",
   "execution_count": 130,
   "id": "8e87a12e-4940-4ae1-97f4-c1f3cd90ad98",
   "metadata": {},
   "outputs": [],
   "source": [
    "power1 = power1.to_frame(name=\"Renewable\")"
   ]
  },
  {
   "cell_type": "code",
   "execution_count": 131,
   "id": "b17e6401-fc37-43bf-bcd3-428a034f5ee6",
   "metadata": {},
   "outputs": [],
   "source": [
    "power1 = power1.reset_index()"
   ]
  },
  {
   "cell_type": "code",
   "execution_count": 132,
   "id": "cd4f332f-e132-4fe0-ab78-1e125acbe042",
   "metadata": {},
   "outputs": [
    {
     "data": {
      "text/html": [
       "<div>\n",
       "<style scoped>\n",
       "    .dataframe tbody tr th:only-of-type {\n",
       "        vertical-align: middle;\n",
       "    }\n",
       "\n",
       "    .dataframe tbody tr th {\n",
       "        vertical-align: top;\n",
       "    }\n",
       "\n",
       "    .dataframe thead th {\n",
       "        text-align: right;\n",
       "    }\n",
       "</style>\n",
       "<table border=\"1\" class=\"dataframe\">\n",
       "  <thead>\n",
       "    <tr style=\"text-align: right;\">\n",
       "      <th></th>\n",
       "      <th>FIPS</th>\n",
       "      <th>Renewable</th>\n",
       "    </tr>\n",
       "  </thead>\n",
       "  <tbody>\n",
       "    <tr>\n",
       "      <th>0</th>\n",
       "      <td>51001</td>\n",
       "      <td>1</td>\n",
       "    </tr>\n",
       "    <tr>\n",
       "      <th>1</th>\n",
       "      <td>51005</td>\n",
       "      <td>0</td>\n",
       "    </tr>\n",
       "    <tr>\n",
       "      <th>2</th>\n",
       "      <td>51007</td>\n",
       "      <td>1</td>\n",
       "    </tr>\n",
       "    <tr>\n",
       "      <th>3</th>\n",
       "      <td>51009</td>\n",
       "      <td>1</td>\n",
       "    </tr>\n",
       "    <tr>\n",
       "      <th>4</th>\n",
       "      <td>51011</td>\n",
       "      <td>1</td>\n",
       "    </tr>\n",
       "    <tr>\n",
       "      <th>...</th>\n",
       "      <td>...</td>\n",
       "      <td>...</td>\n",
       "    </tr>\n",
       "    <tr>\n",
       "      <th>78</th>\n",
       "      <td>51740</td>\n",
       "      <td>1</td>\n",
       "    </tr>\n",
       "    <tr>\n",
       "      <th>79</th>\n",
       "      <td>51760</td>\n",
       "      <td>0</td>\n",
       "    </tr>\n",
       "    <tr>\n",
       "      <th>80</th>\n",
       "      <td>51775</td>\n",
       "      <td>0</td>\n",
       "    </tr>\n",
       "    <tr>\n",
       "      <th>81</th>\n",
       "      <td>51800</td>\n",
       "      <td>1</td>\n",
       "    </tr>\n",
       "    <tr>\n",
       "      <th>82</th>\n",
       "      <td>51810</td>\n",
       "      <td>1</td>\n",
       "    </tr>\n",
       "  </tbody>\n",
       "</table>\n",
       "<p>83 rows × 2 columns</p>\n",
       "</div>"
      ],
      "text/plain": [
       "     FIPS  Renewable\n",
       "0   51001          1\n",
       "1   51005          0\n",
       "2   51007          1\n",
       "3   51009          1\n",
       "4   51011          1\n",
       "..    ...        ...\n",
       "78  51740          1\n",
       "79  51760          0\n",
       "80  51775          0\n",
       "81  51800          1\n",
       "82  51810          1\n",
       "\n",
       "[83 rows x 2 columns]"
      ]
     },
     "execution_count": 132,
     "metadata": {},
     "output_type": "execute_result"
    }
   ],
   "source": [
    "power1"
   ]
  },
  {
   "cell_type": "code",
   "execution_count": 55,
   "id": "9eef1681-ddd5-4f58-be29-ef2c78bdd1bf",
   "metadata": {},
   "outputs": [],
   "source": [
    "#subset df\n",
    "power2 = power[['FIPS','Plant annual total renewables net generation (MWh)']]"
   ]
  },
  {
   "cell_type": "code",
   "execution_count": 56,
   "id": "02c1de2e-d3d0-4615-809b-c35de949f7bf",
   "metadata": {},
   "outputs": [
    {
     "data": {
      "text/html": [
       "<div>\n",
       "<style scoped>\n",
       "    .dataframe tbody tr th:only-of-type {\n",
       "        vertical-align: middle;\n",
       "    }\n",
       "\n",
       "    .dataframe tbody tr th {\n",
       "        vertical-align: top;\n",
       "    }\n",
       "\n",
       "    .dataframe thead th {\n",
       "        text-align: right;\n",
       "    }\n",
       "</style>\n",
       "<table border=\"1\" class=\"dataframe\">\n",
       "  <thead>\n",
       "    <tr style=\"text-align: right;\">\n",
       "      <th></th>\n",
       "      <th>FIPS</th>\n",
       "      <th>Plant annual total renewables net generation (MWh)</th>\n",
       "    </tr>\n",
       "  </thead>\n",
       "  <tbody>\n",
       "    <tr>\n",
       "      <th>5</th>\n",
       "      <td>51017</td>\n",
       "      <td>-750348</td>\n",
       "    </tr>\n",
       "    <tr>\n",
       "      <th>151</th>\n",
       "      <td>51143</td>\n",
       "      <td>-21344</td>\n",
       "    </tr>\n",
       "    <tr>\n",
       "      <th>91</th>\n",
       "      <td>51033</td>\n",
       "      <td>0</td>\n",
       "    </tr>\n",
       "    <tr>\n",
       "      <th>118</th>\n",
       "      <td>51019</td>\n",
       "      <td>0</td>\n",
       "    </tr>\n",
       "    <tr>\n",
       "      <th>117</th>\n",
       "      <td>51001</td>\n",
       "      <td>0</td>\n",
       "    </tr>\n",
       "    <tr>\n",
       "      <th>...</th>\n",
       "      <td>...</td>\n",
       "      <td>...</td>\n",
       "    </tr>\n",
       "    <tr>\n",
       "      <th>142</th>\n",
       "      <td>51101</td>\n",
       "      <td>310567.878</td>\n",
       "    </tr>\n",
       "    <tr>\n",
       "      <th>153</th>\n",
       "      <td>51175</td>\n",
       "      <td>317888.49</td>\n",
       "    </tr>\n",
       "    <tr>\n",
       "      <th>1</th>\n",
       "      <td>51031</td>\n",
       "      <td>321570.31</td>\n",
       "    </tr>\n",
       "    <tr>\n",
       "      <th>89</th>\n",
       "      <td>51117</td>\n",
       "      <td>523828</td>\n",
       "    </tr>\n",
       "    <tr>\n",
       "      <th>177</th>\n",
       "      <td>51580</td>\n",
       "      <td>583135.11</td>\n",
       "    </tr>\n",
       "  </tbody>\n",
       "</table>\n",
       "<p>182 rows × 2 columns</p>\n",
       "</div>"
      ],
      "text/plain": [
       "      FIPS Plant annual total renewables net generation (MWh)\n",
       "5    51017                                            -750348\n",
       "151  51143                                             -21344\n",
       "91   51033                                                  0\n",
       "118  51019                                                  0\n",
       "117  51001                                                  0\n",
       "..     ...                                                ...\n",
       "142  51101                                         310567.878\n",
       "153  51175                                          317888.49\n",
       "1    51031                                          321570.31\n",
       "89   51117                                             523828\n",
       "177  51580                                          583135.11\n",
       "\n",
       "[182 rows x 2 columns]"
      ]
     },
     "execution_count": 56,
     "metadata": {},
     "output_type": "execute_result"
    }
   ],
   "source": [
    "power2.sort_values(by='Plant annual total renewables net generation (MWh)')"
   ]
  },
  {
   "cell_type": "code",
   "execution_count": 57,
   "id": "e66a95c3-d4cc-4cb8-8607-8f275638dda5",
   "metadata": {},
   "outputs": [
    {
     "name": "stderr",
     "output_type": "stream",
     "text": [
      "C:\\Users\\daven\\AppData\\Local\\Temp\\ipykernel_24832\\1504794057.py:2: SettingWithCopyWarning: \n",
      "A value is trying to be set on a copy of a slice from a DataFrame\n",
      "\n",
      "See the caveats in the documentation: https://pandas.pydata.org/pandas-docs/stable/user_guide/indexing.html#returning-a-view-versus-a-copy\n",
      "  power2['Plant annual total renewables net generation (MWh)'].iloc[4] = -power2['Plant annual total renewables net generation (MWh)'].iloc[4]\n",
      "C:\\Users\\daven\\AppData\\Local\\Temp\\ipykernel_24832\\1504794057.py:3: SettingWithCopyWarning: \n",
      "A value is trying to be set on a copy of a slice from a DataFrame\n",
      "\n",
      "See the caveats in the documentation: https://pandas.pydata.org/pandas-docs/stable/user_guide/indexing.html#returning-a-view-versus-a-copy\n",
      "  power2['Plant annual total renewables net generation (MWh)'].iloc[150] = -power2['Plant annual total renewables net generation (MWh)'].iloc[150]\n"
     ]
    }
   ],
   "source": [
    "#modify negative values (they should be positive)\n",
    "power2['Plant annual total renewables net generation (MWh)'].iloc[4] = -power2['Plant annual total renewables net generation (MWh)'].iloc[4]\n",
    "power2['Plant annual total renewables net generation (MWh)'].iloc[150] = -power2['Plant annual total renewables net generation (MWh)'].iloc[150]"
   ]
  },
  {
   "cell_type": "code",
   "execution_count": 58,
   "id": "7e5761d4-3b6a-4daa-a772-77e719bb9401",
   "metadata": {},
   "outputs": [],
   "source": [
    "#drop 123 row (b/c na)\n",
    "power2 = power2.drop(power2.index[122])"
   ]
  },
  {
   "cell_type": "code",
   "execution_count": 59,
   "id": "3f2fceff-8044-4e5f-bc5f-007b3129bb2e",
   "metadata": {},
   "outputs": [],
   "source": [
    "#sum all (renewable) energy per county\n",
    "power2 = power2.groupby('FIPS').agg({'Plant annual total renewables net generation (MWh)':'sum'})"
   ]
  },
  {
   "cell_type": "code",
   "execution_count": 60,
   "id": "a42af412-4774-4d64-a269-8afbe19f86b3",
   "metadata": {},
   "outputs": [],
   "source": [
    "power2 = power2.reset_index()"
   ]
  },
  {
   "cell_type": "code",
   "execution_count": 61,
   "id": "ad53fb9a-02be-4958-8b43-c03212b44e45",
   "metadata": {},
   "outputs": [],
   "source": [
    "power2['FIPS'] = power2['FIPS'].astype('str')"
   ]
  },
  {
   "cell_type": "code",
   "execution_count": 23,
   "id": "ba632ed2-a99f-4fbb-a324-65cc60b59c1f",
   "metadata": {
    "tags": []
   },
   "outputs": [],
   "source": [
    "#subset df\n",
    "power3 = power[['FIPS','Plant annual net generation (MWh)']]"
   ]
  },
  {
   "cell_type": "code",
   "execution_count": 24,
   "id": "50c59579-69c0-4912-a12b-1a9e32b5821a",
   "metadata": {
    "tags": []
   },
   "outputs": [
    {
     "data": {
      "text/html": [
       "<div>\n",
       "<style scoped>\n",
       "    .dataframe tbody tr th:only-of-type {\n",
       "        vertical-align: middle;\n",
       "    }\n",
       "\n",
       "    .dataframe tbody tr th {\n",
       "        vertical-align: top;\n",
       "    }\n",
       "\n",
       "    .dataframe thead th {\n",
       "        text-align: right;\n",
       "    }\n",
       "</style>\n",
       "<table border=\"1\" class=\"dataframe\">\n",
       "  <thead>\n",
       "    <tr style=\"text-align: right;\">\n",
       "      <th></th>\n",
       "      <th>FIPS</th>\n",
       "      <th>Plant annual net generation (MWh)</th>\n",
       "    </tr>\n",
       "  </thead>\n",
       "  <tbody>\n",
       "    <tr>\n",
       "      <th>5</th>\n",
       "      <td>51017</td>\n",
       "      <td>-750348</td>\n",
       "    </tr>\n",
       "    <tr>\n",
       "      <th>151</th>\n",
       "      <td>51143</td>\n",
       "      <td>-21344</td>\n",
       "    </tr>\n",
       "    <tr>\n",
       "      <th>166</th>\n",
       "      <td>51121</td>\n",
       "      <td>-4330</td>\n",
       "    </tr>\n",
       "    <tr>\n",
       "      <th>99</th>\n",
       "      <td>51089</td>\n",
       "      <td>0</td>\n",
       "    </tr>\n",
       "    <tr>\n",
       "      <th>139</th>\n",
       "      <td>51087</td>\n",
       "      <td>0</td>\n",
       "    </tr>\n",
       "    <tr>\n",
       "      <th>...</th>\n",
       "      <td>...</td>\n",
       "      <td>...</td>\n",
       "    </tr>\n",
       "    <tr>\n",
       "      <th>17</th>\n",
       "      <td>51025</td>\n",
       "      <td>8671856</td>\n",
       "    </tr>\n",
       "    <tr>\n",
       "      <th>72</th>\n",
       "      <td>51081</td>\n",
       "      <td>11513187</td>\n",
       "    </tr>\n",
       "    <tr>\n",
       "      <th>157</th>\n",
       "      <td>51181</td>\n",
       "      <td>13199870</td>\n",
       "    </tr>\n",
       "    <tr>\n",
       "      <th>113</th>\n",
       "      <td>51109</td>\n",
       "      <td>15371765</td>\n",
       "    </tr>\n",
       "    <tr>\n",
       "      <th>123</th>\n",
       "      <td>51089</td>\n",
       "      <td>NaN</td>\n",
       "    </tr>\n",
       "  </tbody>\n",
       "</table>\n",
       "<p>183 rows × 2 columns</p>\n",
       "</div>"
      ],
      "text/plain": [
       "      FIPS Plant annual net generation (MWh)\n",
       "5    51017                           -750348\n",
       "151  51143                            -21344\n",
       "166  51121                             -4330\n",
       "99   51089                                 0\n",
       "139  51087                                 0\n",
       "..     ...                               ...\n",
       "17   51025                           8671856\n",
       "72   51081                          11513187\n",
       "157  51181                          13199870\n",
       "113  51109                          15371765\n",
       "123  51089                               NaN\n",
       "\n",
       "[183 rows x 2 columns]"
      ]
     },
     "execution_count": 24,
     "metadata": {},
     "output_type": "execute_result"
    }
   ],
   "source": [
    "power3.sort_values(by='Plant annual net generation (MWh)')"
   ]
  },
  {
   "cell_type": "code",
   "execution_count": 25,
   "id": "c44935ea-ed0f-45a2-8637-030c6072b640",
   "metadata": {
    "tags": []
   },
   "outputs": [
    {
     "name": "stderr",
     "output_type": "stream",
     "text": [
      "/var/folders/bn/jw4b363n6cz8jy9jwmhp7q0c0000gn/T/ipykernel_99128/2490471226.py:1: SettingWithCopyWarning: \n",
      "A value is trying to be set on a copy of a slice from a DataFrame.\n",
      "Try using .loc[row_indexer,col_indexer] = value instead\n",
      "\n",
      "See the caveats in the documentation: https://pandas.pydata.org/pandas-docs/stable/user_guide/indexing.html#returning-a-view-versus-a-copy\n",
      "  power3['Plant annual net generation (MWh)'] = power3['Plant annual net generation (MWh)'].fillna(0)\n"
     ]
    }
   ],
   "source": [
    "power3['Plant annual net generation (MWh)'] = power3['Plant annual net generation (MWh)'].fillna(0)"
   ]
  },
  {
   "cell_type": "code",
   "execution_count": 26,
   "id": "ef1e72a9-03e9-47f5-a1b2-8dd4bfd8ab99",
   "metadata": {
    "tags": []
   },
   "outputs": [],
   "source": [
    "#sum all energy per county\n",
    "power3 = power3.groupby('FIPS').agg({'Plant annual net generation (MWh)':'sum'})"
   ]
  },
  {
   "cell_type": "code",
   "execution_count": 27,
   "id": "2a9b34db-acde-4d05-90c1-a044f944f73b",
   "metadata": {
    "tags": []
   },
   "outputs": [
    {
     "data": {
      "text/html": [
       "<div>\n",
       "<style scoped>\n",
       "    .dataframe tbody tr th:only-of-type {\n",
       "        vertical-align: middle;\n",
       "    }\n",
       "\n",
       "    .dataframe tbody tr th {\n",
       "        vertical-align: top;\n",
       "    }\n",
       "\n",
       "    .dataframe thead th {\n",
       "        text-align: right;\n",
       "    }\n",
       "</style>\n",
       "<table border=\"1\" class=\"dataframe\">\n",
       "  <thead>\n",
       "    <tr style=\"text-align: right;\">\n",
       "      <th></th>\n",
       "      <th>FIPS</th>\n",
       "      <th>Plant annual net generation (MWh)</th>\n",
       "    </tr>\n",
       "  </thead>\n",
       "  <tbody>\n",
       "    <tr>\n",
       "      <th>0</th>\n",
       "      <td>51001</td>\n",
       "      <td>201544.998</td>\n",
       "    </tr>\n",
       "    <tr>\n",
       "      <th>1</th>\n",
       "      <td>51005</td>\n",
       "      <td>996.000</td>\n",
       "    </tr>\n",
       "    <tr>\n",
       "      <th>2</th>\n",
       "      <td>51007</td>\n",
       "      <td>34154.008</td>\n",
       "    </tr>\n",
       "    <tr>\n",
       "      <th>3</th>\n",
       "      <td>51009</td>\n",
       "      <td>12480.000</td>\n",
       "    </tr>\n",
       "    <tr>\n",
       "      <th>4</th>\n",
       "      <td>51011</td>\n",
       "      <td>33404.000</td>\n",
       "    </tr>\n",
       "    <tr>\n",
       "      <th>...</th>\n",
       "      <td>...</td>\n",
       "      <td>...</td>\n",
       "    </tr>\n",
       "    <tr>\n",
       "      <th>78</th>\n",
       "      <td>51740</td>\n",
       "      <td>172106.000</td>\n",
       "    </tr>\n",
       "    <tr>\n",
       "      <th>79</th>\n",
       "      <td>51760</td>\n",
       "      <td>52526.000</td>\n",
       "    </tr>\n",
       "    <tr>\n",
       "      <th>80</th>\n",
       "      <td>51775</td>\n",
       "      <td>269.000</td>\n",
       "    </tr>\n",
       "    <tr>\n",
       "      <th>81</th>\n",
       "      <td>51800</td>\n",
       "      <td>35772.000</td>\n",
       "    </tr>\n",
       "    <tr>\n",
       "      <th>82</th>\n",
       "      <td>51810</td>\n",
       "      <td>84546.016</td>\n",
       "    </tr>\n",
       "  </tbody>\n",
       "</table>\n",
       "<p>83 rows × 2 columns</p>\n",
       "</div>"
      ],
      "text/plain": [
       "     FIPS  Plant annual net generation (MWh)\n",
       "0   51001                         201544.998\n",
       "1   51005                            996.000\n",
       "2   51007                          34154.008\n",
       "3   51009                          12480.000\n",
       "4   51011                          33404.000\n",
       "..    ...                                ...\n",
       "78  51740                         172106.000\n",
       "79  51760                          52526.000\n",
       "80  51775                            269.000\n",
       "81  51800                          35772.000\n",
       "82  51810                          84546.016\n",
       "\n",
       "[83 rows x 2 columns]"
      ]
     },
     "execution_count": 27,
     "metadata": {},
     "output_type": "execute_result"
    }
   ],
   "source": [
    "power3 = power3.reset_index()\n",
    "power3['FIPS'] = power3['FIPS'].astype('str')\n",
    "power3"
   ]
  },
  {
   "cell_type": "code",
   "execution_count": null,
   "id": "ab3408cb-b755-491e-ab59-13a046b0b1f5",
   "metadata": {},
   "outputs": [],
   "source": []
  },
  {
   "cell_type": "markdown",
   "id": "5f5d6304-5bb9-449f-bcca-bab81ae8e491",
   "metadata": {},
   "source": [
    "## Merge"
   ]
  },
  {
   "cell_type": "code",
   "execution_count": 62,
   "id": "762e4393-c857-4de3-88a9-6f345ecf1c08",
   "metadata": {},
   "outputs": [],
   "source": [
    "new = pd.merge(biomass,water_avail,on='FIPS',how='left')"
   ]
  },
  {
   "cell_type": "code",
   "execution_count": 63,
   "id": "073da398-f5f4-4445-8383-d0fb65d87b61",
   "metadata": {},
   "outputs": [],
   "source": [
    "new['FIPS'] = new[\"FIPS\"].astype('str')"
   ]
  },
  {
   "cell_type": "code",
   "execution_count": 64,
   "id": "93e053e3-825d-4f63-9756-5e183947ff20",
   "metadata": {},
   "outputs": [],
   "source": [
    "new = pd.merge(new,power2,on=\"FIPS\",how='left')"
   ]
  },
  {
   "cell_type": "code",
   "execution_count": 88,
   "id": "288d2190-f926-435e-9da7-350f246757dd",
   "metadata": {},
   "outputs": [
    {
     "data": {
      "text/html": [
       "<div>\n",
       "<style scoped>\n",
       "    .dataframe tbody tr th:only-of-type {\n",
       "        vertical-align: middle;\n",
       "    }\n",
       "\n",
       "    .dataframe tbody tr th {\n",
       "        vertical-align: top;\n",
       "    }\n",
       "\n",
       "    .dataframe thead th {\n",
       "        text-align: right;\n",
       "    }\n",
       "</style>\n",
       "<table border=\"1\" class=\"dataframe\">\n",
       "  <thead>\n",
       "    <tr style=\"text-align: right;\">\n",
       "      <th></th>\n",
       "      <th>FIPS</th>\n",
       "      <th>Total</th>\n",
       "      <th>Water Availability</th>\n",
       "      <th>Plant annual total renewables net generation (MWh)</th>\n",
       "    </tr>\n",
       "  </thead>\n",
       "  <tbody>\n",
       "    <tr>\n",
       "      <th>0</th>\n",
       "      <td>51063</td>\n",
       "      <td>22617.0</td>\n",
       "      <td>405.545088</td>\n",
       "      <td>NaN</td>\n",
       "    </tr>\n",
       "    <tr>\n",
       "      <th>1</th>\n",
       "      <td>51141</td>\n",
       "      <td>104430.0</td>\n",
       "      <td>474.077209</td>\n",
       "      <td>NaN</td>\n",
       "    </tr>\n",
       "    <tr>\n",
       "      <th>2</th>\n",
       "      <td>51121</td>\n",
       "      <td>90447.0</td>\n",
       "      <td>336.533725</td>\n",
       "      <td>0</td>\n",
       "    </tr>\n",
       "    <tr>\n",
       "      <th>3</th>\n",
       "      <td>51045</td>\n",
       "      <td>8634.3</td>\n",
       "      <td>284.574781</td>\n",
       "      <td>NaN</td>\n",
       "    </tr>\n",
       "    <tr>\n",
       "      <th>4</th>\n",
       "      <td>51005</td>\n",
       "      <td>195020.0</td>\n",
       "      <td>322.146458</td>\n",
       "      <td>0</td>\n",
       "    </tr>\n",
       "    <tr>\n",
       "      <th>...</th>\n",
       "      <td>...</td>\n",
       "      <td>...</td>\n",
       "      <td>...</td>\n",
       "      <td>...</td>\n",
       "    </tr>\n",
       "    <tr>\n",
       "      <th>129</th>\n",
       "      <td>51550</td>\n",
       "      <td>73576.0</td>\n",
       "      <td>672.119754</td>\n",
       "      <td>74180</td>\n",
       "    </tr>\n",
       "    <tr>\n",
       "      <th>130</th>\n",
       "      <td>51115</td>\n",
       "      <td>6748.6</td>\n",
       "      <td>5.507963</td>\n",
       "      <td>NaN</td>\n",
       "    </tr>\n",
       "    <tr>\n",
       "      <th>131</th>\n",
       "      <td>51650</td>\n",
       "      <td>24107.0</td>\n",
       "      <td>84.906146</td>\n",
       "      <td>35869</td>\n",
       "    </tr>\n",
       "    <tr>\n",
       "      <th>132</th>\n",
       "      <td>51740</td>\n",
       "      <td>16178.0</td>\n",
       "      <td>178.002837</td>\n",
       "      <td>55723.183</td>\n",
       "    </tr>\n",
       "    <tr>\n",
       "      <th>133</th>\n",
       "      <td>51735</td>\n",
       "      <td>1937.4</td>\n",
       "      <td>0.199995</td>\n",
       "      <td>NaN</td>\n",
       "    </tr>\n",
       "  </tbody>\n",
       "</table>\n",
       "<p>134 rows × 4 columns</p>\n",
       "</div>"
      ],
      "text/plain": [
       "      FIPS     Total  Water Availability  \\\n",
       "0    51063   22617.0          405.545088   \n",
       "1    51141  104430.0          474.077209   \n",
       "2    51121   90447.0          336.533725   \n",
       "3    51045    8634.3          284.574781   \n",
       "4    51005  195020.0          322.146458   \n",
       "..     ...       ...                 ...   \n",
       "129  51550   73576.0          672.119754   \n",
       "130  51115    6748.6            5.507963   \n",
       "131  51650   24107.0           84.906146   \n",
       "132  51740   16178.0          178.002837   \n",
       "133  51735    1937.4            0.199995   \n",
       "\n",
       "    Plant annual total renewables net generation (MWh)  \n",
       "0                                                  NaN  \n",
       "1                                                  NaN  \n",
       "2                                                    0  \n",
       "3                                                  NaN  \n",
       "4                                                    0  \n",
       "..                                                 ...  \n",
       "129                                              74180  \n",
       "130                                                NaN  \n",
       "131                                              35869  \n",
       "132                                          55723.183  \n",
       "133                                                NaN  \n",
       "\n",
       "[134 rows x 4 columns]"
      ]
     },
     "execution_count": 88,
     "metadata": {},
     "output_type": "execute_result"
    }
   ],
   "source": [
    "new"
   ]
  },
  {
   "cell_type": "markdown",
   "id": "ea5031fb-25ac-4fc7-9c0f-d9ccd957b10d",
   "metadata": {},
   "source": [
    "## Old Data"
   ]
  },
  {
   "cell_type": "code",
   "execution_count": 28,
   "id": "d71a4237-b72b-4294-adb1-387b0fa9c2db",
   "metadata": {
    "tags": []
   },
   "outputs": [],
   "source": [
    "#load data\n",
    "final = pd.read_csv('final-data.csv')"
   ]
  },
  {
   "cell_type": "code",
   "execution_count": 29,
   "id": "b8a3a194-71f2-45d6-b8d2-1db8d5f1a915",
   "metadata": {
    "tags": []
   },
   "outputs": [],
   "source": [
    "#make FIPS a string\n",
    "final['FIPS'] = final['FIPS'].astype('str')"
   ]
  },
  {
   "cell_type": "code",
   "execution_count": 30,
   "id": "b533b38e-48da-444f-bb87-f10f20fd9745",
   "metadata": {
    "tags": []
   },
   "outputs": [],
   "source": [
    "#merge and rename column\n",
    "new_new = pd.merge(final,power3,on=\"FIPS\",how=\"left\")\n",
    "new_new = new_new.rename({'Plant annual net generation (MWh)':'Energy'},axis=1)"
   ]
  },
  {
   "cell_type": "code",
   "execution_count": 31,
   "id": "2b4413a2-341c-407f-9f7f-abd0cb50a7ff",
   "metadata": {
    "tags": []
   },
   "outputs": [
    {
     "data": {
      "text/plain": [
       "25"
      ]
     },
     "execution_count": 31,
     "metadata": {},
     "output_type": "execute_result"
    }
   ],
   "source": [
    "#check for nas. We have 25 nas for powerplant data\n",
    "new_new['Energy'].isnull().sum()"
   ]
  },
  {
   "cell_type": "code",
   "execution_count": 35,
   "id": "2d03878e-9acb-4d08-a91c-449f1c0c4dc0",
   "metadata": {
    "tags": []
   },
   "outputs": [],
   "source": [
    "new_new.to_csv(\"final-data1.csv\")"
   ]
  },
  {
   "cell_type": "code",
   "execution_count": null,
   "id": "619ba943-bd79-4aaa-aabd-99ea4f337af8",
   "metadata": {},
   "outputs": [],
   "source": []
  }
 ],
 "metadata": {
  "kernelspec": {
   "display_name": "Python 3 (ipykernel)",
   "language": "python",
   "name": "python3"
  },
  "language_info": {
   "codemirror_mode": {
    "name": "ipython",
    "version": 3
   },
   "file_extension": ".py",
   "mimetype": "text/x-python",
   "name": "python",
   "nbconvert_exporter": "python",
   "pygments_lexer": "ipython3",
   "version": "3.10.11"
  }
 },
 "nbformat": 4,
 "nbformat_minor": 5
}
