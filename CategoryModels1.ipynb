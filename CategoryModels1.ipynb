{
 "cells": [
  {
   "cell_type": "markdown",
   "id": "63d0a1b5-f924-4a3f-8333-8a4eeef1e385",
   "metadata": {
    "id": "63d0a1b5-f924-4a3f-8333-8a4eeef1e385"
   },
   "source": [
    "# Code for Hierarchical Clustering to obtain labels (suitability category)"
   ]
  },
  {
   "cell_type": "code",
   "execution_count": 5,
   "id": "d9ea12df-584e-424a-9622-cfe100acd1b3",
   "metadata": {
    "id": "d9ea12df-584e-424a-9622-cfe100acd1b3",
    "tags": []
   },
   "outputs": [],
   "source": [
    "import pandas as pd\n",
    "import numpy as np\n",
    "import seaborn as sns\n",
    "import matplotlib.pyplot as plt\n",
    "from sklearn import metrics\n",
    "from sklearn.cluster import KMeans\n",
    "from sklearn.cluster import AgglomerativeClustering\n",
    "import scipy.cluster.hierarchy as sch"
   ]
  },
  {
   "cell_type": "code",
   "execution_count": 6,
   "id": "8a30ee99-fb62-4434-97e8-84e586137dff",
   "metadata": {
    "colab": {
     "base_uri": "https://localhost:8080/",
     "height": 707
    },
    "id": "8a30ee99-fb62-4434-97e8-84e586137dff",
    "outputId": "ae3dc8d3-1e14-45a9-ea20-8ffe46219378",
    "tags": []
   },
   "outputs": [
    {
     "data": {
      "text/html": [
       "<div>\n",
       "<style scoped>\n",
       "    .dataframe tbody tr th:only-of-type {\n",
       "        vertical-align: middle;\n",
       "    }\n",
       "\n",
       "    .dataframe tbody tr th {\n",
       "        vertical-align: top;\n",
       "    }\n",
       "\n",
       "    .dataframe thead th {\n",
       "        text-align: right;\n",
       "    }\n",
       "</style>\n",
       "<table border=\"1\" class=\"dataframe\">\n",
       "  <thead>\n",
       "    <tr style=\"text-align: right;\">\n",
       "      <th></th>\n",
       "      <th>Income</th>\n",
       "      <th>DSCI</th>\n",
       "      <th>PQ1</th>\n",
       "      <th>PQ2</th>\n",
       "      <th>PQ3</th>\n",
       "      <th>PQ4</th>\n",
       "      <th>TQ1</th>\n",
       "      <th>TQ2</th>\n",
       "      <th>TQ3</th>\n",
       "      <th>TQ4</th>\n",
       "      <th>Forest</th>\n",
       "    </tr>\n",
       "    <tr>\n",
       "      <th>County</th>\n",
       "      <th></th>\n",
       "      <th></th>\n",
       "      <th></th>\n",
       "      <th></th>\n",
       "      <th></th>\n",
       "      <th></th>\n",
       "      <th></th>\n",
       "      <th></th>\n",
       "      <th></th>\n",
       "      <th></th>\n",
       "      <th></th>\n",
       "    </tr>\n",
       "  </thead>\n",
       "  <tbody>\n",
       "    <tr>\n",
       "      <th>51001</th>\n",
       "      <td>0.075854</td>\n",
       "      <td>0.148920</td>\n",
       "      <td>0.319901</td>\n",
       "      <td>0.435870</td>\n",
       "      <td>0.410805</td>\n",
       "      <td>0.412876</td>\n",
       "      <td>0.398849</td>\n",
       "      <td>0.223717</td>\n",
       "      <td>0.178736</td>\n",
       "      <td>0.296552</td>\n",
       "      <td>0.064338</td>\n",
       "    </tr>\n",
       "    <tr>\n",
       "      <th>51003</th>\n",
       "      <td>0.108095</td>\n",
       "      <td>0.182011</td>\n",
       "      <td>0.281478</td>\n",
       "      <td>0.361577</td>\n",
       "      <td>0.330150</td>\n",
       "      <td>0.398268</td>\n",
       "      <td>0.652957</td>\n",
       "      <td>0.669414</td>\n",
       "      <td>0.672845</td>\n",
       "      <td>0.580575</td>\n",
       "      <td>0.679813</td>\n",
       "    </tr>\n",
       "    <tr>\n",
       "      <th>51005</th>\n",
       "      <td>0.187226</td>\n",
       "      <td>0.147870</td>\n",
       "      <td>0.208440</td>\n",
       "      <td>0.382735</td>\n",
       "      <td>0.309672</td>\n",
       "      <td>0.361536</td>\n",
       "      <td>0.590581</td>\n",
       "      <td>0.651482</td>\n",
       "      <td>0.660489</td>\n",
       "      <td>0.531379</td>\n",
       "      <td>0.897165</td>\n",
       "    </tr>\n",
       "    <tr>\n",
       "      <th>51007</th>\n",
       "      <td>0.157467</td>\n",
       "      <td>0.144258</td>\n",
       "      <td>0.319836</td>\n",
       "      <td>0.347694</td>\n",
       "      <td>0.488828</td>\n",
       "      <td>0.370654</td>\n",
       "      <td>0.753323</td>\n",
       "      <td>0.808243</td>\n",
       "      <td>0.809483</td>\n",
       "      <td>0.716207</td>\n",
       "      <td>0.651586</td>\n",
       "    </tr>\n",
       "    <tr>\n",
       "      <th>51009</th>\n",
       "      <td>0.184217</td>\n",
       "      <td>0.145333</td>\n",
       "      <td>0.205452</td>\n",
       "      <td>0.416978</td>\n",
       "      <td>0.325681</td>\n",
       "      <td>0.367647</td>\n",
       "      <td>0.499006</td>\n",
       "      <td>0.525380</td>\n",
       "      <td>0.539368</td>\n",
       "      <td>0.463678</td>\n",
       "      <td>0.770831</td>\n",
       "    </tr>\n",
       "    <tr>\n",
       "      <th>51011</th>\n",
       "      <td>0.140248</td>\n",
       "      <td>0.158561</td>\n",
       "      <td>0.278259</td>\n",
       "      <td>0.427413</td>\n",
       "      <td>0.398133</td>\n",
       "      <td>0.403431</td>\n",
       "      <td>0.427002</td>\n",
       "      <td>0.337238</td>\n",
       "      <td>0.280747</td>\n",
       "      <td>0.347356</td>\n",
       "      <td>0.662506</td>\n",
       "    </tr>\n",
       "    <tr>\n",
       "      <th>51013</th>\n",
       "      <td>0.142115</td>\n",
       "      <td>0.105105</td>\n",
       "      <td>0.229655</td>\n",
       "      <td>0.409510</td>\n",
       "      <td>0.284420</td>\n",
       "      <td>0.314118</td>\n",
       "      <td>0.436525</td>\n",
       "      <td>0.430658</td>\n",
       "      <td>0.397845</td>\n",
       "      <td>0.371264</td>\n",
       "      <td>0.089268</td>\n",
       "    </tr>\n",
       "    <tr>\n",
       "      <th>51015</th>\n",
       "      <td>0.197927</td>\n",
       "      <td>0.147820</td>\n",
       "      <td>0.225123</td>\n",
       "      <td>0.379990</td>\n",
       "      <td>0.321457</td>\n",
       "      <td>0.383072</td>\n",
       "      <td>0.615071</td>\n",
       "      <td>0.686479</td>\n",
       "      <td>0.682759</td>\n",
       "      <td>0.561379</td>\n",
       "      <td>0.582228</td>\n",
       "    </tr>\n",
       "    <tr>\n",
       "      <th>51017</th>\n",
       "      <td>0.382682</td>\n",
       "      <td>0.130588</td>\n",
       "      <td>0.262562</td>\n",
       "      <td>0.372108</td>\n",
       "      <td>0.370891</td>\n",
       "      <td>0.394608</td>\n",
       "      <td>0.681005</td>\n",
       "      <td>0.768185</td>\n",
       "      <td>0.779741</td>\n",
       "      <td>0.641724</td>\n",
       "      <td>0.899831</td>\n",
       "    </tr>\n",
       "    <tr>\n",
       "      <th>51019</th>\n",
       "      <td>0.263026</td>\n",
       "      <td>0.149943</td>\n",
       "      <td>0.237767</td>\n",
       "      <td>0.395053</td>\n",
       "      <td>0.355923</td>\n",
       "      <td>0.371536</td>\n",
       "      <td>0.549974</td>\n",
       "      <td>0.557484</td>\n",
       "      <td>0.521695</td>\n",
       "      <td>0.476207</td>\n",
       "      <td>0.625380</td>\n",
       "    </tr>\n",
       "    <tr>\n",
       "      <th>51021</th>\n",
       "      <td>0.118443</td>\n",
       "      <td>0.129919</td>\n",
       "      <td>0.357997</td>\n",
       "      <td>0.408425</td>\n",
       "      <td>0.355311</td>\n",
       "      <td>0.373595</td>\n",
       "      <td>0.443537</td>\n",
       "      <td>0.314678</td>\n",
       "      <td>0.279310</td>\n",
       "      <td>0.338736</td>\n",
       "      <td>0.777309</td>\n",
       "    </tr>\n",
       "    <tr>\n",
       "      <th>51023</th>\n",
       "      <td>0.149779</td>\n",
       "      <td>0.110621</td>\n",
       "      <td>0.249655</td>\n",
       "      <td>0.355290</td>\n",
       "      <td>0.318886</td>\n",
       "      <td>0.310065</td>\n",
       "      <td>0.424699</td>\n",
       "      <td>0.373102</td>\n",
       "      <td>0.334052</td>\n",
       "      <td>0.345862</td>\n",
       "      <td>0.749672</td>\n",
       "    </tr>\n",
       "    <tr>\n",
       "      <th>51025</th>\n",
       "      <td>0.702975</td>\n",
       "      <td>0.132096</td>\n",
       "      <td>0.192874</td>\n",
       "      <td>0.363204</td>\n",
       "      <td>0.354637</td>\n",
       "      <td>0.357810</td>\n",
       "      <td>0.542125</td>\n",
       "      <td>0.665365</td>\n",
       "      <td>0.745115</td>\n",
       "      <td>0.563563</td>\n",
       "      <td>0.715016</td>\n",
       "    </tr>\n",
       "    <tr>\n",
       "      <th>51027</th>\n",
       "      <td>0.391627</td>\n",
       "      <td>0.134775</td>\n",
       "      <td>0.155074</td>\n",
       "      <td>0.412382</td>\n",
       "      <td>0.309734</td>\n",
       "      <td>0.345882</td>\n",
       "      <td>0.453061</td>\n",
       "      <td>0.475488</td>\n",
       "      <td>0.497126</td>\n",
       "      <td>0.423563</td>\n",
       "      <td>0.889480</td>\n",
       "    </tr>\n",
       "    <tr>\n",
       "      <th>51029</th>\n",
       "      <td>0.111130</td>\n",
       "      <td>0.148215</td>\n",
       "      <td>0.320657</td>\n",
       "      <td>0.451636</td>\n",
       "      <td>0.410468</td>\n",
       "      <td>0.419183</td>\n",
       "      <td>0.486866</td>\n",
       "      <td>0.383659</td>\n",
       "      <td>0.330460</td>\n",
       "      <td>0.392529</td>\n",
       "      <td>0.740312</td>\n",
       "    </tr>\n",
       "    <tr>\n",
       "      <th>51031</th>\n",
       "      <td>0.254414</td>\n",
       "      <td>0.155045</td>\n",
       "      <td>0.253103</td>\n",
       "      <td>0.383724</td>\n",
       "      <td>0.338843</td>\n",
       "      <td>0.414771</td>\n",
       "      <td>0.543380</td>\n",
       "      <td>0.560521</td>\n",
       "      <td>0.542672</td>\n",
       "      <td>0.483563</td>\n",
       "      <td>0.608641</td>\n",
       "    </tr>\n",
       "    <tr>\n",
       "      <th>51033</th>\n",
       "      <td>0.213683</td>\n",
       "      <td>0.123943</td>\n",
       "      <td>0.257931</td>\n",
       "      <td>0.373608</td>\n",
       "      <td>0.390389</td>\n",
       "      <td>0.405065</td>\n",
       "      <td>0.662271</td>\n",
       "      <td>0.761099</td>\n",
       "      <td>0.778305</td>\n",
       "      <td>0.632529</td>\n",
       "      <td>0.622196</td>\n",
       "    </tr>\n",
       "    <tr>\n",
       "      <th>51035</th>\n",
       "      <td>0.192495</td>\n",
       "      <td>0.144379</td>\n",
       "      <td>0.320000</td>\n",
       "      <td>0.284698</td>\n",
       "      <td>0.333884</td>\n",
       "      <td>0.392157</td>\n",
       "      <td>0.651073</td>\n",
       "      <td>0.686913</td>\n",
       "      <td>0.805747</td>\n",
       "      <td>0.721034</td>\n",
       "      <td>0.633690</td>\n",
       "    </tr>\n",
       "    <tr>\n",
       "      <th>51036</th>\n",
       "      <td>0.303286</td>\n",
       "      <td>0.116830</td>\n",
       "      <td>0.306962</td>\n",
       "      <td>0.353247</td>\n",
       "      <td>0.500061</td>\n",
       "      <td>0.364379</td>\n",
       "      <td>0.769545</td>\n",
       "      <td>0.828923</td>\n",
       "      <td>0.837213</td>\n",
       "      <td>0.757701</td>\n",
       "      <td>0.512239</td>\n",
       "    </tr>\n",
       "    <tr>\n",
       "      <th>51037</th>\n",
       "      <td>0.397302</td>\n",
       "      <td>0.109994</td>\n",
       "      <td>0.297833</td>\n",
       "      <td>0.381203</td>\n",
       "      <td>0.444781</td>\n",
       "      <td>0.384477</td>\n",
       "      <td>0.734589</td>\n",
       "      <td>0.826753</td>\n",
       "      <td>0.857759</td>\n",
       "      <td>0.731379</td>\n",
       "      <td>0.652536</td>\n",
       "    </tr>\n",
       "  </tbody>\n",
       "</table>\n",
       "</div>"
      ],
      "text/plain": [
       "          Income      DSCI       PQ1       PQ2       PQ3       PQ4       TQ1  \\\n",
       "County                                                                         \n",
       "51001   0.075854  0.148920  0.319901  0.435870  0.410805  0.412876  0.398849   \n",
       "51003   0.108095  0.182011  0.281478  0.361577  0.330150  0.398268  0.652957   \n",
       "51005   0.187226  0.147870  0.208440  0.382735  0.309672  0.361536  0.590581   \n",
       "51007   0.157467  0.144258  0.319836  0.347694  0.488828  0.370654  0.753323   \n",
       "51009   0.184217  0.145333  0.205452  0.416978  0.325681  0.367647  0.499006   \n",
       "51011   0.140248  0.158561  0.278259  0.427413  0.398133  0.403431  0.427002   \n",
       "51013   0.142115  0.105105  0.229655  0.409510  0.284420  0.314118  0.436525   \n",
       "51015   0.197927  0.147820  0.225123  0.379990  0.321457  0.383072  0.615071   \n",
       "51017   0.382682  0.130588  0.262562  0.372108  0.370891  0.394608  0.681005   \n",
       "51019   0.263026  0.149943  0.237767  0.395053  0.355923  0.371536  0.549974   \n",
       "51021   0.118443  0.129919  0.357997  0.408425  0.355311  0.373595  0.443537   \n",
       "51023   0.149779  0.110621  0.249655  0.355290  0.318886  0.310065  0.424699   \n",
       "51025   0.702975  0.132096  0.192874  0.363204  0.354637  0.357810  0.542125   \n",
       "51027   0.391627  0.134775  0.155074  0.412382  0.309734  0.345882  0.453061   \n",
       "51029   0.111130  0.148215  0.320657  0.451636  0.410468  0.419183  0.486866   \n",
       "51031   0.254414  0.155045  0.253103  0.383724  0.338843  0.414771  0.543380   \n",
       "51033   0.213683  0.123943  0.257931  0.373608  0.390389  0.405065  0.662271   \n",
       "51035   0.192495  0.144379  0.320000  0.284698  0.333884  0.392157  0.651073   \n",
       "51036   0.303286  0.116830  0.306962  0.353247  0.500061  0.364379  0.769545   \n",
       "51037   0.397302  0.109994  0.297833  0.381203  0.444781  0.384477  0.734589   \n",
       "\n",
       "             TQ2       TQ3       TQ4    Forest  \n",
       "County                                          \n",
       "51001   0.223717  0.178736  0.296552  0.064338  \n",
       "51003   0.669414  0.672845  0.580575  0.679813  \n",
       "51005   0.651482  0.660489  0.531379  0.897165  \n",
       "51007   0.808243  0.809483  0.716207  0.651586  \n",
       "51009   0.525380  0.539368  0.463678  0.770831  \n",
       "51011   0.337238  0.280747  0.347356  0.662506  \n",
       "51013   0.430658  0.397845  0.371264  0.089268  \n",
       "51015   0.686479  0.682759  0.561379  0.582228  \n",
       "51017   0.768185  0.779741  0.641724  0.899831  \n",
       "51019   0.557484  0.521695  0.476207  0.625380  \n",
       "51021   0.314678  0.279310  0.338736  0.777309  \n",
       "51023   0.373102  0.334052  0.345862  0.749672  \n",
       "51025   0.665365  0.745115  0.563563  0.715016  \n",
       "51027   0.475488  0.497126  0.423563  0.889480  \n",
       "51029   0.383659  0.330460  0.392529  0.740312  \n",
       "51031   0.560521  0.542672  0.483563  0.608641  \n",
       "51033   0.761099  0.778305  0.632529  0.622196  \n",
       "51035   0.686913  0.805747  0.721034  0.633690  \n",
       "51036   0.828923  0.837213  0.757701  0.512239  \n",
       "51037   0.826753  0.857759  0.731379  0.652536  "
      ]
     },
     "execution_count": 6,
     "metadata": {},
     "output_type": "execute_result"
    }
   ],
   "source": [
    "#Loading locational dataset\n",
    "df = pd.read_csv('data-scaled-agg.csv', index_col='County')\n",
    "df.head(20)"
   ]
  },
  {
   "cell_type": "code",
   "execution_count": 5,
   "id": "10f95bd6-1b0b-4f2e-a8ec-bd5a8ce3c22e",
   "metadata": {
    "id": "10f95bd6-1b0b-4f2e-a8ec-bd5a8ce3c22e",
    "tags": []
   },
   "outputs": [],
   "source": [
    "# Using the elbow method to determine the k value to be applied\n",
    "k_rng = range(1, 10)\n",
    "sse = []\n",
    "for k in k_rng:\n",
    "    km = KMeans(n_clusters=k, n_init=10)\n",
    "    km.fit(df[['Income','DSCI','PQ1','PQ2','PQ3','PQ4','TQ1','TQ2','TQ3','TQ4','Forest']])\n",
    "    sse.append(km.inertia_)"
   ]
  },
  {
   "cell_type": "code",
   "execution_count": 6,
   "id": "6501a9b5-1bd9-48eb-8634-913e5ea087dd",
   "metadata": {
    "colab": {
     "base_uri": "https://localhost:8080/",
     "height": 466
    },
    "id": "6501a9b5-1bd9-48eb-8634-913e5ea087dd",
    "outputId": "32bb332f-0ea7-4298-a071-49431e697771"
   },
   "outputs": [
    {
     "data": {
      "text/plain": [
       "[<matplotlib.lines.Line2D at 0x79986132ac20>]"
      ]
     },
     "execution_count": 6,
     "metadata": {},
     "output_type": "execute_result"
    },
    {
     "data": {
      "image/png": "[encoded data removed]",
      "text/plain": [
       "<Figure size 640x480 with 1 Axes>"
      ]
     },
     "metadata": {},
     "output_type": "display_data"
    }
   ],
   "source": [
    "# Plot to obtain elbow\n",
    "plt.xlabel('K')\n",
    "plt.ylabel('Sum of squared error')\n",
    "plt.plot(k_rng, sse)"
   ]
  },
  {
   "cell_type": "code",
   "execution_count": 8,
   "id": "58151fd4-fced-4c31-a196-ad82bf276f29",
   "metadata": {
    "id": "58151fd4-fced-4c31-a196-ad82bf276f29"
   },
   "outputs": [],
   "source": [
    "# create clusters using k value = 4\n",
    "hc = AgglomerativeClustering(n_clusters=4, affinity = 'euclidean', linkage = 'ward')"
   ]
  },
  {
   "cell_type": "code",
   "execution_count": 9,
   "id": "c53e90bf-e922-4c51-90b1-4bfa397f72f7",
   "metadata": {
    "colab": {
     "base_uri": "https://localhost:8080/"
    },
    "id": "c53e90bf-e922-4c51-90b1-4bfa397f72f7",
    "outputId": "f0578545-701f-44b0-f7d7-fdcb0998f881"
   },
   "outputs": [
    {
     "name": "stderr",
     "output_type": "stream",
     "text": [
      "C:\\Users\\daven\\anaconda3\\lib\\site-packages\\sklearn\\cluster\\_agglomerative.py:983: FutureWarning: Attribute `affinity` was deprecated in version 1.2 and will be removed in 1.4. Use `metric` instead\n",
      "  warnings.warn(\n"
     ]
    }
   ],
   "source": [
    "# Determining mean cluster characterisitics\n",
    "y_hc = hc.fit_predict(df[['Income','DSCI','PQ1','PQ2','PQ3','PQ4','TQ1','TQ2','TQ3','TQ4','Forest']])\n",
    "df['cluster'] = y_hc\n",
    "df.sort_values(\"cluster\", inplace = True, ascending=True)\n",
    "\n",
    "#average input vars by cluster\n",
    "df_cluster = df.groupby('cluster').mean()"
   ]
  },
  {
   "cell_type": "code",
   "execution_count": 9,
   "id": "ebcef5cd-a552-4dd2-b451-8ddce6157a92",
   "metadata": {
    "colab": {
     "base_uri": "https://localhost:8080/",
     "height": 539
    },
    "id": "ebcef5cd-a552-4dd2-b451-8ddce6157a92",
    "outputId": "7deb4d7c-f412-4b76-b876-fc12c05cd4bf",
    "tags": []
   },
   "outputs": [
    {
     "data": {
      "text/plain": [
       "<Axes: ylabel='cluster'>"
      ]
     },
     "execution_count": 9,
     "metadata": {},
     "output_type": "execute_result"
    },
    {
     "data": {
      "image/png": "[encoded data removed]",
      "text/plain": [
       "<Figure size 800x600 with 2 Axes>"
      ]
     },
     "metadata": {},
     "output_type": "display_data"
    }
   ],
   "source": [
    "#Heatmap of cluster characteristics\n",
    "plt.figure(figsize=(8,6))\n",
    "sns.heatmap(df_cluster, annot=True, cmap=\"Blues\", linewidths=.5)"
   ]
  },
  {
   "cell_type": "code",
   "execution_count": 10,
   "id": "06dd88cf-c4c7-4eb6-81e8-cb33239bd9bf",
   "metadata": {
    "colab": {
     "base_uri": "https://localhost:8080/"
    },
    "id": "06dd88cf-c4c7-4eb6-81e8-cb33239bd9bf",
    "outputId": "5e1b9c7f-bd06-4f62-bf59-e5703cbeeac1",
    "tags": []
   },
   "outputs": [
    {
     "data": {
      "text/plain": [
       "0    40\n",
       "2    23\n",
       "1    22\n",
       "3     5\n",
       "Name: cluster, dtype: int64"
      ]
     },
     "execution_count": 10,
     "metadata": {},
     "output_type": "execute_result"
    }
   ],
   "source": [
    "# see how clusters are distributed\n",
    "df['cluster'].value_counts()"
   ]
  },
  {
   "cell_type": "code",
   "execution_count": 11,
   "id": "8b74d556-a0ca-4fc1-b820-085103bc5f47",
   "metadata": {
    "colab": {
     "base_uri": "https://localhost:8080/",
     "height": 237
    },
    "id": "8b74d556-a0ca-4fc1-b820-085103bc5f47",
    "outputId": "143869f4-ac14-4a2e-bf49-d86e3a3fcb6c",
    "tags": []
   },
   "outputs": [
    {
     "data": {
      "application/vnd.google.colaboratory.intrinsic+json": {
       "summary": "{\n  \"name\": \"df[df['cluster'] == 3]\",\n  \"rows\": 5,\n  \"fields\": [\n    {\n      \"column\": \"County\",\n      \"properties\": {\n        \"dtype\": \"number\",\n        \"std\": 61,\n        \"min\": 51001,\n        \"max\": 51131,\n        \"num_unique_values\": 5,\n        \"samples\": [\n          51107,\n          51001,\n          51131\n        ],\n        \"semantic_type\": \"\",\n        \"description\": \"\"\n      }\n    },\n    {\n      \"column\": \"Income\",\n      \"properties\": {\n        \"dtype\": \"number\",\n        \"std\": 0.03894971964905412,\n        \"min\": 0.0758539837084535,\n        \"max\": 0.1765277345886188,\n        \"num_unique_values\": 5,\n        \"samples\": [\n          0.1765277345886188,\n          0.0758539837084535,\n          0.0993505541913738\n        ],\n        \"semantic_type\": \"\",\n        \"description\": \"\"\n      }\n    },\n    {\n      \"column\": \"DSCI\",\n      \"properties\": {\n        \"dtype\": \"number\",\n        \"std\": 0.016476402648275153,\n        \"min\": 0.1051048753615171,\n        \"max\": 0.1489203207355545,\n        \"num_unique_values\": 5,\n        \"samples\": [\n          0.1295529187340735,\n          0.1489203207355545,\n          0.1171886020500744\n        ],\n        \"semantic_type\": \"\",\n        \"description\": \"\"\n      }\n    },\n    {\n      \"column\": \"PQ1\",\n      \"properties\": {\n        \"dtype\": \"number\",\n        \"std\": 0.08303045382030871,\n        \"min\": 0.2296551723827756,\n        \"max\": 0.4395730705891835,\n        \"num_unique_values\": 5,\n        \"samples\": [\n          0.2622003283811723,\n          0.3199014778069013,\n          0.4395730705891835\n        ],\n        \"semantic_type\": \"\",\n        \"description\": \"\"\n      }\n    },\n    {\n      \"column\": \"PQ2\",\n      \"properties\": {\n        \"dtype\": \"number\",\n        \"std\": 0.010018522618513066,\n        \"min\": 0.4095101324657497,\n        \"max\": 0.4358704324478636,\n        \"num_unique_values\": 5,\n        \"samples\": [\n          0.4223711504845558,\n          0.4358704324478636,\n          0.4158927716905646\n        ],\n        \"semantic_type\": \"\",\n        \"description\": \"\"\n      }\n    },\n    {\n      \"column\": \"PQ3\",\n      \"properties\": {\n        \"dtype\": \"number\",\n        \"std\": 0.05408882945133847,\n        \"min\": 0.2844199571441689,\n        \"max\": 0.4108050199081726,\n        \"num_unique_values\": 5,\n        \"samples\": [\n          0.3041628405325987,\n          0.4108050199081726,\n          0.3899295990174471\n        ],\n        \"semantic_type\": \"\",\n        \"description\": \"\"\n      }\n    },\n    {\n      \"column\": \"PQ4\",\n      \"properties\": {\n        \"dtype\": \"number\",\n        \"std\": 0.03978421897137348,\n        \"min\": 0.3141176470490195,\n        \"max\": 0.412875816990196,\n        \"num_unique_values\": 5,\n        \"samples\": [\n          0.345718954245098,\n          0.412875816990196,\n          0.3971241830196079\n        ],\n        \"semantic_type\": \"\",\n        \"description\": \"\"\n      }\n    },\n    {\n      \"column\": \"TQ1\",\n      \"properties\": {\n        \"dtype\": \"number\",\n        \"std\": 0.08702102553164279,\n        \"min\": 0.2431187858780408,\n        \"max\": 0.4677132391001121,\n        \"num_unique_values\": 5,\n        \"samples\": [\n          0.2431187858780408,\n          0.3988487702039009,\n          0.4677132391001121\n        ],\n        \"semantic_type\": \"\",\n        \"description\": \"\"\n      }\n    },\n    {\n      \"column\": \"TQ2\",\n      \"properties\": {\n        \"dtype\": \"number\",\n        \"std\": 0.1057493854449376,\n        \"min\": 0.1937816340103175,\n        \"max\": 0.4306579899048408,\n        \"num_unique_values\": 5,\n        \"samples\": [\n          0.1937816340103175,\n          0.2237165580580117,\n          0.4046276210432226\n        ],\n        \"semantic_type\": \"\",\n        \"description\": \"\"\n      }\n    },\n    {\n      \"column\": \"TQ3\",\n      \"properties\": {\n        \"dtype\": \"number\",\n        \"std\": 0.10375727118688283,\n        \"min\": 0.1587643679830247,\n        \"max\": 0.3978448277159815,\n        \"num_unique_values\": 5,\n        \"samples\": [\n          0.1587643679830247,\n          0.178735632332169,\n          0.3462643679426153\n        ],\n        \"semantic_type\": \"\",\n        \"description\": \"\"\n      }\n    },\n    {\n      \"column\": \"TQ4\",\n      \"properties\": {\n        \"dtype\": \"number\",\n        \"std\": 0.07794682477933712,\n        \"min\": 0.189310344860226,\n        \"max\": 0.3860919541010504,\n        \"num_unique_values\": 5,\n        \"samples\": [\n          0.189310344860226,\n          0.296551724154578,\n          0.3860919541010504\n        ],\n        \"semantic_type\": \"\",\n        \"description\": \"\"\n      }\n    },\n    {\n      \"column\": \"Forest\",\n      \"properties\": {\n        \"dtype\": \"number\",\n        \"std\": 0.12424725115566847,\n        \"min\": 0.0643379061333333,\n        \"max\": 0.3598562459333333,\n        \"num_unique_values\": 5,\n        \"samples\": [\n          0.3598562459333333,\n          0.0643379061333333,\n          0.0983230227333333\n        ],\n        \"semantic_type\": \"\",\n        \"description\": \"\"\n      }\n    },\n    {\n      \"column\": \"cluster\",\n      \"properties\": {\n        \"dtype\": \"number\",\n        \"std\": 0,\n        \"min\": 3,\n        \"max\": 3,\n        \"num_unique_values\": 1,\n        \"samples\": [\n          3\n        ],\n        \"semantic_type\": \"\",\n        \"description\": \"\"\n      }\n    }\n  ]\n}",
       "type": "dataframe"
      },
      "text/html": [
       "\n",
       "  <div id=\"df-ec6e0f6d-73a1-4832-8a63-0bfb1a83460a\" class=\"colab-df-container\">\n",
       "    <div>\n",
       "<style scoped>\n",
       "    .dataframe tbody tr th:only-of-type {\n",
       "        vertical-align: middle;\n",
       "    }\n",
       "\n",
       "    .dataframe tbody tr th {\n",
       "        vertical-align: top;\n",
       "    }\n",
       "\n",
       "    .dataframe thead th {\n",
       "        text-align: right;\n",
       "    }\n",
       "</style>\n",
       "<table border=\"1\" class=\"dataframe\">\n",
       "  <thead>\n",
       "    <tr style=\"text-align: right;\">\n",
       "      <th></th>\n",
       "      <th>Income</th>\n",
       "      <th>DSCI</th>\n",
       "      <th>PQ1</th>\n",
       "      <th>PQ2</th>\n",
       "      <th>PQ3</th>\n",
       "      <th>PQ4</th>\n",
       "      <th>TQ1</th>\n",
       "      <th>TQ2</th>\n",
       "      <th>TQ3</th>\n",
       "      <th>TQ4</th>\n",
       "      <th>Forest</th>\n",
       "      <th>cluster</th>\n",
       "    </tr>\n",
       "    <tr>\n",
       "      <th>County</th>\n",
       "      <th></th>\n",
       "      <th></th>\n",
       "      <th></th>\n",
       "      <th></th>\n",
       "      <th></th>\n",
       "      <th></th>\n",
       "      <th></th>\n",
       "      <th></th>\n",
       "      <th></th>\n",
       "      <th></th>\n",
       "      <th></th>\n",
       "      <th></th>\n",
       "    </tr>\n",
       "  </thead>\n",
       "  <tbody>\n",
       "    <tr>\n",
       "      <th>51013</th>\n",
       "      <td>0.142115</td>\n",
       "      <td>0.105105</td>\n",
       "      <td>0.229655</td>\n",
       "      <td>0.409510</td>\n",
       "      <td>0.284420</td>\n",
       "      <td>0.314118</td>\n",
       "      <td>0.436525</td>\n",
       "      <td>0.430658</td>\n",
       "      <td>0.397845</td>\n",
       "      <td>0.371264</td>\n",
       "      <td>0.089268</td>\n",
       "      <td>3</td>\n",
       "    </tr>\n",
       "    <tr>\n",
       "      <th>51107</th>\n",
       "      <td>0.176528</td>\n",
       "      <td>0.129553</td>\n",
       "      <td>0.262200</td>\n",
       "      <td>0.422371</td>\n",
       "      <td>0.304163</td>\n",
       "      <td>0.345719</td>\n",
       "      <td>0.243119</td>\n",
       "      <td>0.193782</td>\n",
       "      <td>0.158764</td>\n",
       "      <td>0.189310</td>\n",
       "      <td>0.359856</td>\n",
       "      <td>3</td>\n",
       "    </tr>\n",
       "    <tr>\n",
       "      <th>51131</th>\n",
       "      <td>0.099351</td>\n",
       "      <td>0.117189</td>\n",
       "      <td>0.439573</td>\n",
       "      <td>0.415893</td>\n",
       "      <td>0.389930</td>\n",
       "      <td>0.397124</td>\n",
       "      <td>0.467713</td>\n",
       "      <td>0.404628</td>\n",
       "      <td>0.346264</td>\n",
       "      <td>0.386092</td>\n",
       "      <td>0.098323</td>\n",
       "      <td>3</td>\n",
       "    </tr>\n",
       "    <tr>\n",
       "      <th>51115</th>\n",
       "      <td>0.131867</td>\n",
       "      <td>0.118457</td>\n",
       "      <td>0.362594</td>\n",
       "      <td>0.415861</td>\n",
       "      <td>0.354178</td>\n",
       "      <td>0.358072</td>\n",
       "      <td>0.411094</td>\n",
       "      <td>0.293565</td>\n",
       "      <td>0.254598</td>\n",
       "      <td>0.315172</td>\n",
       "      <td>0.224077</td>\n",
       "      <td>3</td>\n",
       "    </tr>\n",
       "    <tr>\n",
       "      <th>51001</th>\n",
       "      <td>0.075854</td>\n",
       "      <td>0.148920</td>\n",
       "      <td>0.319901</td>\n",
       "      <td>0.435870</td>\n",
       "      <td>0.410805</td>\n",
       "      <td>0.412876</td>\n",
       "      <td>0.398849</td>\n",
       "      <td>0.223717</td>\n",
       "      <td>0.178736</td>\n",
       "      <td>0.296552</td>\n",
       "      <td>0.064338</td>\n",
       "      <td>3</td>\n",
       "    </tr>\n",
       "  </tbody>\n",
       "</table>\n",
       "</div>\n",
       "    <div class=\"colab-df-buttons\">\n",
       "\n",
       "  <div class=\"colab-df-container\">\n",
       "    <button class=\"colab-df-convert\" onclick=\"convertToInteractive('df-ec6e0f6d-73a1-4832-8a63-0bfb1a83460a')\"\n",
       "            title=\"Convert this dataframe to an interactive table.\"\n",
       "            style=\"display:none;\">\n",
       "\n",
       "  <svg xmlns=\"http://www.w3.org/2000/svg\" height=\"24px\" viewBox=\"0 -960 960 960\">\n",
       "    <path d=\"M120-120v-720h720v720H120Zm60-500h600v-160H180v160Zm220 220h160v-160H400v160Zm0 220h160v-160H400v160ZM180-400h160v-160H180v160Zm440 0h160v-160H620v160ZM180-180h160v-160H180v160Zm440 0h160v-160H620v160Z\"/>\n",
       "  </svg>\n",
       "    </button>\n",
       "\n",
       "  <style>\n",
       "    .colab-df-container {\n",
       "      display:flex;\n",
       "      gap: 12px;\n",
       "    }\n",
       "\n",
       "    .colab-df-convert {\n",
       "      background-color: #E8F0FE;\n",
       "      border: none;\n",
       "      border-radius: 50%;\n",
       "      cursor: pointer;\n",
       "      display: none;\n",
       "      fill: #1967D2;\n",
       "      height: 32px;\n",
       "      padding: 0 0 0 0;\n",
       "      width: 32px;\n",
       "    }\n",
       "\n",
       "    .colab-df-convert:hover {\n",
       "      background-color: #E2EBFA;\n",
       "      box-shadow: 0px 1px 2px rgba(60, 64, 67, 0.3), 0px 1px 3px 1px rgba(60, 64, 67, 0.15);\n",
       "      fill: #174EA6;\n",
       "    }\n",
       "\n",
       "    .colab-df-buttons div {\n",
       "      margin-bottom: 4px;\n",
       "    }\n",
       "\n",
       "    [theme=dark] .colab-df-convert {\n",
       "      background-color: #3B4455;\n",
       "      fill: #D2E3FC;\n",
       "    }\n",
       "\n",
       "    [theme=dark] .colab-df-convert:hover {\n",
       "      background-color: #434B5C;\n",
       "      box-shadow: 0px 1px 3px 1px rgba(0, 0, 0, 0.15);\n",
       "      filter: drop-shadow(0px 1px 2px rgba(0, 0, 0, 0.3));\n",
       "      fill: #FFFFFF;\n",
       "    }\n",
       "  </style>\n",
       "\n",
       "    <script>\n",
       "      const buttonEl =\n",
       "        document.querySelector('#df-ec6e0f6d-73a1-4832-8a63-0bfb1a83460a button.colab-df-convert');\n",
       "      buttonEl.style.display =\n",
       "        google.colab.kernel.accessAllowed ? 'block' : 'none';\n",
       "\n",
       "      async function convertToInteractive(key) {\n",
       "        const element = document.querySelector('#df-ec6e0f6d-73a1-4832-8a63-0bfb1a83460a');\n",
       "        const dataTable =\n",
       "          await google.colab.kernel.invokeFunction('convertToInteractive',\n",
       "                                                    [key], {});\n",
       "        if (!dataTable) return;\n",
       "\n",
       "        const docLinkHtml = 'Like what you see? Visit the ' +\n",
       "          '<a target=\"_blank\" href=https://colab.research.google.com/notebooks/data_table.ipynb>data table notebook</a>'\n",
       "          + ' to learn more about interactive tables.';\n",
       "        element.innerHTML = '';\n",
       "        dataTable['output_type'] = 'display_data';\n",
       "        await google.colab.output.renderOutput(dataTable, element);\n",
       "        const docLink = document.createElement('div');\n",
       "        docLink.innerHTML = docLinkHtml;\n",
       "        element.appendChild(docLink);\n",
       "      }\n",
       "    </script>\n",
       "  </div>\n",
       "\n",
       "\n",
       "<div id=\"df-f0c7e877-c895-490b-9dc0-c8e02f1524f7\">\n",
       "  <button class=\"colab-df-quickchart\" onclick=\"quickchart('df-f0c7e877-c895-490b-9dc0-c8e02f1524f7')\"\n",
       "            title=\"Suggest charts\"\n",
       "            style=\"display:none;\">\n",
       "\n",
       "<svg xmlns=\"http://www.w3.org/2000/svg\" height=\"24px\"viewBox=\"0 0 24 24\"\n",
       "     width=\"24px\">\n",
       "    <g>\n",
       "        <path d=\"M19 3H5c-1.1 0-2 .9-2 2v14c0 1.1.9 2 2 2h14c1.1 0 2-.9 2-2V5c0-1.1-.9-2-2-2zM9 17H7v-7h2v7zm4 0h-2V7h2v10zm4 0h-2v-4h2v4z\"/>\n",
       "    </g>\n",
       "</svg>\n",
       "  </button>\n",
       "\n",
       "<style>\n",
       "  .colab-df-quickchart {\n",
       "      --bg-color: #E8F0FE;\n",
       "      --fill-color: #1967D2;\n",
       "      --hover-bg-color: #E2EBFA;\n",
       "      --hover-fill-color: #174EA6;\n",
       "      --disabled-fill-color: #AAA;\n",
       "      --disabled-bg-color: #DDD;\n",
       "  }\n",
       "\n",
       "  [theme=dark] .colab-df-quickchart {\n",
       "      --bg-color: #3B4455;\n",
       "      --fill-color: #D2E3FC;\n",
       "      --hover-bg-color: #434B5C;\n",
       "      --hover-fill-color: #FFFFFF;\n",
       "      --disabled-bg-color: #3B4455;\n",
       "      --disabled-fill-color: #666;\n",
       "  }\n",
       "\n",
       "  .colab-df-quickchart {\n",
       "    background-color: var(--bg-color);\n",
       "    border: none;\n",
       "    border-radius: 50%;\n",
       "    cursor: pointer;\n",
       "    display: none;\n",
       "    fill: var(--fill-color);\n",
       "    height: 32px;\n",
       "    padding: 0;\n",
       "    width: 32px;\n",
       "  }\n",
       "\n",
       "  .colab-df-quickchart:hover {\n",
       "    background-color: var(--hover-bg-color);\n",
       "    box-shadow: 0 1px 2px rgba(60, 64, 67, 0.3), 0 1px 3px 1px rgba(60, 64, 67, 0.15);\n",
       "    fill: var(--button-hover-fill-color);\n",
       "  }\n",
       "\n",
       "  .colab-df-quickchart-complete:disabled,\n",
       "  .colab-df-quickchart-complete:disabled:hover {\n",
       "    background-color: var(--disabled-bg-color);\n",
       "    fill: var(--disabled-fill-color);\n",
       "    box-shadow: none;\n",
       "  }\n",
       "\n",
       "  .colab-df-spinner {\n",
       "    border: 2px solid var(--fill-color);\n",
       "    border-color: transparent;\n",
       "    border-bottom-color: var(--fill-color);\n",
       "    animation:\n",
       "      spin 1s steps(1) infinite;\n",
       "  }\n",
       "\n",
       "  @keyframes spin {\n",
       "    0% {\n",
       "      border-color: transparent;\n",
       "      border-bottom-color: var(--fill-color);\n",
       "      border-left-color: var(--fill-color);\n",
       "    }\n",
       "    20% {\n",
       "      border-color: transparent;\n",
       "      border-left-color: var(--fill-color);\n",
       "      border-top-color: var(--fill-color);\n",
       "    }\n",
       "    30% {\n",
       "      border-color: transparent;\n",
       "      border-left-color: var(--fill-color);\n",
       "      border-top-color: var(--fill-color);\n",
       "      border-right-color: var(--fill-color);\n",
       "    }\n",
       "    40% {\n",
       "      border-color: transparent;\n",
       "      border-right-color: var(--fill-color);\n",
       "      border-top-color: var(--fill-color);\n",
       "    }\n",
       "    60% {\n",
       "      border-color: transparent;\n",
       "      border-right-color: var(--fill-color);\n",
       "    }\n",
       "    80% {\n",
       "      border-color: transparent;\n",
       "      border-right-color: var(--fill-color);\n",
       "      border-bottom-color: var(--fill-color);\n",
       "    }\n",
       "    90% {\n",
       "      border-color: transparent;\n",
       "      border-bottom-color: var(--fill-color);\n",
       "    }\n",
       "  }\n",
       "</style>\n",
       "\n",
       "  <script>\n",
       "    async function quickchart(key) {\n",
       "      const quickchartButtonEl =\n",
       "        document.querySelector('#' + key + ' button');\n",
       "      quickchartButtonEl.disabled = true;  // To prevent multiple clicks.\n",
       "      quickchartButtonEl.classList.add('colab-df-spinner');\n",
       "      try {\n",
       "        const charts = await google.colab.kernel.invokeFunction(\n",
       "            'suggestCharts', [key], {});\n",
       "      } catch (error) {\n",
       "        console.error('Error during call to suggestCharts:', error);\n",
       "      }\n",
       "      quickchartButtonEl.classList.remove('colab-df-spinner');\n",
       "      quickchartButtonEl.classList.add('colab-df-quickchart-complete');\n",
       "    }\n",
       "    (() => {\n",
       "      let quickchartButtonEl =\n",
       "        document.querySelector('#df-f0c7e877-c895-490b-9dc0-c8e02f1524f7 button');\n",
       "      quickchartButtonEl.style.display =\n",
       "        google.colab.kernel.accessAllowed ? 'block' : 'none';\n",
       "    })();\n",
       "  </script>\n",
       "</div>\n",
       "\n",
       "    </div>\n",
       "  </div>\n"
      ],
      "text/plain": [
       "          Income      DSCI       PQ1       PQ2       PQ3       PQ4       TQ1  \\\n",
       "County                                                                         \n",
       "51013   0.142115  0.105105  0.229655  0.409510  0.284420  0.314118  0.436525   \n",
       "51107   0.176528  0.129553  0.262200  0.422371  0.304163  0.345719  0.243119   \n",
       "51131   0.099351  0.117189  0.439573  0.415893  0.389930  0.397124  0.467713   \n",
       "51115   0.131867  0.118457  0.362594  0.415861  0.354178  0.358072  0.411094   \n",
       "51001   0.075854  0.148920  0.319901  0.435870  0.410805  0.412876  0.398849   \n",
       "\n",
       "             TQ2       TQ3       TQ4    Forest  cluster  \n",
       "County                                                   \n",
       "51013   0.430658  0.397845  0.371264  0.089268        3  \n",
       "51107   0.193782  0.158764  0.189310  0.359856        3  \n",
       "51131   0.404628  0.346264  0.386092  0.098323        3  \n",
       "51115   0.293565  0.254598  0.315172  0.224077        3  \n",
       "51001   0.223717  0.178736  0.296552  0.064338        3  "
      ]
     },
     "execution_count": 11,
     "metadata": {},
     "output_type": "execute_result"
    }
   ],
   "source": [
    "# Look at counties in smallest cluster\n",
    "df[df['cluster'] == 3]"
   ]
  },
  {
   "cell_type": "code",
   "execution_count": 12,
   "id": "7b5bc02b-f639-4adb-9d63-482c26a2a078",
   "metadata": {
    "colab": {
     "base_uri": "https://localhost:8080/"
    },
    "id": "7b5bc02b-f639-4adb-9d63-482c26a2a078",
    "outputId": "f84a94e4-4b9d-4ddb-ec5b-c04448d763e4"
   },
   "outputs": [
    {
     "name": "stdout",
     "output_type": "stream",
     "text": [
      "[3 2 2 0 2 1 3 0 2 2 1 1 2 2 1 2 0 0 0 0 1 1 2 1 2 0 0 0 0 0 2 2 0 1 0 2 0\n",
      " 0 0 0 1 0 1 1 0 1 0 0 2 0 3 2 1 1 3 1 0 0 2 0 3 1 1 0 0 2 0 2 2 0 0 2 0 2\n",
      " 1 0 2 1 1 2 0 0 0 0 0 1 0 0 1 0]\n"
     ]
    }
   ],
   "source": [
    "#To obtain the entire cluster labels\n",
    "print(hc.labels_)"
   ]
  },
  {
   "cell_type": "markdown",
   "id": "7253b926-47c5-4262-876d-b4f345be9c41",
   "metadata": {
    "id": "7253b926-47c5-4262-876d-b4f345be9c41",
    "tags": []
   },
   "source": [
    "# Categorizing the clusters as suitability levels"
   ]
  },
  {
   "cell_type": "code",
   "execution_count": 13,
   "id": "8a152855-76c0-4ef1-967b-9a917a6e9be6",
   "metadata": {
    "id": "8a152855-76c0-4ef1-967b-9a917a6e9be6"
   },
   "outputs": [],
   "source": [
    "# Need to research into what factors lead to land being more suitable for forestation\n",
    "# Then assign levels based on the averages of each cluster from above\n",
    "\n",
    "# Maybe redo if we can get more data and redo clusters\n"
   ]
  },
  {
   "cell_type": "markdown",
   "id": "4b923baf-0d77-4fcf-b1e7-df7263f5f77c",
   "metadata": {
    "id": "4b923baf-0d77-4fcf-b1e7-df7263f5f77c"
   },
   "source": [
    "# Supervised ML for suitability prediction (Random Forest)"
   ]
  },
  {
   "cell_type": "code",
   "execution_count": 14,
   "id": "e62a3d2e-9477-4601-ae04-fbed19b0adca",
   "metadata": {
    "id": "e62a3d2e-9477-4601-ae04-fbed19b0adca"
   },
   "outputs": [],
   "source": [
    "import numpy as np\n",
    "import pandas as pd\n",
    "import matplotlib.pyplot as plt\n",
    "plt.rcParams['figure.figsize'] = (9, 6)\n",
    "from sklearn.ensemble import RandomForestClassifier\n",
    "from sklearn.model_selection import train_test_split"
   ]
  },
  {
   "cell_type": "code",
   "execution_count": 15,
   "id": "86c174d5-738b-4906-ba06-31804f57b414",
   "metadata": {
    "id": "86c174d5-738b-4906-ba06-31804f57b414"
   },
   "outputs": [],
   "source": [
    "# Reading data\n",
    "# df = pd.read_csv(\"Labelled Normalised DACCS data.csv\")"
   ]
  },
  {
   "cell_type": "code",
   "execution_count": 16,
   "id": "eabb6f7e-9326-4061-b3b2-60e38bfd3a65",
   "metadata": {
    "id": "eabb6f7e-9326-4061-b3b2-60e38bfd3a65"
   },
   "outputs": [],
   "source": [
    "# creating input identity\n",
    "sub_df = df[['Income','DSCI','PQ1','PQ2','PQ3','PQ4','TQ1','TQ2','TQ3','TQ4','Forest']]\n",
    "X = sub_df\n",
    "y = df.cluster\n",
    "X_train, X_test, y_train, y_test = train_test_split(X, y, train_size=0.7, random_state=1)"
   ]
  },
  {
   "cell_type": "code",
   "execution_count": 17,
   "id": "28d9fa9d-87e6-40f2-bf71-5895603087a4",
   "metadata": {
    "id": "28d9fa9d-87e6-40f2-bf71-5895603087a4"
   },
   "outputs": [],
   "source": [
    "# creating Model (with 100 trees)\n",
    "rf = RandomForestClassifier(n_estimators=100)"
   ]
  },
  {
   "cell_type": "code",
   "execution_count": 18,
   "id": "ee6455a9-0e19-455a-98d1-457d5b5120ca",
   "metadata": {
    "colab": {
     "base_uri": "https://localhost:8080/",
     "height": 74
    },
    "id": "ee6455a9-0e19-455a-98d1-457d5b5120ca",
    "outputId": "0261110f-c724-4dd7-e9b9-86de36218027"
   },
   "outputs": [
    {
     "data": {
      "text/html": [
       "<style>#sk-container-id-1 {color: black;background-color: white;}#sk-container-id-1 pre{padding: 0;}#sk-container-id-1 div.sk-toggleable {background-color: white;}#sk-container-id-1 label.sk-toggleable__label {cursor: pointer;display: block;width: 100%;margin-bottom: 0;padding: 0.3em;box-sizing: border-box;text-align: center;}#sk-container-id-1 label.sk-toggleable__label-arrow:before {content: \"▸\";float: left;margin-right: 0.25em;color: #696969;}#sk-container-id-1 label.sk-toggleable__label-arrow:hover:before {color: black;}#sk-container-id-1 div.sk-estimator:hover label.sk-toggleable__label-arrow:before {color: black;}#sk-container-id-1 div.sk-toggleable__content {max-height: 0;max-width: 0;overflow: hidden;text-align: left;background-color: #f0f8ff;}#sk-container-id-1 div.sk-toggleable__content pre {margin: 0.2em;color: black;border-radius: 0.25em;background-color: #f0f8ff;}#sk-container-id-1 input.sk-toggleable__control:checked~div.sk-toggleable__content {max-height: 200px;max-width: 100%;overflow: auto;}#sk-container-id-1 input.sk-toggleable__control:checked~label.sk-toggleable__label-arrow:before {content: \"▾\";}#sk-container-id-1 div.sk-estimator input.sk-toggleable__control:checked~label.sk-toggleable__label {background-color: #d4ebff;}#sk-container-id-1 div.sk-label input.sk-toggleable__control:checked~label.sk-toggleable__label {background-color: #d4ebff;}#sk-container-id-1 input.sk-hidden--visually {border: 0;clip: rect(1px 1px 1px 1px);clip: rect(1px, 1px, 1px, 1px);height: 1px;margin: -1px;overflow: hidden;padding: 0;position: absolute;width: 1px;}#sk-container-id-1 div.sk-estimator {font-family: monospace;background-color: #f0f8ff;border: 1px dotted black;border-radius: 0.25em;box-sizing: border-box;margin-bottom: 0.5em;}#sk-container-id-1 div.sk-estimator:hover {background-color: #d4ebff;}#sk-container-id-1 div.sk-parallel-item::after {content: \"\";width: 100%;border-bottom: 1px solid gray;flex-grow: 1;}#sk-container-id-1 div.sk-label:hover label.sk-toggleable__label {background-color: #d4ebff;}#sk-container-id-1 div.sk-serial::before {content: \"\";position: absolute;border-left: 1px solid gray;box-sizing: border-box;top: 0;bottom: 0;left: 50%;z-index: 0;}#sk-container-id-1 div.sk-serial {display: flex;flex-direction: column;align-items: center;background-color: white;padding-right: 0.2em;padding-left: 0.2em;position: relative;}#sk-container-id-1 div.sk-item {position: relative;z-index: 1;}#sk-container-id-1 div.sk-parallel {display: flex;align-items: stretch;justify-content: center;background-color: white;position: relative;}#sk-container-id-1 div.sk-item::before, #sk-container-id-1 div.sk-parallel-item::before {content: \"\";position: absolute;border-left: 1px solid gray;box-sizing: border-box;top: 0;bottom: 0;left: 50%;z-index: -1;}#sk-container-id-1 div.sk-parallel-item {display: flex;flex-direction: column;z-index: 1;position: relative;background-color: white;}#sk-container-id-1 div.sk-parallel-item:first-child::after {align-self: flex-end;width: 50%;}#sk-container-id-1 div.sk-parallel-item:last-child::after {align-self: flex-start;width: 50%;}#sk-container-id-1 div.sk-parallel-item:only-child::after {width: 0;}#sk-container-id-1 div.sk-dashed-wrapped {border: 1px dashed gray;margin: 0 0.4em 0.5em 0.4em;box-sizing: border-box;padding-bottom: 0.4em;background-color: white;}#sk-container-id-1 div.sk-label label {font-family: monospace;font-weight: bold;display: inline-block;line-height: 1.2em;}#sk-container-id-1 div.sk-label-container {text-align: center;}#sk-container-id-1 div.sk-container {/* jupyter's `normalize.less` sets `[hidden] { display: none; }` but bootstrap.min.css set `[hidden] { display: none !important; }` so we also need the `!important` here to be able to override the default hidden behavior on the sphinx rendered scikit-learn.org. See: https://github.com/scikit-learn/scikit-learn/issues/21755 */display: inline-block !important;position: relative;}#sk-container-id-1 div.sk-text-repr-fallback {display: none;}</style><div id=\"sk-container-id-1\" class=\"sk-top-container\"><div class=\"sk-text-repr-fallback\"><pre>RandomForestClassifier()</pre><b>In a Jupyter environment, please rerun this cell to show the HTML representation or trust the notebook. <br />On GitHub, the HTML representation is unable to render, please try loading this page with nbviewer.org.</b></div><div class=\"sk-container\" hidden><div class=\"sk-item\"><div class=\"sk-estimator sk-toggleable\"><input class=\"sk-toggleable__control sk-hidden--visually\" id=\"sk-estimator-id-1\" type=\"checkbox\" checked><label for=\"sk-estimator-id-1\" class=\"sk-toggleable__label sk-toggleable__label-arrow\">RandomForestClassifier</label><div class=\"sk-toggleable__content\"><pre>RandomForestClassifier()</pre></div></div></div></div></div>"
      ],
      "text/plain": [
       "RandomForestClassifier()"
      ]
     },
     "execution_count": 18,
     "metadata": {},
     "output_type": "execute_result"
    }
   ],
   "source": [
    "# Fitting training data\n",
    "rf.fit(X_train, y_train)"
   ]
  },
  {
   "cell_type": "code",
   "execution_count": 19,
   "id": "ffefd525-4780-45c2-8682-fed6288a671c",
   "metadata": {
    "colab": {
     "base_uri": "https://localhost:8080/"
    },
    "id": "ffefd525-4780-45c2-8682-fed6288a671c",
    "outputId": "1d355f65-5224-4d3c-d0c0-de12167406ab",
    "tags": []
   },
   "outputs": [
    {
     "data": {
      "text/plain": [
       "Int64Index([51085, 51157, 51171, 51091, 51131, 51075, 51185, 51041, 51113,\n",
       "            51053, 51133, 51037, 51017, 51139, 51059, 51173, 51119, 51077,\n",
       "            51001, 51065, 51097, 51165, 51145, 51036, 51033, 51035, 51117,\n",
       "            51167],\n",
       "           dtype='int64', name='County')"
      ]
     },
     "execution_count": 19,
     "metadata": {},
     "output_type": "execute_result"
    }
   ],
   "source": [
    "# see which counties are in test\n",
    "y_test.index"
   ]
  },
  {
   "cell_type": "code",
   "execution_count": 20,
   "id": "de0e2281-329f-4359-af89-6e8c767b7c85",
   "metadata": {
    "colab": {
     "base_uri": "https://localhost:8080/"
    },
    "id": "de0e2281-329f-4359-af89-6e8c767b7c85",
    "outputId": "10e8d0a5-03db-4d22-c375-e4cc4b87765c"
   },
   "outputs": [
    {
     "name": "stdout",
     "output_type": "stream",
     "text": [
      "[1 2 1 1 1 2 1 1 1 0 1 0 0 0 2 2 0 0 3 2 1 0 1 0 0 0 1 2]\n"
     ]
    }
   ],
   "source": [
    "# y prediction for set of data\n",
    "y_pred = rf.predict(X_test)\n",
    "print(y_pred)"
   ]
  },
  {
   "cell_type": "code",
   "execution_count": 21,
   "id": "54674aaa-2bff-4228-919d-5194dee8cc30",
   "metadata": {
    "colab": {
     "base_uri": "https://localhost:8080/"
    },
    "id": "54674aaa-2bff-4228-919d-5194dee8cc30",
    "outputId": "5fe5dc20-683d-4456-bafc-dfc3228af714"
   },
   "outputs": [
    {
     "name": "stdout",
     "output_type": "stream",
     "text": [
      "              precision    recall  f1-score   support\n",
      "\n",
      "           0       0.90      0.90      0.90        10\n",
      "           1       0.82      1.00      0.90         9\n",
      "           2       0.83      0.71      0.77         7\n",
      "           3       1.00      0.50      0.67         2\n",
      "\n",
      "    accuracy                           0.86        28\n",
      "   macro avg       0.89      0.78      0.81        28\n",
      "weighted avg       0.86      0.86      0.85        28\n",
      "\n"
     ]
    }
   ],
   "source": [
    "# To get model performance\n",
    "from sklearn.metrics import classification_report\n",
    "cr = classification_report(y_test, y_pred)\n",
    "print(cr)"
   ]
  },
  {
   "cell_type": "code",
   "execution_count": 22,
   "id": "bfa9b0f6-7e07-4564-8558-2d7fe819ddb3",
   "metadata": {
    "colab": {
     "base_uri": "https://localhost:8080/"
    },
    "id": "bfa9b0f6-7e07-4564-8558-2d7fe819ddb3",
    "outputId": "7332a38a-2774-4efa-fe44-a720750a171a"
   },
   "outputs": [
    {
     "name": "stdout",
     "output_type": "stream",
     "text": [
      "        importance\n",
      "TQ2       0.167837\n",
      "TQ3       0.166542\n",
      "Forest    0.162660\n",
      "TQ4       0.137307\n",
      "TQ1       0.083138\n",
      "Income    0.079973\n",
      "PQ2       0.059589\n",
      "PQ1       0.050600\n",
      "PQ3       0.045463\n",
      "PQ4       0.025014\n",
      "DSCI      0.021877\n"
     ]
    }
   ],
   "source": [
    "# Determining feature importance (Model Interpretation)\n",
    "feature_imp = pd.DataFrame(rf.feature_importances_,index= X_train.columns,\n",
    "columns=['importance']).sort_values('importance',ascending=False)\n",
    "print(feature_imp)"
   ]
  },
  {
   "cell_type": "code",
   "execution_count": 23,
   "id": "6fbc191e-54f9-4aed-9b34-8425925ff767",
   "metadata": {
    "colab": {
     "base_uri": "https://localhost:8080/",
     "height": 539
    },
    "id": "6fbc191e-54f9-4aed-9b34-8425925ff767",
    "outputId": "2ba20226-05f5-430e-abc1-365843bcb22e"
   },
   "outputs": [
    {
     "data": {
      "text/plain": [
       "<Axes: >"
      ]
     },
     "execution_count": 23,
     "metadata": {},
     "output_type": "execute_result"
    },
    {
     "data": {
      "image/png": "[encoded data removed]",
      "text/plain": [
       "<Figure size 900x600 with 1 Axes>"
      ]
     },
     "metadata": {},
     "output_type": "display_data"
    }
   ],
   "source": [
    "#Feature importance visualisation\n",
    "feature_imp.plot(kind='barh')"
   ]
  },
  {
   "cell_type": "markdown",
   "id": "dddc3213-6d61-4ebb-ba35-82b8a3210a0a",
   "metadata": {
    "id": "dddc3213-6d61-4ebb-ba35-82b8a3210a0a"
   },
   "source": [
    "# Supervised ML for suitability prediction (Neural Net)"
   ]
  },
  {
   "cell_type": "code",
   "execution_count": 10,
   "id": "80e2f061-0693-4db9-8f15-00d47da2697c",
   "metadata": {
    "id": "80e2f061-0693-4db9-8f15-00d47da2697c",
    "tags": []
   },
   "outputs": [],
   "source": [
    "# loading everything that might be helpful\n",
    "import sys\n",
    "import sklearn\n",
    "import os\n",
    "import numpy as np\n",
    "import matplotlib as mpl\n",
    "import matplotlib.pyplot as plt\n",
    "from functools import partial\n",
    "import PIL\n",
    "import PIL.Image\n",
    "import torch\n",
    "from torch.utils.data import DataLoader, random_split\n",
    "from torch import Generator\n",
    "from torchvision.transforms import ToTensor\n",
    "from torchvision.datasets import ImageFolder\n",
    "from torch import manual_seed as torch_manual_seed\n",
    "import random\n",
    "import numpy as np\n",
    "\n",
    "from torch.cuda import max_memory_allocated, set_device, manual_seed_all\n",
    "from torch.backends import cudnn\n",
    "\n",
    "def setup_seed(seed):\n",
    "    torch_manual_seed(seed)\n",
    "    manual_seed_all(seed)\n",
    "    np.random.seed(seed)\n",
    "    random.seed(seed)\n",
    "    cudnn.deterministic = True\n",
    "\n",
    "SEED = 42\n",
    "setup_seed(SEED)"
   ]
  },
  {
   "cell_type": "code",
   "execution_count": 25,
   "id": "d126267d-f430-4da8-a1de-878c3fe08d0e",
   "metadata": {
    "colab": {
     "base_uri": "https://localhost:8080/"
    },
    "id": "d126267d-f430-4da8-a1de-878c3fe08d0e",
    "outputId": "d7d8c98e-218e-481b-9d61-ec29c79ca51f",
    "tags": []
   },
   "outputs": [
    {
     "name": "stdout",
     "output_type": "stream",
     "text": [
      "Before splitting the full dataset into train, validation, and test: len(dataset_all)=90\n",
      "After splitting the full dataset into train, validation, and test: len(dataset_train)=68, len(dataset_val)=16, len(dataset_test)=6\n"
     ]
    }
   ],
   "source": [
    "TEST_RATIO = 0.2\n",
    "BATCH_SIZE = 32\n",
    "\n",
    "size_all = len(df)\n",
    "print(f'Before splitting the full dataset into train, validation, and test: len(dataset_all)={size_all}')\n",
    "\n",
    "# training/val/test dataset\n",
    "size_train = size_all - 6\n",
    "size_val = int(size_train * TEST_RATIO)\n",
    "size_train_sub = size_train - size_val\n",
    "\n",
    "# split data into train and test\n",
    "# Test = 6 counties of interst: Accomack, Fauquier, Greensville, Hanover, Rockingham, Wise\n",
    "dataset_test = df.loc[[51001, 51061, 51081, 51085, 51165, 51195]]\n",
    "\n",
    "# Train = all except 6 counties of interest\n",
    "dataset_train = df.drop([51001, 51061, 51081, 51085, 51165, 51195])\n",
    "\n",
    "\n",
    "# split training data into train and validation\n",
    "dataset_train, dataset_val = random_split(dataset_train, [size_train_sub, size_val], generator=Generator().manual_seed(SEED))\n",
    "print(f'After splitting the full dataset into train, validation, and test: len(dataset_train)={len(dataset_train)}, len(dataset_val)={len(dataset_val)}, len(dataset_test)=6')\n",
    "\n",
    "# NOTE that you must not use the test dataset for model selection\n"
   ]
  },
  {
   "cell_type": "code",
   "execution_count": 11,
   "id": "cf920cac-ef6f-419d-b88f-054113d1b953",
   "metadata": {
    "id": "cf920cac-ef6f-419d-b88f-054113d1b953"
   },
   "outputs": [
    {
     "ename": "NameError",
     "evalue": "name 'dataset_train' is not defined",
     "output_type": "error",
     "traceback": [
      "\u001b[1;31m---------------------------------------------------------------------------\u001b[0m",
      "\u001b[1;31mNameError\u001b[0m                                 Traceback (most recent call last)",
      "Cell \u001b[1;32mIn[11], line 2\u001b[0m\n\u001b[0;32m      1\u001b[0m \u001b[38;5;66;03m# made dataframes into dataloader objects\u001b[39;00m\n\u001b[1;32m----> 2\u001b[0m dataloader_train \u001b[38;5;241m=\u001b[39m DataLoader(\u001b[43mdataset_train\u001b[49m, batch_size\u001b[38;5;241m=\u001b[39mBATCH_SIZE, shuffle\u001b[38;5;241m=\u001b[39m\u001b[38;5;28;01mTrue\u001b[39;00m)\n\u001b[0;32m      4\u001b[0m dataloader_val \u001b[38;5;241m=\u001b[39m DataLoader(dataset_val, batch_size\u001b[38;5;241m=\u001b[39mBATCH_SIZE, shuffle\u001b[38;5;241m=\u001b[39m\u001b[38;5;28;01mFalse\u001b[39;00m)\n\u001b[0;32m      6\u001b[0m dataloader_test \u001b[38;5;241m=\u001b[39m DataLoader(dataset_test, batch_size\u001b[38;5;241m=\u001b[39mBATCH_SIZE, shuffle\u001b[38;5;241m=\u001b[39m\u001b[38;5;28;01mFalse\u001b[39;00m)\n",
      "\u001b[1;31mNameError\u001b[0m: name 'dataset_train' is not defined"
     ]
    }
   ],
   "source": [
    "# made dataframes into dataloader objects\n",
    "dataloader_train = DataLoader(dataset_train, batch_size=BATCH_SIZE, shuffle=True)\n",
    "\n",
    "dataloader_val = DataLoader(dataset_val, batch_size=BATCH_SIZE, shuffle=False)\n",
    "\n",
    "dataloader_test = DataLoader(dataset_test, batch_size=BATCH_SIZE, shuffle=False)"
   ]
  },
  {
   "cell_type": "code",
   "execution_count": 12,
   "id": "56508480-abe0-4c84-a35e-f3f51ff9620c",
   "metadata": {},
   "outputs": [],
   "source": [
    "from sklearn.model_selection import train_test_split\n",
    "from torch.utils.data import TensorDataset, DataLoader"
   ]
  },
  {
   "cell_type": "code",
   "execution_count": 13,
   "id": "35e880f7-da3c-4e88-be11-347a044bfc7a",
   "metadata": {},
   "outputs": [],
   "source": [
    "X_train = df.drop([51001, 51061, 51081, 51085, 51165, 51195])\n",
    "X_train_full = X_train[['Income','DSCI','PQ1','PQ2','PQ3','PQ4','TQ1','TQ2','TQ3','TQ4','Forest']]\n",
    "\n",
    "y_train = df.drop([51001, 51061, 51081, 51085, 51165, 51195])\n",
    "y_train_full = y_train['cluster']\n",
    "\n",
    "X_train, X_val, y_train, y_val = train_test_split(X_train_full, y_train_full, test_size= 0.2, random_state=49)"
   ]
  },
  {
   "cell_type": "code",
   "execution_count": 14,
   "id": "7bc7068a-8f43-4178-9907-2e2fcf15e46d",
   "metadata": {},
   "outputs": [],
   "source": [
    "#training data\n",
    "X_train_tensor = torch.tensor(X_train.values, dtype=torch.float32)\n",
    "y_train_tensor = torch.tensor(y_train.values, dtype=torch.float32)"
   ]
  },
  {
   "cell_type": "code",
   "execution_count": 15,
   "id": "a9e41e77-cde7-4973-b16b-719daa8c8d41",
   "metadata": {},
   "outputs": [],
   "source": [
    "#testing data\n",
    "X_test = df.loc[[51001, 51061, 51081, 51085, 51165, 51195]]\n",
    "X_test = X_test[['Income','DSCI','PQ1','PQ2','PQ3','PQ4','TQ1','TQ2','TQ3','TQ4','Forest']]\n",
    "X_test_tensor = torch.tensor(X_test.values, dtype=torch.float32)\n",
    "\n",
    "y_test = df.loc[[51001, 51061, 51081, 51085, 51165, 51195]]\n",
    "y_test = y_test['cluster']\n",
    "y_test_tensor = torch.tensor(y_test.values, dtype=torch.float32)"
   ]
  },
  {
   "cell_type": "code",
   "execution_count": 16,
   "id": "487413f5-294d-464e-a76b-42dd7f491adf",
   "metadata": {},
   "outputs": [],
   "source": [
    "#val data\n",
    "X_val_tensor = torch.tensor(X_val.values, dtype=torch.float32)\n",
    "y_val_tensor = torch.tensor(y_val.values, dtype=torch.float32)"
   ]
  },
  {
   "cell_type": "code",
   "execution_count": 31,
   "id": "c579e356-0515-4147-b5dd-a8613de0e59b",
   "metadata": {},
   "outputs": [],
   "source": [
    "#train data\n",
    "training_data = TensorDataset(X_train_tensor, y_train_tensor)\n",
    "train_dataloader = DataLoader(training_data, batch_size=32)\n",
    "\n",
    "#test data\n",
    "test_data = TensorDataset(X_test_tensor, y_test_tensor)\n",
    "test_dataloader = DataLoader(test_data, batch_size=32)\n",
    "\n",
    "#validate data\n",
    "val_data = TensorDataset(X_val_tensor, y_val_tensor)\n",
    "val_dataloader = DataLoader(val_data, batch_size=32)"
   ]
  },
  {
   "cell_type": "code",
   "execution_count": 27,
   "id": "f8b48ba4-dd12-4fce-903a-df58b7148e29",
   "metadata": {
    "id": "f8b48ba4-dd12-4fce-903a-df58b7148e29"
   },
   "outputs": [],
   "source": [
    "# ResNet CNN"
   ]
  },
  {
   "cell_type": "code",
   "execution_count": 18,
   "id": "4a4151aa-f490-481c-a310-73ddbd366ffd",
   "metadata": {
    "colab": {
     "base_uri": "https://localhost:8080/"
    },
    "id": "4a4151aa-f490-481c-a310-73ddbd366ffd",
    "outputId": "4ecb7683-431c-4e9d-d671-22cab6d3cd1d"
   },
   "outputs": [],
   "source": [
    "from torchvision.models import resnet50, ResNet50_Weights\n",
    "import torch.nn as nn\n",
    "\n",
    "model2 = resnet50(weights=ResNet50_Weights.IMAGENET1K_V2)\n",
    "\n",
    "# Modify the last fully connected layer to have 18 output classes\n",
    "num_ftrs = model2.fc.in_features\n",
    "model2.fc = nn.Linear(num_ftrs, 4)"
   ]
  },
  {
   "cell_type": "code",
   "execution_count": 25,
   "id": "5B1OogoJnqwB",
   "metadata": {
    "id": "5B1OogoJnqwB"
   },
   "outputs": [],
   "source": [
    "#Hyperparameters\n",
    "from torch import device\n",
    "\n",
    "device = torch.device(\"cuda:0\" if torch.cuda.is_available() else \"cpu\")"
   ]
  },
  {
   "cell_type": "code",
   "execution_count": 26,
   "id": "ocFAiC78nRyU",
   "metadata": {
    "id": "ocFAiC78nRyU"
   },
   "outputs": [],
   "source": [
    "# Training model\n",
    "\n",
    "def train_loop_original(dataloader, model, loss_fn, optimizer, calculating_accuracy=True):\n",
    "    model.train()\n",
    "    size = len(dataloader.dataset)\n",
    "    losses_train = []\n",
    "    steps = []\n",
    "\n",
    "    if calculating_accuracy:\n",
    "        accuracies_epoch = []\n",
    "    for batch, (X, y) in enumerate(dataloader):\n",
    "        # Move data from the CPU to the GPU\n",
    "        X = X.to(device, non_blocking=True)\n",
    "        y = y.to(device, non_blocking=True)\n",
    "\n",
    "        # Compute prediction and loss (forward pass)\n",
    "        pred = model(X)\n",
    "        loss = loss_fn(pred, y)\n",
    "\n",
    "        # Backpropagation (backward pass)\n",
    "        optimizer.zero_grad(set_to_none=True)\n",
    "        loss.backward()\n",
    "        optimizer.step()\n",
    "\n",
    "        current = batch * len(X)\n",
    "\n",
    "        #loss = loss(pred, batch.y.float())\n",
    "        loss = loss.item()\n",
    "        if batch % 50 == 0:\n",
    "            print(f\"loss: {loss:>7f}  [{current:>5d}/{size:>5d}]\")\n",
    "        losses_train.append(loss)\n",
    "        steps.append(current)\n",
    "        # Compute accuracy without affecting the gradients\n",
    "\n",
    "        if calculating_accuracy:\n",
    "            with torch.no_grad():\n",
    "                accuracy_batch = (pred.argmax(1) == y).type(torch.float).sum().item()/len(y) ## CHECK\n",
    "            accuracies_epoch.append(accuracy_batch)\n",
    "    if not calculating_accuracy:\n",
    "        return losses_train, [], steps\n",
    "    return losses_train, accuracies_epoch, steps\n",
    "\n",
    "train_loop = train_loop_original"
   ]
  },
  {
   "cell_type": "code",
   "execution_count": 27,
   "id": "kg1IUqgCnR97",
   "metadata": {
    "id": "kg1IUqgCnR97"
   },
   "outputs": [],
   "source": [
    "# Validating and testing model\n",
    "\n",
    "import torch\n",
    "\n",
    "@torch.no_grad()\n",
    "def test_loop_original(dataloader, model, loss_fn, method=\"Test\", calculating_accuracy=True):\n",
    "    model.eval()\n",
    "    size = len(dataloader.dataset)\n",
    "    num_batches = len(dataloader)\n",
    "    test_loss = 0\n",
    "    if calculating_accuracy:\n",
    "        correct = 0\n",
    "\n",
    "    for X, y in dataloader:\n",
    "        X = X.to(device, non_blocking=True)\n",
    "        y = y.to(device, non_blocking=True)\n",
    "\n",
    "        pred = model(X)\n",
    "        test_loss += loss_fn(pred, y).item()\n",
    "        if calculating_accuracy:\n",
    "            correct += (pred.argmax(1) == y).type(torch.float).sum().item()\n",
    "\n",
    "    test_loss /= num_batches\n",
    "    if not calculating_accuracy:\n",
    "        print(f\"{method} Avg loss: {test_loss:>8f} \\n\")\n",
    "        return -1, test_loss\n",
    "    correct /= size\n",
    "    print(f\"{method} Error: \\n Accuracy: {(100*correct):>0.1f}%, Avg loss: {test_loss:>8f} \\n\")\n",
    "    return correct, test_loss\n",
    "\n",
    "test_loop = test_loop_original"
   ]
  },
  {
   "cell_type": "code",
   "execution_count": 29,
   "id": "e6eb92ca-724b-4545-ae29-eecb5e150f92",
   "metadata": {
    "colab": {
     "base_uri": "https://localhost:8080/",
     "height": 512
    },
    "id": "01dbd17e-c3de-4ae8-bada-299be81f216c",
    "outputId": "d75703be-3af1-4ac5-f4fb-fd8b88e72a67"
   },
   "outputs": [],
   "source": [
    "# Training function!\n",
    "\n",
    "import torch\n",
    "from torch import nn\n",
    "\n",
    "learning_rate = 0.05\n",
    "NUM_EPOCHS = 10\n",
    "\n",
    "def train(model, num_epochs, loss_function, optimizer, dataloader_train, dataloader_val, calculating_accuracy=True):\n",
    "    losses_train_all_epochs = []\n",
    "    accuracies_train_all_epochs = []\n",
    "    steps_all_epochs = []\n",
    "    accuracies_val_all_epochs = []\n",
    "    losses_val_all_epochs = []\n",
    "\n",
    "    for t in range(num_epochs):\n",
    "        print(f\"Epoch {t+1}\\n-------------------------------\")\n",
    "        losses_train, accuracies_epoch, steps = train_loop(dataloader_train, model, loss_function, optimizer, calculating_accuracy=calculating_accuracy)\n",
    "        losses_train_all_epochs.append(losses_train)\n",
    "        accuracies_train_all_epochs.append(accuracies_epoch)\n",
    "        steps_all_epochs.append(steps)\n",
    "\n",
    "        accuracy_val, loss_val = test_loop(dataloader_val, model, loss_function, method=\"Valid\", calculating_accuracy=calculating_accuracy)\n",
    "        accuracies_val_all_epochs.append(accuracy_val)\n",
    "        losses_val_all_epochs.append(loss_val)\n",
    "    print(\"Done!\")\n",
    "    return accuracies_train_all_epochs, accuracies_val_all_epochs, losses_train_all_epochs, losses_val_all_epochs"
   ]
  },
  {
   "cell_type": "code",
   "execution_count": 30,
   "id": "a46768bc-3b6d-4c31-b2c5-fb36a6035319",
   "metadata": {
    "colab": {
     "base_uri": "https://localhost:8080/",
     "height": 512
    },
    "id": "01dbd17e-c3de-4ae8-bada-299be81f216c",
    "outputId": "d75703be-3af1-4ac5-f4fb-fd8b88e72a67"
   },
   "outputs": [
    {
     "name": "stdout",
     "output_type": "stream",
     "text": [
      "Epoch 1\n",
      "-------------------------------\n"
     ]
    },
    {
     "ename": "RuntimeError",
     "evalue": "Expected 3D (unbatched) or 4D (batched) input to conv2d, but got input of size: [64, 11]",
     "output_type": "error",
     "traceback": [
      "\u001b[1;31m---------------------------------------------------------------------------\u001b[0m",
      "\u001b[1;31mRuntimeError\u001b[0m                              Traceback (most recent call last)",
      "Cell \u001b[1;32mIn[30], line 4\u001b[0m\n\u001b[0;32m      2\u001b[0m loss_function \u001b[38;5;241m=\u001b[39m nn\u001b[38;5;241m.\u001b[39mCrossEntropyLoss()\n\u001b[0;32m      3\u001b[0m optimizer \u001b[38;5;241m=\u001b[39m torch\u001b[38;5;241m.\u001b[39moptim\u001b[38;5;241m.\u001b[39mSGD(model2\u001b[38;5;241m.\u001b[39mparameters(), lr\u001b[38;5;241m=\u001b[39mlearning_rate)\n\u001b[1;32m----> 4\u001b[0m accuracies_train_all_epochs, accuracies_val_all_epochs, losses_train_all_epochs, losses_val_all_epochs \u001b[38;5;241m=\u001b[39m \u001b[43mtrain\u001b[49m\u001b[43m(\u001b[49m\u001b[43mmodel2\u001b[49m\u001b[43m,\u001b[49m\u001b[43m \u001b[49m\u001b[43mNUM_EPOCHS\u001b[49m\u001b[43m,\u001b[49m\u001b[43m \u001b[49m\u001b[43mloss_function\u001b[49m\u001b[43m,\u001b[49m\u001b[43m \u001b[49m\u001b[43moptimizer\u001b[49m\u001b[43m,\u001b[49m\u001b[43m \u001b[49m\u001b[43mtrain_dataloader\u001b[49m\u001b[43m,\u001b[49m\u001b[43m \u001b[49m\u001b[43mval_dataloader\u001b[49m\u001b[43m)\u001b[49m\n",
      "Cell \u001b[1;32mIn[29], line 18\u001b[0m, in \u001b[0;36mtrain\u001b[1;34m(model, num_epochs, loss_function, optimizer, dataloader_train, dataloader_val, calculating_accuracy)\u001b[0m\n\u001b[0;32m     16\u001b[0m \u001b[38;5;28;01mfor\u001b[39;00m t \u001b[38;5;129;01min\u001b[39;00m \u001b[38;5;28mrange\u001b[39m(num_epochs):\n\u001b[0;32m     17\u001b[0m     \u001b[38;5;28mprint\u001b[39m(\u001b[38;5;124mf\u001b[39m\u001b[38;5;124m\"\u001b[39m\u001b[38;5;124mEpoch \u001b[39m\u001b[38;5;132;01m{\u001b[39;00mt\u001b[38;5;241m+\u001b[39m\u001b[38;5;241m1\u001b[39m\u001b[38;5;132;01m}\u001b[39;00m\u001b[38;5;130;01m\\n\u001b[39;00m\u001b[38;5;124m-------------------------------\u001b[39m\u001b[38;5;124m\"\u001b[39m)\n\u001b[1;32m---> 18\u001b[0m     losses_train, accuracies_epoch, steps \u001b[38;5;241m=\u001b[39m \u001b[43mtrain_loop\u001b[49m\u001b[43m(\u001b[49m\u001b[43mdataloader_train\u001b[49m\u001b[43m,\u001b[49m\u001b[43m \u001b[49m\u001b[43mmodel\u001b[49m\u001b[43m,\u001b[49m\u001b[43m \u001b[49m\u001b[43mloss_function\u001b[49m\u001b[43m,\u001b[49m\u001b[43m \u001b[49m\u001b[43moptimizer\u001b[49m\u001b[43m,\u001b[49m\u001b[43m \u001b[49m\u001b[43mcalculating_accuracy\u001b[49m\u001b[38;5;241;43m=\u001b[39;49m\u001b[43mcalculating_accuracy\u001b[49m\u001b[43m)\u001b[49m\n\u001b[0;32m     19\u001b[0m     losses_train_all_epochs\u001b[38;5;241m.\u001b[39mappend(losses_train)\n\u001b[0;32m     20\u001b[0m     accuracies_train_all_epochs\u001b[38;5;241m.\u001b[39mappend(accuracies_epoch)\n",
      "Cell \u001b[1;32mIn[26], line 17\u001b[0m, in \u001b[0;36mtrain_loop_original\u001b[1;34m(dataloader, model, loss_fn, optimizer, calculating_accuracy)\u001b[0m\n\u001b[0;32m     14\u001b[0m y \u001b[38;5;241m=\u001b[39m y\u001b[38;5;241m.\u001b[39mto(device, non_blocking\u001b[38;5;241m=\u001b[39m\u001b[38;5;28;01mTrue\u001b[39;00m)\n\u001b[0;32m     16\u001b[0m \u001b[38;5;66;03m# Compute prediction and loss (forward pass)\u001b[39;00m\n\u001b[1;32m---> 17\u001b[0m pred \u001b[38;5;241m=\u001b[39m \u001b[43mmodel\u001b[49m\u001b[43m(\u001b[49m\u001b[43mX\u001b[49m\u001b[43m)\u001b[49m\n\u001b[0;32m     18\u001b[0m loss \u001b[38;5;241m=\u001b[39m loss_fn(pred, y)\n\u001b[0;32m     20\u001b[0m \u001b[38;5;66;03m# Backpropagation (backward pass)\u001b[39;00m\n",
      "File \u001b[1;32m~\\anaconda3\\lib\\site-packages\\torch\\nn\\modules\\module.py:1511\u001b[0m, in \u001b[0;36mModule._wrapped_call_impl\u001b[1;34m(self, *args, **kwargs)\u001b[0m\n\u001b[0;32m   1509\u001b[0m     \u001b[38;5;28;01mreturn\u001b[39;00m \u001b[38;5;28mself\u001b[39m\u001b[38;5;241m.\u001b[39m_compiled_call_impl(\u001b[38;5;241m*\u001b[39margs, \u001b[38;5;241m*\u001b[39m\u001b[38;5;241m*\u001b[39mkwargs)  \u001b[38;5;66;03m# type: ignore[misc]\u001b[39;00m\n\u001b[0;32m   1510\u001b[0m \u001b[38;5;28;01melse\u001b[39;00m:\n\u001b[1;32m-> 1511\u001b[0m     \u001b[38;5;28;01mreturn\u001b[39;00m \u001b[38;5;28mself\u001b[39m\u001b[38;5;241m.\u001b[39m_call_impl(\u001b[38;5;241m*\u001b[39margs, \u001b[38;5;241m*\u001b[39m\u001b[38;5;241m*\u001b[39mkwargs)\n",
      "File \u001b[1;32m~\\anaconda3\\lib\\site-packages\\torch\\nn\\modules\\module.py:1520\u001b[0m, in \u001b[0;36mModule._call_impl\u001b[1;34m(self, *args, **kwargs)\u001b[0m\n\u001b[0;32m   1515\u001b[0m \u001b[38;5;66;03m# If we don't have any hooks, we want to skip the rest of the logic in\u001b[39;00m\n\u001b[0;32m   1516\u001b[0m \u001b[38;5;66;03m# this function, and just call forward.\u001b[39;00m\n\u001b[0;32m   1517\u001b[0m \u001b[38;5;28;01mif\u001b[39;00m \u001b[38;5;129;01mnot\u001b[39;00m (\u001b[38;5;28mself\u001b[39m\u001b[38;5;241m.\u001b[39m_backward_hooks \u001b[38;5;129;01mor\u001b[39;00m \u001b[38;5;28mself\u001b[39m\u001b[38;5;241m.\u001b[39m_backward_pre_hooks \u001b[38;5;129;01mor\u001b[39;00m \u001b[38;5;28mself\u001b[39m\u001b[38;5;241m.\u001b[39m_forward_hooks \u001b[38;5;129;01mor\u001b[39;00m \u001b[38;5;28mself\u001b[39m\u001b[38;5;241m.\u001b[39m_forward_pre_hooks\n\u001b[0;32m   1518\u001b[0m         \u001b[38;5;129;01mor\u001b[39;00m _global_backward_pre_hooks \u001b[38;5;129;01mor\u001b[39;00m _global_backward_hooks\n\u001b[0;32m   1519\u001b[0m         \u001b[38;5;129;01mor\u001b[39;00m _global_forward_hooks \u001b[38;5;129;01mor\u001b[39;00m _global_forward_pre_hooks):\n\u001b[1;32m-> 1520\u001b[0m     \u001b[38;5;28;01mreturn\u001b[39;00m forward_call(\u001b[38;5;241m*\u001b[39margs, \u001b[38;5;241m*\u001b[39m\u001b[38;5;241m*\u001b[39mkwargs)\n\u001b[0;32m   1522\u001b[0m \u001b[38;5;28;01mtry\u001b[39;00m:\n\u001b[0;32m   1523\u001b[0m     result \u001b[38;5;241m=\u001b[39m \u001b[38;5;28;01mNone\u001b[39;00m\n",
      "File \u001b[1;32m~\\AppData\\Roaming\\Python\\Python310\\site-packages\\torchvision\\models\\resnet.py:285\u001b[0m, in \u001b[0;36mResNet.forward\u001b[1;34m(self, x)\u001b[0m\n\u001b[0;32m    284\u001b[0m \u001b[38;5;28;01mdef\u001b[39;00m \u001b[38;5;21mforward\u001b[39m(\u001b[38;5;28mself\u001b[39m, x: Tensor) \u001b[38;5;241m-\u001b[39m\u001b[38;5;241m>\u001b[39m Tensor:\n\u001b[1;32m--> 285\u001b[0m     \u001b[38;5;28;01mreturn\u001b[39;00m \u001b[38;5;28;43mself\u001b[39;49m\u001b[38;5;241;43m.\u001b[39;49m\u001b[43m_forward_impl\u001b[49m\u001b[43m(\u001b[49m\u001b[43mx\u001b[49m\u001b[43m)\u001b[49m\n",
      "File \u001b[1;32m~\\AppData\\Roaming\\Python\\Python310\\site-packages\\torchvision\\models\\resnet.py:268\u001b[0m, in \u001b[0;36mResNet._forward_impl\u001b[1;34m(self, x)\u001b[0m\n\u001b[0;32m    266\u001b[0m \u001b[38;5;28;01mdef\u001b[39;00m \u001b[38;5;21m_forward_impl\u001b[39m(\u001b[38;5;28mself\u001b[39m, x: Tensor) \u001b[38;5;241m-\u001b[39m\u001b[38;5;241m>\u001b[39m Tensor:\n\u001b[0;32m    267\u001b[0m     \u001b[38;5;66;03m# See note [TorchScript super()]\u001b[39;00m\n\u001b[1;32m--> 268\u001b[0m     x \u001b[38;5;241m=\u001b[39m \u001b[38;5;28;43mself\u001b[39;49m\u001b[38;5;241;43m.\u001b[39;49m\u001b[43mconv1\u001b[49m\u001b[43m(\u001b[49m\u001b[43mx\u001b[49m\u001b[43m)\u001b[49m\n\u001b[0;32m    269\u001b[0m     x \u001b[38;5;241m=\u001b[39m \u001b[38;5;28mself\u001b[39m\u001b[38;5;241m.\u001b[39mbn1(x)\n\u001b[0;32m    270\u001b[0m     x \u001b[38;5;241m=\u001b[39m \u001b[38;5;28mself\u001b[39m\u001b[38;5;241m.\u001b[39mrelu(x)\n",
      "File \u001b[1;32m~\\anaconda3\\lib\\site-packages\\torch\\nn\\modules\\module.py:1511\u001b[0m, in \u001b[0;36mModule._wrapped_call_impl\u001b[1;34m(self, *args, **kwargs)\u001b[0m\n\u001b[0;32m   1509\u001b[0m     \u001b[38;5;28;01mreturn\u001b[39;00m \u001b[38;5;28mself\u001b[39m\u001b[38;5;241m.\u001b[39m_compiled_call_impl(\u001b[38;5;241m*\u001b[39margs, \u001b[38;5;241m*\u001b[39m\u001b[38;5;241m*\u001b[39mkwargs)  \u001b[38;5;66;03m# type: ignore[misc]\u001b[39;00m\n\u001b[0;32m   1510\u001b[0m \u001b[38;5;28;01melse\u001b[39;00m:\n\u001b[1;32m-> 1511\u001b[0m     \u001b[38;5;28;01mreturn\u001b[39;00m \u001b[38;5;28mself\u001b[39m\u001b[38;5;241m.\u001b[39m_call_impl(\u001b[38;5;241m*\u001b[39margs, \u001b[38;5;241m*\u001b[39m\u001b[38;5;241m*\u001b[39mkwargs)\n",
      "File \u001b[1;32m~\\anaconda3\\lib\\site-packages\\torch\\nn\\modules\\module.py:1520\u001b[0m, in \u001b[0;36mModule._call_impl\u001b[1;34m(self, *args, **kwargs)\u001b[0m\n\u001b[0;32m   1515\u001b[0m \u001b[38;5;66;03m# If we don't have any hooks, we want to skip the rest of the logic in\u001b[39;00m\n\u001b[0;32m   1516\u001b[0m \u001b[38;5;66;03m# this function, and just call forward.\u001b[39;00m\n\u001b[0;32m   1517\u001b[0m \u001b[38;5;28;01mif\u001b[39;00m \u001b[38;5;129;01mnot\u001b[39;00m (\u001b[38;5;28mself\u001b[39m\u001b[38;5;241m.\u001b[39m_backward_hooks \u001b[38;5;129;01mor\u001b[39;00m \u001b[38;5;28mself\u001b[39m\u001b[38;5;241m.\u001b[39m_backward_pre_hooks \u001b[38;5;129;01mor\u001b[39;00m \u001b[38;5;28mself\u001b[39m\u001b[38;5;241m.\u001b[39m_forward_hooks \u001b[38;5;129;01mor\u001b[39;00m \u001b[38;5;28mself\u001b[39m\u001b[38;5;241m.\u001b[39m_forward_pre_hooks\n\u001b[0;32m   1518\u001b[0m         \u001b[38;5;129;01mor\u001b[39;00m _global_backward_pre_hooks \u001b[38;5;129;01mor\u001b[39;00m _global_backward_hooks\n\u001b[0;32m   1519\u001b[0m         \u001b[38;5;129;01mor\u001b[39;00m _global_forward_hooks \u001b[38;5;129;01mor\u001b[39;00m _global_forward_pre_hooks):\n\u001b[1;32m-> 1520\u001b[0m     \u001b[38;5;28;01mreturn\u001b[39;00m forward_call(\u001b[38;5;241m*\u001b[39margs, \u001b[38;5;241m*\u001b[39m\u001b[38;5;241m*\u001b[39mkwargs)\n\u001b[0;32m   1522\u001b[0m \u001b[38;5;28;01mtry\u001b[39;00m:\n\u001b[0;32m   1523\u001b[0m     result \u001b[38;5;241m=\u001b[39m \u001b[38;5;28;01mNone\u001b[39;00m\n",
      "File \u001b[1;32m~\\anaconda3\\lib\\site-packages\\torch\\nn\\modules\\conv.py:460\u001b[0m, in \u001b[0;36mConv2d.forward\u001b[1;34m(self, input)\u001b[0m\n\u001b[0;32m    459\u001b[0m \u001b[38;5;28;01mdef\u001b[39;00m \u001b[38;5;21mforward\u001b[39m(\u001b[38;5;28mself\u001b[39m, \u001b[38;5;28minput\u001b[39m: Tensor) \u001b[38;5;241m-\u001b[39m\u001b[38;5;241m>\u001b[39m Tensor:\n\u001b[1;32m--> 460\u001b[0m     \u001b[38;5;28;01mreturn\u001b[39;00m \u001b[38;5;28;43mself\u001b[39;49m\u001b[38;5;241;43m.\u001b[39;49m\u001b[43m_conv_forward\u001b[49m\u001b[43m(\u001b[49m\u001b[38;5;28;43minput\u001b[39;49m\u001b[43m,\u001b[49m\u001b[43m \u001b[49m\u001b[38;5;28;43mself\u001b[39;49m\u001b[38;5;241;43m.\u001b[39;49m\u001b[43mweight\u001b[49m\u001b[43m,\u001b[49m\u001b[43m \u001b[49m\u001b[38;5;28;43mself\u001b[39;49m\u001b[38;5;241;43m.\u001b[39;49m\u001b[43mbias\u001b[49m\u001b[43m)\u001b[49m\n",
      "File \u001b[1;32m~\\anaconda3\\lib\\site-packages\\torch\\nn\\modules\\conv.py:456\u001b[0m, in \u001b[0;36mConv2d._conv_forward\u001b[1;34m(self, input, weight, bias)\u001b[0m\n\u001b[0;32m    452\u001b[0m \u001b[38;5;28;01mif\u001b[39;00m \u001b[38;5;28mself\u001b[39m\u001b[38;5;241m.\u001b[39mpadding_mode \u001b[38;5;241m!=\u001b[39m \u001b[38;5;124m'\u001b[39m\u001b[38;5;124mzeros\u001b[39m\u001b[38;5;124m'\u001b[39m:\n\u001b[0;32m    453\u001b[0m     \u001b[38;5;28;01mreturn\u001b[39;00m F\u001b[38;5;241m.\u001b[39mconv2d(F\u001b[38;5;241m.\u001b[39mpad(\u001b[38;5;28minput\u001b[39m, \u001b[38;5;28mself\u001b[39m\u001b[38;5;241m.\u001b[39m_reversed_padding_repeated_twice, mode\u001b[38;5;241m=\u001b[39m\u001b[38;5;28mself\u001b[39m\u001b[38;5;241m.\u001b[39mpadding_mode),\n\u001b[0;32m    454\u001b[0m                     weight, bias, \u001b[38;5;28mself\u001b[39m\u001b[38;5;241m.\u001b[39mstride,\n\u001b[0;32m    455\u001b[0m                     _pair(\u001b[38;5;241m0\u001b[39m), \u001b[38;5;28mself\u001b[39m\u001b[38;5;241m.\u001b[39mdilation, \u001b[38;5;28mself\u001b[39m\u001b[38;5;241m.\u001b[39mgroups)\n\u001b[1;32m--> 456\u001b[0m \u001b[38;5;28;01mreturn\u001b[39;00m \u001b[43mF\u001b[49m\u001b[38;5;241;43m.\u001b[39;49m\u001b[43mconv2d\u001b[49m\u001b[43m(\u001b[49m\u001b[38;5;28;43minput\u001b[39;49m\u001b[43m,\u001b[49m\u001b[43m \u001b[49m\u001b[43mweight\u001b[49m\u001b[43m,\u001b[49m\u001b[43m \u001b[49m\u001b[43mbias\u001b[49m\u001b[43m,\u001b[49m\u001b[43m \u001b[49m\u001b[38;5;28;43mself\u001b[39;49m\u001b[38;5;241;43m.\u001b[39;49m\u001b[43mstride\u001b[49m\u001b[43m,\u001b[49m\n\u001b[0;32m    457\u001b[0m \u001b[43m                \u001b[49m\u001b[38;5;28;43mself\u001b[39;49m\u001b[38;5;241;43m.\u001b[39;49m\u001b[43mpadding\u001b[49m\u001b[43m,\u001b[49m\u001b[43m \u001b[49m\u001b[38;5;28;43mself\u001b[39;49m\u001b[38;5;241;43m.\u001b[39;49m\u001b[43mdilation\u001b[49m\u001b[43m,\u001b[49m\u001b[43m \u001b[49m\u001b[38;5;28;43mself\u001b[39;49m\u001b[38;5;241;43m.\u001b[39;49m\u001b[43mgroups\u001b[49m\u001b[43m)\u001b[49m\n",
      "\u001b[1;31mRuntimeError\u001b[0m: Expected 3D (unbatched) or 4D (batched) input to conv2d, but got input of size: [64, 11]"
     ]
    }
   ],
   "source": [
    "#loss_function = nn.BCEWithLogitsLoss()\n",
    "loss_function = nn.CrossEntropyLoss()\n",
    "optimizer = torch.optim.SGD(model2.parameters(), lr=learning_rate)\n",
    "accuracies_train_all_epochs, accuracies_val_all_epochs, losses_train_all_epochs, losses_val_all_epochs = train(model2, NUM_EPOCHS, loss_function, optimizer, train_dataloader, val_dataloader)"
   ]
  },
  {
   "cell_type": "code",
   "execution_count": null,
   "id": "e5f3e744-bed8-4959-8920-dd399fa5a81c",
   "metadata": {
    "id": "e5f3e744-bed8-4959-8920-dd399fa5a81c"
   },
   "outputs": [],
   "source": [
    "# TESTING\n",
    "\n",
    "accuracy_test, loss_test = test_loop(dataloader_test, model2, loss_function, method=\"Test\")"
   ]
  },
  {
   "cell_type": "code",
   "execution_count": null,
   "id": "aa8316c8-9f1a-4a87-aaa5-ec903554488f",
   "metadata": {
    "id": "aa8316c8-9f1a-4a87-aaa5-ec903554488f"
   },
   "outputs": [],
   "source": [
    "# plots\n",
    "plot_accuracy(accuracies_train_all_epochs, accuracies_val_all_epochs)\n",
    "plot_loss(losses_train_all_epochs, losses_val_all_epochs)\n",
    "\n",
    "accuracy_test, loss_test = test_loop(dataloader_test, model2, loss_function, method=\"Test\")"
   ]
  },
  {
   "cell_type": "code",
   "execution_count": null,
   "id": "c978d58e-cdc1-488c-9d49-18148459864a",
   "metadata": {
    "id": "c978d58e-cdc1-488c-9d49-18148459864a"
   },
   "outputs": [],
   "source": []
  },
  {
   "cell_type": "code",
   "execution_count": null,
   "id": "427230f5-a979-4716-a2dc-541bf4088c77",
   "metadata": {
    "id": "427230f5-a979-4716-a2dc-541bf4088c77"
   },
   "outputs": [],
   "source": []
  },
  {
   "cell_type": "code",
   "execution_count": null,
   "id": "fd77e7bc-4c55-41d7-a8c9-461c2880cf54",
   "metadata": {
    "id": "fd77e7bc-4c55-41d7-a8c9-461c2880cf54"
   },
   "outputs": [],
   "source": []
  },
  {
   "cell_type": "code",
   "execution_count": null,
   "id": "7efee276-c012-4871-9121-2e438315a494",
   "metadata": {
    "id": "7efee276-c012-4871-9121-2e438315a494"
   },
   "outputs": [],
   "source": []
  },
  {
   "cell_type": "code",
   "execution_count": null,
   "id": "aa0caf5d-a3c0-4c97-93f3-3987224952fa",
   "metadata": {
    "id": "aa0caf5d-a3c0-4c97-93f3-3987224952fa"
   },
   "outputs": [],
   "source": []
  }
 ],
 "metadata": {
  "accelerator": "GPU",
  "colab": {
   "gpuType": "T4",
   "provenance": []
  },
  "kernelspec": {
   "display_name": "Python 3 (ipykernel)",
   "language": "python",
   "name": "python3"
  },
  "language_info": {
   "codemirror_mode": {
    "name": "ipython",
    "version": 3
   },
   "file_extension": ".py",
   "mimetype": "text/x-python",
   "name": "python",
   "nbconvert_exporter": "python",
   "pygments_lexer": "ipython3",
   "version": "3.10.13"
  }
 },
 "nbformat": 4,
 "nbformat_minor": 5
}
