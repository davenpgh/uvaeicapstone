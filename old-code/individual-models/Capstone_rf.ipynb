{
 "cells": [
  {
   "cell_type": "markdown",
   "id": "902b9892-3ff9-4538-8ef7-8f9eed5c1a90",
   "metadata": {},
   "source": [
    "## Unsupervised Learning"
   ]
  },
  {
   "cell_type": "code",
   "execution_count": 1,
   "id": "f7afe46e-61da-45c2-a982-3cf2dc808b2f",
   "metadata": {},
   "outputs": [],
   "source": [
    "import pandas as pd\n",
    "import numpy as np\n",
    "import seaborn as sns\n",
    "import matplotlib.pyplot as plt\n",
    "from sklearn import metrics\n",
    "from sklearn.cluster import KMeans\n",
    "from sklearn.cluster import AgglomerativeClustering\n",
    "import scipy.cluster.hierarchy as sch"
   ]
  },
  {
   "cell_type": "code",
   "execution_count": 23,
   "id": "20b71a57-8ef6-4e33-884b-60f2c9619f76",
   "metadata": {},
   "outputs": [],
   "source": [
    "df = pd.read_csv('data-scaled-agg.csv', index_col='County')"
   ]
  },
  {
   "cell_type": "code",
   "execution_count": 24,
   "id": "0d7b77ec-ce13-43c5-b5bc-e402615f13fe",
   "metadata": {},
   "outputs": [
    {
     "data": {
      "text/html": [
       "<div>\n",
       "<style scoped>\n",
       "    .dataframe tbody tr th:only-of-type {\n",
       "        vertical-align: middle;\n",
       "    }\n",
       "\n",
       "    .dataframe tbody tr th {\n",
       "        vertical-align: top;\n",
       "    }\n",
       "\n",
       "    .dataframe thead th {\n",
       "        text-align: right;\n",
       "    }\n",
       "</style>\n",
       "<table border=\"1\" class=\"dataframe\">\n",
       "  <thead>\n",
       "    <tr style=\"text-align: right;\">\n",
       "      <th></th>\n",
       "      <th>Income</th>\n",
       "      <th>DSCI</th>\n",
       "      <th>PQ1</th>\n",
       "      <th>PQ2</th>\n",
       "      <th>PQ3</th>\n",
       "      <th>PQ4</th>\n",
       "      <th>TQ1</th>\n",
       "      <th>TQ2</th>\n",
       "      <th>TQ3</th>\n",
       "      <th>TQ4</th>\n",
       "      <th>Forest</th>\n",
       "    </tr>\n",
       "    <tr>\n",
       "      <th>County</th>\n",
       "      <th></th>\n",
       "      <th></th>\n",
       "      <th></th>\n",
       "      <th></th>\n",
       "      <th></th>\n",
       "      <th></th>\n",
       "      <th></th>\n",
       "      <th></th>\n",
       "      <th></th>\n",
       "      <th></th>\n",
       "      <th></th>\n",
       "    </tr>\n",
       "  </thead>\n",
       "  <tbody>\n",
       "    <tr>\n",
       "      <th>51001</th>\n",
       "      <td>0.075854</td>\n",
       "      <td>0.148920</td>\n",
       "      <td>0.319901</td>\n",
       "      <td>0.435870</td>\n",
       "      <td>0.410805</td>\n",
       "      <td>0.412876</td>\n",
       "      <td>0.398849</td>\n",
       "      <td>0.223717</td>\n",
       "      <td>0.178736</td>\n",
       "      <td>0.296552</td>\n",
       "      <td>0.064338</td>\n",
       "    </tr>\n",
       "    <tr>\n",
       "      <th>51003</th>\n",
       "      <td>0.108095</td>\n",
       "      <td>0.182011</td>\n",
       "      <td>0.281478</td>\n",
       "      <td>0.361577</td>\n",
       "      <td>0.330150</td>\n",
       "      <td>0.398268</td>\n",
       "      <td>0.652957</td>\n",
       "      <td>0.669414</td>\n",
       "      <td>0.672845</td>\n",
       "      <td>0.580575</td>\n",
       "      <td>0.679813</td>\n",
       "    </tr>\n",
       "    <tr>\n",
       "      <th>51005</th>\n",
       "      <td>0.187226</td>\n",
       "      <td>0.147870</td>\n",
       "      <td>0.208440</td>\n",
       "      <td>0.382735</td>\n",
       "      <td>0.309672</td>\n",
       "      <td>0.361536</td>\n",
       "      <td>0.590581</td>\n",
       "      <td>0.651482</td>\n",
       "      <td>0.660489</td>\n",
       "      <td>0.531379</td>\n",
       "      <td>0.897165</td>\n",
       "    </tr>\n",
       "    <tr>\n",
       "      <th>51007</th>\n",
       "      <td>0.157467</td>\n",
       "      <td>0.144258</td>\n",
       "      <td>0.319836</td>\n",
       "      <td>0.347694</td>\n",
       "      <td>0.488828</td>\n",
       "      <td>0.370654</td>\n",
       "      <td>0.753323</td>\n",
       "      <td>0.808243</td>\n",
       "      <td>0.809483</td>\n",
       "      <td>0.716207</td>\n",
       "      <td>0.651586</td>\n",
       "    </tr>\n",
       "    <tr>\n",
       "      <th>51009</th>\n",
       "      <td>0.184217</td>\n",
       "      <td>0.145333</td>\n",
       "      <td>0.205452</td>\n",
       "      <td>0.416978</td>\n",
       "      <td>0.325681</td>\n",
       "      <td>0.367647</td>\n",
       "      <td>0.499006</td>\n",
       "      <td>0.525380</td>\n",
       "      <td>0.539368</td>\n",
       "      <td>0.463678</td>\n",
       "      <td>0.770831</td>\n",
       "    </tr>\n",
       "    <tr>\n",
       "      <th>...</th>\n",
       "      <td>...</td>\n",
       "      <td>...</td>\n",
       "      <td>...</td>\n",
       "      <td>...</td>\n",
       "      <td>...</td>\n",
       "      <td>...</td>\n",
       "      <td>...</td>\n",
       "      <td>...</td>\n",
       "      <td>...</td>\n",
       "      <td>...</td>\n",
       "      <td>...</td>\n",
       "    </tr>\n",
       "    <tr>\n",
       "      <th>51185</th>\n",
       "      <td>0.116529</td>\n",
       "      <td>0.144941</td>\n",
       "      <td>0.234319</td>\n",
       "      <td>0.346290</td>\n",
       "      <td>0.323538</td>\n",
       "      <td>0.330327</td>\n",
       "      <td>0.489482</td>\n",
       "      <td>0.442805</td>\n",
       "      <td>0.407040</td>\n",
       "      <td>0.404943</td>\n",
       "      <td>0.689147</td>\n",
       "    </tr>\n",
       "    <tr>\n",
       "      <th>51193</th>\n",
       "      <td>0.258949</td>\n",
       "      <td>0.131812</td>\n",
       "      <td>0.228013</td>\n",
       "      <td>0.338631</td>\n",
       "      <td>0.349740</td>\n",
       "      <td>0.407190</td>\n",
       "      <td>0.622397</td>\n",
       "      <td>0.713955</td>\n",
       "      <td>0.782040</td>\n",
       "      <td>0.648621</td>\n",
       "      <td>0.437404</td>\n",
       "    </tr>\n",
       "    <tr>\n",
       "      <th>51195</th>\n",
       "      <td>0.155507</td>\n",
       "      <td>0.156524</td>\n",
       "      <td>0.268670</td>\n",
       "      <td>0.338216</td>\n",
       "      <td>0.365901</td>\n",
       "      <td>0.380425</td>\n",
       "      <td>0.704343</td>\n",
       "      <td>0.766016</td>\n",
       "      <td>0.776580</td>\n",
       "      <td>0.659425</td>\n",
       "      <td>0.753340</td>\n",
       "    </tr>\n",
       "    <tr>\n",
       "      <th>51197</th>\n",
       "      <td>0.146351</td>\n",
       "      <td>0.138240</td>\n",
       "      <td>0.242365</td>\n",
       "      <td>0.352577</td>\n",
       "      <td>0.328375</td>\n",
       "      <td>0.316046</td>\n",
       "      <td>0.490215</td>\n",
       "      <td>0.425307</td>\n",
       "      <td>0.388793</td>\n",
       "      <td>0.394943</td>\n",
       "      <td>0.538871</td>\n",
       "    </tr>\n",
       "    <tr>\n",
       "      <th>51199</th>\n",
       "      <td>0.181789</td>\n",
       "      <td>0.134066</td>\n",
       "      <td>0.197701</td>\n",
       "      <td>0.352066</td>\n",
       "      <td>0.339516</td>\n",
       "      <td>0.402418</td>\n",
       "      <td>0.615803</td>\n",
       "      <td>0.712220</td>\n",
       "      <td>0.778448</td>\n",
       "      <td>0.631034</td>\n",
       "      <td>0.426107</td>\n",
       "    </tr>\n",
       "  </tbody>\n",
       "</table>\n",
       "<p>90 rows × 11 columns</p>\n",
       "</div>"
      ],
      "text/plain": [
       "          Income      DSCI       PQ1       PQ2       PQ3       PQ4       TQ1  \\\n",
       "County                                                                         \n",
       "51001   0.075854  0.148920  0.319901  0.435870  0.410805  0.412876  0.398849   \n",
       "51003   0.108095  0.182011  0.281478  0.361577  0.330150  0.398268  0.652957   \n",
       "51005   0.187226  0.147870  0.208440  0.382735  0.309672  0.361536  0.590581   \n",
       "51007   0.157467  0.144258  0.319836  0.347694  0.488828  0.370654  0.753323   \n",
       "51009   0.184217  0.145333  0.205452  0.416978  0.325681  0.367647  0.499006   \n",
       "...          ...       ...       ...       ...       ...       ...       ...   \n",
       "51185   0.116529  0.144941  0.234319  0.346290  0.323538  0.330327  0.489482   \n",
       "51193   0.258949  0.131812  0.228013  0.338631  0.349740  0.407190  0.622397   \n",
       "51195   0.155507  0.156524  0.268670  0.338216  0.365901  0.380425  0.704343   \n",
       "51197   0.146351  0.138240  0.242365  0.352577  0.328375  0.316046  0.490215   \n",
       "51199   0.181789  0.134066  0.197701  0.352066  0.339516  0.402418  0.615803   \n",
       "\n",
       "             TQ2       TQ3       TQ4    Forest  \n",
       "County                                          \n",
       "51001   0.223717  0.178736  0.296552  0.064338  \n",
       "51003   0.669414  0.672845  0.580575  0.679813  \n",
       "51005   0.651482  0.660489  0.531379  0.897165  \n",
       "51007   0.808243  0.809483  0.716207  0.651586  \n",
       "51009   0.525380  0.539368  0.463678  0.770831  \n",
       "...          ...       ...       ...       ...  \n",
       "51185   0.442805  0.407040  0.404943  0.689147  \n",
       "51193   0.713955  0.782040  0.648621  0.437404  \n",
       "51195   0.766016  0.776580  0.659425  0.753340  \n",
       "51197   0.425307  0.388793  0.394943  0.538871  \n",
       "51199   0.712220  0.778448  0.631034  0.426107  \n",
       "\n",
       "[90 rows x 11 columns]"
      ]
     },
     "execution_count": 24,
     "metadata": {},
     "output_type": "execute_result"
    }
   ],
   "source": [
    "df"
   ]
  },
  {
   "cell_type": "code",
   "execution_count": 25,
   "id": "36e5d515-1c45-41c4-a1a3-4606e22f1396",
   "metadata": {},
   "outputs": [
    {
     "name": "stderr",
     "output_type": "stream",
     "text": [
      "C:\\Users\\daven\\anaconda3\\lib\\site-packages\\sklearn\\cluster\\_kmeans.py:1382: UserWarning: KMeans is known to have a memory leak on Windows with MKL, when there are less chunks than available threads. You can avoid it by setting the environment variable OMP_NUM_THREADS=1.\n",
      "  warnings.warn(\n",
      "C:\\Users\\daven\\anaconda3\\lib\\site-packages\\sklearn\\cluster\\_kmeans.py:1382: UserWarning: KMeans is known to have a memory leak on Windows with MKL, when there are less chunks than available threads. You can avoid it by setting the environment variable OMP_NUM_THREADS=1.\n",
      "  warnings.warn(\n",
      "C:\\Users\\daven\\anaconda3\\lib\\site-packages\\sklearn\\cluster\\_kmeans.py:1382: UserWarning: KMeans is known to have a memory leak on Windows with MKL, when there are less chunks than available threads. You can avoid it by setting the environment variable OMP_NUM_THREADS=1.\n",
      "  warnings.warn(\n",
      "C:\\Users\\daven\\anaconda3\\lib\\site-packages\\sklearn\\cluster\\_kmeans.py:1382: UserWarning: KMeans is known to have a memory leak on Windows with MKL, when there are less chunks than available threads. You can avoid it by setting the environment variable OMP_NUM_THREADS=1.\n",
      "  warnings.warn(\n",
      "C:\\Users\\daven\\anaconda3\\lib\\site-packages\\sklearn\\cluster\\_kmeans.py:1382: UserWarning: KMeans is known to have a memory leak on Windows with MKL, when there are less chunks than available threads. You can avoid it by setting the environment variable OMP_NUM_THREADS=1.\n",
      "  warnings.warn(\n",
      "C:\\Users\\daven\\anaconda3\\lib\\site-packages\\sklearn\\cluster\\_kmeans.py:1382: UserWarning: KMeans is known to have a memory leak on Windows with MKL, when there are less chunks than available threads. You can avoid it by setting the environment variable OMP_NUM_THREADS=1.\n",
      "  warnings.warn(\n",
      "C:\\Users\\daven\\anaconda3\\lib\\site-packages\\sklearn\\cluster\\_kmeans.py:1382: UserWarning: KMeans is known to have a memory leak on Windows with MKL, when there are less chunks than available threads. You can avoid it by setting the environment variable OMP_NUM_THREADS=1.\n",
      "  warnings.warn(\n",
      "C:\\Users\\daven\\anaconda3\\lib\\site-packages\\sklearn\\cluster\\_kmeans.py:1382: UserWarning: KMeans is known to have a memory leak on Windows with MKL, when there are less chunks than available threads. You can avoid it by setting the environment variable OMP_NUM_THREADS=1.\n",
      "  warnings.warn(\n",
      "C:\\Users\\daven\\anaconda3\\lib\\site-packages\\sklearn\\cluster\\_kmeans.py:1382: UserWarning: KMeans is known to have a memory leak on Windows with MKL, when there are less chunks than available threads. You can avoid it by setting the environment variable OMP_NUM_THREADS=1.\n",
      "  warnings.warn(\n"
     ]
    }
   ],
   "source": [
    "#try diff # of clusters\n",
    "k_rng = range(1, 10)\n",
    "sse = []\n",
    "\n",
    "for k in k_rng:\n",
    "    km = KMeans(n_clusters=k, n_init=10)\n",
    "    km.fit(df[['Income','DSCI','PQ1','PQ2','PQ3','PQ4','TQ1','TQ2','TQ3','TQ4','Forest']])\n",
    "    sse.append(km.inertia_)"
   ]
  },
  {
   "cell_type": "code",
   "execution_count": 26,
   "id": "357ef045-bf78-4e0a-bf3b-2bc90017095d",
   "metadata": {},
   "outputs": [
    {
     "data": {
      "text/plain": [
       "[<matplotlib.lines.Line2D at 0x254029a5b10>]"
      ]
     },
     "execution_count": 26,
     "metadata": {},
     "output_type": "execute_result"
    },
    {
     "data": {
      "image/png": "[encoded data removed]",
      "text/plain": [
       "<Figure size 640x480 with 1 Axes>"
      ]
     },
     "metadata": {},
     "output_type": "display_data"
    }
   ],
   "source": [
    "#look for elbow points\n",
    "plt.xlabel('K')\n",
    "plt.ylabel('Sum of squared error')\n",
    "plt.plot(k_rng, sse)"
   ]
  },
  {
   "cell_type": "code",
   "execution_count": 27,
   "id": "8037167d-169d-457a-986f-c9bff63668d9",
   "metadata": {},
   "outputs": [],
   "source": [
    "#create 6 clusters\n",
    "hc = AgglomerativeClustering(n_clusters=6, affinity = 'euclidean', linkage = 'ward')"
   ]
  },
  {
   "cell_type": "code",
   "execution_count": 28,
   "id": "c6eb3b10-3042-4848-96d3-8c65fc56fd23",
   "metadata": {},
   "outputs": [
    {
     "name": "stderr",
     "output_type": "stream",
     "text": [
      "C:\\Users\\daven\\anaconda3\\lib\\site-packages\\sklearn\\cluster\\_agglomerative.py:983: FutureWarning: Attribute `affinity` was deprecated in version 1.2 and will be removed in 1.4. Use `metric` instead\n",
      "  warnings.warn(\n"
     ]
    }
   ],
   "source": [
    "#assign each county a cluster\n",
    "y_hc = hc.fit_predict(df[['Income','DSCI','PQ1','PQ2','PQ3','PQ4','TQ1','TQ2','TQ3','TQ4','Forest']])\n",
    "df['cluster'] = y_hc\n",
    "df.sort_values(\"cluster\", inplace = True, ascending=True)\n",
    "\n",
    "#average input vars by cluster\n",
    "df_cluster = df.groupby('cluster').mean()"
   ]
  },
  {
   "cell_type": "code",
   "execution_count": 33,
   "id": "4cf6faed-8356-4b86-9433-9c2bc209df32",
   "metadata": {},
   "outputs": [
    {
     "data": {
      "text/html": [
       "<div>\n",
       "<style scoped>\n",
       "    .dataframe tbody tr th:only-of-type {\n",
       "        vertical-align: middle;\n",
       "    }\n",
       "\n",
       "    .dataframe tbody tr th {\n",
       "        vertical-align: top;\n",
       "    }\n",
       "\n",
       "    .dataframe thead th {\n",
       "        text-align: right;\n",
       "    }\n",
       "</style>\n",
       "<table border=\"1\" class=\"dataframe\">\n",
       "  <thead>\n",
       "    <tr style=\"text-align: right;\">\n",
       "      <th></th>\n",
       "      <th>Income</th>\n",
       "      <th>DSCI</th>\n",
       "      <th>PQ1</th>\n",
       "      <th>PQ2</th>\n",
       "      <th>PQ3</th>\n",
       "      <th>PQ4</th>\n",
       "      <th>TQ1</th>\n",
       "      <th>TQ2</th>\n",
       "      <th>TQ3</th>\n",
       "      <th>TQ4</th>\n",
       "      <th>Forest</th>\n",
       "    </tr>\n",
       "    <tr>\n",
       "      <th>cluster</th>\n",
       "      <th></th>\n",
       "      <th></th>\n",
       "      <th></th>\n",
       "      <th></th>\n",
       "      <th></th>\n",
       "      <th></th>\n",
       "      <th></th>\n",
       "      <th></th>\n",
       "      <th></th>\n",
       "      <th></th>\n",
       "      <th></th>\n",
       "    </tr>\n",
       "  </thead>\n",
       "  <tbody>\n",
       "    <tr>\n",
       "      <th>0</th>\n",
       "      <td>0.133383</td>\n",
       "      <td>0.128867</td>\n",
       "      <td>0.297380</td>\n",
       "      <td>0.392097</td>\n",
       "      <td>0.341883</td>\n",
       "      <td>0.362209</td>\n",
       "      <td>0.482646</td>\n",
       "      <td>0.436613</td>\n",
       "      <td>0.403200</td>\n",
       "      <td>0.400726</td>\n",
       "      <td>0.639814</td>\n",
       "    </tr>\n",
       "    <tr>\n",
       "      <th>1</th>\n",
       "      <td>0.502698</td>\n",
       "      <td>0.122869</td>\n",
       "      <td>0.174988</td>\n",
       "      <td>0.375223</td>\n",
       "      <td>0.303004</td>\n",
       "      <td>0.334988</td>\n",
       "      <td>0.492229</td>\n",
       "      <td>0.566486</td>\n",
       "      <td>0.612302</td>\n",
       "      <td>0.477270</td>\n",
       "      <td>0.724675</td>\n",
       "    </tr>\n",
       "    <tr>\n",
       "      <th>2</th>\n",
       "      <td>0.221829</td>\n",
       "      <td>0.149663</td>\n",
       "      <td>0.232138</td>\n",
       "      <td>0.386643</td>\n",
       "      <td>0.325803</td>\n",
       "      <td>0.380734</td>\n",
       "      <td>0.581783</td>\n",
       "      <td>0.623794</td>\n",
       "      <td>0.623487</td>\n",
       "      <td>0.524061</td>\n",
       "      <td>0.724302</td>\n",
       "    </tr>\n",
       "    <tr>\n",
       "      <th>3</th>\n",
       "      <td>0.125143</td>\n",
       "      <td>0.123845</td>\n",
       "      <td>0.322785</td>\n",
       "      <td>0.419901</td>\n",
       "      <td>0.348699</td>\n",
       "      <td>0.365582</td>\n",
       "      <td>0.391460</td>\n",
       "      <td>0.309270</td>\n",
       "      <td>0.267241</td>\n",
       "      <td>0.311678</td>\n",
       "      <td>0.167172</td>\n",
       "    </tr>\n",
       "    <tr>\n",
       "      <th>4</th>\n",
       "      <td>0.208644</td>\n",
       "      <td>0.149722</td>\n",
       "      <td>0.238781</td>\n",
       "      <td>0.357118</td>\n",
       "      <td>0.335440</td>\n",
       "      <td>0.385349</td>\n",
       "      <td>0.638863</td>\n",
       "      <td>0.707767</td>\n",
       "      <td>0.729640</td>\n",
       "      <td>0.603333</td>\n",
       "      <td>0.498675</td>\n",
       "    </tr>\n",
       "    <tr>\n",
       "      <th>5</th>\n",
       "      <td>0.221740</td>\n",
       "      <td>0.138939</td>\n",
       "      <td>0.293615</td>\n",
       "      <td>0.349280</td>\n",
       "      <td>0.407846</td>\n",
       "      <td>0.381528</td>\n",
       "      <td>0.713259</td>\n",
       "      <td>0.782529</td>\n",
       "      <td>0.812940</td>\n",
       "      <td>0.699504</td>\n",
       "      <td>0.637301</td>\n",
       "    </tr>\n",
       "  </tbody>\n",
       "</table>\n",
       "</div>"
      ],
      "text/plain": [
       "           Income      DSCI       PQ1       PQ2       PQ3       PQ4       TQ1  \\\n",
       "cluster                                                                         \n",
       "0        0.133383  0.128867  0.297380  0.392097  0.341883  0.362209  0.482646   \n",
       "1        0.502698  0.122869  0.174988  0.375223  0.303004  0.334988  0.492229   \n",
       "2        0.221829  0.149663  0.232138  0.386643  0.325803  0.380734  0.581783   \n",
       "3        0.125143  0.123845  0.322785  0.419901  0.348699  0.365582  0.391460   \n",
       "4        0.208644  0.149722  0.238781  0.357118  0.335440  0.385349  0.638863   \n",
       "5        0.221740  0.138939  0.293615  0.349280  0.407846  0.381528  0.713259   \n",
       "\n",
       "              TQ2       TQ3       TQ4    Forest  \n",
       "cluster                                          \n",
       "0        0.436613  0.403200  0.400726  0.639814  \n",
       "1        0.566486  0.612302  0.477270  0.724675  \n",
       "2        0.623794  0.623487  0.524061  0.724302  \n",
       "3        0.309270  0.267241  0.311678  0.167172  \n",
       "4        0.707767  0.729640  0.603333  0.498675  \n",
       "5        0.782529  0.812940  0.699504  0.637301  "
      ]
     },
     "execution_count": 33,
     "metadata": {},
     "output_type": "execute_result"
    }
   ],
   "source": [
    "df_cluster"
   ]
  },
  {
   "cell_type": "code",
   "execution_count": 29,
   "id": "be5d4fab-f420-4162-980c-bc162d2beaed",
   "metadata": {},
   "outputs": [
    {
     "data": {
      "text/plain": [
       "<Axes: ylabel='cluster'>"
      ]
     },
     "execution_count": 29,
     "metadata": {},
     "output_type": "execute_result"
    },
    {
     "data": {
      "image/png": "[encoded data removed]",
      "text/plain": [
       "<Figure size 800x600 with 2 Axes>"
      ]
     },
     "metadata": {},
     "output_type": "display_data"
    }
   ],
   "source": [
    "#heatmap of cluster characteristics\n",
    "plt.figure(figsize=(8,6))\n",
    "sns.heatmap(df_cluster, annot=True, cmap=\"Blues\", linewidths=.5)"
   ]
  },
  {
   "cell_type": "markdown",
   "id": "7d3ade00-f879-481e-bc66-7021a6305777",
   "metadata": {},
   "source": [
    "## Supervised Learning"
   ]
  },
  {
   "cell_type": "code",
   "execution_count": 34,
   "id": "40c1fb91-0bbe-49d6-b7c5-91325dc72e21",
   "metadata": {},
   "outputs": [],
   "source": [
    "import numpy as np\n",
    "import pandas as pd\n",
    "import matplotlib.pyplot as plt\n",
    "plt.rcParams['figure.figsize'] = (9, 6)\n",
    "from sklearn.ensemble import RandomForestClassifier\n",
    "from sklearn.model_selection import train_test_split"
   ]
  },
  {
   "cell_type": "code",
   "execution_count": 38,
   "id": "8028d431-06e7-4688-af28-bad3a3f09d64",
   "metadata": {},
   "outputs": [],
   "source": [
    "#define input variables\n",
    "input_var = df[['Income','DSCI','PQ1','PQ2','PQ3','PQ4','TQ1','TQ2','TQ3','TQ4','Forest']]\n",
    "X = input_var\n",
    "\n",
    "y = df['cluster']"
   ]
  },
  {
   "cell_type": "code",
   "execution_count": 39,
   "id": "da3a83bf-3c78-42f7-8e9d-e61e46c6a5be",
   "metadata": {},
   "outputs": [],
   "source": [
    "#train test split (replace with specific columns)\n",
    "X_train, X_test, y_train, y_test = train_test_split(X, y, train_size=0.7, random_state=1)"
   ]
  },
  {
   "cell_type": "code",
   "execution_count": 41,
   "id": "a1c82ba0-d23f-479b-9a1d-958133b89b53",
   "metadata": {},
   "outputs": [
    {
     "data": {
      "text/html": [
       "<style>#sk-container-id-1 {color: black;background-color: white;}#sk-container-id-1 pre{padding: 0;}#sk-container-id-1 div.sk-toggleable {background-color: white;}#sk-container-id-1 label.sk-toggleable__label {cursor: pointer;display: block;width: 100%;margin-bottom: 0;padding: 0.3em;box-sizing: border-box;text-align: center;}#sk-container-id-1 label.sk-toggleable__label-arrow:before {content: \"▸\";float: left;margin-right: 0.25em;color: #696969;}#sk-container-id-1 label.sk-toggleable__label-arrow:hover:before {color: black;}#sk-container-id-1 div.sk-estimator:hover label.sk-toggleable__label-arrow:before {color: black;}#sk-container-id-1 div.sk-toggleable__content {max-height: 0;max-width: 0;overflow: hidden;text-align: left;background-color: #f0f8ff;}#sk-container-id-1 div.sk-toggleable__content pre {margin: 0.2em;color: black;border-radius: 0.25em;background-color: #f0f8ff;}#sk-container-id-1 input.sk-toggleable__control:checked~div.sk-toggleable__content {max-height: 200px;max-width: 100%;overflow: auto;}#sk-container-id-1 input.sk-toggleable__control:checked~label.sk-toggleable__label-arrow:before {content: \"▾\";}#sk-container-id-1 div.sk-estimator input.sk-toggleable__control:checked~label.sk-toggleable__label {background-color: #d4ebff;}#sk-container-id-1 div.sk-label input.sk-toggleable__control:checked~label.sk-toggleable__label {background-color: #d4ebff;}#sk-container-id-1 input.sk-hidden--visually {border: 0;clip: rect(1px 1px 1px 1px);clip: rect(1px, 1px, 1px, 1px);height: 1px;margin: -1px;overflow: hidden;padding: 0;position: absolute;width: 1px;}#sk-container-id-1 div.sk-estimator {font-family: monospace;background-color: #f0f8ff;border: 1px dotted black;border-radius: 0.25em;box-sizing: border-box;margin-bottom: 0.5em;}#sk-container-id-1 div.sk-estimator:hover {background-color: #d4ebff;}#sk-container-id-1 div.sk-parallel-item::after {content: \"\";width: 100%;border-bottom: 1px solid gray;flex-grow: 1;}#sk-container-id-1 div.sk-label:hover label.sk-toggleable__label {background-color: #d4ebff;}#sk-container-id-1 div.sk-serial::before {content: \"\";position: absolute;border-left: 1px solid gray;box-sizing: border-box;top: 0;bottom: 0;left: 50%;z-index: 0;}#sk-container-id-1 div.sk-serial {display: flex;flex-direction: column;align-items: center;background-color: white;padding-right: 0.2em;padding-left: 0.2em;position: relative;}#sk-container-id-1 div.sk-item {position: relative;z-index: 1;}#sk-container-id-1 div.sk-parallel {display: flex;align-items: stretch;justify-content: center;background-color: white;position: relative;}#sk-container-id-1 div.sk-item::before, #sk-container-id-1 div.sk-parallel-item::before {content: \"\";position: absolute;border-left: 1px solid gray;box-sizing: border-box;top: 0;bottom: 0;left: 50%;z-index: -1;}#sk-container-id-1 div.sk-parallel-item {display: flex;flex-direction: column;z-index: 1;position: relative;background-color: white;}#sk-container-id-1 div.sk-parallel-item:first-child::after {align-self: flex-end;width: 50%;}#sk-container-id-1 div.sk-parallel-item:last-child::after {align-self: flex-start;width: 50%;}#sk-container-id-1 div.sk-parallel-item:only-child::after {width: 0;}#sk-container-id-1 div.sk-dashed-wrapped {border: 1px dashed gray;margin: 0 0.4em 0.5em 0.4em;box-sizing: border-box;padding-bottom: 0.4em;background-color: white;}#sk-container-id-1 div.sk-label label {font-family: monospace;font-weight: bold;display: inline-block;line-height: 1.2em;}#sk-container-id-1 div.sk-label-container {text-align: center;}#sk-container-id-1 div.sk-container {/* jupyter's `normalize.less` sets `[hidden] { display: none; }` but bootstrap.min.css set `[hidden] { display: none !important; }` so we also need the `!important` here to be able to override the default hidden behavior on the sphinx rendered scikit-learn.org. See: https://github.com/scikit-learn/scikit-learn/issues/21755 */display: inline-block !important;position: relative;}#sk-container-id-1 div.sk-text-repr-fallback {display: none;}</style><div id=\"sk-container-id-1\" class=\"sk-top-container\"><div class=\"sk-text-repr-fallback\"><pre>RandomForestClassifier()</pre><b>In a Jupyter environment, please rerun this cell to show the HTML representation or trust the notebook. <br />On GitHub, the HTML representation is unable to render, please try loading this page with nbviewer.org.</b></div><div class=\"sk-container\" hidden><div class=\"sk-item\"><div class=\"sk-estimator sk-toggleable\"><input class=\"sk-toggleable__control sk-hidden--visually\" id=\"sk-estimator-id-1\" type=\"checkbox\" checked><label for=\"sk-estimator-id-1\" class=\"sk-toggleable__label sk-toggleable__label-arrow\">RandomForestClassifier</label><div class=\"sk-toggleable__content\"><pre>RandomForestClassifier()</pre></div></div></div></div></div>"
      ],
      "text/plain": [
       "RandomForestClassifier()"
      ]
     },
     "execution_count": 41,
     "metadata": {},
     "output_type": "execute_result"
    }
   ],
   "source": [
    "#create rf model (w 100 trees)\n",
    "rf = RandomForestClassifier(n_estimators=100)\n",
    "\n",
    "#fit model with training data\n",
    "rf.fit(X_train, y_train)"
   ]
  },
  {
   "cell_type": "code",
   "execution_count": 47,
   "id": "c0061dd0-d964-4951-98d5-aa9dc4e04879",
   "metadata": {},
   "outputs": [
    {
     "data": {
      "text/plain": [
       "Index([51153, 51179, 51125, 51181, 51079, 51195, 51095, 51159, 51115, 51161,\n",
       "       51031, 51005, 51199, 51025, 51075, 51081, 51023, 51041, 51121, 51087,\n",
       "       51175, 51197, 51127, 51103, 51017, 51009, 51107, 51069],\n",
       "      dtype='int64', name='County')"
      ]
     },
     "execution_count": 47,
     "metadata": {},
     "output_type": "execute_result"
    }
   ],
   "source": [
    "y_test.index"
   ]
  },
  {
   "cell_type": "code",
   "execution_count": 50,
   "id": "3134a393-4ac0-4a76-8ba2-372d6161a5dc",
   "metadata": {},
   "outputs": [
    {
     "name": "stdout",
     "output_type": "stream",
     "text": [
      "4 4 51153\n",
      "5 5 51179\n",
      "2 2 51125\n",
      "4 4 51181\n",
      "5 5 51079\n",
      "5 5 51195\n",
      "4 4 51095\n",
      "4 4 51159\n",
      "3 3 51115\n",
      "2 2 51161\n",
      "2 2 51031\n",
      "2 2 51005\n",
      "4 4 51199\n",
      "1 1 51025\n",
      "2 2 51075\n",
      "4 4 51081\n",
      "0 0 51023\n",
      "0 0 51041\n",
      "5 5 51121\n",
      "5 4 51087\n",
      "4 4 51175\n",
      "0 0 51197\n",
      "5 5 51127\n",
      "2 2 51103\n",
      "5 2 51017\n",
      "2 2 51009\n",
      "0 3 51107\n",
      "4 4 51069\n"
     ]
    }
   ],
   "source": [
    "#make predictions\n",
    "y_pred = rf.predict(X_test)\n",
    "\n",
    "for pred_label, true_label, index in zip(y_pred, y_test, y_test.index):\n",
    "    print(pred_label, true_label, index)"
   ]
  },
  {
   "cell_type": "code",
   "execution_count": 51,
   "id": "b886c51b-db95-443f-bbb4-127a8795a3f1",
   "metadata": {},
   "outputs": [],
   "source": [
    "from sklearn.metrics import classification_report"
   ]
  },
  {
   "cell_type": "code",
   "execution_count": 51,
   "id": "de5da3de-6309-4bd4-b617-c058a78b37ec",
   "metadata": {},
   "outputs": [
    {
     "name": "stdout",
     "output_type": "stream",
     "text": [
      "              precision    recall  f1-score   support\n",
      "\n",
      "           0       0.75      1.00      0.86         3\n",
      "           1       1.00      1.00      1.00         1\n",
      "           2       1.00      0.88      0.93         8\n",
      "           3       1.00      0.50      0.67         2\n",
      "           4       1.00      0.89      0.94         9\n",
      "           5       0.71      1.00      0.83         5\n",
      "\n",
      "    accuracy                           0.89        28\n",
      "   macro avg       0.91      0.88      0.87        28\n",
      "weighted avg       0.92      0.89      0.89        28\n",
      "\n"
     ]
    }
   ],
   "source": [
    "#assess model performance\n",
    "cr = classification_report(y_test, y_pred)\n",
    "print(cr)"
   ]
  },
  {
   "cell_type": "code",
   "execution_count": 52,
   "id": "d8df67bd-bb01-4bc7-9448-3bf3cebaa39f",
   "metadata": {},
   "outputs": [
    {
     "name": "stdout",
     "output_type": "stream",
     "text": [
      "        importance\n",
      "Forest    0.164394\n",
      "TQ3       0.151453\n",
      "TQ4       0.120094\n",
      "TQ2       0.111543\n",
      "TQ1       0.099371\n",
      "Income    0.095108\n",
      "PQ1       0.092557\n",
      "PQ3       0.058449\n",
      "DSCI      0.046088\n",
      "PQ2       0.031797\n",
      "PQ4       0.029145\n"
     ]
    }
   ],
   "source": [
    "#feature importance\n",
    "feature_imp = pd.DataFrame(rf.feature_importances_,index= X_train.columns, columns=['importance']).sort_values('importance',ascending=False)\n",
    "print(feature_imp)"
   ]
  }
 ],
 "metadata": {
  "kernelspec": {
   "display_name": "Python 3 (ipykernel)",
   "language": "python",
   "name": "python3"
  },
  "language_info": {
   "codemirror_mode": {
    "name": "ipython",
    "version": 3
   },
   "file_extension": ".py",
   "mimetype": "text/x-python",
   "name": "python",
   "nbconvert_exporter": "python",
   "pygments_lexer": "ipython3",
   "version": "3.10.13"
  }
 },
 "nbformat": 4,
 "nbformat_minor": 5
}
