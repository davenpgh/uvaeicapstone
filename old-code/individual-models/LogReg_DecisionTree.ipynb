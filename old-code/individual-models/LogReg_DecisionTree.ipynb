{
  "cells": [
    {
      "cell_type": "markdown",
      "metadata": {
        "id": "view-in-github",
        "colab_type": "text"
      },
      "source": [
        "<a href=\"https://colab.research.google.com/github/hrnur/uvaeicapstone/blob/main/LogReg_DecisionTree.ipynb\" target=\"_parent\"><img src=\"https://colab.research.google.com/assets/colab-badge.svg\" alt=\"Open In Colab\"/></a>"
      ]
    },
    {
      "cell_type": "markdown",
      "id": "902b9892-3ff9-4538-8ef7-8f9eed5c1a90",
      "metadata": {
        "id": "902b9892-3ff9-4538-8ef7-8f9eed5c1a90"
      },
      "source": [
        "## Unsupervised Learning"
      ]
    },
    {
      "cell_type": "code",
      "execution_count": 2,
      "id": "f7afe46e-61da-45c2-a982-3cf2dc808b2f",
      "metadata": {
        "id": "f7afe46e-61da-45c2-a982-3cf2dc808b2f"
      },
      "outputs": [],
      "source": [
        "import pandas as pd\n",
        "import numpy as np\n",
        "import seaborn as sns\n",
        "import matplotlib.pyplot as plt\n",
        "from sklearn import metrics\n",
        "from sklearn.cluster import KMeans\n",
        "from sklearn.cluster import AgglomerativeClustering\n",
        "import scipy.cluster.hierarchy as sch"
      ]
    },
    {
      "cell_type": "code",
      "execution_count": 3,
      "id": "20b71a57-8ef6-4e33-884b-60f2c9619f76",
      "metadata": {
        "id": "20b71a57-8ef6-4e33-884b-60f2c9619f76"
      },
      "outputs": [],
      "source": [
        "df = pd.read_csv('data-scaled-agg.csv', index_col='County')"
      ]
    },
    {
      "cell_type": "code",
      "execution_count": 4,
      "id": "36e5d515-1c45-41c4-a1a3-4606e22f1396",
      "metadata": {
        "id": "36e5d515-1c45-41c4-a1a3-4606e22f1396"
      },
      "outputs": [],
      "source": [
        "#try diff # of clusters\n",
        "k_rng = range(1, 10)\n",
        "sse = []\n",
        "\n",
        "for k in k_rng:\n",
        "    km = KMeans(n_clusters=k, n_init=10)\n",
        "    km.fit(df[['Income','DSCI','PQ1','PQ2','PQ3','PQ4','TQ1','TQ2','TQ3','TQ4','Forest']])\n",
        "    sse.append(km.inertia_)"
      ]
    },
    {
      "cell_type": "code",
      "execution_count": 5,
      "id": "357ef045-bf78-4e0a-bf3b-2bc90017095d",
      "metadata": {
        "colab": {
          "base_uri": "https://localhost:8080/",
          "height": 466
        },
        "id": "357ef045-bf78-4e0a-bf3b-2bc90017095d",
        "outputId": "4e85dad3-6fc7-4d90-a122-77c6fb6c9b05"
      },
      "outputs": [
        {
          "output_type": "execute_result",
          "data": {
            "text/plain": [
              "[<matplotlib.lines.Line2D at 0x7a5731decca0>]"
            ]
          },
          "metadata": {},
          "execution_count": 5
        },
        {
          "output_type": "display_data",
          "data": {
            "text/plain": [
              "<Figure size 640x480 with 1 Axes>"
            ],
            "image/png": "[encoded data removed]"
          },
          "metadata": {}
        }
      ],
      "source": [
        "#look for elbow points\n",
        "plt.xlabel('K')\n",
        "plt.ylabel('Sum of squared error')\n",
        "plt.plot(k_rng, sse)"
      ]
    },
    {
      "cell_type": "code",
      "execution_count": 6,
      "id": "8037167d-169d-457a-986f-c9bff63668d9",
      "metadata": {
        "id": "8037167d-169d-457a-986f-c9bff63668d9"
      },
      "outputs": [],
      "source": [
        "#create 4 clusters\n",
        "hc = AgglomerativeClustering(n_clusters=4, affinity = 'euclidean', linkage = 'ward')"
      ]
    },
    {
      "cell_type": "code",
      "execution_count": 7,
      "id": "c6eb3b10-3042-4848-96d3-8c65fc56fd23",
      "metadata": {
        "colab": {
          "base_uri": "https://localhost:8080/"
        },
        "id": "c6eb3b10-3042-4848-96d3-8c65fc56fd23",
        "outputId": "a7ad51e1-cf7d-44ee-ae1a-bc21c23457ae"
      },
      "outputs": [
        {
          "output_type": "stream",
          "name": "stderr",
          "text": [
            "/usr/local/lib/python3.10/dist-packages/sklearn/cluster/_agglomerative.py:983: FutureWarning: Attribute `affinity` was deprecated in version 1.2 and will be removed in 1.4. Use `metric` instead\n",
            "  warnings.warn(\n",
            "<ipython-input-7-8f9cdfcf2ed6>:7: FutureWarning: The default value of numeric_only in DataFrameGroupBy.mean is deprecated. In a future version, numeric_only will default to False. Either specify numeric_only or select only columns which should be valid for the function.\n",
            "  df_cluster = df.groupby('cluster').mean()\n"
          ]
        }
      ],
      "source": [
        "#assign each county a cluster\n",
        "y_hc = hc.fit_predict(df[['Income','DSCI','PQ1','PQ2','PQ3','PQ4','TQ1','TQ2','TQ3','TQ4','Forest']])\n",
        "df['cluster'] = y_hc\n",
        "df.sort_values(\"cluster\", inplace = True, ascending=True)\n",
        "\n",
        "#average input vars by cluster\n",
        "df_cluster = df.groupby('cluster').mean()"
      ]
    },
    {
      "cell_type": "code",
      "execution_count": 11,
      "id": "be5d4fab-f420-4162-980c-bc162d2beaed",
      "metadata": {
        "colab": {
          "base_uri": "https://localhost:8080/",
          "height": 539
        },
        "id": "be5d4fab-f420-4162-980c-bc162d2beaed",
        "outputId": "2c70961e-2446-4912-e8ef-5cadf217eab9"
      },
      "outputs": [
        {
          "output_type": "execute_result",
          "data": {
            "text/plain": [
              "<Axes: ylabel='cluster'>"
            ]
          },
          "metadata": {},
          "execution_count": 11
        },
        {
          "output_type": "display_data",
          "data": {
            "text/plain": [
              "<Figure size 800x600 with 2 Axes>"
            ],
            "image/png": "[encoded data removed]"
          },
          "metadata": {}
        }
      ],
      "source": [
        "#heatmap of cluster characteristics\n",
        "plt.figure(figsize=(8,6))\n",
        "sns.heatmap(df_cluster, annot=True, cmap=\"Blues\", linewidths=.5)"
      ]
    },
    {
      "cell_type": "markdown",
      "id": "7d3ade00-f879-481e-bc66-7021a6305777",
      "metadata": {
        "id": "7d3ade00-f879-481e-bc66-7021a6305777"
      },
      "source": [
        "## Supervised Learning"
      ]
    },
    {
      "cell_type": "code",
      "execution_count": 12,
      "id": "40c1fb91-0bbe-49d6-b7c5-91325dc72e21",
      "metadata": {
        "id": "40c1fb91-0bbe-49d6-b7c5-91325dc72e21"
      },
      "outputs": [],
      "source": [
        "import numpy as np\n",
        "import pandas as pd\n",
        "import matplotlib.pyplot as plt\n",
        "plt.rcParams['figure.figsize'] = (9, 6)\n",
        "from sklearn.ensemble import RandomForestClassifier\n",
        "from sklearn.model_selection import train_test_split"
      ]
    },
    {
      "cell_type": "code",
      "source": [
        "# dropped 6 validation fips\n",
        "df_drop = df.drop([51001, 51061, 51081, 51085, 51165, 51195])"
      ],
      "metadata": {
        "id": "OQ1l1s7dNx2a"
      },
      "id": "OQ1l1s7dNx2a",
      "execution_count": 13,
      "outputs": []
    },
    {
      "cell_type": "code",
      "source": [
        "#define input variables\n",
        "input_var = df_drop[['Income','DSCI','PQ1','PQ2','PQ3','PQ4','TQ1','TQ2','TQ3','TQ4','Forest']]\n",
        "X = input_var\n",
        "\n",
        "y = df_drop['cluster']"
      ],
      "metadata": {
        "id": "Y9QvzCe8My6M"
      },
      "id": "Y9QvzCe8My6M",
      "execution_count": 14,
      "outputs": []
    },
    {
      "cell_type": "code",
      "source": [
        "#train test split (replace with specific columns)\n",
        "X_train, X_test, y_train, y_test = train_test_split(X, y, train_size=0.7, random_state=1)"
      ],
      "metadata": {
        "id": "T5fjJZB3NAem"
      },
      "id": "T5fjJZB3NAem",
      "execution_count": 15,
      "outputs": []
    },
    {
      "cell_type": "code",
      "source": [
        "# validation\n",
        "keep = [51001, 51061, 51081, 51085, 51165, 51195]\n",
        "df_val = df.loc[keep]\n",
        "\n",
        "cols_keep = ['Income',\t'DSCI',\t'PQ1',\t'PQ2',\t'PQ3',\t'PQ4',\t'TQ1',\t'TQ2',\t'TQ3',\t'TQ4',\t'Forest']\n",
        "X_val = df_val[cols_keep]\n",
        "y_val = df_val['cluster']"
      ],
      "metadata": {
        "id": "KlW9VwZ0OUTq"
      },
      "id": "KlW9VwZ0OUTq",
      "execution_count": 16,
      "outputs": []
    },
    {
      "cell_type": "markdown",
      "source": [
        "## RF"
      ],
      "metadata": {
        "id": "5cE2se1L1xtz"
      },
      "id": "5cE2se1L1xtz"
    },
    {
      "cell_type": "code",
      "execution_count": 17,
      "id": "a1c82ba0-d23f-479b-9a1d-958133b89b53",
      "metadata": {
        "colab": {
          "base_uri": "https://localhost:8080/",
          "height": 74
        },
        "id": "a1c82ba0-d23f-479b-9a1d-958133b89b53",
        "outputId": "91b59103-13e6-4923-8227-baa9495c071a"
      },
      "outputs": [
        {
          "output_type": "execute_result",
          "data": {
            "text/plain": [
              "RandomForestClassifier()"
            ],
            "text/html": [
              "<style>#sk-container-id-1 {color: black;background-color: white;}#sk-container-id-1 pre{padding: 0;}#sk-container-id-1 div.sk-toggleable {background-color: white;}#sk-container-id-1 label.sk-toggleable__label {cursor: pointer;display: block;width: 100%;margin-bottom: 0;padding: 0.3em;box-sizing: border-box;text-align: center;}#sk-container-id-1 label.sk-toggleable__label-arrow:before {content: \"▸\";float: left;margin-right: 0.25em;color: #696969;}#sk-container-id-1 label.sk-toggleable__label-arrow:hover:before {color: black;}#sk-container-id-1 div.sk-estimator:hover label.sk-toggleable__label-arrow:before {color: black;}#sk-container-id-1 div.sk-toggleable__content {max-height: 0;max-width: 0;overflow: hidden;text-align: left;background-color: #f0f8ff;}#sk-container-id-1 div.sk-toggleable__content pre {margin: 0.2em;color: black;border-radius: 0.25em;background-color: #f0f8ff;}#sk-container-id-1 input.sk-toggleable__control:checked~div.sk-toggleable__content {max-height: 200px;max-width: 100%;overflow: auto;}#sk-container-id-1 input.sk-toggleable__control:checked~label.sk-toggleable__label-arrow:before {content: \"▾\";}#sk-container-id-1 div.sk-estimator input.sk-toggleable__control:checked~label.sk-toggleable__label {background-color: #d4ebff;}#sk-container-id-1 div.sk-label input.sk-toggleable__control:checked~label.sk-toggleable__label {background-color: #d4ebff;}#sk-container-id-1 input.sk-hidden--visually {border: 0;clip: rect(1px 1px 1px 1px);clip: rect(1px, 1px, 1px, 1px);height: 1px;margin: -1px;overflow: hidden;padding: 0;position: absolute;width: 1px;}#sk-container-id-1 div.sk-estimator {font-family: monospace;background-color: #f0f8ff;border: 1px dotted black;border-radius: 0.25em;box-sizing: border-box;margin-bottom: 0.5em;}#sk-container-id-1 div.sk-estimator:hover {background-color: #d4ebff;}#sk-container-id-1 div.sk-parallel-item::after {content: \"\";width: 100%;border-bottom: 1px solid gray;flex-grow: 1;}#sk-container-id-1 div.sk-label:hover label.sk-toggleable__label {background-color: #d4ebff;}#sk-container-id-1 div.sk-serial::before {content: \"\";position: absolute;border-left: 1px solid gray;box-sizing: border-box;top: 0;bottom: 0;left: 50%;z-index: 0;}#sk-container-id-1 div.sk-serial {display: flex;flex-direction: column;align-items: center;background-color: white;padding-right: 0.2em;padding-left: 0.2em;position: relative;}#sk-container-id-1 div.sk-item {position: relative;z-index: 1;}#sk-container-id-1 div.sk-parallel {display: flex;align-items: stretch;justify-content: center;background-color: white;position: relative;}#sk-container-id-1 div.sk-item::before, #sk-container-id-1 div.sk-parallel-item::before {content: \"\";position: absolute;border-left: 1px solid gray;box-sizing: border-box;top: 0;bottom: 0;left: 50%;z-index: -1;}#sk-container-id-1 div.sk-parallel-item {display: flex;flex-direction: column;z-index: 1;position: relative;background-color: white;}#sk-container-id-1 div.sk-parallel-item:first-child::after {align-self: flex-end;width: 50%;}#sk-container-id-1 div.sk-parallel-item:last-child::after {align-self: flex-start;width: 50%;}#sk-container-id-1 div.sk-parallel-item:only-child::after {width: 0;}#sk-container-id-1 div.sk-dashed-wrapped {border: 1px dashed gray;margin: 0 0.4em 0.5em 0.4em;box-sizing: border-box;padding-bottom: 0.4em;background-color: white;}#sk-container-id-1 div.sk-label label {font-family: monospace;font-weight: bold;display: inline-block;line-height: 1.2em;}#sk-container-id-1 div.sk-label-container {text-align: center;}#sk-container-id-1 div.sk-container {/* jupyter's `normalize.less` sets `[hidden] { display: none; }` but bootstrap.min.css set `[hidden] { display: none !important; }` so we also need the `!important` here to be able to override the default hidden behavior on the sphinx rendered scikit-learn.org. See: https://github.com/scikit-learn/scikit-learn/issues/21755 */display: inline-block !important;position: relative;}#sk-container-id-1 div.sk-text-repr-fallback {display: none;}</style><div id=\"sk-container-id-1\" class=\"sk-top-container\"><div class=\"sk-text-repr-fallback\"><pre>RandomForestClassifier()</pre><b>In a Jupyter environment, please rerun this cell to show the HTML representation or trust the notebook. <br />On GitHub, the HTML representation is unable to render, please try loading this page with nbviewer.org.</b></div><div class=\"sk-container\" hidden><div class=\"sk-item\"><div class=\"sk-estimator sk-toggleable\"><input class=\"sk-toggleable__control sk-hidden--visually\" id=\"sk-estimator-id-1\" type=\"checkbox\" checked><label for=\"sk-estimator-id-1\" class=\"sk-toggleable__label sk-toggleable__label-arrow\">RandomForestClassifier</label><div class=\"sk-toggleable__content\"><pre>RandomForestClassifier()</pre></div></div></div></div></div>"
            ]
          },
          "metadata": {},
          "execution_count": 17
        }
      ],
      "source": [
        "#create rf model (w 100 trees)\n",
        "rf = RandomForestClassifier(n_estimators=100)\n",
        "\n",
        "#fit model with training data\n",
        "rf.fit(X_train, y_train)"
      ]
    },
    {
      "cell_type": "code",
      "execution_count": 18,
      "id": "c0061dd0-d964-4951-98d5-aa9dc4e04879",
      "metadata": {
        "colab": {
          "base_uri": "https://localhost:8080/"
        },
        "id": "c0061dd0-d964-4951-98d5-aa9dc4e04879",
        "outputId": "0f7a00c2-267a-4498-ef0d-02c6f9d54528"
      },
      "outputs": [
        {
          "output_type": "execute_result",
          "data": {
            "text/plain": [
              "Int64Index([51121, 51147, 51003, 51057, 51115, 51141, 51059, 51135, 51047,\n",
              "            51071, 51025, 51067, 51167, 51031, 51043, 51065, 51015, 51133,\n",
              "            51007, 51111, 51029, 51077, 51107, 51053, 51041, 51153],\n",
              "           dtype='int64', name='County')"
            ]
          },
          "metadata": {},
          "execution_count": 18
        }
      ],
      "source": [
        "y_test.index"
      ]
    },
    {
      "cell_type": "code",
      "execution_count": 19,
      "id": "3134a393-4ac0-4a76-8ba2-372d6161a5dc",
      "metadata": {
        "colab": {
          "base_uri": "https://localhost:8080/"
        },
        "id": "3134a393-4ac0-4a76-8ba2-372d6161a5dc",
        "outputId": "10ab5116-d750-4571-cc76-b7f11a0be8ca"
      },
      "outputs": [
        {
          "output_type": "stream",
          "name": "stdout",
          "text": [
            "0 0 51121\n",
            "2 2 51147\n",
            "0 2 51003\n",
            "0 0 51057\n",
            "1 3 51115\n",
            "2 2 51141\n",
            "2 0 51059\n",
            "2 1 51135\n",
            "1 1 51047\n",
            "2 1 51071\n",
            "0 2 51025\n",
            "2 2 51067\n",
            "2 2 51167\n",
            "2 2 51031\n",
            "1 1 51043\n",
            "2 2 51065\n",
            "0 0 51015\n",
            "1 1 51133\n",
            "0 0 51007\n",
            "1 1 51111\n",
            "1 1 51029\n",
            "0 0 51077\n",
            "1 3 51107\n",
            "0 0 51053\n",
            "1 1 51041\n",
            "0 0 51153\n"
          ]
        }
      ],
      "source": [
        "#make predictions\n",
        "y_pred = rf.predict(X_test)\n",
        "\n",
        "for pred_label, true_label, index in zip(y_pred, y_test, y_test.index):\n",
        "    print(pred_label, true_label, index)"
      ]
    },
    {
      "cell_type": "code",
      "execution_count": 20,
      "id": "b886c51b-db95-443f-bbb4-127a8795a3f1",
      "metadata": {
        "id": "b886c51b-db95-443f-bbb4-127a8795a3f1"
      },
      "outputs": [],
      "source": [
        "from sklearn.metrics import classification_report"
      ]
    },
    {
      "cell_type": "code",
      "execution_count": 21,
      "id": "de5da3de-6309-4bd4-b617-c058a78b37ec",
      "metadata": {
        "colab": {
          "base_uri": "https://localhost:8080/"
        },
        "id": "de5da3de-6309-4bd4-b617-c058a78b37ec",
        "outputId": "6566597e-3487-4a36-99c3-22e4b25283be"
      },
      "outputs": [
        {
          "output_type": "stream",
          "name": "stdout",
          "text": [
            "              precision    recall  f1-score   support\n",
            "\n",
            "           0       0.78      0.88      0.82         8\n",
            "           1       0.75      0.75      0.75         8\n",
            "           2       0.67      0.75      0.71         8\n",
            "           3       0.00      0.00      0.00         2\n",
            "\n",
            "    accuracy                           0.73        26\n",
            "   macro avg       0.55      0.59      0.57        26\n",
            "weighted avg       0.68      0.73      0.70        26\n",
            "\n"
          ]
        },
        {
          "output_type": "stream",
          "name": "stderr",
          "text": [
            "/usr/local/lib/python3.10/dist-packages/sklearn/metrics/_classification.py:1344: UndefinedMetricWarning: Precision and F-score are ill-defined and being set to 0.0 in labels with no predicted samples. Use `zero_division` parameter to control this behavior.\n",
            "  _warn_prf(average, modifier, msg_start, len(result))\n",
            "/usr/local/lib/python3.10/dist-packages/sklearn/metrics/_classification.py:1344: UndefinedMetricWarning: Precision and F-score are ill-defined and being set to 0.0 in labels with no predicted samples. Use `zero_division` parameter to control this behavior.\n",
            "  _warn_prf(average, modifier, msg_start, len(result))\n",
            "/usr/local/lib/python3.10/dist-packages/sklearn/metrics/_classification.py:1344: UndefinedMetricWarning: Precision and F-score are ill-defined and being set to 0.0 in labels with no predicted samples. Use `zero_division` parameter to control this behavior.\n",
            "  _warn_prf(average, modifier, msg_start, len(result))\n"
          ]
        }
      ],
      "source": [
        "#assess model performance\n",
        "cr = classification_report(y_test, y_pred)\n",
        "print(cr)"
      ]
    },
    {
      "cell_type": "code",
      "execution_count": 22,
      "id": "d8df67bd-bb01-4bc7-9448-3bf3cebaa39f",
      "metadata": {
        "colab": {
          "base_uri": "https://localhost:8080/"
        },
        "id": "d8df67bd-bb01-4bc7-9448-3bf3cebaa39f",
        "outputId": "b006cc94-12b2-4ba4-d475-0207ccd1914c"
      },
      "outputs": [
        {
          "output_type": "stream",
          "name": "stdout",
          "text": [
            "        importance\n",
            "TQ3       0.198941\n",
            "TQ4       0.189241\n",
            "TQ2       0.171537\n",
            "Forest    0.125707\n",
            "TQ1       0.083231\n",
            "Income    0.066390\n",
            "PQ1       0.046004\n",
            "PQ3       0.036731\n",
            "PQ2       0.030697\n",
            "DSCI      0.028629\n",
            "PQ4       0.022892\n"
          ]
        }
      ],
      "source": [
        "#feature importance\n",
        "feature_imp = pd.DataFrame(rf.feature_importances_,index= X_train.columns, columns=['importance']).sort_values('importance',ascending=False)\n",
        "print(feature_imp)"
      ]
    },
    {
      "cell_type": "markdown",
      "source": [
        "## Logistic Regression"
      ],
      "metadata": {
        "id": "SyenbYqkuwV-"
      },
      "id": "SyenbYqkuwV-"
    },
    {
      "cell_type": "code",
      "source": [
        "from sklearn.model_selection import train_test_split\n",
        "from sklearn.linear_model import LogisticRegression\n",
        "from sklearn.metrics import accuracy_score\n",
        "from sklearn.metrics import classification_report"
      ],
      "metadata": {
        "id": "h0-th3qT8nAC"
      },
      "id": "h0-th3qT8nAC",
      "execution_count": 23,
      "outputs": []
    },
    {
      "cell_type": "code",
      "source": [
        "logreg_model = LogisticRegression()\n",
        "logreg_model.fit(X_train, y_train)\n",
        "\n",
        "# predict\n",
        "y_pred = logreg_model.predict(X_test)"
      ],
      "metadata": {
        "id": "fpKJkibFIJ-L"
      },
      "id": "fpKJkibFIJ-L",
      "execution_count": 24,
      "outputs": []
    },
    {
      "cell_type": "code",
      "source": [
        "print(classification_report(y_test, y_pred))"
      ],
      "metadata": {
        "colab": {
          "base_uri": "https://localhost:8080/"
        },
        "id": "30M2DFQXHKWO",
        "outputId": "2adbce10-561c-4b95-eefc-15d3596f313a"
      },
      "id": "30M2DFQXHKWO",
      "execution_count": 25,
      "outputs": [
        {
          "output_type": "stream",
          "name": "stdout",
          "text": [
            "              precision    recall  f1-score   support\n",
            "\n",
            "           0       0.57      1.00      0.73         8\n",
            "           1       0.71      0.62      0.67         8\n",
            "           2       0.80      0.50      0.62         8\n",
            "           3       0.00      0.00      0.00         2\n",
            "\n",
            "    accuracy                           0.65        26\n",
            "   macro avg       0.52      0.53      0.50        26\n",
            "weighted avg       0.64      0.65      0.62        26\n",
            "\n"
          ]
        },
        {
          "output_type": "stream",
          "name": "stderr",
          "text": [
            "/usr/local/lib/python3.10/dist-packages/sklearn/metrics/_classification.py:1344: UndefinedMetricWarning: Precision and F-score are ill-defined and being set to 0.0 in labels with no predicted samples. Use `zero_division` parameter to control this behavior.\n",
            "  _warn_prf(average, modifier, msg_start, len(result))\n",
            "/usr/local/lib/python3.10/dist-packages/sklearn/metrics/_classification.py:1344: UndefinedMetricWarning: Precision and F-score are ill-defined and being set to 0.0 in labels with no predicted samples. Use `zero_division` parameter to control this behavior.\n",
            "  _warn_prf(average, modifier, msg_start, len(result))\n",
            "/usr/local/lib/python3.10/dist-packages/sklearn/metrics/_classification.py:1344: UndefinedMetricWarning: Precision and F-score are ill-defined and being set to 0.0 in labels with no predicted samples. Use `zero_division` parameter to control this behavior.\n",
            "  _warn_prf(average, modifier, msg_start, len(result))\n"
          ]
        }
      ]
    },
    {
      "cell_type": "code",
      "source": [
        "accuracy = accuracy_score(y_test, y_pred)\n",
        "print(\"Accuracy:\", accuracy)"
      ],
      "metadata": {
        "colab": {
          "base_uri": "https://localhost:8080/"
        },
        "id": "jjL2QdpsHMm3",
        "outputId": "a93ec52c-c132-49d6-9d84-ec85e87f3a67"
      },
      "id": "jjL2QdpsHMm3",
      "execution_count": 26,
      "outputs": [
        {
          "output_type": "stream",
          "name": "stdout",
          "text": [
            "Accuracy: 0.6538461538461539\n"
          ]
        }
      ]
    },
    {
      "cell_type": "code",
      "source": [
        "feature_names = X_train.columns\n",
        "\n",
        "coeffs = logreg_model.coef_[0]\n",
        "\n",
        "coeffs_df = pd.DataFrame({'Feature': feature_names, 'Coefficient': coeffs})\n",
        "\n",
        "coeffs_df['Abs_Coefficient'] = abs(coeffs_df['Coefficient'])\n",
        "coeffs_df.sort_values(by='Abs_Coefficient', ascending=False)"
      ],
      "metadata": {
        "colab": {
          "base_uri": "https://localhost:8080/",
          "height": 394
        },
        "id": "1LC6qC76Uk34",
        "outputId": "f19a1711-9f08-4cc3-c54c-43d429a470b0"
      },
      "id": "1LC6qC76Uk34",
      "execution_count": 27,
      "outputs": [
        {
          "output_type": "execute_result",
          "data": {
            "text/plain": [
              "   Feature  Coefficient  Abs_Coefficient\n",
              "8      TQ3     1.723093         1.723093\n",
              "7      TQ2     1.422466         1.422466\n",
              "9      TQ4     1.322755         1.322755\n",
              "6      TQ1     1.043657         1.043657\n",
              "10  Forest    -1.024138         1.024138\n",
              "3      PQ2    -0.268456         0.268456\n",
              "4      PQ3     0.260597         0.260597\n",
              "5      PQ4     0.208023         0.208023\n",
              "0   Income    -0.118391         0.118391\n",
              "1     DSCI     0.113849         0.113849\n",
              "2      PQ1     0.068327         0.068327"
            ],
            "text/html": [
              "\n",
              "  <div id=\"df-307b346b-fd39-4992-a21e-10acf77e9508\" class=\"colab-df-container\">\n",
              "    <div>\n",
              "<style scoped>\n",
              "    .dataframe tbody tr th:only-of-type {\n",
              "        vertical-align: middle;\n",
              "    }\n",
              "\n",
              "    .dataframe tbody tr th {\n",
              "        vertical-align: top;\n",
              "    }\n",
              "\n",
              "    .dataframe thead th {\n",
              "        text-align: right;\n",
              "    }\n",
              "</style>\n",
              "<table border=\"1\" class=\"dataframe\">\n",
              "  <thead>\n",
              "    <tr style=\"text-align: right;\">\n",
              "      <th></th>\n",
              "      <th>Feature</th>\n",
              "      <th>Coefficient</th>\n",
              "      <th>Abs_Coefficient</th>\n",
              "    </tr>\n",
              "  </thead>\n",
              "  <tbody>\n",
              "    <tr>\n",
              "      <th>8</th>\n",
              "      <td>TQ3</td>\n",
              "      <td>1.723093</td>\n",
              "      <td>1.723093</td>\n",
              "    </tr>\n",
              "    <tr>\n",
              "      <th>7</th>\n",
              "      <td>TQ2</td>\n",
              "      <td>1.422466</td>\n",
              "      <td>1.422466</td>\n",
              "    </tr>\n",
              "    <tr>\n",
              "      <th>9</th>\n",
              "      <td>TQ4</td>\n",
              "      <td>1.322755</td>\n",
              "      <td>1.322755</td>\n",
              "    </tr>\n",
              "    <tr>\n",
              "      <th>6</th>\n",
              "      <td>TQ1</td>\n",
              "      <td>1.043657</td>\n",
              "      <td>1.043657</td>\n",
              "    </tr>\n",
              "    <tr>\n",
              "      <th>10</th>\n",
              "      <td>Forest</td>\n",
              "      <td>-1.024138</td>\n",
              "      <td>1.024138</td>\n",
              "    </tr>\n",
              "    <tr>\n",
              "      <th>3</th>\n",
              "      <td>PQ2</td>\n",
              "      <td>-0.268456</td>\n",
              "      <td>0.268456</td>\n",
              "    </tr>\n",
              "    <tr>\n",
              "      <th>4</th>\n",
              "      <td>PQ3</td>\n",
              "      <td>0.260597</td>\n",
              "      <td>0.260597</td>\n",
              "    </tr>\n",
              "    <tr>\n",
              "      <th>5</th>\n",
              "      <td>PQ4</td>\n",
              "      <td>0.208023</td>\n",
              "      <td>0.208023</td>\n",
              "    </tr>\n",
              "    <tr>\n",
              "      <th>0</th>\n",
              "      <td>Income</td>\n",
              "      <td>-0.118391</td>\n",
              "      <td>0.118391</td>\n",
              "    </tr>\n",
              "    <tr>\n",
              "      <th>1</th>\n",
              "      <td>DSCI</td>\n",
              "      <td>0.113849</td>\n",
              "      <td>0.113849</td>\n",
              "    </tr>\n",
              "    <tr>\n",
              "      <th>2</th>\n",
              "      <td>PQ1</td>\n",
              "      <td>0.068327</td>\n",
              "      <td>0.068327</td>\n",
              "    </tr>\n",
              "  </tbody>\n",
              "</table>\n",
              "</div>\n",
              "    <div class=\"colab-df-buttons\">\n",
              "\n",
              "  <div class=\"colab-df-container\">\n",
              "    <button class=\"colab-df-convert\" onclick=\"convertToInteractive('df-307b346b-fd39-4992-a21e-10acf77e9508')\"\n",
              "            title=\"Convert this dataframe to an interactive table.\"\n",
              "            style=\"display:none;\">\n",
              "\n",
              "  <svg xmlns=\"http://www.w3.org/2000/svg\" height=\"24px\" viewBox=\"0 -960 960 960\">\n",
              "    <path d=\"M120-120v-720h720v720H120Zm60-500h600v-160H180v160Zm220 220h160v-160H400v160Zm0 220h160v-160H400v160ZM180-400h160v-160H180v160Zm440 0h160v-160H620v160ZM180-180h160v-160H180v160Zm440 0h160v-160H620v160Z\"/>\n",
              "  </svg>\n",
              "    </button>\n",
              "\n",
              "  <style>\n",
              "    .colab-df-container {\n",
              "      display:flex;\n",
              "      gap: 12px;\n",
              "    }\n",
              "\n",
              "    .colab-df-convert {\n",
              "      background-color: #E8F0FE;\n",
              "      border: none;\n",
              "      border-radius: 50%;\n",
              "      cursor: pointer;\n",
              "      display: none;\n",
              "      fill: #1967D2;\n",
              "      height: 32px;\n",
              "      padding: 0 0 0 0;\n",
              "      width: 32px;\n",
              "    }\n",
              "\n",
              "    .colab-df-convert:hover {\n",
              "      background-color: #E2EBFA;\n",
              "      box-shadow: 0px 1px 2px rgba(60, 64, 67, 0.3), 0px 1px 3px 1px rgba(60, 64, 67, 0.15);\n",
              "      fill: #174EA6;\n",
              "    }\n",
              "\n",
              "    .colab-df-buttons div {\n",
              "      margin-bottom: 4px;\n",
              "    }\n",
              "\n",
              "    [theme=dark] .colab-df-convert {\n",
              "      background-color: #3B4455;\n",
              "      fill: #D2E3FC;\n",
              "    }\n",
              "\n",
              "    [theme=dark] .colab-df-convert:hover {\n",
              "      background-color: #434B5C;\n",
              "      box-shadow: 0px 1px 3px 1px rgba(0, 0, 0, 0.15);\n",
              "      filter: drop-shadow(0px 1px 2px rgba(0, 0, 0, 0.3));\n",
              "      fill: #FFFFFF;\n",
              "    }\n",
              "  </style>\n",
              "\n",
              "    <script>\n",
              "      const buttonEl =\n",
              "        document.querySelector('#df-307b346b-fd39-4992-a21e-10acf77e9508 button.colab-df-convert');\n",
              "      buttonEl.style.display =\n",
              "        google.colab.kernel.accessAllowed ? 'block' : 'none';\n",
              "\n",
              "      async function convertToInteractive(key) {\n",
              "        const element = document.querySelector('#df-307b346b-fd39-4992-a21e-10acf77e9508');\n",
              "        const dataTable =\n",
              "          await google.colab.kernel.invokeFunction('convertToInteractive',\n",
              "                                                    [key], {});\n",
              "        if (!dataTable) return;\n",
              "\n",
              "        const docLinkHtml = 'Like what you see? Visit the ' +\n",
              "          '<a target=\"_blank\" href=https://colab.research.google.com/notebooks/data_table.ipynb>data table notebook</a>'\n",
              "          + ' to learn more about interactive tables.';\n",
              "        element.innerHTML = '';\n",
              "        dataTable['output_type'] = 'display_data';\n",
              "        await google.colab.output.renderOutput(dataTable, element);\n",
              "        const docLink = document.createElement('div');\n",
              "        docLink.innerHTML = docLinkHtml;\n",
              "        element.appendChild(docLink);\n",
              "      }\n",
              "    </script>\n",
              "  </div>\n",
              "\n",
              "\n",
              "<div id=\"df-ed5a23a3-982b-48e1-b95f-f919a69def92\">\n",
              "  <button class=\"colab-df-quickchart\" onclick=\"quickchart('df-ed5a23a3-982b-48e1-b95f-f919a69def92')\"\n",
              "            title=\"Suggest charts\"\n",
              "            style=\"display:none;\">\n",
              "\n",
              "<svg xmlns=\"http://www.w3.org/2000/svg\" height=\"24px\"viewBox=\"0 0 24 24\"\n",
              "     width=\"24px\">\n",
              "    <g>\n",
              "        <path d=\"M19 3H5c-1.1 0-2 .9-2 2v14c0 1.1.9 2 2 2h14c1.1 0 2-.9 2-2V5c0-1.1-.9-2-2-2zM9 17H7v-7h2v7zm4 0h-2V7h2v10zm4 0h-2v-4h2v4z\"/>\n",
              "    </g>\n",
              "</svg>\n",
              "  </button>\n",
              "\n",
              "<style>\n",
              "  .colab-df-quickchart {\n",
              "      --bg-color: #E8F0FE;\n",
              "      --fill-color: #1967D2;\n",
              "      --hover-bg-color: #E2EBFA;\n",
              "      --hover-fill-color: #174EA6;\n",
              "      --disabled-fill-color: #AAA;\n",
              "      --disabled-bg-color: #DDD;\n",
              "  }\n",
              "\n",
              "  [theme=dark] .colab-df-quickchart {\n",
              "      --bg-color: #3B4455;\n",
              "      --fill-color: #D2E3FC;\n",
              "      --hover-bg-color: #434B5C;\n",
              "      --hover-fill-color: #FFFFFF;\n",
              "      --disabled-bg-color: #3B4455;\n",
              "      --disabled-fill-color: #666;\n",
              "  }\n",
              "\n",
              "  .colab-df-quickchart {\n",
              "    background-color: var(--bg-color);\n",
              "    border: none;\n",
              "    border-radius: 50%;\n",
              "    cursor: pointer;\n",
              "    display: none;\n",
              "    fill: var(--fill-color);\n",
              "    height: 32px;\n",
              "    padding: 0;\n",
              "    width: 32px;\n",
              "  }\n",
              "\n",
              "  .colab-df-quickchart:hover {\n",
              "    background-color: var(--hover-bg-color);\n",
              "    box-shadow: 0 1px 2px rgba(60, 64, 67, 0.3), 0 1px 3px 1px rgba(60, 64, 67, 0.15);\n",
              "    fill: var(--button-hover-fill-color);\n",
              "  }\n",
              "\n",
              "  .colab-df-quickchart-complete:disabled,\n",
              "  .colab-df-quickchart-complete:disabled:hover {\n",
              "    background-color: var(--disabled-bg-color);\n",
              "    fill: var(--disabled-fill-color);\n",
              "    box-shadow: none;\n",
              "  }\n",
              "\n",
              "  .colab-df-spinner {\n",
              "    border: 2px solid var(--fill-color);\n",
              "    border-color: transparent;\n",
              "    border-bottom-color: var(--fill-color);\n",
              "    animation:\n",
              "      spin 1s steps(1) infinite;\n",
              "  }\n",
              "\n",
              "  @keyframes spin {\n",
              "    0% {\n",
              "      border-color: transparent;\n",
              "      border-bottom-color: var(--fill-color);\n",
              "      border-left-color: var(--fill-color);\n",
              "    }\n",
              "    20% {\n",
              "      border-color: transparent;\n",
              "      border-left-color: var(--fill-color);\n",
              "      border-top-color: var(--fill-color);\n",
              "    }\n",
              "    30% {\n",
              "      border-color: transparent;\n",
              "      border-left-color: var(--fill-color);\n",
              "      border-top-color: var(--fill-color);\n",
              "      border-right-color: var(--fill-color);\n",
              "    }\n",
              "    40% {\n",
              "      border-color: transparent;\n",
              "      border-right-color: var(--fill-color);\n",
              "      border-top-color: var(--fill-color);\n",
              "    }\n",
              "    60% {\n",
              "      border-color: transparent;\n",
              "      border-right-color: var(--fill-color);\n",
              "    }\n",
              "    80% {\n",
              "      border-color: transparent;\n",
              "      border-right-color: var(--fill-color);\n",
              "      border-bottom-color: var(--fill-color);\n",
              "    }\n",
              "    90% {\n",
              "      border-color: transparent;\n",
              "      border-bottom-color: var(--fill-color);\n",
              "    }\n",
              "  }\n",
              "</style>\n",
              "\n",
              "  <script>\n",
              "    async function quickchart(key) {\n",
              "      const quickchartButtonEl =\n",
              "        document.querySelector('#' + key + ' button');\n",
              "      quickchartButtonEl.disabled = true;  // To prevent multiple clicks.\n",
              "      quickchartButtonEl.classList.add('colab-df-spinner');\n",
              "      try {\n",
              "        const charts = await google.colab.kernel.invokeFunction(\n",
              "            'suggestCharts', [key], {});\n",
              "      } catch (error) {\n",
              "        console.error('Error during call to suggestCharts:', error);\n",
              "      }\n",
              "      quickchartButtonEl.classList.remove('colab-df-spinner');\n",
              "      quickchartButtonEl.classList.add('colab-df-quickchart-complete');\n",
              "    }\n",
              "    (() => {\n",
              "      let quickchartButtonEl =\n",
              "        document.querySelector('#df-ed5a23a3-982b-48e1-b95f-f919a69def92 button');\n",
              "      quickchartButtonEl.style.display =\n",
              "        google.colab.kernel.accessAllowed ? 'block' : 'none';\n",
              "    })();\n",
              "  </script>\n",
              "</div>\n",
              "    </div>\n",
              "  </div>\n"
            ],
            "application/vnd.google.colaboratory.intrinsic+json": {
              "type": "dataframe",
              "summary": "{\n  \"name\": \"coeffs_df\",\n  \"rows\": 11,\n  \"fields\": [\n    {\n      \"column\": \"Feature\",\n      \"properties\": {\n        \"dtype\": \"string\",\n        \"num_unique_values\": 11,\n        \"samples\": [\n          \"PQ2\",\n          \"TQ3\",\n          \"DSCI\"\n        ],\n        \"semantic_type\": \"\",\n        \"description\": \"\"\n      }\n    },\n    {\n      \"column\": \"Coefficient\",\n      \"properties\": {\n        \"dtype\": \"number\",\n        \"std\": 0.8391924692412676,\n        \"min\": -1.0241380577685715,\n        \"max\": 1.723093086629204,\n        \"num_unique_values\": 11,\n        \"samples\": [\n          -0.26845577657252395,\n          1.723093086629204,\n          0.11384894123577274\n        ],\n        \"semantic_type\": \"\",\n        \"description\": \"\"\n      }\n    },\n    {\n      \"column\": \"Abs_Coefficient\",\n      \"properties\": {\n        \"dtype\": \"number\",\n        \"std\": 0.6229298342867717,\n        \"min\": 0.06832710951959571,\n        \"max\": 1.723093086629204,\n        \"num_unique_values\": 11,\n        \"samples\": [\n          0.26845577657252395,\n          1.723093086629204,\n          0.11384894123577274\n        ],\n        \"semantic_type\": \"\",\n        \"description\": \"\"\n      }\n    }\n  ]\n}"
            }
          },
          "metadata": {},
          "execution_count": 27
        }
      ]
    },
    {
      "cell_type": "markdown",
      "source": [
        "## Decision Tree"
      ],
      "metadata": {
        "id": "PWi_Qdmfuy11"
      },
      "id": "PWi_Qdmfuy11"
    },
    {
      "cell_type": "code",
      "source": [
        "# supervised learning method\n",
        "from sklearn.model_selection import cross_val_score\n",
        "from sklearn.tree import DecisionTreeClassifier\n",
        "from sklearn.tree import DecisionTreeRegressor"
      ],
      "metadata": {
        "id": "BMnnVMO-uz8H"
      },
      "id": "BMnnVMO-uz8H",
      "execution_count": 34,
      "outputs": []
    },
    {
      "cell_type": "code",
      "source": [
        "dt_model = DecisionTreeClassifier(random_state=0)\n",
        "dt_model.fit(X_train, y_train)\n",
        "\n",
        "y_pred = dt_model.predict(X_test)\n",
        "\n",
        "print(classification_report(y_test, y_pred))"
      ],
      "metadata": {
        "colab": {
          "base_uri": "https://localhost:8080/"
        },
        "id": "qS37z3muyNfY",
        "outputId": "1481beff-de2a-4049-c477-9ac5f643c4b7"
      },
      "id": "qS37z3muyNfY",
      "execution_count": 35,
      "outputs": [
        {
          "output_type": "stream",
          "name": "stdout",
          "text": [
            "              precision    recall  f1-score   support\n",
            "\n",
            "           0       0.70      0.88      0.78         8\n",
            "           1       0.89      1.00      0.94         8\n",
            "           2       0.83      0.62      0.71         8\n",
            "           3       1.00      0.50      0.67         2\n",
            "\n",
            "    accuracy                           0.81        26\n",
            "   macro avg       0.86      0.75      0.77        26\n",
            "weighted avg       0.82      0.81      0.80        26\n",
            "\n"
          ]
        }
      ]
    },
    {
      "cell_type": "code",
      "source": [
        "accuracy = accuracy_score(y_test, y_pred)\n",
        "print(\"Accuracy:\", accuracy)"
      ],
      "metadata": {
        "colab": {
          "base_uri": "https://localhost:8080/"
        },
        "id": "69VicXylIaX_",
        "outputId": "28951c67-eee2-4eca-9ab0-3152d43f8c47"
      },
      "id": "69VicXylIaX_",
      "execution_count": 36,
      "outputs": [
        {
          "output_type": "stream",
          "name": "stdout",
          "text": [
            "Accuracy: 0.8076923076923077\n"
          ]
        }
      ]
    },
    {
      "cell_type": "code",
      "source": [
        "cross_val_score(dt_model, X_train, y_train, cv=10)"
      ],
      "metadata": {
        "colab": {
          "base_uri": "https://localhost:8080/"
        },
        "id": "dOkYnKs5AXbV",
        "outputId": "f0afa450-0d47-4e66-ed20-5f15a4a1edce"
      },
      "id": "dOkYnKs5AXbV",
      "execution_count": 37,
      "outputs": [
        {
          "output_type": "stream",
          "name": "stderr",
          "text": [
            "/usr/local/lib/python3.10/dist-packages/sklearn/model_selection/_split.py:700: UserWarning: The least populated class in y has only 2 members, which is less than n_splits=10.\n",
            "  warnings.warn(\n"
          ]
        },
        {
          "output_type": "execute_result",
          "data": {
            "text/plain": [
              "array([0.66666667, 1.        , 0.66666667, 0.66666667, 0.83333333,\n",
              "       1.        , 0.83333333, 0.83333333, 0.8       , 1.        ])"
            ]
          },
          "metadata": {},
          "execution_count": 37
        }
      ]
    }
  ],
  "metadata": {
    "kernelspec": {
      "display_name": "Python 3 (ipykernel)",
      "language": "python",
      "name": "python3"
    },
    "language_info": {
      "codemirror_mode": {
        "name": "ipython",
        "version": 3
      },
      "file_extension": ".py",
      "mimetype": "text/x-python",
      "name": "python",
      "nbconvert_exporter": "python",
      "pygments_lexer": "ipython3",
      "version": "3.10.13"
    },
    "colab": {
      "provenance": [],
      "include_colab_link": true
    }
  },
  "nbformat": 4,
  "nbformat_minor": 5
}
