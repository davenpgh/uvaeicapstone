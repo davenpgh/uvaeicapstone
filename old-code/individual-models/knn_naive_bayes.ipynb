{
 "cells": [
  {
   "cell_type": "markdown",
   "id": "63d0a1b5-f924-4a3f-8333-8a4eeef1e385",
   "metadata": {
    "id": "63d0a1b5-f924-4a3f-8333-8a4eeef1e385"
   },
   "source": [
    "# Code for Hierarchical Clustering to obtain labels (suitability category)"
   ]
  },
  {
   "cell_type": "code",
   "execution_count": 1,
   "id": "d9ea12df-584e-424a-9622-cfe100acd1b3",
   "metadata": {
    "id": "d9ea12df-584e-424a-9622-cfe100acd1b3",
    "tags": []
   },
   "outputs": [],
   "source": [
    "import pandas as pd\n",
    "import numpy as np\n",
    "import seaborn as sns\n",
    "import matplotlib.pyplot as plt\n",
    "from sklearn import metrics\n",
    "from sklearn.cluster import KMeans\n",
    "from sklearn.cluster import AgglomerativeClustering\n",
    "import scipy.cluster.hierarchy as sch"
   ]
  },
  {
   "cell_type": "code",
   "execution_count": 3,
   "id": "8a30ee99-fb62-4434-97e8-84e586137dff",
   "metadata": {
    "colab": {
     "base_uri": "https://localhost:8080/",
     "height": 707
    },
    "id": "8a30ee99-fb62-4434-97e8-84e586137dff",
    "outputId": "ae3dc8d3-1e14-45a9-ea20-8ffe46219378",
    "tags": []
   },
   "outputs": [
    {
     "data": {
      "text/html": [
       "<div>\n",
       "<style scoped>\n",
       "    .dataframe tbody tr th:only-of-type {\n",
       "        vertical-align: middle;\n",
       "    }\n",
       "\n",
       "    .dataframe tbody tr th {\n",
       "        vertical-align: top;\n",
       "    }\n",
       "\n",
       "    .dataframe thead th {\n",
       "        text-align: right;\n",
       "    }\n",
       "</style>\n",
       "<table border=\"1\" class=\"dataframe\">\n",
       "  <thead>\n",
       "    <tr style=\"text-align: right;\">\n",
       "      <th></th>\n",
       "      <th>Income</th>\n",
       "      <th>DSCI</th>\n",
       "      <th>PQ1</th>\n",
       "      <th>PQ2</th>\n",
       "      <th>PQ3</th>\n",
       "      <th>PQ4</th>\n",
       "      <th>TQ1</th>\n",
       "      <th>TQ2</th>\n",
       "      <th>TQ3</th>\n",
       "      <th>TQ4</th>\n",
       "      <th>Forest</th>\n",
       "    </tr>\n",
       "    <tr>\n",
       "      <th>County</th>\n",
       "      <th></th>\n",
       "      <th></th>\n",
       "      <th></th>\n",
       "      <th></th>\n",
       "      <th></th>\n",
       "      <th></th>\n",
       "      <th></th>\n",
       "      <th></th>\n",
       "      <th></th>\n",
       "      <th></th>\n",
       "      <th></th>\n",
       "    </tr>\n",
       "  </thead>\n",
       "  <tbody>\n",
       "    <tr>\n",
       "      <th>51001</th>\n",
       "      <td>0.075854</td>\n",
       "      <td>0.148920</td>\n",
       "      <td>0.319901</td>\n",
       "      <td>0.435870</td>\n",
       "      <td>0.410805</td>\n",
       "      <td>0.412876</td>\n",
       "      <td>0.398849</td>\n",
       "      <td>0.223717</td>\n",
       "      <td>0.178736</td>\n",
       "      <td>0.296552</td>\n",
       "      <td>0.064338</td>\n",
       "    </tr>\n",
       "    <tr>\n",
       "      <th>51003</th>\n",
       "      <td>0.108095</td>\n",
       "      <td>0.182011</td>\n",
       "      <td>0.281478</td>\n",
       "      <td>0.361577</td>\n",
       "      <td>0.330150</td>\n",
       "      <td>0.398268</td>\n",
       "      <td>0.652957</td>\n",
       "      <td>0.669414</td>\n",
       "      <td>0.672845</td>\n",
       "      <td>0.580575</td>\n",
       "      <td>0.679813</td>\n",
       "    </tr>\n",
       "    <tr>\n",
       "      <th>51005</th>\n",
       "      <td>0.187226</td>\n",
       "      <td>0.147870</td>\n",
       "      <td>0.208440</td>\n",
       "      <td>0.382735</td>\n",
       "      <td>0.309672</td>\n",
       "      <td>0.361536</td>\n",
       "      <td>0.590581</td>\n",
       "      <td>0.651482</td>\n",
       "      <td>0.660489</td>\n",
       "      <td>0.531379</td>\n",
       "      <td>0.897165</td>\n",
       "    </tr>\n",
       "    <tr>\n",
       "      <th>51007</th>\n",
       "      <td>0.157467</td>\n",
       "      <td>0.144258</td>\n",
       "      <td>0.319836</td>\n",
       "      <td>0.347694</td>\n",
       "      <td>0.488828</td>\n",
       "      <td>0.370654</td>\n",
       "      <td>0.753323</td>\n",
       "      <td>0.808243</td>\n",
       "      <td>0.809483</td>\n",
       "      <td>0.716207</td>\n",
       "      <td>0.651586</td>\n",
       "    </tr>\n",
       "    <tr>\n",
       "      <th>51009</th>\n",
       "      <td>0.184217</td>\n",
       "      <td>0.145333</td>\n",
       "      <td>0.205452</td>\n",
       "      <td>0.416978</td>\n",
       "      <td>0.325681</td>\n",
       "      <td>0.367647</td>\n",
       "      <td>0.499006</td>\n",
       "      <td>0.525380</td>\n",
       "      <td>0.539368</td>\n",
       "      <td>0.463678</td>\n",
       "      <td>0.770831</td>\n",
       "    </tr>\n",
       "    <tr>\n",
       "      <th>51011</th>\n",
       "      <td>0.140248</td>\n",
       "      <td>0.158561</td>\n",
       "      <td>0.278259</td>\n",
       "      <td>0.427413</td>\n",
       "      <td>0.398133</td>\n",
       "      <td>0.403431</td>\n",
       "      <td>0.427002</td>\n",
       "      <td>0.337238</td>\n",
       "      <td>0.280747</td>\n",
       "      <td>0.347356</td>\n",
       "      <td>0.662506</td>\n",
       "    </tr>\n",
       "    <tr>\n",
       "      <th>51013</th>\n",
       "      <td>0.142115</td>\n",
       "      <td>0.105105</td>\n",
       "      <td>0.229655</td>\n",
       "      <td>0.409510</td>\n",
       "      <td>0.284420</td>\n",
       "      <td>0.314118</td>\n",
       "      <td>0.436525</td>\n",
       "      <td>0.430658</td>\n",
       "      <td>0.397845</td>\n",
       "      <td>0.371264</td>\n",
       "      <td>0.089268</td>\n",
       "    </tr>\n",
       "    <tr>\n",
       "      <th>51015</th>\n",
       "      <td>0.197927</td>\n",
       "      <td>0.147820</td>\n",
       "      <td>0.225123</td>\n",
       "      <td>0.379990</td>\n",
       "      <td>0.321457</td>\n",
       "      <td>0.383072</td>\n",
       "      <td>0.615071</td>\n",
       "      <td>0.686479</td>\n",
       "      <td>0.682759</td>\n",
       "      <td>0.561379</td>\n",
       "      <td>0.582228</td>\n",
       "    </tr>\n",
       "    <tr>\n",
       "      <th>51017</th>\n",
       "      <td>0.382682</td>\n",
       "      <td>0.130588</td>\n",
       "      <td>0.262562</td>\n",
       "      <td>0.372108</td>\n",
       "      <td>0.370891</td>\n",
       "      <td>0.394608</td>\n",
       "      <td>0.681005</td>\n",
       "      <td>0.768185</td>\n",
       "      <td>0.779741</td>\n",
       "      <td>0.641724</td>\n",
       "      <td>0.899831</td>\n",
       "    </tr>\n",
       "    <tr>\n",
       "      <th>51019</th>\n",
       "      <td>0.263026</td>\n",
       "      <td>0.149943</td>\n",
       "      <td>0.237767</td>\n",
       "      <td>0.395053</td>\n",
       "      <td>0.355923</td>\n",
       "      <td>0.371536</td>\n",
       "      <td>0.549974</td>\n",
       "      <td>0.557484</td>\n",
       "      <td>0.521695</td>\n",
       "      <td>0.476207</td>\n",
       "      <td>0.625380</td>\n",
       "    </tr>\n",
       "    <tr>\n",
       "      <th>51021</th>\n",
       "      <td>0.118443</td>\n",
       "      <td>0.129919</td>\n",
       "      <td>0.357997</td>\n",
       "      <td>0.408425</td>\n",
       "      <td>0.355311</td>\n",
       "      <td>0.373595</td>\n",
       "      <td>0.443537</td>\n",
       "      <td>0.314678</td>\n",
       "      <td>0.279310</td>\n",
       "      <td>0.338736</td>\n",
       "      <td>0.777309</td>\n",
       "    </tr>\n",
       "    <tr>\n",
       "      <th>51023</th>\n",
       "      <td>0.149779</td>\n",
       "      <td>0.110621</td>\n",
       "      <td>0.249655</td>\n",
       "      <td>0.355290</td>\n",
       "      <td>0.318886</td>\n",
       "      <td>0.310065</td>\n",
       "      <td>0.424699</td>\n",
       "      <td>0.373102</td>\n",
       "      <td>0.334052</td>\n",
       "      <td>0.345862</td>\n",
       "      <td>0.749672</td>\n",
       "    </tr>\n",
       "    <tr>\n",
       "      <th>51025</th>\n",
       "      <td>0.702975</td>\n",
       "      <td>0.132096</td>\n",
       "      <td>0.192874</td>\n",
       "      <td>0.363204</td>\n",
       "      <td>0.354637</td>\n",
       "      <td>0.357810</td>\n",
       "      <td>0.542125</td>\n",
       "      <td>0.665365</td>\n",
       "      <td>0.745115</td>\n",
       "      <td>0.563563</td>\n",
       "      <td>0.715016</td>\n",
       "    </tr>\n",
       "    <tr>\n",
       "      <th>51027</th>\n",
       "      <td>0.391627</td>\n",
       "      <td>0.134775</td>\n",
       "      <td>0.155074</td>\n",
       "      <td>0.412382</td>\n",
       "      <td>0.309734</td>\n",
       "      <td>0.345882</td>\n",
       "      <td>0.453061</td>\n",
       "      <td>0.475488</td>\n",
       "      <td>0.497126</td>\n",
       "      <td>0.423563</td>\n",
       "      <td>0.889480</td>\n",
       "    </tr>\n",
       "    <tr>\n",
       "      <th>51029</th>\n",
       "      <td>0.111130</td>\n",
       "      <td>0.148215</td>\n",
       "      <td>0.320657</td>\n",
       "      <td>0.451636</td>\n",
       "      <td>0.410468</td>\n",
       "      <td>0.419183</td>\n",
       "      <td>0.486866</td>\n",
       "      <td>0.383659</td>\n",
       "      <td>0.330460</td>\n",
       "      <td>0.392529</td>\n",
       "      <td>0.740312</td>\n",
       "    </tr>\n",
       "    <tr>\n",
       "      <th>51031</th>\n",
       "      <td>0.254414</td>\n",
       "      <td>0.155045</td>\n",
       "      <td>0.253103</td>\n",
       "      <td>0.383724</td>\n",
       "      <td>0.338843</td>\n",
       "      <td>0.414771</td>\n",
       "      <td>0.543380</td>\n",
       "      <td>0.560521</td>\n",
       "      <td>0.542672</td>\n",
       "      <td>0.483563</td>\n",
       "      <td>0.608641</td>\n",
       "    </tr>\n",
       "    <tr>\n",
       "      <th>51033</th>\n",
       "      <td>0.213683</td>\n",
       "      <td>0.123943</td>\n",
       "      <td>0.257931</td>\n",
       "      <td>0.373608</td>\n",
       "      <td>0.390389</td>\n",
       "      <td>0.405065</td>\n",
       "      <td>0.662271</td>\n",
       "      <td>0.761099</td>\n",
       "      <td>0.778305</td>\n",
       "      <td>0.632529</td>\n",
       "      <td>0.622196</td>\n",
       "    </tr>\n",
       "    <tr>\n",
       "      <th>51035</th>\n",
       "      <td>0.192495</td>\n",
       "      <td>0.144379</td>\n",
       "      <td>0.320000</td>\n",
       "      <td>0.284698</td>\n",
       "      <td>0.333884</td>\n",
       "      <td>0.392157</td>\n",
       "      <td>0.651073</td>\n",
       "      <td>0.686913</td>\n",
       "      <td>0.805747</td>\n",
       "      <td>0.721034</td>\n",
       "      <td>0.633690</td>\n",
       "    </tr>\n",
       "    <tr>\n",
       "      <th>51036</th>\n",
       "      <td>0.303286</td>\n",
       "      <td>0.116830</td>\n",
       "      <td>0.306962</td>\n",
       "      <td>0.353247</td>\n",
       "      <td>0.500061</td>\n",
       "      <td>0.364379</td>\n",
       "      <td>0.769545</td>\n",
       "      <td>0.828923</td>\n",
       "      <td>0.837213</td>\n",
       "      <td>0.757701</td>\n",
       "      <td>0.512239</td>\n",
       "    </tr>\n",
       "    <tr>\n",
       "      <th>51037</th>\n",
       "      <td>0.397302</td>\n",
       "      <td>0.109994</td>\n",
       "      <td>0.297833</td>\n",
       "      <td>0.381203</td>\n",
       "      <td>0.444781</td>\n",
       "      <td>0.384477</td>\n",
       "      <td>0.734589</td>\n",
       "      <td>0.826753</td>\n",
       "      <td>0.857759</td>\n",
       "      <td>0.731379</td>\n",
       "      <td>0.652536</td>\n",
       "    </tr>\n",
       "  </tbody>\n",
       "</table>\n",
       "</div>"
      ],
      "text/plain": [
       "          Income      DSCI       PQ1       PQ2       PQ3       PQ4       TQ1  \\\n",
       "County                                                                         \n",
       "51001   0.075854  0.148920  0.319901  0.435870  0.410805  0.412876  0.398849   \n",
       "51003   0.108095  0.182011  0.281478  0.361577  0.330150  0.398268  0.652957   \n",
       "51005   0.187226  0.147870  0.208440  0.382735  0.309672  0.361536  0.590581   \n",
       "51007   0.157467  0.144258  0.319836  0.347694  0.488828  0.370654  0.753323   \n",
       "51009   0.184217  0.145333  0.205452  0.416978  0.325681  0.367647  0.499006   \n",
       "51011   0.140248  0.158561  0.278259  0.427413  0.398133  0.403431  0.427002   \n",
       "51013   0.142115  0.105105  0.229655  0.409510  0.284420  0.314118  0.436525   \n",
       "51015   0.197927  0.147820  0.225123  0.379990  0.321457  0.383072  0.615071   \n",
       "51017   0.382682  0.130588  0.262562  0.372108  0.370891  0.394608  0.681005   \n",
       "51019   0.263026  0.149943  0.237767  0.395053  0.355923  0.371536  0.549974   \n",
       "51021   0.118443  0.129919  0.357997  0.408425  0.355311  0.373595  0.443537   \n",
       "51023   0.149779  0.110621  0.249655  0.355290  0.318886  0.310065  0.424699   \n",
       "51025   0.702975  0.132096  0.192874  0.363204  0.354637  0.357810  0.542125   \n",
       "51027   0.391627  0.134775  0.155074  0.412382  0.309734  0.345882  0.453061   \n",
       "51029   0.111130  0.148215  0.320657  0.451636  0.410468  0.419183  0.486866   \n",
       "51031   0.254414  0.155045  0.253103  0.383724  0.338843  0.414771  0.543380   \n",
       "51033   0.213683  0.123943  0.257931  0.373608  0.390389  0.405065  0.662271   \n",
       "51035   0.192495  0.144379  0.320000  0.284698  0.333884  0.392157  0.651073   \n",
       "51036   0.303286  0.116830  0.306962  0.353247  0.500061  0.364379  0.769545   \n",
       "51037   0.397302  0.109994  0.297833  0.381203  0.444781  0.384477  0.734589   \n",
       "\n",
       "             TQ2       TQ3       TQ4    Forest  \n",
       "County                                          \n",
       "51001   0.223717  0.178736  0.296552  0.064338  \n",
       "51003   0.669414  0.672845  0.580575  0.679813  \n",
       "51005   0.651482  0.660489  0.531379  0.897165  \n",
       "51007   0.808243  0.809483  0.716207  0.651586  \n",
       "51009   0.525380  0.539368  0.463678  0.770831  \n",
       "51011   0.337238  0.280747  0.347356  0.662506  \n",
       "51013   0.430658  0.397845  0.371264  0.089268  \n",
       "51015   0.686479  0.682759  0.561379  0.582228  \n",
       "51017   0.768185  0.779741  0.641724  0.899831  \n",
       "51019   0.557484  0.521695  0.476207  0.625380  \n",
       "51021   0.314678  0.279310  0.338736  0.777309  \n",
       "51023   0.373102  0.334052  0.345862  0.749672  \n",
       "51025   0.665365  0.745115  0.563563  0.715016  \n",
       "51027   0.475488  0.497126  0.423563  0.889480  \n",
       "51029   0.383659  0.330460  0.392529  0.740312  \n",
       "51031   0.560521  0.542672  0.483563  0.608641  \n",
       "51033   0.761099  0.778305  0.632529  0.622196  \n",
       "51035   0.686913  0.805747  0.721034  0.633690  \n",
       "51036   0.828923  0.837213  0.757701  0.512239  \n",
       "51037   0.826753  0.857759  0.731379  0.652536  "
      ]
     },
     "execution_count": 3,
     "metadata": {},
     "output_type": "execute_result"
    }
   ],
   "source": [
    "#Loading locational dataset\n",
    "df = pd.read_csv('../final-dataset/data-scaled-agg.csv', index_col='County')\n",
    "df.head(20)"
   ]
  },
  {
   "cell_type": "code",
   "execution_count": 4,
   "id": "10f95bd6-1b0b-4f2e-a8ec-bd5a8ce3c22e",
   "metadata": {
    "id": "10f95bd6-1b0b-4f2e-a8ec-bd5a8ce3c22e",
    "tags": []
   },
   "outputs": [],
   "source": [
    "# Using the elbow method to determine the k value to be applied\n",
    "k_rng = range(1, 10)\n",
    "sse = []\n",
    "for k in k_rng:\n",
    "    km = KMeans(n_clusters=k, n_init=10)\n",
    "    km.fit(df[['Income','DSCI','PQ1','PQ2','PQ3','PQ4','TQ1','TQ2','TQ3','TQ4','Forest']])\n",
    "    sse.append(km.inertia_)"
   ]
  },
  {
   "cell_type": "code",
   "execution_count": 5,
   "id": "6501a9b5-1bd9-48eb-8634-913e5ea087dd",
   "metadata": {
    "colab": {
     "base_uri": "https://localhost:8080/",
     "height": 466
    },
    "id": "6501a9b5-1bd9-48eb-8634-913e5ea087dd",
    "outputId": "32bb332f-0ea7-4298-a071-49431e697771"
   },
   "outputs": [
    {
     "data": {
      "text/plain": [
       "[<matplotlib.lines.Line2D at 0x17eff21d0>]"
      ]
     },
     "execution_count": 5,
     "metadata": {},
     "output_type": "execute_result"
    },
    {
     "data": {
      "image/png": "[encoded data removed]",
      "text/plain": [
       "<Figure size 640x480 with 1 Axes>"
      ]
     },
     "metadata": {},
     "output_type": "display_data"
    }
   ],
   "source": [
    "# Plot to obtain elbow\n",
    "plt.xlabel('K')\n",
    "plt.ylabel('Sum of squared error')\n",
    "plt.plot(k_rng, sse)"
   ]
  },
  {
   "cell_type": "code",
   "execution_count": 6,
   "id": "58151fd4-fced-4c31-a196-ad82bf276f29",
   "metadata": {
    "id": "58151fd4-fced-4c31-a196-ad82bf276f29"
   },
   "outputs": [],
   "source": [
    "# create clusters using k value = 4\n",
    "hc = AgglomerativeClustering(n_clusters=4, affinity = 'euclidean', linkage = 'ward')"
   ]
  },
  {
   "cell_type": "code",
   "execution_count": 7,
   "id": "c53e90bf-e922-4c51-90b1-4bfa397f72f7",
   "metadata": {
    "colab": {
     "base_uri": "https://localhost:8080/"
    },
    "id": "c53e90bf-e922-4c51-90b1-4bfa397f72f7",
    "outputId": "f0578545-701f-44b0-f7d7-fdcb0998f881"
   },
   "outputs": [
    {
     "name": "stderr",
     "output_type": "stream",
     "text": [
      "/Users/hananur/anaconda3/lib/python3.10/site-packages/sklearn/cluster/_agglomerative.py:1005: FutureWarning: Attribute `affinity` was deprecated in version 1.2 and will be removed in 1.4. Use `metric` instead\n",
      "  warnings.warn(\n"
     ]
    }
   ],
   "source": [
    "# Determining mean cluster characterisitics\n",
    "y_hc = hc.fit_predict(df[['Income','DSCI','PQ1','PQ2','PQ3','PQ4','TQ1','TQ2','TQ3','TQ4','Forest']])\n",
    "df['cluster'] = y_hc\n",
    "df.sort_values(\"cluster\", inplace = True, ascending=True)\n",
    "\n",
    "#average input vars by cluster\n",
    "df_cluster = df.groupby('cluster').mean()"
   ]
  },
  {
   "cell_type": "code",
   "execution_count": 8,
   "id": "ebcef5cd-a552-4dd2-b451-8ddce6157a92",
   "metadata": {
    "colab": {
     "base_uri": "https://localhost:8080/",
     "height": 539
    },
    "id": "ebcef5cd-a552-4dd2-b451-8ddce6157a92",
    "outputId": "7deb4d7c-f412-4b76-b876-fc12c05cd4bf",
    "tags": []
   },
   "outputs": [
    {
     "data": {
      "text/plain": [
       "<Axes: ylabel='cluster'>"
      ]
     },
     "execution_count": 8,
     "metadata": {},
     "output_type": "execute_result"
    },
    {
     "data": {
      "image/png": "[encoded data removed]",
      "text/plain": [
       "<Figure size 800x600 with 2 Axes>"
      ]
     },
     "metadata": {},
     "output_type": "display_data"
    }
   ],
   "source": [
    "#Heatmap of cluster characteristics\n",
    "plt.figure(figsize=(8,6))\n",
    "sns.heatmap(df_cluster, annot=True, cmap=\"Blues\", linewidths=.5)"
   ]
  },
  {
   "cell_type": "code",
   "execution_count": 9,
   "id": "06dd88cf-c4c7-4eb6-81e8-cb33239bd9bf",
   "metadata": {
    "colab": {
     "base_uri": "https://localhost:8080/"
    },
    "id": "06dd88cf-c4c7-4eb6-81e8-cb33239bd9bf",
    "outputId": "5e1b9c7f-bd06-4f62-bf59-e5703cbeeac1",
    "tags": []
   },
   "outputs": [
    {
     "data": {
      "text/plain": [
       "cluster\n",
       "0    40\n",
       "2    23\n",
       "1    22\n",
       "3     5\n",
       "Name: count, dtype: int64"
      ]
     },
     "execution_count": 9,
     "metadata": {},
     "output_type": "execute_result"
    }
   ],
   "source": [
    "# see how clusters are distributed\n",
    "df['cluster'].value_counts()"
   ]
  },
  {
   "cell_type": "code",
   "execution_count": 10,
   "id": "8b74d556-a0ca-4fc1-b820-085103bc5f47",
   "metadata": {
    "colab": {
     "base_uri": "https://localhost:8080/",
     "height": 237
    },
    "id": "8b74d556-a0ca-4fc1-b820-085103bc5f47",
    "outputId": "143869f4-ac14-4a2e-bf49-d86e3a3fcb6c",
    "tags": []
   },
   "outputs": [
    {
     "data": {
      "text/html": [
       "<div>\n",
       "<style scoped>\n",
       "    .dataframe tbody tr th:only-of-type {\n",
       "        vertical-align: middle;\n",
       "    }\n",
       "\n",
       "    .dataframe tbody tr th {\n",
       "        vertical-align: top;\n",
       "    }\n",
       "\n",
       "    .dataframe thead th {\n",
       "        text-align: right;\n",
       "    }\n",
       "</style>\n",
       "<table border=\"1\" class=\"dataframe\">\n",
       "  <thead>\n",
       "    <tr style=\"text-align: right;\">\n",
       "      <th></th>\n",
       "      <th>Income</th>\n",
       "      <th>DSCI</th>\n",
       "      <th>PQ1</th>\n",
       "      <th>PQ2</th>\n",
       "      <th>PQ3</th>\n",
       "      <th>PQ4</th>\n",
       "      <th>TQ1</th>\n",
       "      <th>TQ2</th>\n",
       "      <th>TQ3</th>\n",
       "      <th>TQ4</th>\n",
       "      <th>Forest</th>\n",
       "      <th>cluster</th>\n",
       "    </tr>\n",
       "    <tr>\n",
       "      <th>County</th>\n",
       "      <th></th>\n",
       "      <th></th>\n",
       "      <th></th>\n",
       "      <th></th>\n",
       "      <th></th>\n",
       "      <th></th>\n",
       "      <th></th>\n",
       "      <th></th>\n",
       "      <th></th>\n",
       "      <th></th>\n",
       "      <th></th>\n",
       "      <th></th>\n",
       "    </tr>\n",
       "  </thead>\n",
       "  <tbody>\n",
       "    <tr>\n",
       "      <th>51013</th>\n",
       "      <td>0.142115</td>\n",
       "      <td>0.105105</td>\n",
       "      <td>0.229655</td>\n",
       "      <td>0.409510</td>\n",
       "      <td>0.284420</td>\n",
       "      <td>0.314118</td>\n",
       "      <td>0.436525</td>\n",
       "      <td>0.430658</td>\n",
       "      <td>0.397845</td>\n",
       "      <td>0.371264</td>\n",
       "      <td>0.089268</td>\n",
       "      <td>3</td>\n",
       "    </tr>\n",
       "    <tr>\n",
       "      <th>51107</th>\n",
       "      <td>0.176528</td>\n",
       "      <td>0.129553</td>\n",
       "      <td>0.262200</td>\n",
       "      <td>0.422371</td>\n",
       "      <td>0.304163</td>\n",
       "      <td>0.345719</td>\n",
       "      <td>0.243119</td>\n",
       "      <td>0.193782</td>\n",
       "      <td>0.158764</td>\n",
       "      <td>0.189310</td>\n",
       "      <td>0.359856</td>\n",
       "      <td>3</td>\n",
       "    </tr>\n",
       "    <tr>\n",
       "      <th>51131</th>\n",
       "      <td>0.099351</td>\n",
       "      <td>0.117189</td>\n",
       "      <td>0.439573</td>\n",
       "      <td>0.415893</td>\n",
       "      <td>0.389930</td>\n",
       "      <td>0.397124</td>\n",
       "      <td>0.467713</td>\n",
       "      <td>0.404628</td>\n",
       "      <td>0.346264</td>\n",
       "      <td>0.386092</td>\n",
       "      <td>0.098323</td>\n",
       "      <td>3</td>\n",
       "    </tr>\n",
       "    <tr>\n",
       "      <th>51115</th>\n",
       "      <td>0.131867</td>\n",
       "      <td>0.118457</td>\n",
       "      <td>0.362594</td>\n",
       "      <td>0.415861</td>\n",
       "      <td>0.354178</td>\n",
       "      <td>0.358072</td>\n",
       "      <td>0.411094</td>\n",
       "      <td>0.293565</td>\n",
       "      <td>0.254598</td>\n",
       "      <td>0.315172</td>\n",
       "      <td>0.224077</td>\n",
       "      <td>3</td>\n",
       "    </tr>\n",
       "    <tr>\n",
       "      <th>51001</th>\n",
       "      <td>0.075854</td>\n",
       "      <td>0.148920</td>\n",
       "      <td>0.319901</td>\n",
       "      <td>0.435870</td>\n",
       "      <td>0.410805</td>\n",
       "      <td>0.412876</td>\n",
       "      <td>0.398849</td>\n",
       "      <td>0.223717</td>\n",
       "      <td>0.178736</td>\n",
       "      <td>0.296552</td>\n",
       "      <td>0.064338</td>\n",
       "      <td>3</td>\n",
       "    </tr>\n",
       "  </tbody>\n",
       "</table>\n",
       "</div>"
      ],
      "text/plain": [
       "          Income      DSCI       PQ1       PQ2       PQ3       PQ4       TQ1  \\\n",
       "County                                                                         \n",
       "51013   0.142115  0.105105  0.229655  0.409510  0.284420  0.314118  0.436525   \n",
       "51107   0.176528  0.129553  0.262200  0.422371  0.304163  0.345719  0.243119   \n",
       "51131   0.099351  0.117189  0.439573  0.415893  0.389930  0.397124  0.467713   \n",
       "51115   0.131867  0.118457  0.362594  0.415861  0.354178  0.358072  0.411094   \n",
       "51001   0.075854  0.148920  0.319901  0.435870  0.410805  0.412876  0.398849   \n",
       "\n",
       "             TQ2       TQ3       TQ4    Forest  cluster  \n",
       "County                                                   \n",
       "51013   0.430658  0.397845  0.371264  0.089268        3  \n",
       "51107   0.193782  0.158764  0.189310  0.359856        3  \n",
       "51131   0.404628  0.346264  0.386092  0.098323        3  \n",
       "51115   0.293565  0.254598  0.315172  0.224077        3  \n",
       "51001   0.223717  0.178736  0.296552  0.064338        3  "
      ]
     },
     "execution_count": 10,
     "metadata": {},
     "output_type": "execute_result"
    }
   ],
   "source": [
    "# Look at counties in smallest cluster\n",
    "df[df['cluster'] == 3]"
   ]
  },
  {
   "cell_type": "code",
   "execution_count": 11,
   "id": "7b5bc02b-f639-4adb-9d63-482c26a2a078",
   "metadata": {
    "colab": {
     "base_uri": "https://localhost:8080/"
    },
    "id": "7b5bc02b-f639-4adb-9d63-482c26a2a078",
    "outputId": "f84a94e4-4b9d-4ddb-ec5b-c04448d763e4"
   },
   "outputs": [
    {
     "name": "stdout",
     "output_type": "stream",
     "text": [
      "[3 2 2 0 2 1 3 0 2 2 1 1 2 2 1 2 0 0 0 0 1 1 2 1 2 0 0 0 0 0 2 2 0 1 0 2 0\n",
      " 0 0 0 1 0 1 1 0 1 0 0 2 0 3 2 1 1 3 1 0 0 2 0 3 1 1 0 0 2 0 2 2 0 0 2 0 2\n",
      " 1 0 2 1 1 2 0 0 0 0 0 1 0 0 1 0]\n"
     ]
    }
   ],
   "source": [
    "#To obtain the entire cluster labels\n",
    "print(hc.labels_)"
   ]
  },
  {
   "cell_type": "markdown",
   "id": "7253b926-47c5-4262-876d-b4f345be9c41",
   "metadata": {
    "id": "7253b926-47c5-4262-876d-b4f345be9c41",
    "tags": []
   },
   "source": [
    "# Categorizing the clusters as suitability levels"
   ]
  },
  {
   "cell_type": "code",
   "execution_count": 12,
   "id": "8a152855-76c0-4ef1-967b-9a917a6e9be6",
   "metadata": {
    "id": "8a152855-76c0-4ef1-967b-9a917a6e9be6"
   },
   "outputs": [],
   "source": [
    "# Need to research into what factors lead to land being more suitable for forestation\n",
    "# Then assign levels based on the averages of each cluster from above\n",
    "\n",
    "# Maybe redo if we can get more data and redo clusters\n"
   ]
  },
  {
   "cell_type": "markdown",
   "id": "dddc3213-6d61-4ebb-ba35-82b8a3210a0a",
   "metadata": {
    "id": "dddc3213-6d61-4ebb-ba35-82b8a3210a0a"
   },
   "source": [
    "# KNN for suitability prediction"
   ]
  },
  {
   "cell_type": "code",
   "execution_count": 88,
   "id": "80e2f061-0693-4db9-8f15-00d47da2697c",
   "metadata": {
    "id": "80e2f061-0693-4db9-8f15-00d47da2697c",
    "tags": []
   },
   "outputs": [],
   "source": [
    "# loading everything that might be helpful\n",
    "import sys\n",
    "import sklearn\n",
    "import os\n",
    "import numpy as np\n",
    "import matplotlib as mpl\n",
    "import matplotlib.pyplot as plt\n",
    "from functools import partial\n",
    "import PIL\n",
    "import PIL.Image\n",
    "import torch\n",
    "from torch.utils.data import DataLoader, random_split\n",
    "from torch import Generator\n",
    "from torchvision.transforms import ToTensor\n",
    "from torchvision.datasets import ImageFolder\n",
    "from torch import manual_seed as torch_manual_seed\n",
    "import random\n",
    "import numpy as np\n",
    "\n",
    "from torch.cuda import max_memory_allocated, set_device, manual_seed_all\n",
    "from torch.backends import cudnn\n",
    "from sklearn.metrics import accuracy_score, classification_report\n",
    "\n",
    "def setup_seed(seed):\n",
    "    torch_manual_seed(seed)\n",
    "    manual_seed_all(seed)\n",
    "    np.random.seed(seed)\n",
    "    random.seed(seed)\n",
    "    cudnn.deterministic = True\n",
    "\n",
    "SEED = 42\n",
    "setup_seed(SEED)"
   ]
  },
  {
   "cell_type": "code",
   "execution_count": 23,
   "id": "b3de55d7-4e14-4103-badf-c65e43cf6ba0",
   "metadata": {},
   "outputs": [
    {
     "data": {
      "text/html": [
       "<div>\n",
       "<style scoped>\n",
       "    .dataframe tbody tr th:only-of-type {\n",
       "        vertical-align: middle;\n",
       "    }\n",
       "\n",
       "    .dataframe tbody tr th {\n",
       "        vertical-align: top;\n",
       "    }\n",
       "\n",
       "    .dataframe thead th {\n",
       "        text-align: right;\n",
       "    }\n",
       "</style>\n",
       "<table border=\"1\" class=\"dataframe\">\n",
       "  <thead>\n",
       "    <tr style=\"text-align: right;\">\n",
       "      <th></th>\n",
       "      <th>Income</th>\n",
       "      <th>DSCI</th>\n",
       "      <th>PQ1</th>\n",
       "      <th>PQ2</th>\n",
       "      <th>PQ3</th>\n",
       "      <th>PQ4</th>\n",
       "      <th>TQ1</th>\n",
       "      <th>TQ2</th>\n",
       "      <th>TQ3</th>\n",
       "      <th>TQ4</th>\n",
       "      <th>Forest</th>\n",
       "      <th>cluster</th>\n",
       "    </tr>\n",
       "    <tr>\n",
       "      <th>County</th>\n",
       "      <th></th>\n",
       "      <th></th>\n",
       "      <th></th>\n",
       "      <th></th>\n",
       "      <th></th>\n",
       "      <th></th>\n",
       "      <th></th>\n",
       "      <th></th>\n",
       "      <th></th>\n",
       "      <th></th>\n",
       "      <th></th>\n",
       "      <th></th>\n",
       "    </tr>\n",
       "  </thead>\n",
       "  <tbody>\n",
       "    <tr>\n",
       "      <th>51095</th>\n",
       "      <td>0.133077</td>\n",
       "      <td>0.177256</td>\n",
       "      <td>0.293530</td>\n",
       "      <td>0.385767</td>\n",
       "      <td>0.355096</td>\n",
       "      <td>0.424967</td>\n",
       "      <td>0.656306</td>\n",
       "      <td>0.687925</td>\n",
       "      <td>0.666092</td>\n",
       "      <td>0.575862</td>\n",
       "      <td>0.443005</td>\n",
       "      <td>0</td>\n",
       "    </tr>\n",
       "    <tr>\n",
       "      <th>51073</th>\n",
       "      <td>0.103257</td>\n",
       "      <td>0.174113</td>\n",
       "      <td>0.261872</td>\n",
       "      <td>0.316100</td>\n",
       "      <td>0.317447</td>\n",
       "      <td>0.384216</td>\n",
       "      <td>0.679749</td>\n",
       "      <td>0.725813</td>\n",
       "      <td>0.732471</td>\n",
       "      <td>0.619540</td>\n",
       "      <td>0.465336</td>\n",
       "      <td>0</td>\n",
       "    </tr>\n",
       "    <tr>\n",
       "      <th>51077</th>\n",
       "      <td>0.343727</td>\n",
       "      <td>0.108168</td>\n",
       "      <td>0.296355</td>\n",
       "      <td>0.364066</td>\n",
       "      <td>0.443771</td>\n",
       "      <td>0.378203</td>\n",
       "      <td>0.750916</td>\n",
       "      <td>0.835864</td>\n",
       "      <td>0.872845</td>\n",
       "      <td>0.761034</td>\n",
       "      <td>0.665734</td>\n",
       "      <td>0</td>\n",
       "    </tr>\n",
       "    <tr>\n",
       "      <th>51079</th>\n",
       "      <td>0.085511</td>\n",
       "      <td>0.189160</td>\n",
       "      <td>0.292479</td>\n",
       "      <td>0.313356</td>\n",
       "      <td>0.348699</td>\n",
       "      <td>0.378562</td>\n",
       "      <td>0.712611</td>\n",
       "      <td>0.769487</td>\n",
       "      <td>0.782040</td>\n",
       "      <td>0.659195</td>\n",
       "      <td>0.668776</td>\n",
       "      <td>0</td>\n",
       "    </tr>\n",
       "    <tr>\n",
       "      <th>51081</th>\n",
       "      <td>0.182271</td>\n",
       "      <td>0.170831</td>\n",
       "      <td>0.257011</td>\n",
       "      <td>0.335918</td>\n",
       "      <td>0.321886</td>\n",
       "      <td>0.387484</td>\n",
       "      <td>0.670958</td>\n",
       "      <td>0.733478</td>\n",
       "      <td>0.734626</td>\n",
       "      <td>0.610575</td>\n",
       "      <td>0.516608</td>\n",
       "      <td>0</td>\n",
       "    </tr>\n",
       "    <tr>\n",
       "      <th>...</th>\n",
       "      <td>...</td>\n",
       "      <td>...</td>\n",
       "      <td>...</td>\n",
       "      <td>...</td>\n",
       "      <td>...</td>\n",
       "      <td>...</td>\n",
       "      <td>...</td>\n",
       "      <td>...</td>\n",
       "      <td>...</td>\n",
       "      <td>...</td>\n",
       "      <td>...</td>\n",
       "      <td>...</td>\n",
       "    </tr>\n",
       "    <tr>\n",
       "      <th>51013</th>\n",
       "      <td>0.142115</td>\n",
       "      <td>0.105105</td>\n",
       "      <td>0.229655</td>\n",
       "      <td>0.409510</td>\n",
       "      <td>0.284420</td>\n",
       "      <td>0.314118</td>\n",
       "      <td>0.436525</td>\n",
       "      <td>0.430658</td>\n",
       "      <td>0.397845</td>\n",
       "      <td>0.371264</td>\n",
       "      <td>0.089268</td>\n",
       "      <td>3</td>\n",
       "    </tr>\n",
       "    <tr>\n",
       "      <th>51107</th>\n",
       "      <td>0.176528</td>\n",
       "      <td>0.129553</td>\n",
       "      <td>0.262200</td>\n",
       "      <td>0.422371</td>\n",
       "      <td>0.304163</td>\n",
       "      <td>0.345719</td>\n",
       "      <td>0.243119</td>\n",
       "      <td>0.193782</td>\n",
       "      <td>0.158764</td>\n",
       "      <td>0.189310</td>\n",
       "      <td>0.359856</td>\n",
       "      <td>3</td>\n",
       "    </tr>\n",
       "    <tr>\n",
       "      <th>51131</th>\n",
       "      <td>0.099351</td>\n",
       "      <td>0.117189</td>\n",
       "      <td>0.439573</td>\n",
       "      <td>0.415893</td>\n",
       "      <td>0.389930</td>\n",
       "      <td>0.397124</td>\n",
       "      <td>0.467713</td>\n",
       "      <td>0.404628</td>\n",
       "      <td>0.346264</td>\n",
       "      <td>0.386092</td>\n",
       "      <td>0.098323</td>\n",
       "      <td>3</td>\n",
       "    </tr>\n",
       "    <tr>\n",
       "      <th>51115</th>\n",
       "      <td>0.131867</td>\n",
       "      <td>0.118457</td>\n",
       "      <td>0.362594</td>\n",
       "      <td>0.415861</td>\n",
       "      <td>0.354178</td>\n",
       "      <td>0.358072</td>\n",
       "      <td>0.411094</td>\n",
       "      <td>0.293565</td>\n",
       "      <td>0.254598</td>\n",
       "      <td>0.315172</td>\n",
       "      <td>0.224077</td>\n",
       "      <td>3</td>\n",
       "    </tr>\n",
       "    <tr>\n",
       "      <th>51001</th>\n",
       "      <td>0.075854</td>\n",
       "      <td>0.148920</td>\n",
       "      <td>0.319901</td>\n",
       "      <td>0.435870</td>\n",
       "      <td>0.410805</td>\n",
       "      <td>0.412876</td>\n",
       "      <td>0.398849</td>\n",
       "      <td>0.223717</td>\n",
       "      <td>0.178736</td>\n",
       "      <td>0.296552</td>\n",
       "      <td>0.064338</td>\n",
       "      <td>3</td>\n",
       "    </tr>\n",
       "  </tbody>\n",
       "</table>\n",
       "<p>90 rows × 12 columns</p>\n",
       "</div>"
      ],
      "text/plain": [
       "          Income      DSCI       PQ1       PQ2       PQ3       PQ4       TQ1  \\\n",
       "County                                                                         \n",
       "51095   0.133077  0.177256  0.293530  0.385767  0.355096  0.424967  0.656306   \n",
       "51073   0.103257  0.174113  0.261872  0.316100  0.317447  0.384216  0.679749   \n",
       "51077   0.343727  0.108168  0.296355  0.364066  0.443771  0.378203  0.750916   \n",
       "51079   0.085511  0.189160  0.292479  0.313356  0.348699  0.378562  0.712611   \n",
       "51081   0.182271  0.170831  0.257011  0.335918  0.321886  0.387484  0.670958   \n",
       "...          ...       ...       ...       ...       ...       ...       ...   \n",
       "51013   0.142115  0.105105  0.229655  0.409510  0.284420  0.314118  0.436525   \n",
       "51107   0.176528  0.129553  0.262200  0.422371  0.304163  0.345719  0.243119   \n",
       "51131   0.099351  0.117189  0.439573  0.415893  0.389930  0.397124  0.467713   \n",
       "51115   0.131867  0.118457  0.362594  0.415861  0.354178  0.358072  0.411094   \n",
       "51001   0.075854  0.148920  0.319901  0.435870  0.410805  0.412876  0.398849   \n",
       "\n",
       "             TQ2       TQ3       TQ4    Forest  cluster  \n",
       "County                                                   \n",
       "51095   0.687925  0.666092  0.575862  0.443005        0  \n",
       "51073   0.725813  0.732471  0.619540  0.465336        0  \n",
       "51077   0.835864  0.872845  0.761034  0.665734        0  \n",
       "51079   0.769487  0.782040  0.659195  0.668776        0  \n",
       "51081   0.733478  0.734626  0.610575  0.516608        0  \n",
       "...          ...       ...       ...       ...      ...  \n",
       "51013   0.430658  0.397845  0.371264  0.089268        3  \n",
       "51107   0.193782  0.158764  0.189310  0.359856        3  \n",
       "51131   0.404628  0.346264  0.386092  0.098323        3  \n",
       "51115   0.293565  0.254598  0.315172  0.224077        3  \n",
       "51001   0.223717  0.178736  0.296552  0.064338        3  \n",
       "\n",
       "[90 rows x 12 columns]"
      ]
     },
     "execution_count": 23,
     "metadata": {},
     "output_type": "execute_result"
    }
   ],
   "source": [
    "df"
   ]
  },
  {
   "cell_type": "code",
   "execution_count": 24,
   "id": "b3918441-f999-432e-9fe1-a173b455dd6b",
   "metadata": {
    "colab": {
     "base_uri": "https://localhost:8080/"
    },
    "id": "d126267d-f430-4da8-a1de-878c3fe08d0e",
    "outputId": "d7d8c98e-218e-481b-9d61-ec29c79ca51f",
    "tags": []
   },
   "outputs": [
    {
     "name": "stdout",
     "output_type": "stream",
     "text": [
      "Before splitting the full dataset into train, validation, and test: len(dataset_all)=90\n",
      "After splitting the full dataset into train, validation, and test: len(dataset_train)=68, len(dataset_val)=16, len(dataset_test)=6\n"
     ]
    }
   ],
   "source": [
    "TEST_RATIO = 0.2\n",
    "BATCH_SIZE = 32\n",
    "\n",
    "size_all = len(df)\n",
    "print(f'Before splitting the full dataset into train, validation, and test: len(dataset_all)={size_all}')\n",
    "\n",
    "# training/val/test dataset\n",
    "size_train = size_all - 6\n",
    "size_val = int(size_train * TEST_RATIO)\n",
    "size_train_sub = size_train - size_val\n",
    "\n",
    "# split data into train and test\n",
    "# Test = 6 counties of interst: Accomack, Fauquier, Greensville, Hanover, Rockingham, Wise\n",
    "dataset_test = df.loc[[51001, 51061, 51081, 51085, 51165, 51195]]\n",
    "\n",
    "# Train = all except 6 counties of interest\n",
    "dataset_train = df.drop([51001, 51061, 51081, 51085, 51165, 51195])\n",
    "\n",
    "# split training data into train and validation\n",
    "dataset_train, dataset_val = random_split(dataset_train, [size_train_sub, size_val], generator=Generator().manual_seed(SEED))\n",
    "print(f'After splitting the full dataset into train, validation, and test: len(dataset_train)={len(dataset_train)}, len(dataset_val)={len(dataset_val)}, len(dataset_test)=6')\n",
    "\n",
    "# NOTE that you must not use the test dataset for model selection"
   ]
  },
  {
   "cell_type": "code",
   "execution_count": 25,
   "id": "1f7b559b-8908-42a6-97ed-9e7fab7297bb",
   "metadata": {},
   "outputs": [],
   "source": [
    "from sklearn.model_selection import train_test_split\n",
    "from torch.utils.data import TensorDataset, DataLoader"
   ]
  },
  {
   "cell_type": "code",
   "execution_count": 26,
   "id": "128b912d-7ade-4612-9b92-7d44b3d3ac52",
   "metadata": {},
   "outputs": [],
   "source": [
    "X_train = df.drop([51001, 51061, 51081, 51085, 51165, 51195])\n",
    "X_train_full = X_train[['Income','DSCI','PQ1','PQ2','PQ3','PQ4','TQ1','TQ2','TQ3','TQ4','Forest']]\n",
    "\n",
    "y_train = df.drop([51001, 51061, 51081, 51085, 51165, 51195])\n",
    "y_train_full = y_train['cluster']\n",
    "\n",
    "X_train, X_val, y_train, y_val = train_test_split(X_train_full, y_train_full, test_size= 0.2, random_state=49)"
   ]
  },
  {
   "cell_type": "code",
   "execution_count": 27,
   "id": "677ad53b-3ba8-43eb-bcef-0649debc9c9a",
   "metadata": {
    "tags": []
   },
   "outputs": [],
   "source": [
    "#training data\n",
    "X_train_tensor = torch.tensor(X_train.values, dtype=torch.float32)\n",
    "y_train_tensor = torch.tensor(y_train.values, dtype=torch.float32)"
   ]
  },
  {
   "cell_type": "code",
   "execution_count": 28,
   "id": "f29ac9ec-a575-4490-b270-268b2548d133",
   "metadata": {},
   "outputs": [],
   "source": [
    "#testing data\n",
    "X_test = df.loc[[51001, 51061, 51081, 51085, 51165, 51195]]\n",
    "X_test = X_test[['Income','DSCI','PQ1','PQ2','PQ3','PQ4','TQ1','TQ2','TQ3','TQ4','Forest']]\n",
    "X_test_tensor = torch.tensor(X_test.values, dtype=torch.float32)\n",
    "\n",
    "y_test = df.loc[[51001, 51061, 51081, 51085, 51165, 51195]]\n",
    "y_test = y_test['cluster']\n",
    "y_test_tensor = torch.tensor(y_test.values, dtype=torch.float32)"
   ]
  },
  {
   "cell_type": "code",
   "execution_count": 29,
   "id": "9ceca232-1e59-433a-b598-88c92527ab79",
   "metadata": {},
   "outputs": [],
   "source": [
    "#val data\n",
    "X_val_tensor = torch.tensor(X_val.values, dtype=torch.float32)\n",
    "y_val_tensor = torch.tensor(y_val.values, dtype=torch.float32)"
   ]
  },
  {
   "cell_type": "code",
   "execution_count": 30,
   "id": "cf920cac-ef6f-419d-b88f-054113d1b953",
   "metadata": {
    "id": "cf920cac-ef6f-419d-b88f-054113d1b953"
   },
   "outputs": [],
   "source": [
    "#train data\n",
    "training_data = TensorDataset(X_train_tensor, y_train_tensor)\n",
    "train_dataloader = DataLoader(training_data, batch_size=64)\n",
    "\n",
    "#test data\n",
    "test_data = TensorDataset(X_test_tensor, y_test_tensor)\n",
    "test_dataloader = DataLoader(test_data, batch_size=64)\n",
    "\n",
    "#validate data\n",
    "val_data = TensorDataset(X_val_tensor, y_val_tensor)\n",
    "val_dataloader = DataLoader(val_data, batch_size=64)"
   ]
  },
  {
   "cell_type": "code",
   "execution_count": 74,
   "id": "aa0caf5d-a3c0-4c97-93f3-3987224952fa",
   "metadata": {
    "id": "aa0caf5d-a3c0-4c97-93f3-3987224952fa"
   },
   "outputs": [
    {
     "name": "stdout",
     "output_type": "stream",
     "text": [
      "1 neighbors - validation accuracy: 0.82353 14/17\n",
      "2 neighbors - validation accuracy: 0.88235 15/17\n",
      "3 neighbors - validation accuracy: 0.88235 15/17\n",
      "4 neighbors - validation accuracy: 0.82353 14/17\n",
      "5 neighbors - validation accuracy: 0.88235 15/17\n",
      "6 neighbors - validation accuracy: 0.76471 13/17\n",
      "7 neighbors - validation accuracy: 0.70588 12/17\n",
      "8 neighbors - validation accuracy: 0.70588 12/17\n",
      "9 neighbors - validation accuracy: 0.70588 12/17\n",
      "10 neighbors - validation accuracy: 0.70588 12/17\n"
     ]
    }
   ],
   "source": [
    "from sklearn.neighbors import KNeighborsClassifier\n",
    "n_acc = [0]*11\n",
    "for n in [1,2,3,4,5,6,7,8,9,10]:\n",
    "    neigh = KNeighborsClassifier(n_neighbors=n)\n",
    "    neigh.fit(X_train, y_train)\n",
    "    preds = neigh.predict(X_val)\n",
    "    correct = 0\n",
    "    for i in range(len(preds)):\n",
    "        if preds[i]==y_val.values[i]:\n",
    "            correct += 1\n",
    "    acc = correct/len(preds)\n",
    "    n_acc[n] = acc\n",
    "    print(f'{n} neighbors - validation accuracy: {round(acc, 5)} {correct}/{len(preds)}')"
   ]
  },
  {
   "cell_type": "code",
   "execution_count": 82,
   "id": "58d79aa2-a09f-420a-9452-64eaeec6f035",
   "metadata": {},
   "outputs": [
    {
     "data": {
      "text/plain": [
       "Text(0.5, 1.0, 'Validation Accuracy By Number of Neighbors')"
      ]
     },
     "execution_count": 82,
     "metadata": {},
     "output_type": "execute_result"
    },
    {
     "data": {
      "image/png": "[encoded data removed]",
      "text/plain": [
       "<Figure size 640x480 with 1 Axes>"
      ]
     },
     "metadata": {},
     "output_type": "display_data"
    }
   ],
   "source": [
    "fig, ax = plt.subplots() \n",
    "ax.plot([i for i in range(1,len(n_acc))], n_acc[1:])\n",
    "plt.xlabel('Num Neighbors')\n",
    "plt.ylabel('Validation Accuracy')\n",
    "ax.set_xticks(np.arange(len(n_acc)))\n",
    "plt.title('Validation Accuracy By Number of Neighbors')"
   ]
  },
  {
   "cell_type": "code",
   "execution_count": 76,
   "id": "45de503c-47f0-4eb9-a391-0b9892722a34",
   "metadata": {},
   "outputs": [
    {
     "name": "stdout",
     "output_type": "stream",
     "text": [
      "2 neighbors - test accuracy: 1.0 6/6\n",
      "3 neighbors - test accuracy: 1.0 6/6\n",
      "5 neighbors - test accuracy: 1.0 6/6\n"
     ]
    }
   ],
   "source": [
    "nn = [i for i in range(len(n_acc)) if n_acc[i]==max(n_acc)]\n",
    "for n in nn:\n",
    "    neigh = KNeighborsClassifier(n_neighbors=n)\n",
    "    neigh.fit(X_train, y_train)\n",
    "    preds = neigh.predict(X_test)\n",
    "    correct = 0\n",
    "    for i in range(len(preds)):\n",
    "        if preds[i]==y_test.values[i]:\n",
    "            correct += 1\n",
    "        acc = correct/len(preds)\n",
    "    print(f'{n} neighbors - test accuracy: {round(acc, 5)} {correct}/{len(preds)}')"
   ]
  },
  {
   "cell_type": "code",
   "execution_count": 91,
   "id": "fc4c9169-5742-4331-a54d-d1f5a5eff176",
   "metadata": {},
   "outputs": [
    {
     "name": "stdout",
     "output_type": "stream",
     "text": [
      "Validation Accuracy: 0.88\n",
      "Validation Classification Report:\n",
      "              precision    recall  f1-score   support\n",
      "\n",
      "           0       1.00      1.00      1.00         9\n",
      "           1       1.00      0.50      0.67         4\n",
      "           2       0.60      1.00      0.75         3\n",
      "           3       1.00      1.00      1.00         1\n",
      "\n",
      "    accuracy                           0.88        17\n",
      "   macro avg       0.90      0.88      0.85        17\n",
      "weighted avg       0.93      0.88      0.88        17\n",
      "\n",
      "Test Accuracy: 1.00\n",
      "Test Classification Report:\n",
      "              precision    recall  f1-score   support\n",
      "\n",
      "           0       1.00      1.00      1.00         4\n",
      "           1       1.00      1.00      1.00         1\n",
      "           3       1.00      1.00      1.00         1\n",
      "\n",
      "    accuracy                           1.00         6\n",
      "   macro avg       1.00      1.00      1.00         6\n",
      "weighted avg       1.00      1.00      1.00         6\n",
      "\n"
     ]
    }
   ],
   "source": [
    "neigh = KNeighborsClassifier(n_neighbors=3)\n",
    "neigh.fit(X_train, y_train)\n",
    "\n",
    "y_pred = neigh.predict(X_val)\n",
    "accuracy = accuracy_score(y_val, y_pred)\n",
    "print(f\"Validation Accuracy: {accuracy:.2f}\")\n",
    "print(\"Validation Classification Report:\")\n",
    "print(classification_report(y_val, y_pred))\n",
    "\n",
    "y_pred = neigh.predict(X_test)\n",
    "accuracy = accuracy_score(y_test, y_pred)\n",
    "print(f\"Test Accuracy: {accuracy:.2f}\")\n",
    "print(\"Test Classification Report:\")\n",
    "print(classification_report(y_test, y_pred))"
   ]
  },
  {
   "cell_type": "markdown",
   "id": "6f06c9b6-27d4-46ad-b8df-6b5dc5269030",
   "metadata": {},
   "source": [
    "# Naive Bayes for suitability prediction"
   ]
  },
  {
   "cell_type": "code",
   "execution_count": 93,
   "id": "41865a16-0652-4ea6-8c4c-4c596fee55a9",
   "metadata": {},
   "outputs": [
    {
     "name": "stdout",
     "output_type": "stream",
     "text": [
      "Accuracy: 0.53\n",
      "Validation Classification Report:\n",
      "              precision    recall  f1-score   support\n",
      "\n",
      "           0       0.53      1.00      0.69         9\n",
      "           1       0.00      0.00      0.00         4\n",
      "           2       0.00      0.00      0.00         3\n",
      "           3       0.00      0.00      0.00         1\n",
      "\n",
      "    accuracy                           0.53        17\n",
      "   macro avg       0.13      0.25      0.17        17\n",
      "weighted avg       0.28      0.53      0.37        17\n",
      "\n"
     ]
    },
    {
     "name": "stderr",
     "output_type": "stream",
     "text": [
      "/Users/hananur/anaconda3/lib/python3.10/site-packages/sklearn/metrics/_classification.py:1469: UndefinedMetricWarning: Precision and F-score are ill-defined and being set to 0.0 in labels with no predicted samples. Use `zero_division` parameter to control this behavior.\n",
      "  _warn_prf(average, modifier, msg_start, len(result))\n",
      "/Users/hananur/anaconda3/lib/python3.10/site-packages/sklearn/metrics/_classification.py:1469: UndefinedMetricWarning: Precision and F-score are ill-defined and being set to 0.0 in labels with no predicted samples. Use `zero_division` parameter to control this behavior.\n",
      "  _warn_prf(average, modifier, msg_start, len(result))\n",
      "/Users/hananur/anaconda3/lib/python3.10/site-packages/sklearn/metrics/_classification.py:1469: UndefinedMetricWarning: Precision and F-score are ill-defined and being set to 0.0 in labels with no predicted samples. Use `zero_division` parameter to control this behavior.\n",
      "  _warn_prf(average, modifier, msg_start, len(result))\n"
     ]
    }
   ],
   "source": [
    "from sklearn.naive_bayes import MultinomialNB\n",
    "\n",
    "naive_bayes_model = MultinomialNB()\n",
    "naive_bayes_model.fit(X_train, y_train)\n",
    "y_pred = naive_bayes_model.predict(X_val)\n",
    "\n",
    "accuracy = accuracy_score(y_val.values, y_pred)\n",
    "print(f\"Accuracy: {accuracy:.2f}\")\n",
    "print(\"Validation Classification Report:\")\n",
    "print(classification_report(y_val, y_pred))"
   ]
  },
  {
   "cell_type": "code",
   "execution_count": 92,
   "id": "e84b970d-181a-4a0b-8ac4-df6aa524ec5e",
   "metadata": {},
   "outputs": [
    {
     "data": {
      "text/plain": [
       "9.01"
      ]
     },
     "execution_count": 92,
     "metadata": {},
     "output_type": "execute_result"
    }
   ],
   "source": [
    ".53*17"
   ]
  },
  {
   "cell_type": "code",
   "execution_count": null,
   "id": "0230f713-0632-4a2f-84f5-8677fc4d71cd",
   "metadata": {},
   "outputs": [],
   "source": []
  }
 ],
 "metadata": {
  "accelerator": "GPU",
  "colab": {
   "gpuType": "T4",
   "provenance": []
  },
  "kernelspec": {
   "display_name": "Python 3 (ipykernel)",
   "language": "python",
   "name": "python3"
  },
  "language_info": {
   "codemirror_mode": {
    "name": "ipython",
    "version": 3
   },
   "file_extension": ".py",
   "mimetype": "text/x-python",
   "name": "python",
   "nbconvert_exporter": "python",
   "pygments_lexer": "ipython3",
   "version": "3.10.11"
  }
 },
 "nbformat": 4,
 "nbformat_minor": 5
}
