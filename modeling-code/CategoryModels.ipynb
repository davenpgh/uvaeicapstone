{
 "cells": [
  {
   "cell_type": "markdown",
   "id": "63d0a1b5-f924-4a3f-8333-8a4eeef1e385",
   "metadata": {
    "id": "63d0a1b5-f924-4a3f-8333-8a4eeef1e385"
   },
   "source": [
    "# Code for Hierarchical Clustering to obtain labels (suitability category)"
   ]
  },
  {
   "cell_type": "code",
   "execution_count": 1,
   "id": "d9ea12df-584e-424a-9622-cfe100acd1b3",
   "metadata": {
    "id": "d9ea12df-584e-424a-9622-cfe100acd1b3",
    "tags": []
   },
   "outputs": [],
   "source": [
    "import pandas as pd\n",
    "import numpy as np\n",
    "import seaborn as sns\n",
    "import matplotlib.pyplot as plt\n",
    "from sklearn import metrics\n",
    "from sklearn.cluster import KMeans\n",
    "from sklearn.cluster import AgglomerativeClustering\n",
    "import scipy.cluster.hierarchy as sch"
   ]
  },
  {
   "cell_type": "code",
   "execution_count": 2,
   "id": "d15c990b-86ba-48cf-9f44-be430bb68fbf",
   "metadata": {
    "tags": []
   },
   "outputs": [],
   "source": [
    "# Set seed for whole notebook\n",
    "import random\n",
    "random.seed(10)"
   ]
  },
  {
   "cell_type": "code",
   "execution_count": 3,
   "id": "8a30ee99-fb62-4434-97e8-84e586137dff",
   "metadata": {
    "colab": {
     "base_uri": "https://localhost:8080/",
     "height": 707
    },
    "id": "8a30ee99-fb62-4434-97e8-84e586137dff",
    "outputId": "8e85760b-aa09-4111-f02b-ae18efc9c4bb",
    "tags": []
   },
   "outputs": [
    {
     "data": {
      "text/html": [
       "<div>\n",
       "<style scoped>\n",
       "    .dataframe tbody tr th:only-of-type {\n",
       "        vertical-align: middle;\n",
       "    }\n",
       "\n",
       "    .dataframe tbody tr th {\n",
       "        vertical-align: top;\n",
       "    }\n",
       "\n",
       "    .dataframe thead th {\n",
       "        text-align: right;\n",
       "    }\n",
       "</style>\n",
       "<table border=\"1\" class=\"dataframe\">\n",
       "  <thead>\n",
       "    <tr style=\"text-align: right;\">\n",
       "      <th></th>\n",
       "      <th>Income</th>\n",
       "      <th>DSCI</th>\n",
       "      <th>PQ1</th>\n",
       "      <th>PQ2</th>\n",
       "      <th>PQ3</th>\n",
       "      <th>PQ4</th>\n",
       "      <th>TQ1</th>\n",
       "      <th>TQ2</th>\n",
       "      <th>TQ3</th>\n",
       "      <th>TQ4</th>\n",
       "      <th>Forest</th>\n",
       "    </tr>\n",
       "    <tr>\n",
       "      <th>County</th>\n",
       "      <th></th>\n",
       "      <th></th>\n",
       "      <th></th>\n",
       "      <th></th>\n",
       "      <th></th>\n",
       "      <th></th>\n",
       "      <th></th>\n",
       "      <th></th>\n",
       "      <th></th>\n",
       "      <th></th>\n",
       "      <th></th>\n",
       "    </tr>\n",
       "  </thead>\n",
       "  <tbody>\n",
       "    <tr>\n",
       "      <th>51001</th>\n",
       "      <td>0.075854</td>\n",
       "      <td>0.148920</td>\n",
       "      <td>0.319901</td>\n",
       "      <td>0.435870</td>\n",
       "      <td>0.410805</td>\n",
       "      <td>0.412876</td>\n",
       "      <td>0.398849</td>\n",
       "      <td>0.223717</td>\n",
       "      <td>0.178736</td>\n",
       "      <td>0.296552</td>\n",
       "      <td>0.064338</td>\n",
       "    </tr>\n",
       "    <tr>\n",
       "      <th>51003</th>\n",
       "      <td>0.108095</td>\n",
       "      <td>0.182011</td>\n",
       "      <td>0.281478</td>\n",
       "      <td>0.361577</td>\n",
       "      <td>0.330150</td>\n",
       "      <td>0.398268</td>\n",
       "      <td>0.652957</td>\n",
       "      <td>0.669414</td>\n",
       "      <td>0.672845</td>\n",
       "      <td>0.580575</td>\n",
       "      <td>0.679813</td>\n",
       "    </tr>\n",
       "    <tr>\n",
       "      <th>51005</th>\n",
       "      <td>0.187226</td>\n",
       "      <td>0.147870</td>\n",
       "      <td>0.208440</td>\n",
       "      <td>0.382735</td>\n",
       "      <td>0.309672</td>\n",
       "      <td>0.361536</td>\n",
       "      <td>0.590581</td>\n",
       "      <td>0.651482</td>\n",
       "      <td>0.660489</td>\n",
       "      <td>0.531379</td>\n",
       "      <td>0.897165</td>\n",
       "    </tr>\n",
       "    <tr>\n",
       "      <th>51007</th>\n",
       "      <td>0.157467</td>\n",
       "      <td>0.144258</td>\n",
       "      <td>0.319836</td>\n",
       "      <td>0.347694</td>\n",
       "      <td>0.488828</td>\n",
       "      <td>0.370654</td>\n",
       "      <td>0.753323</td>\n",
       "      <td>0.808243</td>\n",
       "      <td>0.809483</td>\n",
       "      <td>0.716207</td>\n",
       "      <td>0.651586</td>\n",
       "    </tr>\n",
       "    <tr>\n",
       "      <th>51009</th>\n",
       "      <td>0.184217</td>\n",
       "      <td>0.145333</td>\n",
       "      <td>0.205452</td>\n",
       "      <td>0.416978</td>\n",
       "      <td>0.325681</td>\n",
       "      <td>0.367647</td>\n",
       "      <td>0.499006</td>\n",
       "      <td>0.525380</td>\n",
       "      <td>0.539368</td>\n",
       "      <td>0.463678</td>\n",
       "      <td>0.770831</td>\n",
       "    </tr>\n",
       "    <tr>\n",
       "      <th>51011</th>\n",
       "      <td>0.140248</td>\n",
       "      <td>0.158561</td>\n",
       "      <td>0.278259</td>\n",
       "      <td>0.427413</td>\n",
       "      <td>0.398133</td>\n",
       "      <td>0.403431</td>\n",
       "      <td>0.427002</td>\n",
       "      <td>0.337238</td>\n",
       "      <td>0.280747</td>\n",
       "      <td>0.347356</td>\n",
       "      <td>0.662506</td>\n",
       "    </tr>\n",
       "    <tr>\n",
       "      <th>51013</th>\n",
       "      <td>0.142115</td>\n",
       "      <td>0.105105</td>\n",
       "      <td>0.229655</td>\n",
       "      <td>0.409510</td>\n",
       "      <td>0.284420</td>\n",
       "      <td>0.314118</td>\n",
       "      <td>0.436525</td>\n",
       "      <td>0.430658</td>\n",
       "      <td>0.397845</td>\n",
       "      <td>0.371264</td>\n",
       "      <td>0.089268</td>\n",
       "    </tr>\n",
       "    <tr>\n",
       "      <th>51015</th>\n",
       "      <td>0.197927</td>\n",
       "      <td>0.147820</td>\n",
       "      <td>0.225123</td>\n",
       "      <td>0.379990</td>\n",
       "      <td>0.321457</td>\n",
       "      <td>0.383072</td>\n",
       "      <td>0.615071</td>\n",
       "      <td>0.686479</td>\n",
       "      <td>0.682759</td>\n",
       "      <td>0.561379</td>\n",
       "      <td>0.582228</td>\n",
       "    </tr>\n",
       "    <tr>\n",
       "      <th>51017</th>\n",
       "      <td>0.382682</td>\n",
       "      <td>0.130588</td>\n",
       "      <td>0.262562</td>\n",
       "      <td>0.372108</td>\n",
       "      <td>0.370891</td>\n",
       "      <td>0.394608</td>\n",
       "      <td>0.681005</td>\n",
       "      <td>0.768185</td>\n",
       "      <td>0.779741</td>\n",
       "      <td>0.641724</td>\n",
       "      <td>0.899831</td>\n",
       "    </tr>\n",
       "    <tr>\n",
       "      <th>51019</th>\n",
       "      <td>0.263026</td>\n",
       "      <td>0.149943</td>\n",
       "      <td>0.237767</td>\n",
       "      <td>0.395053</td>\n",
       "      <td>0.355923</td>\n",
       "      <td>0.371536</td>\n",
       "      <td>0.549974</td>\n",
       "      <td>0.557484</td>\n",
       "      <td>0.521695</td>\n",
       "      <td>0.476207</td>\n",
       "      <td>0.625380</td>\n",
       "    </tr>\n",
       "    <tr>\n",
       "      <th>51021</th>\n",
       "      <td>0.118443</td>\n",
       "      <td>0.129919</td>\n",
       "      <td>0.357997</td>\n",
       "      <td>0.408425</td>\n",
       "      <td>0.355311</td>\n",
       "      <td>0.373595</td>\n",
       "      <td>0.443537</td>\n",
       "      <td>0.314678</td>\n",
       "      <td>0.279310</td>\n",
       "      <td>0.338736</td>\n",
       "      <td>0.777309</td>\n",
       "    </tr>\n",
       "    <tr>\n",
       "      <th>51023</th>\n",
       "      <td>0.149779</td>\n",
       "      <td>0.110621</td>\n",
       "      <td>0.249655</td>\n",
       "      <td>0.355290</td>\n",
       "      <td>0.318886</td>\n",
       "      <td>0.310065</td>\n",
       "      <td>0.424699</td>\n",
       "      <td>0.373102</td>\n",
       "      <td>0.334052</td>\n",
       "      <td>0.345862</td>\n",
       "      <td>0.749672</td>\n",
       "    </tr>\n",
       "    <tr>\n",
       "      <th>51025</th>\n",
       "      <td>0.702975</td>\n",
       "      <td>0.132096</td>\n",
       "      <td>0.192874</td>\n",
       "      <td>0.363204</td>\n",
       "      <td>0.354637</td>\n",
       "      <td>0.357810</td>\n",
       "      <td>0.542125</td>\n",
       "      <td>0.665365</td>\n",
       "      <td>0.745115</td>\n",
       "      <td>0.563563</td>\n",
       "      <td>0.715016</td>\n",
       "    </tr>\n",
       "    <tr>\n",
       "      <th>51027</th>\n",
       "      <td>0.391627</td>\n",
       "      <td>0.134775</td>\n",
       "      <td>0.155074</td>\n",
       "      <td>0.412382</td>\n",
       "      <td>0.309734</td>\n",
       "      <td>0.345882</td>\n",
       "      <td>0.453061</td>\n",
       "      <td>0.475488</td>\n",
       "      <td>0.497126</td>\n",
       "      <td>0.423563</td>\n",
       "      <td>0.889480</td>\n",
       "    </tr>\n",
       "    <tr>\n",
       "      <th>51029</th>\n",
       "      <td>0.111130</td>\n",
       "      <td>0.148215</td>\n",
       "      <td>0.320657</td>\n",
       "      <td>0.451636</td>\n",
       "      <td>0.410468</td>\n",
       "      <td>0.419183</td>\n",
       "      <td>0.486866</td>\n",
       "      <td>0.383659</td>\n",
       "      <td>0.330460</td>\n",
       "      <td>0.392529</td>\n",
       "      <td>0.740312</td>\n",
       "    </tr>\n",
       "    <tr>\n",
       "      <th>51031</th>\n",
       "      <td>0.254414</td>\n",
       "      <td>0.155045</td>\n",
       "      <td>0.253103</td>\n",
       "      <td>0.383724</td>\n",
       "      <td>0.338843</td>\n",
       "      <td>0.414771</td>\n",
       "      <td>0.543380</td>\n",
       "      <td>0.560521</td>\n",
       "      <td>0.542672</td>\n",
       "      <td>0.483563</td>\n",
       "      <td>0.608641</td>\n",
       "    </tr>\n",
       "    <tr>\n",
       "      <th>51033</th>\n",
       "      <td>0.213683</td>\n",
       "      <td>0.123943</td>\n",
       "      <td>0.257931</td>\n",
       "      <td>0.373608</td>\n",
       "      <td>0.390389</td>\n",
       "      <td>0.405065</td>\n",
       "      <td>0.662271</td>\n",
       "      <td>0.761099</td>\n",
       "      <td>0.778305</td>\n",
       "      <td>0.632529</td>\n",
       "      <td>0.622196</td>\n",
       "    </tr>\n",
       "    <tr>\n",
       "      <th>51035</th>\n",
       "      <td>0.192495</td>\n",
       "      <td>0.144379</td>\n",
       "      <td>0.320000</td>\n",
       "      <td>0.284698</td>\n",
       "      <td>0.333884</td>\n",
       "      <td>0.392157</td>\n",
       "      <td>0.651073</td>\n",
       "      <td>0.686913</td>\n",
       "      <td>0.805747</td>\n",
       "      <td>0.721034</td>\n",
       "      <td>0.633690</td>\n",
       "    </tr>\n",
       "    <tr>\n",
       "      <th>51036</th>\n",
       "      <td>0.303286</td>\n",
       "      <td>0.116830</td>\n",
       "      <td>0.306962</td>\n",
       "      <td>0.353247</td>\n",
       "      <td>0.500061</td>\n",
       "      <td>0.364379</td>\n",
       "      <td>0.769545</td>\n",
       "      <td>0.828923</td>\n",
       "      <td>0.837213</td>\n",
       "      <td>0.757701</td>\n",
       "      <td>0.512239</td>\n",
       "    </tr>\n",
       "    <tr>\n",
       "      <th>51037</th>\n",
       "      <td>0.397302</td>\n",
       "      <td>0.109994</td>\n",
       "      <td>0.297833</td>\n",
       "      <td>0.381203</td>\n",
       "      <td>0.444781</td>\n",
       "      <td>0.384477</td>\n",
       "      <td>0.734589</td>\n",
       "      <td>0.826753</td>\n",
       "      <td>0.857759</td>\n",
       "      <td>0.731379</td>\n",
       "      <td>0.652536</td>\n",
       "    </tr>\n",
       "  </tbody>\n",
       "</table>\n",
       "</div>"
      ],
      "text/plain": [
       "          Income      DSCI       PQ1       PQ2       PQ3       PQ4       TQ1  \\\n",
       "County                                                                         \n",
       "51001   0.075854  0.148920  0.319901  0.435870  0.410805  0.412876  0.398849   \n",
       "51003   0.108095  0.182011  0.281478  0.361577  0.330150  0.398268  0.652957   \n",
       "51005   0.187226  0.147870  0.208440  0.382735  0.309672  0.361536  0.590581   \n",
       "51007   0.157467  0.144258  0.319836  0.347694  0.488828  0.370654  0.753323   \n",
       "51009   0.184217  0.145333  0.205452  0.416978  0.325681  0.367647  0.499006   \n",
       "51011   0.140248  0.158561  0.278259  0.427413  0.398133  0.403431  0.427002   \n",
       "51013   0.142115  0.105105  0.229655  0.409510  0.284420  0.314118  0.436525   \n",
       "51015   0.197927  0.147820  0.225123  0.379990  0.321457  0.383072  0.615071   \n",
       "51017   0.382682  0.130588  0.262562  0.372108  0.370891  0.394608  0.681005   \n",
       "51019   0.263026  0.149943  0.237767  0.395053  0.355923  0.371536  0.549974   \n",
       "51021   0.118443  0.129919  0.357997  0.408425  0.355311  0.373595  0.443537   \n",
       "51023   0.149779  0.110621  0.249655  0.355290  0.318886  0.310065  0.424699   \n",
       "51025   0.702975  0.132096  0.192874  0.363204  0.354637  0.357810  0.542125   \n",
       "51027   0.391627  0.134775  0.155074  0.412382  0.309734  0.345882  0.453061   \n",
       "51029   0.111130  0.148215  0.320657  0.451636  0.410468  0.419183  0.486866   \n",
       "51031   0.254414  0.155045  0.253103  0.383724  0.338843  0.414771  0.543380   \n",
       "51033   0.213683  0.123943  0.257931  0.373608  0.390389  0.405065  0.662271   \n",
       "51035   0.192495  0.144379  0.320000  0.284698  0.333884  0.392157  0.651073   \n",
       "51036   0.303286  0.116830  0.306962  0.353247  0.500061  0.364379  0.769545   \n",
       "51037   0.397302  0.109994  0.297833  0.381203  0.444781  0.384477  0.734589   \n",
       "\n",
       "             TQ2       TQ3       TQ4    Forest  \n",
       "County                                          \n",
       "51001   0.223717  0.178736  0.296552  0.064338  \n",
       "51003   0.669414  0.672845  0.580575  0.679813  \n",
       "51005   0.651482  0.660489  0.531379  0.897165  \n",
       "51007   0.808243  0.809483  0.716207  0.651586  \n",
       "51009   0.525380  0.539368  0.463678  0.770831  \n",
       "51011   0.337238  0.280747  0.347356  0.662506  \n",
       "51013   0.430658  0.397845  0.371264  0.089268  \n",
       "51015   0.686479  0.682759  0.561379  0.582228  \n",
       "51017   0.768185  0.779741  0.641724  0.899831  \n",
       "51019   0.557484  0.521695  0.476207  0.625380  \n",
       "51021   0.314678  0.279310  0.338736  0.777309  \n",
       "51023   0.373102  0.334052  0.345862  0.749672  \n",
       "51025   0.665365  0.745115  0.563563  0.715016  \n",
       "51027   0.475488  0.497126  0.423563  0.889480  \n",
       "51029   0.383659  0.330460  0.392529  0.740312  \n",
       "51031   0.560521  0.542672  0.483563  0.608641  \n",
       "51033   0.761099  0.778305  0.632529  0.622196  \n",
       "51035   0.686913  0.805747  0.721034  0.633690  \n",
       "51036   0.828923  0.837213  0.757701  0.512239  \n",
       "51037   0.826753  0.857759  0.731379  0.652536  "
      ]
     },
     "execution_count": 3,
     "metadata": {},
     "output_type": "execute_result"
    }
   ],
   "source": [
    "#Loading locational dataset\n",
    "df = pd.read_csv('data-scaled-agg.csv', index_col='County')\n",
    "df.head(20)"
   ]
  },
  {
   "cell_type": "code",
   "execution_count": 4,
   "id": "FcXQiiA7HHpx",
   "metadata": {
    "id": "FcXQiiA7HHpx"
   },
   "outputs": [],
   "source": [
    "TEST_RATIO = 0.2\n",
    "BATCH_SIZE = 64\n",
    "\n",
    "size_all = len(df)\n",
    "\n",
    "# training/val/test dataset\n",
    "size_train = size_all - 6\n",
    "size_val = int(size_train * TEST_RATIO)\n",
    "size_train_sub = size_train - size_val\n",
    "\n",
    "# split data into train and test\n",
    "# Test = 6 counties of interst: Accomack, Fauquier, Greensville, Hanover, Rockingham, Wise\n",
    "dataset_test = df.loc[[51001, 51061, 51081, 51085, 51165, 51195]]\n",
    "\n",
    "# Train = all except 6 counties of interest\n",
    "dataset_train = df.drop([51001, 51061, 51081, 51085, 51165, 51195])\n"
   ]
  },
  {
   "cell_type": "code",
   "execution_count": 5,
   "id": "10f95bd6-1b0b-4f2e-a8ec-bd5a8ce3c22e",
   "metadata": {
    "id": "10f95bd6-1b0b-4f2e-a8ec-bd5a8ce3c22e",
    "tags": []
   },
   "outputs": [],
   "source": [
    "# Using the elbow method to determine the k value to be applied\n",
    "k_rng = range(1, 10)\n",
    "sse = []\n",
    "for k in k_rng:\n",
    "    km = KMeans(n_clusters=k, n_init=10)\n",
    "    km.fit(df[['Income','DSCI','PQ1','PQ2','PQ3','PQ4','TQ1','TQ2','TQ3','TQ4','Forest']])\n",
    "    sse.append(km.inertia_)"
   ]
  },
  {
   "cell_type": "code",
   "execution_count": 6,
   "id": "6501a9b5-1bd9-48eb-8634-913e5ea087dd",
   "metadata": {
    "colab": {
     "base_uri": "https://localhost:8080/",
     "height": 466
    },
    "id": "6501a9b5-1bd9-48eb-8634-913e5ea087dd",
    "outputId": "e87c2adf-bc75-46c5-8035-0f1cad580770"
   },
   "outputs": [
    {
     "data": {
      "text/plain": [
       "[<matplotlib.lines.Line2D at 0x1750959f0>]"
      ]
     },
     "execution_count": 6,
     "metadata": {},
     "output_type": "execute_result"
    },
    {
     "data": {
      "image/png": "[encoded data removed]",
      "text/plain": [
       "<Figure size 640x480 with 1 Axes>"
      ]
     },
     "metadata": {},
     "output_type": "display_data"
    }
   ],
   "source": [
    "# Plot to obtain elbow\n",
    "plt.xlabel('K')\n",
    "plt.ylabel('Sum of squared error')\n",
    "plt.plot(k_rng, sse)"
   ]
  },
  {
   "cell_type": "code",
   "execution_count": 7,
   "id": "58151fd4-fced-4c31-a196-ad82bf276f29",
   "metadata": {
    "id": "58151fd4-fced-4c31-a196-ad82bf276f29"
   },
   "outputs": [],
   "source": [
    "# create clusters using k value = 4\n",
    "hc = AgglomerativeClustering(n_clusters=4, affinity = 'euclidean', linkage = 'ward')"
   ]
  },
  {
   "cell_type": "code",
   "execution_count": 8,
   "id": "c53e90bf-e922-4c51-90b1-4bfa397f72f7",
   "metadata": {
    "colab": {
     "base_uri": "https://localhost:8080/"
    },
    "id": "c53e90bf-e922-4c51-90b1-4bfa397f72f7",
    "outputId": "ec9b90d1-88fd-45a7-ef3b-a3ebabe613f0"
   },
   "outputs": [
    {
     "name": "stderr",
     "output_type": "stream",
     "text": [
      "/Users/rachelholman/anaconda3/lib/python3.10/site-packages/sklearn/cluster/_agglomerative.py:1005: FutureWarning: Attribute `affinity` was deprecated in version 1.2 and will be removed in 1.4. Use `metric` instead\n",
      "  warnings.warn(\n"
     ]
    }
   ],
   "source": [
    "# Determining mean cluster characterisitics\n",
    "y_hc = hc.fit_predict(dataset_train[['Income','DSCI','PQ1','PQ2','PQ3','PQ4','TQ1','TQ2','TQ3','TQ4','Forest']])\n",
    "dataset_train['cluster'] = y_hc\n",
    "dataset_train.sort_values(\"cluster\", inplace = True, ascending=True)\n",
    "\n",
    "#average input vars by cluster\n",
    "df_cluster = dataset_train.groupby('cluster').mean()"
   ]
  },
  {
   "cell_type": "code",
   "execution_count": 9,
   "id": "ebcef5cd-a552-4dd2-b451-8ddce6157a92",
   "metadata": {
    "colab": {
     "base_uri": "https://localhost:8080/",
     "height": 539
    },
    "id": "ebcef5cd-a552-4dd2-b451-8ddce6157a92",
    "outputId": "7628de03-d5c2-4238-b43e-d646148b459c",
    "tags": []
   },
   "outputs": [
    {
     "data": {
      "text/plain": [
       "<Axes: ylabel='cluster'>"
      ]
     },
     "execution_count": 9,
     "metadata": {},
     "output_type": "execute_result"
    },
    {
     "data": {
      "image/png": "[encoded data removed]",
      "text/plain": [
       "<Figure size 800x600 with 2 Axes>"
      ]
     },
     "metadata": {},
     "output_type": "display_data"
    }
   ],
   "source": [
    "#Heatmap of cluster characteristics\n",
    "plt.figure(figsize=(8,6))\n",
    "sns.heatmap(df_cluster, annot=True, cmap=\"Blues\", linewidths=.5)"
   ]
  },
  {
   "cell_type": "code",
   "execution_count": 10,
   "id": "06dd88cf-c4c7-4eb6-81e8-cb33239bd9bf",
   "metadata": {
    "colab": {
     "base_uri": "https://localhost:8080/"
    },
    "id": "06dd88cf-c4c7-4eb6-81e8-cb33239bd9bf",
    "outputId": "1c158ea2-3461-4723-b6a6-668498b662d3",
    "tags": []
   },
   "outputs": [
    {
     "data": {
      "text/plain": [
       "2    36\n",
       "1    23\n",
       "0    21\n",
       "3     4\n",
       "Name: cluster, dtype: int64"
      ]
     },
     "execution_count": 10,
     "metadata": {},
     "output_type": "execute_result"
    }
   ],
   "source": [
    "# see how clusters are distributed\n",
    "dataset_train['cluster'].value_counts()"
   ]
  },
  {
   "cell_type": "code",
   "execution_count": 11,
   "id": "8b74d556-a0ca-4fc1-b820-085103bc5f47",
   "metadata": {
    "colab": {
     "base_uri": "https://localhost:8080/",
     "height": 206
    },
    "id": "8b74d556-a0ca-4fc1-b820-085103bc5f47",
    "outputId": "957eeab5-edb4-4992-cf4f-b1b040c25820",
    "tags": []
   },
   "outputs": [
    {
     "data": {
      "text/html": [
       "<div>\n",
       "<style scoped>\n",
       "    .dataframe tbody tr th:only-of-type {\n",
       "        vertical-align: middle;\n",
       "    }\n",
       "\n",
       "    .dataframe tbody tr th {\n",
       "        vertical-align: top;\n",
       "    }\n",
       "\n",
       "    .dataframe thead th {\n",
       "        text-align: right;\n",
       "    }\n",
       "</style>\n",
       "<table border=\"1\" class=\"dataframe\">\n",
       "  <thead>\n",
       "    <tr style=\"text-align: right;\">\n",
       "      <th></th>\n",
       "      <th>Income</th>\n",
       "      <th>DSCI</th>\n",
       "      <th>PQ1</th>\n",
       "      <th>PQ2</th>\n",
       "      <th>PQ3</th>\n",
       "      <th>PQ4</th>\n",
       "      <th>TQ1</th>\n",
       "      <th>TQ2</th>\n",
       "      <th>TQ3</th>\n",
       "      <th>TQ4</th>\n",
       "      <th>Forest</th>\n",
       "      <th>cluster</th>\n",
       "    </tr>\n",
       "    <tr>\n",
       "      <th>County</th>\n",
       "      <th></th>\n",
       "      <th></th>\n",
       "      <th></th>\n",
       "      <th></th>\n",
       "      <th></th>\n",
       "      <th></th>\n",
       "      <th></th>\n",
       "      <th></th>\n",
       "      <th></th>\n",
       "      <th></th>\n",
       "      <th></th>\n",
       "      <th></th>\n",
       "    </tr>\n",
       "  </thead>\n",
       "  <tbody>\n",
       "    <tr>\n",
       "      <th>51013</th>\n",
       "      <td>0.142115</td>\n",
       "      <td>0.105105</td>\n",
       "      <td>0.229655</td>\n",
       "      <td>0.409510</td>\n",
       "      <td>0.284420</td>\n",
       "      <td>0.314118</td>\n",
       "      <td>0.436525</td>\n",
       "      <td>0.430658</td>\n",
       "      <td>0.397845</td>\n",
       "      <td>0.371264</td>\n",
       "      <td>0.089268</td>\n",
       "      <td>3</td>\n",
       "    </tr>\n",
       "    <tr>\n",
       "      <th>51115</th>\n",
       "      <td>0.131867</td>\n",
       "      <td>0.118457</td>\n",
       "      <td>0.362594</td>\n",
       "      <td>0.415861</td>\n",
       "      <td>0.354178</td>\n",
       "      <td>0.358072</td>\n",
       "      <td>0.411094</td>\n",
       "      <td>0.293565</td>\n",
       "      <td>0.254598</td>\n",
       "      <td>0.315172</td>\n",
       "      <td>0.224077</td>\n",
       "      <td>3</td>\n",
       "    </tr>\n",
       "    <tr>\n",
       "      <th>51131</th>\n",
       "      <td>0.099351</td>\n",
       "      <td>0.117189</td>\n",
       "      <td>0.439573</td>\n",
       "      <td>0.415893</td>\n",
       "      <td>0.389930</td>\n",
       "      <td>0.397124</td>\n",
       "      <td>0.467713</td>\n",
       "      <td>0.404628</td>\n",
       "      <td>0.346264</td>\n",
       "      <td>0.386092</td>\n",
       "      <td>0.098323</td>\n",
       "      <td>3</td>\n",
       "    </tr>\n",
       "    <tr>\n",
       "      <th>51107</th>\n",
       "      <td>0.176528</td>\n",
       "      <td>0.129553</td>\n",
       "      <td>0.262200</td>\n",
       "      <td>0.422371</td>\n",
       "      <td>0.304163</td>\n",
       "      <td>0.345719</td>\n",
       "      <td>0.243119</td>\n",
       "      <td>0.193782</td>\n",
       "      <td>0.158764</td>\n",
       "      <td>0.189310</td>\n",
       "      <td>0.359856</td>\n",
       "      <td>3</td>\n",
       "    </tr>\n",
       "  </tbody>\n",
       "</table>\n",
       "</div>"
      ],
      "text/plain": [
       "          Income      DSCI       PQ1       PQ2       PQ3       PQ4       TQ1  \\\n",
       "County                                                                         \n",
       "51013   0.142115  0.105105  0.229655  0.409510  0.284420  0.314118  0.436525   \n",
       "51115   0.131867  0.118457  0.362594  0.415861  0.354178  0.358072  0.411094   \n",
       "51131   0.099351  0.117189  0.439573  0.415893  0.389930  0.397124  0.467713   \n",
       "51107   0.176528  0.129553  0.262200  0.422371  0.304163  0.345719  0.243119   \n",
       "\n",
       "             TQ2       TQ3       TQ4    Forest  cluster  \n",
       "County                                                   \n",
       "51013   0.430658  0.397845  0.371264  0.089268        3  \n",
       "51115   0.293565  0.254598  0.315172  0.224077        3  \n",
       "51131   0.404628  0.346264  0.386092  0.098323        3  \n",
       "51107   0.193782  0.158764  0.189310  0.359856        3  "
      ]
     },
     "execution_count": 11,
     "metadata": {},
     "output_type": "execute_result"
    }
   ],
   "source": [
    "# Look at counties in smallest cluster\n",
    "dataset_train[dataset_train['cluster'] == 3]"
   ]
  },
  {
   "cell_type": "code",
   "execution_count": 12,
   "id": "7b5bc02b-f639-4adb-9d63-482c26a2a078",
   "metadata": {
    "colab": {
     "base_uri": "https://localhost:8080/"
    },
    "id": "7b5bc02b-f639-4adb-9d63-482c26a2a078",
    "outputId": "52c34212-9b73-4357-a1de-0a414b942681"
   },
   "outputs": [
    {
     "name": "stdout",
     "output_type": "stream",
     "text": [
      "[0 0 2 0 1 3 2 0 0 1 1 0 0 1 0 2 2 2 2 1 1 0 1 0 2 2 2 2 0 0 2 1 2 0 2 2 2\n",
      " 2 1 1 2 1 2 2 0 2 3 0 1 1 3 1 2 2 0 2 3 1 1 2 2 0 2 1 0 2 2 0 2 0 1 1 1 1\n",
      " 0 2 2 2 2 2 1 2 1 2]\n"
     ]
    }
   ],
   "source": [
    "#To obtain the entire cluster labels\n",
    "print(hc.labels_)"
   ]
  },
  {
   "cell_type": "markdown",
   "id": "7253b926-47c5-4262-876d-b4f345be9c41",
   "metadata": {
    "id": "7253b926-47c5-4262-876d-b4f345be9c41",
    "tags": []
   },
   "source": [
    "# Categorizing the clusters as suitability levels"
   ]
  },
  {
   "cell_type": "code",
   "execution_count": 13,
   "id": "8a152855-76c0-4ef1-967b-9a917a6e9be6",
   "metadata": {
    "id": "8a152855-76c0-4ef1-967b-9a917a6e9be6"
   },
   "outputs": [],
   "source": [
    "# Maybe redo if we can get more data and redo clusters\n",
    "\n",
    "# 0 = highly suitable (most forest land, mild summer temps, warm winter temps, faitly high precip, high income, avg drought)\n",
    "# 2 = suitable (high income, high summer and wimter temps, high rain, good about of forest)\n",
    "# 1 = possible (lots of forest land, slightly cold, lots of rain, not the best income)\n",
    "# 3 = unsuitable (too cold, too little forest land, low income)"
   ]
  },
  {
   "cell_type": "markdown",
   "id": "4b923baf-0d77-4fcf-b1e7-df7263f5f77c",
   "metadata": {
    "id": "4b923baf-0d77-4fcf-b1e7-df7263f5f77c"
   },
   "source": [
    "# Supervised ML for suitability prediction"
   ]
  },
  {
   "cell_type": "markdown",
   "id": "70407305-41c4-4b19-a6fc-8b4f6462aec2",
   "metadata": {},
   "source": [
    "# Random Forest"
   ]
  },
  {
   "cell_type": "code",
   "execution_count": 14,
   "id": "e62a3d2e-9477-4601-ae04-fbed19b0adca",
   "metadata": {
    "id": "e62a3d2e-9477-4601-ae04-fbed19b0adca"
   },
   "outputs": [],
   "source": [
    "import numpy as np\n",
    "import pandas as pd\n",
    "import matplotlib.pyplot as plt\n",
    "plt.rcParams['figure.figsize'] = (9, 6)\n",
    "from sklearn.ensemble import RandomForestClassifier\n",
    "from sklearn.model_selection import train_test_split"
   ]
  },
  {
   "cell_type": "code",
   "execution_count": 15,
   "id": "86c174d5-738b-4906-ba06-31804f57b414",
   "metadata": {
    "id": "86c174d5-738b-4906-ba06-31804f57b414"
   },
   "outputs": [],
   "source": [
    "# Reading data\n",
    "# df = pd.read_csv(\"Labelled Normalised DACCS data.csv\")"
   ]
  },
  {
   "cell_type": "code",
   "execution_count": 16,
   "id": "eabb6f7e-9326-4061-b3b2-60e38bfd3a65",
   "metadata": {
    "id": "eabb6f7e-9326-4061-b3b2-60e38bfd3a65"
   },
   "outputs": [],
   "source": [
    "# creating input identity\n",
    "sub_df = dataset_train[['Income','DSCI','PQ1','PQ2','PQ3','PQ4','TQ1','TQ2','TQ3','TQ4','Forest']]\n",
    "X = sub_df\n",
    "y = dataset_train.cluster\n",
    "X_train, X_test, y_train, y_test = train_test_split(X, y, train_size=0.7, random_state=1)"
   ]
  },
  {
   "cell_type": "code",
   "execution_count": 17,
   "id": "28d9fa9d-87e6-40f2-bf71-5895603087a4",
   "metadata": {
    "id": "28d9fa9d-87e6-40f2-bf71-5895603087a4"
   },
   "outputs": [],
   "source": [
    "# creating Model (with 100 trees)\n",
    "rf = RandomForestClassifier(n_estimators=100)"
   ]
  },
  {
   "cell_type": "code",
   "execution_count": 18,
   "id": "ee6455a9-0e19-455a-98d1-457d5b5120ca",
   "metadata": {
    "colab": {
     "base_uri": "https://localhost:8080/",
     "height": 74
    },
    "id": "ee6455a9-0e19-455a-98d1-457d5b5120ca",
    "outputId": "feaaa321-1069-4e74-f276-7ca563427117"
   },
   "outputs": [
    {
     "data": {
      "text/html": [
       "<style>#sk-container-id-1 {color: black;}#sk-container-id-1 pre{padding: 0;}#sk-container-id-1 div.sk-toggleable {background-color: white;}#sk-container-id-1 label.sk-toggleable__label {cursor: pointer;display: block;width: 100%;margin-bottom: 0;padding: 0.3em;box-sizing: border-box;text-align: center;}#sk-container-id-1 label.sk-toggleable__label-arrow:before {content: \"▸\";float: left;margin-right: 0.25em;color: #696969;}#sk-container-id-1 label.sk-toggleable__label-arrow:hover:before {color: black;}#sk-container-id-1 div.sk-estimator:hover label.sk-toggleable__label-arrow:before {color: black;}#sk-container-id-1 div.sk-toggleable__content {max-height: 0;max-width: 0;overflow: hidden;text-align: left;background-color: #f0f8ff;}#sk-container-id-1 div.sk-toggleable__content pre {margin: 0.2em;color: black;border-radius: 0.25em;background-color: #f0f8ff;}#sk-container-id-1 input.sk-toggleable__control:checked~div.sk-toggleable__content {max-height: 200px;max-width: 100%;overflow: auto;}#sk-container-id-1 input.sk-toggleable__control:checked~label.sk-toggleable__label-arrow:before {content: \"▾\";}#sk-container-id-1 div.sk-estimator input.sk-toggleable__control:checked~label.sk-toggleable__label {background-color: #d4ebff;}#sk-container-id-1 div.sk-label input.sk-toggleable__control:checked~label.sk-toggleable__label {background-color: #d4ebff;}#sk-container-id-1 input.sk-hidden--visually {border: 0;clip: rect(1px 1px 1px 1px);clip: rect(1px, 1px, 1px, 1px);height: 1px;margin: -1px;overflow: hidden;padding: 0;position: absolute;width: 1px;}#sk-container-id-1 div.sk-estimator {font-family: monospace;background-color: #f0f8ff;border: 1px dotted black;border-radius: 0.25em;box-sizing: border-box;margin-bottom: 0.5em;}#sk-container-id-1 div.sk-estimator:hover {background-color: #d4ebff;}#sk-container-id-1 div.sk-parallel-item::after {content: \"\";width: 100%;border-bottom: 1px solid gray;flex-grow: 1;}#sk-container-id-1 div.sk-label:hover label.sk-toggleable__label {background-color: #d4ebff;}#sk-container-id-1 div.sk-serial::before {content: \"\";position: absolute;border-left: 1px solid gray;box-sizing: border-box;top: 0;bottom: 0;left: 50%;z-index: 0;}#sk-container-id-1 div.sk-serial {display: flex;flex-direction: column;align-items: center;background-color: white;padding-right: 0.2em;padding-left: 0.2em;position: relative;}#sk-container-id-1 div.sk-item {position: relative;z-index: 1;}#sk-container-id-1 div.sk-parallel {display: flex;align-items: stretch;justify-content: center;background-color: white;position: relative;}#sk-container-id-1 div.sk-item::before, #sk-container-id-1 div.sk-parallel-item::before {content: \"\";position: absolute;border-left: 1px solid gray;box-sizing: border-box;top: 0;bottom: 0;left: 50%;z-index: -1;}#sk-container-id-1 div.sk-parallel-item {display: flex;flex-direction: column;z-index: 1;position: relative;background-color: white;}#sk-container-id-1 div.sk-parallel-item:first-child::after {align-self: flex-end;width: 50%;}#sk-container-id-1 div.sk-parallel-item:last-child::after {align-self: flex-start;width: 50%;}#sk-container-id-1 div.sk-parallel-item:only-child::after {width: 0;}#sk-container-id-1 div.sk-dashed-wrapped {border: 1px dashed gray;margin: 0 0.4em 0.5em 0.4em;box-sizing: border-box;padding-bottom: 0.4em;background-color: white;}#sk-container-id-1 div.sk-label label {font-family: monospace;font-weight: bold;display: inline-block;line-height: 1.2em;}#sk-container-id-1 div.sk-label-container {text-align: center;}#sk-container-id-1 div.sk-container {/* jupyter's `normalize.less` sets `[hidden] { display: none; }` but bootstrap.min.css set `[hidden] { display: none !important; }` so we also need the `!important` here to be able to override the default hidden behavior on the sphinx rendered scikit-learn.org. See: https://github.com/scikit-learn/scikit-learn/issues/21755 */display: inline-block !important;position: relative;}#sk-container-id-1 div.sk-text-repr-fallback {display: none;}</style><div id=\"sk-container-id-1\" class=\"sk-top-container\"><div class=\"sk-text-repr-fallback\"><pre>RandomForestClassifier()</pre><b>In a Jupyter environment, please rerun this cell to show the HTML representation or trust the notebook. <br />On GitHub, the HTML representation is unable to render, please try loading this page with nbviewer.org.</b></div><div class=\"sk-container\" hidden><div class=\"sk-item\"><div class=\"sk-estimator sk-toggleable\"><input class=\"sk-toggleable__control sk-hidden--visually\" id=\"sk-estimator-id-1\" type=\"checkbox\" checked><label for=\"sk-estimator-id-1\" class=\"sk-toggleable__label sk-toggleable__label-arrow\">RandomForestClassifier</label><div class=\"sk-toggleable__content\"><pre>RandomForestClassifier()</pre></div></div></div></div></div>"
      ],
      "text/plain": [
       "RandomForestClassifier()"
      ]
     },
     "execution_count": 18,
     "metadata": {},
     "output_type": "execute_result"
    }
   ],
   "source": [
    "# Fitting training data\n",
    "rf.fit(X_train, y_train)"
   ]
  },
  {
   "cell_type": "code",
   "execution_count": 19,
   "id": "ffefd525-4780-45c2-8682-fed6288a671c",
   "metadata": {
    "colab": {
     "base_uri": "https://localhost:8080/"
    },
    "id": "ffefd525-4780-45c2-8682-fed6288a671c",
    "outputId": "a260420b-1551-446b-9b47-2199b932a439",
    "tags": []
   },
   "outputs": [
    {
     "data": {
      "text/plain": [
       "Int64Index([51051, 51099, 51143, 51117, 51107, 51121, 51089, 51043, 51155,\n",
       "            51183, 51127, 51101, 51137, 51095, 51177, 51073, 51171, 51023,\n",
       "            51135, 51029, 51047, 51045, 51115, 51097, 51033, 51017],\n",
       "           dtype='int64', name='County')"
      ]
     },
     "execution_count": 19,
     "metadata": {},
     "output_type": "execute_result"
    }
   ],
   "source": [
    "# see which counties are in test\n",
    "y_test.index"
   ]
  },
  {
   "cell_type": "code",
   "execution_count": 20,
   "id": "de0e2281-329f-4359-af89-6e8c767b7c85",
   "metadata": {
    "colab": {
     "base_uri": "https://localhost:8080/"
    },
    "id": "de0e2281-329f-4359-af89-6e8c767b7c85",
    "outputId": "87ec8c80-1e48-409c-efa9-4934dc8f14cd"
   },
   "outputs": [
    {
     "name": "stdout",
     "output_type": "stream",
     "text": [
      "2 0 51051\n",
      "2 2 51099\n",
      "2 2 51143\n",
      "1 1 51117\n",
      "1 3 51107\n",
      "2 2 51121\n",
      "1 1 51089\n",
      "1 1 51043\n",
      "0 2 51155\n",
      "2 2 51183\n",
      "2 2 51127\n",
      "2 2 51101\n",
      "2 2 51137\n",
      "2 2 51095\n",
      "2 2 51177\n",
      "2 2 51073\n",
      "1 1 51171\n",
      "1 1 51023\n",
      "1 1 51135\n",
      "1 1 51029\n",
      "1 1 51047\n",
      "2 0 51045\n",
      "1 3 51115\n",
      "1 1 51097\n",
      "2 2 51033\n",
      "2 0 51017\n"
     ]
    }
   ],
   "source": [
    "#make predictions\n",
    "y_pred = rf.predict(X_test)\n",
    "\n",
    "for pred_label, true_label, index in zip(y_pred, y_test, y_test.index):\n",
    "    print(pred_label, true_label, index)"
   ]
  },
  {
   "cell_type": "code",
   "execution_count": 21,
   "id": "54674aaa-2bff-4228-919d-5194dee8cc30",
   "metadata": {
    "colab": {
     "base_uri": "https://localhost:8080/"
    },
    "id": "54674aaa-2bff-4228-919d-5194dee8cc30",
    "outputId": "ba74c127-a7ff-4751-bca9-97522c3a6553"
   },
   "outputs": [
    {
     "name": "stdout",
     "output_type": "stream",
     "text": [
      "              precision    recall  f1-score   support\n",
      "\n",
      "           0       0.00      0.00      0.00         3\n",
      "           1       0.82      1.00      0.90         9\n",
      "           2       0.79      0.92      0.85        12\n",
      "           3       0.00      0.00      0.00         2\n",
      "\n",
      "    accuracy                           0.77        26\n",
      "   macro avg       0.40      0.48      0.44        26\n",
      "weighted avg       0.65      0.77      0.70        26\n",
      "\n"
     ]
    },
    {
     "name": "stderr",
     "output_type": "stream",
     "text": [
      "/Users/rachelholman/anaconda3/lib/python3.10/site-packages/sklearn/metrics/_classification.py:1469: UndefinedMetricWarning: Precision and F-score are ill-defined and being set to 0.0 in labels with no predicted samples. Use `zero_division` parameter to control this behavior.\n",
      "  _warn_prf(average, modifier, msg_start, len(result))\n",
      "/Users/rachelholman/anaconda3/lib/python3.10/site-packages/sklearn/metrics/_classification.py:1469: UndefinedMetricWarning: Precision and F-score are ill-defined and being set to 0.0 in labels with no predicted samples. Use `zero_division` parameter to control this behavior.\n",
      "  _warn_prf(average, modifier, msg_start, len(result))\n",
      "/Users/rachelholman/anaconda3/lib/python3.10/site-packages/sklearn/metrics/_classification.py:1469: UndefinedMetricWarning: Precision and F-score are ill-defined and being set to 0.0 in labels with no predicted samples. Use `zero_division` parameter to control this behavior.\n",
      "  _warn_prf(average, modifier, msg_start, len(result))\n"
     ]
    }
   ],
   "source": [
    "# To get model performance\n",
    "from sklearn.metrics import classification_report\n",
    "cr = classification_report(y_test, y_pred)\n",
    "print(cr)"
   ]
  },
  {
   "cell_type": "code",
   "execution_count": 22,
   "id": "bfa9b0f6-7e07-4564-8558-2d7fe819ddb3",
   "metadata": {
    "colab": {
     "base_uri": "https://localhost:8080/"
    },
    "id": "bfa9b0f6-7e07-4564-8558-2d7fe819ddb3",
    "outputId": "99640814-cb8b-4baa-ead5-c701779fe1f3"
   },
   "outputs": [
    {
     "name": "stdout",
     "output_type": "stream",
     "text": [
      "        importance\n",
      "TQ2       0.236765\n",
      "TQ4       0.169613\n",
      "TQ3       0.137999\n",
      "Forest    0.105300\n",
      "Income    0.088990\n",
      "TQ1       0.076663\n",
      "PQ1       0.063698\n",
      "PQ2       0.040961\n",
      "PQ4       0.030336\n",
      "DSCI      0.026592\n",
      "PQ3       0.023084\n"
     ]
    }
   ],
   "source": [
    "# Determining feature importance (Model Interpretation)\n",
    "feature_imp = pd.DataFrame(rf.feature_importances_,index= X_train.columns,\n",
    "columns=['importance']).sort_values('importance',ascending=False)\n",
    "print(feature_imp)"
   ]
  },
  {
   "cell_type": "code",
   "execution_count": 23,
   "id": "6fbc191e-54f9-4aed-9b34-8425925ff767",
   "metadata": {
    "colab": {
     "base_uri": "https://localhost:8080/",
     "height": 539
    },
    "id": "6fbc191e-54f9-4aed-9b34-8425925ff767",
    "outputId": "808f495a-4275-40fa-ccfc-4aab9d295dab"
   },
   "outputs": [
    {
     "data": {
      "text/plain": [
       "<Axes: >"
      ]
     },
     "execution_count": 23,
     "metadata": {},
     "output_type": "execute_result"
    },
    {
     "data": {
      "image/png": "[encoded data removed]",
      "text/plain": [
       "<Figure size 900x600 with 1 Axes>"
      ]
     },
     "metadata": {},
     "output_type": "display_data"
    }
   ],
   "source": [
    "#Feature importance visualisation\n",
    "feature_imp.plot(kind='barh')"
   ]
  },
  {
   "cell_type": "markdown",
   "id": "8bf9e21f-f607-44d0-963e-1f89af01c656",
   "metadata": {},
   "source": [
    "# Logistic Regression"
   ]
  },
  {
   "cell_type": "code",
   "execution_count": 24,
   "id": "347f5d45-70d7-4a10-8a0c-2772552606ee",
   "metadata": {},
   "outputs": [],
   "source": [
    "from sklearn.model_selection import train_test_split\n",
    "from sklearn.linear_model import LogisticRegression\n",
    "from sklearn.metrics import accuracy_score\n",
    "from sklearn.metrics import classification_report"
   ]
  },
  {
   "cell_type": "code",
   "execution_count": 25,
   "id": "8c1cfce9-6778-4e36-b730-3c050ef5dd35",
   "metadata": {},
   "outputs": [],
   "source": [
    "logreg_model = LogisticRegression()\n",
    "logreg_model.fit(X_train, y_train)\n",
    "\n",
    "# predict\n",
    "y_pred = logreg_model.predict(X_test)"
   ]
  },
  {
   "cell_type": "code",
   "execution_count": 26,
   "id": "29a071da-63a6-482a-85d4-2cc7407f42a0",
   "metadata": {},
   "outputs": [
    {
     "name": "stdout",
     "output_type": "stream",
     "text": [
      "              precision    recall  f1-score   support\n",
      "\n",
      "           0       0.00      0.00      0.00         3\n",
      "           1       0.82      1.00      0.90         9\n",
      "           2       0.80      1.00      0.89        12\n",
      "           3       0.00      0.00      0.00         2\n",
      "\n",
      "    accuracy                           0.81        26\n",
      "   macro avg       0.40      0.50      0.45        26\n",
      "weighted avg       0.65      0.81      0.72        26\n",
      "\n"
     ]
    },
    {
     "name": "stderr",
     "output_type": "stream",
     "text": [
      "/Users/rachelholman/anaconda3/lib/python3.10/site-packages/sklearn/metrics/_classification.py:1469: UndefinedMetricWarning: Precision and F-score are ill-defined and being set to 0.0 in labels with no predicted samples. Use `zero_division` parameter to control this behavior.\n",
      "  _warn_prf(average, modifier, msg_start, len(result))\n",
      "/Users/rachelholman/anaconda3/lib/python3.10/site-packages/sklearn/metrics/_classification.py:1469: UndefinedMetricWarning: Precision and F-score are ill-defined and being set to 0.0 in labels with no predicted samples. Use `zero_division` parameter to control this behavior.\n",
      "  _warn_prf(average, modifier, msg_start, len(result))\n",
      "/Users/rachelholman/anaconda3/lib/python3.10/site-packages/sklearn/metrics/_classification.py:1469: UndefinedMetricWarning: Precision and F-score are ill-defined and being set to 0.0 in labels with no predicted samples. Use `zero_division` parameter to control this behavior.\n",
      "  _warn_prf(average, modifier, msg_start, len(result))\n"
     ]
    }
   ],
   "source": [
    "print(classification_report(y_test, y_pred))"
   ]
  },
  {
   "cell_type": "code",
   "execution_count": 27,
   "id": "592c4079-6368-4ffd-989c-faecb24949dd",
   "metadata": {},
   "outputs": [
    {
     "name": "stdout",
     "output_type": "stream",
     "text": [
      "Accuracy: 0.8076923076923077\n"
     ]
    }
   ],
   "source": [
    "accuracy = accuracy_score(y_test, y_pred)\n",
    "print(\"Accuracy:\", accuracy)"
   ]
  },
  {
   "cell_type": "code",
   "execution_count": 28,
   "id": "2c11329f-fabd-4f1a-b34b-b0a4f8881366",
   "metadata": {},
   "outputs": [],
   "source": [
    "feature_names = X_train.columns\n",
    "\n",
    "coeffs = logreg_model.coef_[0]\n",
    "\n",
    "coeffs_df = pd.DataFrame({'Feature': feature_names, 'Coefficient': coeffs})\n",
    "\n",
    "coeffs_df['Abs_Coefficient'] = abs(coeffs_df['Coefficient'])\n",
    "coeffs_df.sort_values(by='Abs_Coefficient', ascending=False, inplace=True)"
   ]
  },
  {
   "cell_type": "code",
   "execution_count": 29,
   "id": "40ece753-dc3e-464d-b249-1e6069645deb",
   "metadata": {},
   "outputs": [
    {
     "data": {
      "text/plain": [
       "<Axes: ylabel='Feature'>"
      ]
     },
     "execution_count": 29,
     "metadata": {},
     "output_type": "execute_result"
    },
    {
     "data": {
      "image/png": "[encoded data removed]",
      "text/plain": [
       "<Figure size 900x600 with 1 Axes>"
      ]
     },
     "metadata": {},
     "output_type": "display_data"
    }
   ],
   "source": [
    "#Feature importance visualisation\n",
    "coeffs_df.plot(kind='barh', x='Feature', y='Abs_Coefficient')"
   ]
  },
  {
   "cell_type": "markdown",
   "id": "d583c537-ac38-4fa4-a339-6c067dbdef58",
   "metadata": {},
   "source": [
    "# Descision Tree"
   ]
  },
  {
   "cell_type": "code",
   "execution_count": 30,
   "id": "7e18c515-87b0-4b51-b1ae-13d6c3aee028",
   "metadata": {},
   "outputs": [],
   "source": [
    "# supervised learning method\n",
    "from sklearn.model_selection import cross_val_score\n",
    "from sklearn.tree import DecisionTreeClassifier\n",
    "from sklearn.tree import DecisionTreeRegressor"
   ]
  },
  {
   "cell_type": "code",
   "execution_count": 31,
   "id": "0ff8e9f5-72a9-499b-8a54-7d39ec498b36",
   "metadata": {},
   "outputs": [
    {
     "name": "stdout",
     "output_type": "stream",
     "text": [
      "              precision    recall  f1-score   support\n",
      "\n",
      "           0       0.00      0.00      0.00         3\n",
      "           1       0.89      0.89      0.89         9\n",
      "           2       0.73      0.92      0.81        12\n",
      "           3       1.00      0.50      0.67         2\n",
      "\n",
      "    accuracy                           0.77        26\n",
      "   macro avg       0.66      0.58      0.59        26\n",
      "weighted avg       0.72      0.77      0.74        26\n",
      "\n"
     ]
    }
   ],
   "source": [
    "dt_model = DecisionTreeClassifier(random_state=0)\n",
    "dt_model.fit(X_train, y_train)\n",
    "\n",
    "y_pred = dt_model.predict(X_test)\n",
    "\n",
    "print(classification_report(y_test, y_pred))"
   ]
  },
  {
   "cell_type": "code",
   "execution_count": 32,
   "id": "3e963a2d-7a19-4648-81dd-baa6c5904915",
   "metadata": {},
   "outputs": [
    {
     "name": "stdout",
     "output_type": "stream",
     "text": [
      "Accuracy: 0.7692307692307693\n"
     ]
    }
   ],
   "source": [
    "accuracy = accuracy_score(y_test, y_pred)\n",
    "print(\"Accuracy:\", accuracy)"
   ]
  },
  {
   "cell_type": "code",
   "execution_count": 33,
   "id": "9ce349bb-265d-4441-b178-ce9c1bb4e946",
   "metadata": {},
   "outputs": [
    {
     "name": "stderr",
     "output_type": "stream",
     "text": [
      "/Users/rachelholman/anaconda3/lib/python3.10/site-packages/sklearn/model_selection/_split.py:725: UserWarning: The least populated class in y has only 2 members, which is less than n_splits=10.\n",
      "  warnings.warn(\n"
     ]
    },
    {
     "data": {
      "text/plain": [
       "array([1.        , 0.83333333, 0.66666667, 1.        , 0.83333333,\n",
       "       0.66666667, 0.66666667, 1.        , 0.8       , 1.        ])"
      ]
     },
     "execution_count": 33,
     "metadata": {},
     "output_type": "execute_result"
    }
   ],
   "source": [
    "cross_val_score(dt_model, X_train, y_train, cv=10)"
   ]
  },
  {
   "cell_type": "markdown",
   "id": "67ec874d-42e7-447b-9cb0-e49314e1fc33",
   "metadata": {
    "tags": []
   },
   "source": [
    "# KNN"
   ]
  },
  {
   "cell_type": "code",
   "execution_count": 34,
   "id": "7d61ef26-35a6-44f8-8e5e-bf5f62b4e852",
   "metadata": {},
   "outputs": [
    {
     "name": "stdout",
     "output_type": "stream",
     "text": [
      "1 neighbors - validation accuracy: 0.88462 23/26\n",
      "2 neighbors - validation accuracy: 0.80769 21/26\n",
      "3 neighbors - validation accuracy: 0.84615 22/26\n",
      "4 neighbors - validation accuracy: 0.84615 22/26\n",
      "5 neighbors - validation accuracy: 0.88462 23/26\n",
      "6 neighbors - validation accuracy: 0.88462 23/26\n",
      "7 neighbors - validation accuracy: 0.88462 23/26\n",
      "8 neighbors - validation accuracy: 0.76923 20/26\n",
      "9 neighbors - validation accuracy: 0.80769 21/26\n",
      "10 neighbors - validation accuracy: 0.76923 20/26\n"
     ]
    }
   ],
   "source": [
    "from sklearn.neighbors import KNeighborsClassifier\n",
    "n_acc = [0]*11\n",
    "for n in [1,2,3,4,5,6,7,8,9,10]:\n",
    "    neigh = KNeighborsClassifier(n_neighbors=n)\n",
    "    neigh.fit(X_train, y_train)\n",
    "    preds = neigh.predict(X_test)\n",
    "    correct = 0\n",
    "    for i in range(len(preds)):\n",
    "        if preds[i]==y_test.values[i]:\n",
    "            correct += 1\n",
    "    acc = correct/len(preds)\n",
    "    n_acc[n] = acc\n",
    "    print(f'{n} neighbors - validation accuracy: {round(acc, 5)} {correct}/{len(preds)}')"
   ]
  },
  {
   "cell_type": "code",
   "execution_count": 35,
   "id": "4cd9fef1-c46b-4671-96d7-80ada90451d4",
   "metadata": {},
   "outputs": [
    {
     "data": {
      "text/plain": [
       "Text(0.5, 1.0, 'Validation Accuracy By Number of Neighbors')"
      ]
     },
     "execution_count": 35,
     "metadata": {},
     "output_type": "execute_result"
    },
    {
     "data": {
      "image/png": "[encoded data removed]",
      "text/plain": [
       "<Figure size 900x600 with 1 Axes>"
      ]
     },
     "metadata": {},
     "output_type": "display_data"
    }
   ],
   "source": [
    "fig, ax = plt.subplots() \n",
    "ax.plot([i for i in range(1,len(n_acc))], n_acc[1:])\n",
    "plt.xlabel('Num Neighbors')\n",
    "plt.ylabel('Validation Accuracy')\n",
    "ax.set_xticks(np.arange(len(n_acc)))\n",
    "plt.title('Validation Accuracy By Number of Neighbors')"
   ]
  },
  {
   "cell_type": "code",
   "execution_count": 36,
   "id": "2584c449-9351-4e1f-869d-2166b70e2c97",
   "metadata": {},
   "outputs": [
    {
     "name": "stdout",
     "output_type": "stream",
     "text": [
      "Test Accuracy: 0.88\n",
      "Test Classification Report:\n",
      "              precision    recall  f1-score   support\n",
      "\n",
      "           0       1.00      0.67      0.80         3\n",
      "           1       0.82      1.00      0.90         9\n",
      "           2       0.92      1.00      0.96        12\n",
      "           3       0.00      0.00      0.00         2\n",
      "\n",
      "    accuracy                           0.88        26\n",
      "   macro avg       0.69      0.67      0.67        26\n",
      "weighted avg       0.82      0.88      0.85        26\n",
      "\n"
     ]
    },
    {
     "name": "stderr",
     "output_type": "stream",
     "text": [
      "/Users/rachelholman/anaconda3/lib/python3.10/site-packages/sklearn/metrics/_classification.py:1469: UndefinedMetricWarning: Precision and F-score are ill-defined and being set to 0.0 in labels with no predicted samples. Use `zero_division` parameter to control this behavior.\n",
      "  _warn_prf(average, modifier, msg_start, len(result))\n",
      "/Users/rachelholman/anaconda3/lib/python3.10/site-packages/sklearn/metrics/_classification.py:1469: UndefinedMetricWarning: Precision and F-score are ill-defined and being set to 0.0 in labels with no predicted samples. Use `zero_division` parameter to control this behavior.\n",
      "  _warn_prf(average, modifier, msg_start, len(result))\n",
      "/Users/rachelholman/anaconda3/lib/python3.10/site-packages/sklearn/metrics/_classification.py:1469: UndefinedMetricWarning: Precision and F-score are ill-defined and being set to 0.0 in labels with no predicted samples. Use `zero_division` parameter to control this behavior.\n",
      "  _warn_prf(average, modifier, msg_start, len(result))\n"
     ]
    }
   ],
   "source": [
    "neigh = KNeighborsClassifier(n_neighbors=5)\n",
    "neigh.fit(X_train, y_train)\n",
    "\n",
    "y_pred = neigh.predict(X_test)\n",
    "accuracy = accuracy_score(y_test, y_pred)\n",
    "print(f\"Test Accuracy: {accuracy:.2f}\")\n",
    "print(\"Test Classification Report:\")\n",
    "print(classification_report(y_test, y_pred))"
   ]
  },
  {
   "cell_type": "markdown",
   "id": "6f00f739-ef44-4a1e-90d0-7b907a69c1d4",
   "metadata": {},
   "source": [
    "# Naive Bayes"
   ]
  },
  {
   "cell_type": "code",
   "execution_count": 37,
   "id": "83bcc3b6-285c-455b-b025-538324560f8c",
   "metadata": {},
   "outputs": [
    {
     "name": "stdout",
     "output_type": "stream",
     "text": [
      "Accuracy: 0.46\n",
      "Validation Classification Report:\n",
      "              precision    recall  f1-score   support\n",
      "\n",
      "           0       0.00      0.00      0.00         3\n",
      "           1       0.00      0.00      0.00         9\n",
      "           2       0.46      1.00      0.63        12\n",
      "           3       0.00      0.00      0.00         2\n",
      "\n",
      "    accuracy                           0.46        26\n",
      "   macro avg       0.12      0.25      0.16        26\n",
      "weighted avg       0.21      0.46      0.29        26\n",
      "\n"
     ]
    },
    {
     "name": "stderr",
     "output_type": "stream",
     "text": [
      "/Users/rachelholman/anaconda3/lib/python3.10/site-packages/sklearn/metrics/_classification.py:1469: UndefinedMetricWarning: Precision and F-score are ill-defined and being set to 0.0 in labels with no predicted samples. Use `zero_division` parameter to control this behavior.\n",
      "  _warn_prf(average, modifier, msg_start, len(result))\n",
      "/Users/rachelholman/anaconda3/lib/python3.10/site-packages/sklearn/metrics/_classification.py:1469: UndefinedMetricWarning: Precision and F-score are ill-defined and being set to 0.0 in labels with no predicted samples. Use `zero_division` parameter to control this behavior.\n",
      "  _warn_prf(average, modifier, msg_start, len(result))\n",
      "/Users/rachelholman/anaconda3/lib/python3.10/site-packages/sklearn/metrics/_classification.py:1469: UndefinedMetricWarning: Precision and F-score are ill-defined and being set to 0.0 in labels with no predicted samples. Use `zero_division` parameter to control this behavior.\n",
      "  _warn_prf(average, modifier, msg_start, len(result))\n"
     ]
    }
   ],
   "source": [
    "from sklearn.naive_bayes import MultinomialNB\n",
    "\n",
    "naive_bayes_model = MultinomialNB()\n",
    "naive_bayes_model.fit(X_train, y_train)\n",
    "y_pred = naive_bayes_model.predict(X_test)\n",
    "\n",
    "accuracy = accuracy_score(y_test.values, y_pred)\n",
    "print(f\"Accuracy: {accuracy:.2f}\")\n",
    "print(\"Validation Classification Report:\")\n",
    "print(classification_report(y_test, y_pred))"
   ]
  },
  {
   "cell_type": "markdown",
   "id": "c5593906-2cdc-4caf-b2e8-047ea71b91a4",
   "metadata": {},
   "source": [
    "# Gradient Boost"
   ]
  },
  {
   "cell_type": "code",
   "execution_count": 38,
   "id": "d807109a-5a9b-446b-aa18-cb4eaf14d4a1",
   "metadata": {},
   "outputs": [],
   "source": [
    "from sklearn.datasets import make_hastie_10_2\n",
    "from sklearn.ensemble import GradientBoostingClassifier\n",
    "\n",
    "#fit gradient boosted stumps (trees w depth=1)\n",
    "clf = GradientBoostingClassifier(n_estimators=100, \n",
    "                                 learning_rate=1.0, \n",
    "                                 max_depth=1, \n",
    "                                 random_state=0).fit(X_train, y_train)"
   ]
  },
  {
   "cell_type": "code",
   "execution_count": 39,
   "id": "fe1c67b6-ccd4-47dc-9367-fb58e547ea86",
   "metadata": {},
   "outputs": [
    {
     "data": {
      "text/plain": [
       "0.8461538461538461"
      ]
     },
     "execution_count": 39,
     "metadata": {},
     "output_type": "execute_result"
    }
   ],
   "source": [
    "clf.score(X_test, y_test)"
   ]
  },
  {
   "cell_type": "code",
   "execution_count": 40,
   "id": "d322f24e-d4aa-4bbe-9b7c-25bfde83ee34",
   "metadata": {},
   "outputs": [],
   "source": [
    "y_pred = clf.predict(X_test)"
   ]
  },
  {
   "cell_type": "code",
   "execution_count": 41,
   "id": "b4828da5-11e4-4d32-8be8-eca554e8850a",
   "metadata": {},
   "outputs": [
    {
     "name": "stdout",
     "output_type": "stream",
     "text": [
      "              precision    recall  f1-score   support\n",
      "\n",
      "           0       0.60      1.00      0.75         3\n",
      "           1       0.80      0.89      0.84         9\n",
      "           2       1.00      0.92      0.96        12\n",
      "           3       0.00      0.00      0.00         2\n",
      "\n",
      "    accuracy                           0.85        26\n",
      "   macro avg       0.60      0.70      0.64        26\n",
      "weighted avg       0.81      0.85      0.82        26\n",
      "\n"
     ]
    },
    {
     "name": "stderr",
     "output_type": "stream",
     "text": [
      "/Users/rachelholman/anaconda3/lib/python3.10/site-packages/sklearn/metrics/_classification.py:1469: UndefinedMetricWarning: Precision and F-score are ill-defined and being set to 0.0 in labels with no predicted samples. Use `zero_division` parameter to control this behavior.\n",
      "  _warn_prf(average, modifier, msg_start, len(result))\n",
      "/Users/rachelholman/anaconda3/lib/python3.10/site-packages/sklearn/metrics/_classification.py:1469: UndefinedMetricWarning: Precision and F-score are ill-defined and being set to 0.0 in labels with no predicted samples. Use `zero_division` parameter to control this behavior.\n",
      "  _warn_prf(average, modifier, msg_start, len(result))\n",
      "/Users/rachelholman/anaconda3/lib/python3.10/site-packages/sklearn/metrics/_classification.py:1469: UndefinedMetricWarning: Precision and F-score are ill-defined and being set to 0.0 in labels with no predicted samples. Use `zero_division` parameter to control this behavior.\n",
      "  _warn_prf(average, modifier, msg_start, len(result))\n"
     ]
    }
   ],
   "source": [
    "cr = classification_report(y_test, y_pred)\n",
    "print(cr)"
   ]
  },
  {
   "cell_type": "code",
   "execution_count": 42,
   "id": "bfacbc19-3263-4aca-afb5-283eb69de1f6",
   "metadata": {},
   "outputs": [
    {
     "name": "stdout",
     "output_type": "stream",
     "text": [
      "        importance\n",
      "TQ2       0.592092\n",
      "Forest    0.160589\n",
      "PQ1       0.141818\n",
      "TQ4       0.044744\n",
      "PQ4       0.024091\n",
      "Income    0.016693\n",
      "PQ3       0.014819\n",
      "TQ3       0.004020\n",
      "PQ2       0.000634\n",
      "DSCI      0.000497\n",
      "TQ1       0.000003\n"
     ]
    }
   ],
   "source": [
    "feature_imp = pd.DataFrame(clf.feature_importances_,index= X_train.columns, columns=['importance']).sort_values('importance',ascending=False)\n",
    "print(feature_imp)"
   ]
  },
  {
   "cell_type": "code",
   "execution_count": 43,
   "id": "9e3087e1-6e0b-485c-8377-8345f9f62d1e",
   "metadata": {},
   "outputs": [
    {
     "data": {
      "text/plain": [
       "<Axes: >"
      ]
     },
     "execution_count": 43,
     "metadata": {},
     "output_type": "execute_result"
    },
    {
     "data": {
      "image/png": "[encoded data removed]",
      "text/plain": [
       "<Figure size 900x600 with 1 Axes>"
      ]
     },
     "metadata": {},
     "output_type": "display_data"
    }
   ],
   "source": [
    "#Feature importance visualisation\n",
    "feature_imp.plot(kind='barh')"
   ]
  },
  {
   "cell_type": "markdown",
   "id": "dddc3213-6d61-4ebb-ba35-82b8a3210a0a",
   "metadata": {
    "id": "dddc3213-6d61-4ebb-ba35-82b8a3210a0a"
   },
   "source": [
    "# Neural Net\n",
    "## Simple ANN"
   ]
  },
  {
   "cell_type": "code",
   "execution_count": 44,
   "id": "80e2f061-0693-4db9-8f15-00d47da2697c",
   "metadata": {
    "id": "80e2f061-0693-4db9-8f15-00d47da2697c",
    "tags": []
   },
   "outputs": [],
   "source": [
    "# loading everything that might be helpful\n",
    "import sys\n",
    "import sklearn\n",
    "import os\n",
    "import numpy as np\n",
    "import matplotlib as mpl\n",
    "import matplotlib.pyplot as plt\n",
    "from functools import partial\n",
    "import PIL\n",
    "import PIL.Image\n",
    "import torch\n",
    "from torch.utils.data import DataLoader, random_split\n",
    "from torch import Generator\n",
    "from torchvision.transforms import ToTensor\n",
    "from torchvision.datasets import ImageFolder\n",
    "from torch import manual_seed as torch_manual_seed\n",
    "import random\n",
    "import numpy as np\n",
    "\n",
    "from torch.cuda import max_memory_allocated, set_device, manual_seed_all\n",
    "from torch.backends import cudnn"
   ]
  },
  {
   "cell_type": "code",
   "execution_count": 45,
   "id": "F35lJf6WKMLL",
   "metadata": {
    "id": "F35lJf6WKMLL"
   },
   "outputs": [],
   "source": [
    "from sklearn.model_selection import train_test_split\n",
    "from torch.utils.data import TensorDataset, DataLoader"
   ]
  },
  {
   "cell_type": "code",
   "execution_count": 46,
   "id": "j0PF-0X6EnlB",
   "metadata": {
    "id": "j0PF-0X6EnlB"
   },
   "outputs": [],
   "source": [
    "# Test data = 6 counties of interst: Accomack, Fauquier, Greensville, Hanover, Rockingham, Wise\n",
    "X_test = dataset_test\n",
    "X_test = X_test[['Income','DSCI','PQ1','PQ2','PQ3','PQ4','TQ1','TQ2','TQ3','TQ4','Forest']]\n",
    "\n",
    "# The test data will not have a cluster assigned- need to predict it\n",
    "#y_test = df.loc[[51001, 51061, 51081, 51085, 51165, 51195]]\n",
    "#y_test = y_test['cluster']\n",
    "\n",
    "# Train data = all but 6 counties of interest\n",
    "X_train = dataset_train\n",
    "X_train_full = X_train[['Income','DSCI','PQ1','PQ2','PQ3','PQ4','TQ1','TQ2','TQ3','TQ4','Forest']]\n",
    "\n",
    "y_train = dataset_train\n",
    "y_train_full = y_train['cluster']\n",
    "\n",
    "# Split into train and validation (80:20)\n",
    "X_train, X_val, y_train, y_val = train_test_split(X_train_full, y_train_full, test_size= 0.2, random_state=49)"
   ]
  },
  {
   "cell_type": "code",
   "execution_count": 47,
   "id": "PKDvbs6bEzb5",
   "metadata": {
    "id": "PKDvbs6bEzb5"
   },
   "outputs": [],
   "source": [
    "# Make training data into tensor objects\n",
    "X_train_tensor = torch.tensor(X_train.values, dtype=torch.float32)\n",
    "y_train_tensor = torch.tensor(y_train.values, dtype=torch.float32)\n",
    "\n",
    "# Make val data into tensor objects\n",
    "X_val_tensor = torch.tensor(X_val.values, dtype=torch.float32)\n",
    "y_val_tensor = torch.tensor(y_val.values, dtype=torch.float32)\n",
    "\n",
    "# Make test data into tensor objects\n",
    "X_test_tensor = torch.tensor(X_test.values, dtype=torch.float32)"
   ]
  },
  {
   "cell_type": "code",
   "execution_count": 48,
   "id": "iHAoqcGXE3Jm",
   "metadata": {
    "id": "iHAoqcGXE3Jm"
   },
   "outputs": [],
   "source": [
    "#train data\n",
    "training_data = TensorDataset(X_train_tensor, y_train_tensor)\n",
    "train_dataloader = DataLoader(training_data, batch_size=64)\n",
    "\n",
    "#test data\n",
    "test_data = TensorDataset(X_test_tensor)\n",
    "test_dataloader = DataLoader(test_data, batch_size=64)\n",
    "\n",
    "#validate data\n",
    "val_data = TensorDataset(X_val_tensor, y_val_tensor)\n",
    "val_dataloader = DataLoader(val_data, batch_size=64)"
   ]
  },
  {
   "cell_type": "code",
   "execution_count": 49,
   "id": "2C5-gPNfE3MM",
   "metadata": {
    "id": "2C5-gPNfE3MM",
    "tags": []
   },
   "outputs": [
    {
     "name": "stdout",
     "output_type": "stream",
     "text": [
      "tensor([1, 2, 1, 2, 2, 3, 1, 0, 1, 1, 2, 1, 0, 2, 0, 2, 0])\n"
     ]
    }
   ],
   "source": [
    "for X, y in val_dataloader:\n",
    "    y = y.long()\n",
    "    print(y)"
   ]
  },
  {
   "cell_type": "code",
   "execution_count": 50,
   "id": "f8b48ba4-dd12-4fce-903a-df58b7148e29",
   "metadata": {
    "id": "f8b48ba4-dd12-4fce-903a-df58b7148e29"
   },
   "outputs": [],
   "source": [
    "# Simple ANN"
   ]
  },
  {
   "cell_type": "code",
   "execution_count": 51,
   "id": "4a4151aa-f490-481c-a310-73ddbd366ffd",
   "metadata": {
    "colab": {
     "base_uri": "https://localhost:8080/"
    },
    "id": "4a4151aa-f490-481c-a310-73ddbd366ffd",
    "outputId": "1cd092a3-fa12-4f25-ed71-93b5cbfaa420"
   },
   "outputs": [
    {
     "data": {
      "text/plain": [
       "net(\n",
       "  (linear_model): Sequential(\n",
       "    (0): Linear(in_features=11, out_features=100, bias=True)\n",
       "    (1): Tanh()\n",
       "    (2): Linear(in_features=100, out_features=4, bias=True)\n",
       "  )\n",
       ")"
      ]
     },
     "execution_count": 51,
     "metadata": {},
     "output_type": "execute_result"
    }
   ],
   "source": [
    "import torch.nn as nn\n",
    "\n",
    "#define model\n",
    "class net(nn.Module):\n",
    "    def __init__(self):\n",
    "        super().__init__()\n",
    "        self.linear_model = nn.Sequential(\n",
    "            nn.Linear(11,100), #11 input columns\n",
    "            nn.Tanh(),\n",
    "            nn.Linear(100,4)#4 output classes\n",
    "\n",
    "    )\n",
    "\n",
    "    def forward(self, x):\n",
    "        logits = self.linear_model(x)\n",
    "        return logits\n",
    "\n",
    "model = net()\n",
    "model"
   ]
  },
  {
   "cell_type": "code",
   "execution_count": 52,
   "id": "trY6e2LXGSyr",
   "metadata": {
    "id": "trY6e2LXGSyr"
   },
   "outputs": [],
   "source": [
    "learning_rate = 0.005\n",
    "batch_size = 64\n",
    "epochs = 25\n",
    "loss_fn = nn.CrossEntropyLoss()\n",
    "optimizer = torch.optim.SGD(model.parameters(), lr=learning_rate)"
   ]
  },
  {
   "cell_type": "code",
   "execution_count": 53,
   "id": "W-MHAPGqGS1r",
   "metadata": {
    "id": "W-MHAPGqGS1r"
   },
   "outputs": [],
   "source": [
    "#train loop\n",
    "def train_loop(dataloader, model, loss_fn, optimizer):\n",
    "    model.train() #set model in train mode\n",
    "    size = len(dataloader.dataset)\n",
    "\n",
    "    for batch, (X,y) in enumerate(dataloader):\n",
    "        #prediction and loss\n",
    "        #y = y.unsqueeze(1)\n",
    "        y = y.long()\n",
    "        pred = model(X)\n",
    "        loss = loss_fn(pred, y)\n",
    "\n",
    "        #backward pass\n",
    "        loss.backward()\n",
    "        optimizer.step()\n",
    "        optimizer.zero_grad()\n",
    "\n",
    "    if batch % 1 == 0:\n",
    "        loss, current = loss.item(), batch * batch_size + len(X)\n",
    "        print(f\"loss: {loss:>7f}  [{current:>5d}/{size:>5d}]\")"
   ]
  },
  {
   "cell_type": "code",
   "execution_count": 54,
   "id": "KCYzHxmWGS4e",
   "metadata": {
    "id": "KCYzHxmWGS4e"
   },
   "outputs": [],
   "source": [
    "def test_loop(train_dataloader, val_dataloader, model, loss_fn):\n",
    "    model.eval()  # set model in evaluation mode\n",
    "\n",
    "    size_train = len(train_dataloader.dataset)\n",
    "    size_val = len(val_dataloader.dataset)\n",
    "\n",
    "    num_batches_train = len(train_dataloader)\n",
    "    num_batches_val = len(val_dataloader)\n",
    "\n",
    "    train_loss, correct_train = 0, 0\n",
    "    val_loss, correct_val = 0, 0\n",
    "\n",
    "    # Evaluate model on train data\n",
    "    with torch.no_grad():\n",
    "        for X, y in train_dataloader:\n",
    "            #y = y.unsqueeze(1)\n",
    "            y = y.long()\n",
    "            pred = model(X)\n",
    "            train_loss += loss_fn(pred, y).item()\n",
    "            correct_train += (pred.argmax(1) == y).type(torch.float).sum().item()\n",
    "\n",
    "    train_loss /= num_batches_train\n",
    "    correct_train /= size_train\n",
    "    print(f\"Train Error: \\n Accuracy: {(100*correct_train):>0.1f}%, Avg loss: {train_loss:>8f}\")\n",
    "\n",
    "    # Evaluate model on validation data\n",
    "    with torch.no_grad():\n",
    "        for X, y in val_dataloader:\n",
    "            #y = y.unsqueeze(1)\n",
    "            y = y.long()\n",
    "            pred = model(X)\n",
    "            val_loss += loss_fn(pred, y).item()\n",
    "            correct_val += (pred.argmax(1) == y).type(torch.float).sum().item()\n",
    "\n",
    "    val_loss /= num_batches_val\n",
    "    correct_val /= size_val\n",
    "    print(f\"Validation Error: \\n Accuracy: {(100*correct_val):>0.1f}%, Avg loss: {val_loss:>8f}\")\n"
   ]
  },
  {
   "cell_type": "code",
   "execution_count": 55,
   "id": "kQZKmtTiJt8x",
   "metadata": {
    "colab": {
     "base_uri": "https://localhost:8080/"
    },
    "id": "kQZKmtTiJt8x",
    "outputId": "61e8832e-053c-4c5a-ab2d-5d8f54442f79"
   },
   "outputs": [
    {
     "name": "stdout",
     "output_type": "stream",
     "text": [
      "Epoch 1\n",
      "-------------------------------\n",
      "loss: 1.339606  [   67/   67]\n",
      "Train Error: \n",
      " Accuracy: 7.5%, Avg loss: 1.336449\n",
      "Validation Error: \n",
      " Accuracy: 11.8%, Avg loss: 1.337663\n",
      "Epoch 2\n",
      "-------------------------------\n",
      "loss: 1.325494  [   67/   67]\n",
      "Train Error: \n",
      " Accuracy: 14.9%, Avg loss: 1.326379\n",
      "Validation Error: \n",
      " Accuracy: 35.3%, Avg loss: 1.331318\n",
      "Epoch 3\n",
      "-------------------------------\n",
      "loss: 1.311895  [   67/   67]\n",
      "Train Error: \n",
      " Accuracy: 17.9%, Avg loss: 1.316728\n",
      "Validation Error: \n",
      " Accuracy: 29.4%, Avg loss: 1.325313\n",
      "Epoch 4\n",
      "-------------------------------\n",
      "loss: 1.298786  [   67/   67]\n",
      "Train Error: \n",
      " Accuracy: 23.9%, Avg loss: 1.307475\n",
      "Validation Error: \n",
      " Accuracy: 35.3%, Avg loss: 1.319628\n",
      "Epoch 5\n",
      "-------------------------------\n",
      "loss: 1.286144  [   67/   67]\n",
      "Train Error: \n",
      " Accuracy: 25.4%, Avg loss: 1.298601\n",
      "Validation Error: \n",
      " Accuracy: 35.3%, Avg loss: 1.314247\n",
      "Epoch 6\n",
      "-------------------------------\n",
      "loss: 1.273948  [   67/   67]\n",
      "Train Error: \n",
      " Accuracy: 25.4%, Avg loss: 1.290088\n",
      "Validation Error: \n",
      " Accuracy: 35.3%, Avg loss: 1.309152\n",
      "Epoch 7\n",
      "-------------------------------\n",
      "loss: 1.262178  [   67/   67]\n",
      "Train Error: \n",
      " Accuracy: 25.4%, Avg loss: 1.281917\n",
      "Validation Error: \n",
      " Accuracy: 35.3%, Avg loss: 1.304329\n",
      "Epoch 8\n",
      "-------------------------------\n",
      "loss: 1.250816  [   67/   67]\n",
      "Train Error: \n",
      " Accuracy: 25.4%, Avg loss: 1.274073\n",
      "Validation Error: \n",
      " Accuracy: 35.3%, Avg loss: 1.299762\n",
      "Epoch 9\n",
      "-------------------------------\n",
      "loss: 1.239842  [   67/   67]\n",
      "Train Error: \n",
      " Accuracy: 25.4%, Avg loss: 1.266538\n",
      "Validation Error: \n",
      " Accuracy: 35.3%, Avg loss: 1.295437\n",
      "Epoch 10\n",
      "-------------------------------\n",
      "loss: 1.229239  [   67/   67]\n",
      "Train Error: \n",
      " Accuracy: 25.4%, Avg loss: 1.259299\n",
      "Validation Error: \n",
      " Accuracy: 35.3%, Avg loss: 1.291341\n",
      "Epoch 11\n",
      "-------------------------------\n",
      "loss: 1.218992  [   67/   67]\n",
      "Train Error: \n",
      " Accuracy: 25.4%, Avg loss: 1.252340\n",
      "Validation Error: \n",
      " Accuracy: 35.3%, Avg loss: 1.287462\n",
      "Epoch 12\n",
      "-------------------------------\n",
      "loss: 1.209084  [   67/   67]\n",
      "Train Error: \n",
      " Accuracy: 25.4%, Avg loss: 1.245649\n",
      "Validation Error: \n",
      " Accuracy: 35.3%, Avg loss: 1.283786\n",
      "Epoch 13\n",
      "-------------------------------\n",
      "loss: 1.199499  [   67/   67]\n",
      "Train Error: \n",
      " Accuracy: 25.4%, Avg loss: 1.239212\n",
      "Validation Error: \n",
      " Accuracy: 35.3%, Avg loss: 1.280303\n",
      "Epoch 14\n",
      "-------------------------------\n",
      "loss: 1.190225  [   67/   67]\n",
      "Train Error: \n",
      " Accuracy: 25.4%, Avg loss: 1.233017\n",
      "Validation Error: \n",
      " Accuracy: 35.3%, Avg loss: 1.277002\n",
      "Epoch 15\n",
      "-------------------------------\n",
      "loss: 1.181247  [   67/   67]\n",
      "Train Error: \n",
      " Accuracy: 25.4%, Avg loss: 1.227053\n",
      "Validation Error: \n",
      " Accuracy: 35.3%, Avg loss: 1.273873\n",
      "Epoch 16\n",
      "-------------------------------\n",
      "loss: 1.172552  [   67/   67]\n",
      "Train Error: \n",
      " Accuracy: 25.4%, Avg loss: 1.221308\n",
      "Validation Error: \n",
      " Accuracy: 35.3%, Avg loss: 1.270906\n",
      "Epoch 17\n",
      "-------------------------------\n",
      "loss: 1.164128  [   67/   67]\n",
      "Train Error: \n",
      " Accuracy: 25.4%, Avg loss: 1.215771\n",
      "Validation Error: \n",
      " Accuracy: 35.3%, Avg loss: 1.268093\n",
      "Epoch 18\n",
      "-------------------------------\n",
      "loss: 1.155964  [   67/   67]\n",
      "Train Error: \n",
      " Accuracy: 25.4%, Avg loss: 1.210434\n",
      "Validation Error: \n",
      " Accuracy: 35.3%, Avg loss: 1.265424\n",
      "Epoch 19\n",
      "-------------------------------\n",
      "loss: 1.148047  [   67/   67]\n",
      "Train Error: \n",
      " Accuracy: 25.4%, Avg loss: 1.205286\n",
      "Validation Error: \n",
      " Accuracy: 35.3%, Avg loss: 1.262893\n",
      "Epoch 20\n",
      "-------------------------------\n",
      "loss: 1.140368  [   67/   67]\n",
      "Train Error: \n",
      " Accuracy: 25.4%, Avg loss: 1.200318\n",
      "Validation Error: \n",
      " Accuracy: 35.3%, Avg loss: 1.260490\n",
      "Epoch 21\n",
      "-------------------------------\n",
      "loss: 1.132916  [   67/   67]\n",
      "Train Error: \n",
      " Accuracy: 25.4%, Avg loss: 1.195523\n",
      "Validation Error: \n",
      " Accuracy: 35.3%, Avg loss: 1.258209\n",
      "Epoch 22\n",
      "-------------------------------\n",
      "loss: 1.125682  [   67/   67]\n",
      "Train Error: \n",
      " Accuracy: 25.4%, Avg loss: 1.190891\n",
      "Validation Error: \n",
      " Accuracy: 35.3%, Avg loss: 1.256043\n",
      "Epoch 23\n",
      "-------------------------------\n",
      "loss: 1.118657  [   67/   67]\n",
      "Train Error: \n",
      " Accuracy: 25.4%, Avg loss: 1.186415\n",
      "Validation Error: \n",
      " Accuracy: 35.3%, Avg loss: 1.253986\n",
      "Epoch 24\n",
      "-------------------------------\n",
      "loss: 1.111831  [   67/   67]\n",
      "Train Error: \n",
      " Accuracy: 31.3%, Avg loss: 1.182089\n",
      "Validation Error: \n",
      " Accuracy: 35.3%, Avg loss: 1.252031\n",
      "Epoch 25\n",
      "-------------------------------\n",
      "loss: 1.105197  [   67/   67]\n",
      "Train Error: \n",
      " Accuracy: 35.8%, Avg loss: 1.177905\n",
      "Validation Error: \n",
      " Accuracy: 35.3%, Avg loss: 1.250173\n",
      "Epoch 26\n",
      "-------------------------------\n",
      "loss: 1.098747  [   67/   67]\n",
      "Train Error: \n",
      " Accuracy: 41.8%, Avg loss: 1.173856\n",
      "Validation Error: \n",
      " Accuracy: 35.3%, Avg loss: 1.248406\n",
      "Epoch 27\n",
      "-------------------------------\n",
      "loss: 1.092473  [   67/   67]\n",
      "Train Error: \n",
      " Accuracy: 50.7%, Avg loss: 1.169936\n",
      "Validation Error: \n",
      " Accuracy: 41.2%, Avg loss: 1.246726\n",
      "Epoch 28\n",
      "-------------------------------\n",
      "loss: 1.086368  [   67/   67]\n",
      "Train Error: \n",
      " Accuracy: 55.2%, Avg loss: 1.166140\n",
      "Validation Error: \n",
      " Accuracy: 47.1%, Avg loss: 1.245127\n",
      "Epoch 29\n",
      "-------------------------------\n",
      "loss: 1.080425  [   67/   67]\n",
      "Train Error: \n",
      " Accuracy: 59.7%, Avg loss: 1.162462\n",
      "Validation Error: \n",
      " Accuracy: 64.7%, Avg loss: 1.243604\n",
      "Epoch 30\n",
      "-------------------------------\n",
      "loss: 1.074638  [   67/   67]\n",
      "Train Error: \n",
      " Accuracy: 65.7%, Avg loss: 1.158896\n",
      "Validation Error: \n",
      " Accuracy: 70.6%, Avg loss: 1.242154\n",
      "Epoch 31\n",
      "-------------------------------\n",
      "loss: 1.069001  [   67/   67]\n",
      "Train Error: \n",
      " Accuracy: 68.7%, Avg loss: 1.155438\n",
      "Validation Error: \n",
      " Accuracy: 70.6%, Avg loss: 1.240772\n",
      "Epoch 32\n",
      "-------------------------------\n",
      "loss: 1.063507  [   67/   67]\n",
      "Train Error: \n",
      " Accuracy: 68.7%, Avg loss: 1.152082\n",
      "Validation Error: \n",
      " Accuracy: 70.6%, Avg loss: 1.239455\n",
      "Epoch 33\n",
      "-------------------------------\n",
      "loss: 1.058152  [   67/   67]\n",
      "Train Error: \n",
      " Accuracy: 70.1%, Avg loss: 1.148824\n",
      "Validation Error: \n",
      " Accuracy: 70.6%, Avg loss: 1.238198\n",
      "Epoch 34\n",
      "-------------------------------\n",
      "loss: 1.052929  [   67/   67]\n",
      "Train Error: \n",
      " Accuracy: 70.1%, Avg loss: 1.145660\n",
      "Validation Error: \n",
      " Accuracy: 70.6%, Avg loss: 1.236999\n",
      "Epoch 35\n",
      "-------------------------------\n",
      "loss: 1.047834  [   67/   67]\n",
      "Train Error: \n",
      " Accuracy: 70.1%, Avg loss: 1.142585\n",
      "Validation Error: \n",
      " Accuracy: 70.6%, Avg loss: 1.235854\n",
      "Epoch 36\n",
      "-------------------------------\n",
      "loss: 1.042862  [   67/   67]\n",
      "Train Error: \n",
      " Accuracy: 70.1%, Avg loss: 1.139597\n",
      "Validation Error: \n",
      " Accuracy: 70.6%, Avg loss: 1.234760\n",
      "Epoch 37\n",
      "-------------------------------\n",
      "loss: 1.038008  [   67/   67]\n",
      "Train Error: \n",
      " Accuracy: 70.1%, Avg loss: 1.136690\n",
      "Validation Error: \n",
      " Accuracy: 64.7%, Avg loss: 1.233714\n",
      "Epoch 38\n",
      "-------------------------------\n",
      "loss: 1.033267  [   67/   67]\n",
      "Train Error: \n",
      " Accuracy: 70.1%, Avg loss: 1.133861\n",
      "Validation Error: \n",
      " Accuracy: 64.7%, Avg loss: 1.232714\n",
      "Epoch 39\n",
      "-------------------------------\n",
      "loss: 1.028637  [   67/   67]\n",
      "Train Error: \n",
      " Accuracy: 70.1%, Avg loss: 1.131108\n",
      "Validation Error: \n",
      " Accuracy: 64.7%, Avg loss: 1.231756\n",
      "Epoch 40\n",
      "-------------------------------\n",
      "loss: 1.024111  [   67/   67]\n",
      "Train Error: \n",
      " Accuracy: 70.1%, Avg loss: 1.128426\n",
      "Validation Error: \n",
      " Accuracy: 64.7%, Avg loss: 1.230839\n",
      "Epoch 41\n",
      "-------------------------------\n",
      "loss: 1.019688  [   67/   67]\n",
      "Train Error: \n",
      " Accuracy: 70.1%, Avg loss: 1.125813\n",
      "Validation Error: \n",
      " Accuracy: 64.7%, Avg loss: 1.229959\n",
      "Epoch 42\n",
      "-------------------------------\n",
      "loss: 1.015362  [   67/   67]\n",
      "Train Error: \n",
      " Accuracy: 70.1%, Avg loss: 1.123266\n",
      "Validation Error: \n",
      " Accuracy: 64.7%, Avg loss: 1.229116\n",
      "Epoch 43\n",
      "-------------------------------\n",
      "loss: 1.011131  [   67/   67]\n",
      "Train Error: \n",
      " Accuracy: 70.1%, Avg loss: 1.120782\n",
      "Validation Error: \n",
      " Accuracy: 64.7%, Avg loss: 1.228306\n",
      "Epoch 44\n",
      "-------------------------------\n",
      "loss: 1.006991  [   67/   67]\n",
      "Train Error: \n",
      " Accuracy: 70.1%, Avg loss: 1.118359\n",
      "Validation Error: \n",
      " Accuracy: 64.7%, Avg loss: 1.227528\n",
      "Epoch 45\n",
      "-------------------------------\n",
      "loss: 1.002939  [   67/   67]\n",
      "Train Error: \n",
      " Accuracy: 70.1%, Avg loss: 1.115993\n",
      "Validation Error: \n",
      " Accuracy: 64.7%, Avg loss: 1.226780\n",
      "Epoch 46\n",
      "-------------------------------\n",
      "loss: 0.998972  [   67/   67]\n",
      "Train Error: \n",
      " Accuracy: 70.1%, Avg loss: 1.113683\n",
      "Validation Error: \n",
      " Accuracy: 64.7%, Avg loss: 1.226060\n",
      "Epoch 47\n",
      "-------------------------------\n",
      "loss: 0.995087  [   67/   67]\n",
      "Train Error: \n",
      " Accuracy: 70.1%, Avg loss: 1.111426\n",
      "Validation Error: \n",
      " Accuracy: 64.7%, Avg loss: 1.225366\n",
      "Epoch 48\n",
      "-------------------------------\n",
      "loss: 0.991281  [   67/   67]\n",
      "Train Error: \n",
      " Accuracy: 70.1%, Avg loss: 1.109221\n",
      "Validation Error: \n",
      " Accuracy: 64.7%, Avg loss: 1.224697\n",
      "Epoch 49\n",
      "-------------------------------\n",
      "loss: 0.987551  [   67/   67]\n",
      "Train Error: \n",
      " Accuracy: 68.7%, Avg loss: 1.107064\n",
      "Validation Error: \n",
      " Accuracy: 64.7%, Avg loss: 1.224052\n",
      "Epoch 50\n",
      "-------------------------------\n",
      "loss: 0.983895  [   67/   67]\n",
      "Train Error: \n",
      " Accuracy: 68.7%, Avg loss: 1.104954\n",
      "Validation Error: \n",
      " Accuracy: 64.7%, Avg loss: 1.223429\n",
      "Epoch 51\n",
      "-------------------------------\n",
      "loss: 0.980311  [   67/   67]\n",
      "Train Error: \n",
      " Accuracy: 68.7%, Avg loss: 1.102890\n",
      "Validation Error: \n",
      " Accuracy: 64.7%, Avg loss: 1.222827\n",
      "Epoch 52\n",
      "-------------------------------\n",
      "loss: 0.976796  [   67/   67]\n",
      "Train Error: \n",
      " Accuracy: 68.7%, Avg loss: 1.100869\n",
      "Validation Error: \n",
      " Accuracy: 64.7%, Avg loss: 1.222244\n",
      "Epoch 53\n",
      "-------------------------------\n",
      "loss: 0.973347  [   67/   67]\n",
      "Train Error: \n",
      " Accuracy: 68.7%, Avg loss: 1.098890\n",
      "Validation Error: \n",
      " Accuracy: 64.7%, Avg loss: 1.221680\n",
      "Epoch 54\n",
      "-------------------------------\n",
      "loss: 0.969964  [   67/   67]\n",
      "Train Error: \n",
      " Accuracy: 68.7%, Avg loss: 1.096950\n",
      "Validation Error: \n",
      " Accuracy: 64.7%, Avg loss: 1.221132\n",
      "Epoch 55\n",
      "-------------------------------\n",
      "loss: 0.966642  [   67/   67]\n",
      "Train Error: \n",
      " Accuracy: 68.7%, Avg loss: 1.095050\n",
      "Validation Error: \n",
      " Accuracy: 64.7%, Avg loss: 1.220601\n",
      "Epoch 56\n",
      "-------------------------------\n",
      "loss: 0.963382  [   67/   67]\n",
      "Train Error: \n",
      " Accuracy: 68.7%, Avg loss: 1.093186\n",
      "Validation Error: \n",
      " Accuracy: 64.7%, Avg loss: 1.220085\n",
      "Epoch 57\n",
      "-------------------------------\n",
      "loss: 0.960180  [   67/   67]\n",
      "Train Error: \n",
      " Accuracy: 68.7%, Avg loss: 1.091358\n",
      "Validation Error: \n",
      " Accuracy: 64.7%, Avg loss: 1.219583\n",
      "Epoch 58\n",
      "-------------------------------\n",
      "loss: 0.957035  [   67/   67]\n",
      "Train Error: \n",
      " Accuracy: 68.7%, Avg loss: 1.089564\n",
      "Validation Error: \n",
      " Accuracy: 64.7%, Avg loss: 1.219094\n",
      "Epoch 59\n",
      "-------------------------------\n",
      "loss: 0.953945  [   67/   67]\n",
      "Train Error: \n",
      " Accuracy: 68.7%, Avg loss: 1.087803\n",
      "Validation Error: \n",
      " Accuracy: 64.7%, Avg loss: 1.218618\n",
      "Epoch 60\n",
      "-------------------------------\n",
      "loss: 0.950908  [   67/   67]\n",
      "Train Error: \n",
      " Accuracy: 68.7%, Avg loss: 1.086073\n",
      "Validation Error: \n",
      " Accuracy: 64.7%, Avg loss: 1.218153\n",
      "Epoch 61\n",
      "-------------------------------\n",
      "loss: 0.947924  [   67/   67]\n",
      "Train Error: \n",
      " Accuracy: 68.7%, Avg loss: 1.084375\n",
      "Validation Error: \n",
      " Accuracy: 64.7%, Avg loss: 1.217700\n",
      "Epoch 62\n",
      "-------------------------------\n",
      "loss: 0.944989  [   67/   67]\n",
      "Train Error: \n",
      " Accuracy: 68.7%, Avg loss: 1.082705\n",
      "Validation Error: \n",
      " Accuracy: 64.7%, Avg loss: 1.217256\n",
      "Epoch 63\n",
      "-------------------------------\n",
      "loss: 0.942104  [   67/   67]\n",
      "Train Error: \n",
      " Accuracy: 68.7%, Avg loss: 1.081064\n",
      "Validation Error: \n",
      " Accuracy: 64.7%, Avg loss: 1.216822\n",
      "Epoch 64\n",
      "-------------------------------\n",
      "loss: 0.939265  [   67/   67]\n",
      "Train Error: \n",
      " Accuracy: 68.7%, Avg loss: 1.079450\n",
      "Validation Error: \n",
      " Accuracy: 64.7%, Avg loss: 1.216397\n",
      "Epoch 65\n",
      "-------------------------------\n",
      "loss: 0.936473  [   67/   67]\n",
      "Train Error: \n",
      " Accuracy: 68.7%, Avg loss: 1.077862\n",
      "Validation Error: \n",
      " Accuracy: 64.7%, Avg loss: 1.215980\n",
      "Epoch 66\n",
      "-------------------------------\n",
      "loss: 0.933725  [   67/   67]\n",
      "Train Error: \n",
      " Accuracy: 68.7%, Avg loss: 1.076300\n",
      "Validation Error: \n",
      " Accuracy: 64.7%, Avg loss: 1.215571\n",
      "Epoch 67\n",
      "-------------------------------\n",
      "loss: 0.931020  [   67/   67]\n",
      "Train Error: \n",
      " Accuracy: 68.7%, Avg loss: 1.074762\n",
      "Validation Error: \n",
      " Accuracy: 64.7%, Avg loss: 1.215169\n",
      "Epoch 68\n",
      "-------------------------------\n",
      "loss: 0.928358  [   67/   67]\n",
      "Train Error: \n",
      " Accuracy: 68.7%, Avg loss: 1.073248\n",
      "Validation Error: \n",
      " Accuracy: 64.7%, Avg loss: 1.214773\n",
      "Epoch 69\n",
      "-------------------------------\n",
      "loss: 0.925736  [   67/   67]\n",
      "Train Error: \n",
      " Accuracy: 68.7%, Avg loss: 1.071756\n",
      "Validation Error: \n",
      " Accuracy: 64.7%, Avg loss: 1.214384\n",
      "Epoch 70\n",
      "-------------------------------\n",
      "loss: 0.923155  [   67/   67]\n",
      "Train Error: \n",
      " Accuracy: 68.7%, Avg loss: 1.070286\n",
      "Validation Error: \n",
      " Accuracy: 64.7%, Avg loss: 1.214000\n",
      "Epoch 71\n",
      "-------------------------------\n",
      "loss: 0.920611  [   67/   67]\n",
      "Train Error: \n",
      " Accuracy: 68.7%, Avg loss: 1.068837\n",
      "Validation Error: \n",
      " Accuracy: 64.7%, Avg loss: 1.213622\n",
      "Epoch 72\n",
      "-------------------------------\n",
      "loss: 0.918106  [   67/   67]\n",
      "Train Error: \n",
      " Accuracy: 68.7%, Avg loss: 1.067409\n",
      "Validation Error: \n",
      " Accuracy: 64.7%, Avg loss: 1.213248\n",
      "Epoch 73\n",
      "-------------------------------\n",
      "loss: 0.915637  [   67/   67]\n",
      "Train Error: \n",
      " Accuracy: 68.7%, Avg loss: 1.066001\n",
      "Validation Error: \n",
      " Accuracy: 64.7%, Avg loss: 1.212879\n",
      "Epoch 74\n",
      "-------------------------------\n",
      "loss: 0.913204  [   67/   67]\n",
      "Train Error: \n",
      " Accuracy: 68.7%, Avg loss: 1.064611\n",
      "Validation Error: \n",
      " Accuracy: 64.7%, Avg loss: 1.212514\n",
      "Epoch 75\n",
      "-------------------------------\n",
      "loss: 0.910805  [   67/   67]\n",
      "Train Error: \n",
      " Accuracy: 68.7%, Avg loss: 1.063240\n",
      "Validation Error: \n",
      " Accuracy: 64.7%, Avg loss: 1.212153\n",
      "Epoch 76\n",
      "-------------------------------\n",
      "loss: 0.908440  [   67/   67]\n",
      "Train Error: \n",
      " Accuracy: 68.7%, Avg loss: 1.061887\n",
      "Validation Error: \n",
      " Accuracy: 64.7%, Avg loss: 1.211796\n",
      "Epoch 77\n",
      "-------------------------------\n",
      "loss: 0.906108  [   67/   67]\n",
      "Train Error: \n",
      " Accuracy: 68.7%, Avg loss: 1.060551\n",
      "Validation Error: \n",
      " Accuracy: 64.7%, Avg loss: 1.211441\n",
      "Epoch 78\n",
      "-------------------------------\n",
      "loss: 0.903807  [   67/   67]\n",
      "Train Error: \n",
      " Accuracy: 68.7%, Avg loss: 1.059231\n",
      "Validation Error: \n",
      " Accuracy: 64.7%, Avg loss: 1.211089\n",
      "Epoch 79\n",
      "-------------------------------\n",
      "loss: 0.901538  [   67/   67]\n",
      "Train Error: \n",
      " Accuracy: 68.7%, Avg loss: 1.057928\n",
      "Validation Error: \n",
      " Accuracy: 64.7%, Avg loss: 1.210740\n",
      "Epoch 80\n",
      "-------------------------------\n",
      "loss: 0.899299  [   67/   67]\n",
      "Train Error: \n",
      " Accuracy: 68.7%, Avg loss: 1.056640\n",
      "Validation Error: \n",
      " Accuracy: 64.7%, Avg loss: 1.210394\n",
      "Epoch 81\n",
      "-------------------------------\n",
      "loss: 0.897090  [   67/   67]\n",
      "Train Error: \n",
      " Accuracy: 68.7%, Avg loss: 1.055367\n",
      "Validation Error: \n",
      " Accuracy: 64.7%, Avg loss: 1.210049\n",
      "Epoch 82\n",
      "-------------------------------\n",
      "loss: 0.894910  [   67/   67]\n",
      "Train Error: \n",
      " Accuracy: 68.7%, Avg loss: 1.054109\n",
      "Validation Error: \n",
      " Accuracy: 64.7%, Avg loss: 1.209706\n",
      "Epoch 83\n",
      "-------------------------------\n",
      "loss: 0.892757  [   67/   67]\n",
      "Train Error: \n",
      " Accuracy: 68.7%, Avg loss: 1.052865\n",
      "Validation Error: \n",
      " Accuracy: 64.7%, Avg loss: 1.209365\n",
      "Epoch 84\n",
      "-------------------------------\n",
      "loss: 0.890632  [   67/   67]\n",
      "Train Error: \n",
      " Accuracy: 68.7%, Avg loss: 1.051635\n",
      "Validation Error: \n",
      " Accuracy: 64.7%, Avg loss: 1.209026\n",
      "Epoch 85\n",
      "-------------------------------\n",
      "loss: 0.888534  [   67/   67]\n",
      "Train Error: \n",
      " Accuracy: 68.7%, Avg loss: 1.050417\n",
      "Validation Error: \n",
      " Accuracy: 64.7%, Avg loss: 1.208687\n",
      "Epoch 86\n",
      "-------------------------------\n",
      "loss: 0.886462  [   67/   67]\n",
      "Train Error: \n",
      " Accuracy: 68.7%, Avg loss: 1.049213\n",
      "Validation Error: \n",
      " Accuracy: 64.7%, Avg loss: 1.208350\n",
      "Epoch 87\n",
      "-------------------------------\n",
      "loss: 0.884415  [   67/   67]\n",
      "Train Error: \n",
      " Accuracy: 68.7%, Avg loss: 1.048021\n",
      "Validation Error: \n",
      " Accuracy: 64.7%, Avg loss: 1.208014\n",
      "Epoch 88\n",
      "-------------------------------\n",
      "loss: 0.882393  [   67/   67]\n",
      "Train Error: \n",
      " Accuracy: 70.1%, Avg loss: 1.046841\n",
      "Validation Error: \n",
      " Accuracy: 64.7%, Avg loss: 1.207678\n",
      "Epoch 89\n",
      "-------------------------------\n",
      "loss: 0.880396  [   67/   67]\n",
      "Train Error: \n",
      " Accuracy: 70.1%, Avg loss: 1.045673\n",
      "Validation Error: \n",
      " Accuracy: 64.7%, Avg loss: 1.207343\n",
      "Epoch 90\n",
      "-------------------------------\n",
      "loss: 0.878422  [   67/   67]\n",
      "Train Error: \n",
      " Accuracy: 70.1%, Avg loss: 1.044516\n",
      "Validation Error: \n",
      " Accuracy: 64.7%, Avg loss: 1.207009\n",
      "Epoch 91\n",
      "-------------------------------\n",
      "loss: 0.876471  [   67/   67]\n",
      "Train Error: \n",
      " Accuracy: 70.1%, Avg loss: 1.043370\n",
      "Validation Error: \n",
      " Accuracy: 64.7%, Avg loss: 1.206675\n",
      "Epoch 92\n",
      "-------------------------------\n",
      "loss: 0.874542  [   67/   67]\n",
      "Train Error: \n",
      " Accuracy: 70.1%, Avg loss: 1.042235\n",
      "Validation Error: \n",
      " Accuracy: 64.7%, Avg loss: 1.206341\n",
      "Epoch 93\n",
      "-------------------------------\n",
      "loss: 0.872636  [   67/   67]\n",
      "Train Error: \n",
      " Accuracy: 70.1%, Avg loss: 1.041110\n",
      "Validation Error: \n",
      " Accuracy: 64.7%, Avg loss: 1.206007\n",
      "Epoch 94\n",
      "-------------------------------\n",
      "loss: 0.870751  [   67/   67]\n",
      "Train Error: \n",
      " Accuracy: 70.1%, Avg loss: 1.039995\n",
      "Validation Error: \n",
      " Accuracy: 64.7%, Avg loss: 1.205674\n",
      "Epoch 95\n",
      "-------------------------------\n",
      "loss: 0.868887  [   67/   67]\n",
      "Train Error: \n",
      " Accuracy: 70.1%, Avg loss: 1.038890\n",
      "Validation Error: \n",
      " Accuracy: 64.7%, Avg loss: 1.205340\n",
      "Epoch 96\n",
      "-------------------------------\n",
      "loss: 0.867043  [   67/   67]\n",
      "Train Error: \n",
      " Accuracy: 70.1%, Avg loss: 1.037795\n",
      "Validation Error: \n",
      " Accuracy: 64.7%, Avg loss: 1.205006\n",
      "Epoch 97\n",
      "-------------------------------\n",
      "loss: 0.865220  [   67/   67]\n",
      "Train Error: \n",
      " Accuracy: 70.1%, Avg loss: 1.036708\n",
      "Validation Error: \n",
      " Accuracy: 64.7%, Avg loss: 1.204672\n",
      "Epoch 98\n",
      "-------------------------------\n",
      "loss: 0.863416  [   67/   67]\n",
      "Train Error: \n",
      " Accuracy: 70.1%, Avg loss: 1.035631\n",
      "Validation Error: \n",
      " Accuracy: 64.7%, Avg loss: 1.204337\n",
      "Epoch 99\n",
      "-------------------------------\n",
      "loss: 0.861632  [   67/   67]\n",
      "Train Error: \n",
      " Accuracy: 70.1%, Avg loss: 1.034562\n",
      "Validation Error: \n",
      " Accuracy: 64.7%, Avg loss: 1.204003\n",
      "Epoch 100\n",
      "-------------------------------\n",
      "loss: 0.859866  [   67/   67]\n",
      "Train Error: \n",
      " Accuracy: 70.1%, Avg loss: 1.033502\n",
      "Validation Error: \n",
      " Accuracy: 64.7%, Avg loss: 1.203667\n",
      "Epoch 101\n",
      "-------------------------------\n",
      "loss: 0.858118  [   67/   67]\n",
      "Train Error: \n",
      " Accuracy: 70.1%, Avg loss: 1.032450\n",
      "Validation Error: \n",
      " Accuracy: 64.7%, Avg loss: 1.203331\n",
      "Epoch 102\n",
      "-------------------------------\n",
      "loss: 0.856389  [   67/   67]\n",
      "Train Error: \n",
      " Accuracy: 70.1%, Avg loss: 1.031406\n",
      "Validation Error: \n",
      " Accuracy: 64.7%, Avg loss: 1.202995\n",
      "Epoch 103\n",
      "-------------------------------\n",
      "loss: 0.854677  [   67/   67]\n",
      "Train Error: \n",
      " Accuracy: 70.1%, Avg loss: 1.030370\n",
      "Validation Error: \n",
      " Accuracy: 64.7%, Avg loss: 1.202657\n",
      "Epoch 104\n",
      "-------------------------------\n",
      "loss: 0.852982  [   67/   67]\n",
      "Train Error: \n",
      " Accuracy: 70.1%, Avg loss: 1.029341\n",
      "Validation Error: \n",
      " Accuracy: 64.7%, Avg loss: 1.202320\n",
      "Epoch 105\n",
      "-------------------------------\n",
      "loss: 0.851304  [   67/   67]\n",
      "Train Error: \n",
      " Accuracy: 70.1%, Avg loss: 1.028320\n",
      "Validation Error: \n",
      " Accuracy: 64.7%, Avg loss: 1.201981\n",
      "Epoch 106\n",
      "-------------------------------\n",
      "loss: 0.849643  [   67/   67]\n",
      "Train Error: \n",
      " Accuracy: 70.1%, Avg loss: 1.027306\n",
      "Validation Error: \n",
      " Accuracy: 64.7%, Avg loss: 1.201642\n",
      "Epoch 107\n",
      "-------------------------------\n",
      "loss: 0.847997  [   67/   67]\n",
      "Train Error: \n",
      " Accuracy: 70.1%, Avg loss: 1.026298\n",
      "Validation Error: \n",
      " Accuracy: 64.7%, Avg loss: 1.201302\n",
      "Epoch 108\n",
      "-------------------------------\n",
      "loss: 0.846367  [   67/   67]\n",
      "Train Error: \n",
      " Accuracy: 70.1%, Avg loss: 1.025298\n",
      "Validation Error: \n",
      " Accuracy: 64.7%, Avg loss: 1.200961\n",
      "Epoch 109\n",
      "-------------------------------\n",
      "loss: 0.844753  [   67/   67]\n",
      "Train Error: \n",
      " Accuracy: 70.1%, Avg loss: 1.024304\n",
      "Validation Error: \n",
      " Accuracy: 64.7%, Avg loss: 1.200619\n",
      "Epoch 110\n",
      "-------------------------------\n",
      "loss: 0.843154  [   67/   67]\n",
      "Train Error: \n",
      " Accuracy: 70.1%, Avg loss: 1.023317\n",
      "Validation Error: \n",
      " Accuracy: 64.7%, Avg loss: 1.200276\n",
      "Epoch 111\n",
      "-------------------------------\n",
      "loss: 0.841569  [   67/   67]\n",
      "Train Error: \n",
      " Accuracy: 70.1%, Avg loss: 1.022337\n",
      "Validation Error: \n",
      " Accuracy: 64.7%, Avg loss: 1.199932\n",
      "Epoch 112\n",
      "-------------------------------\n",
      "loss: 0.839999  [   67/   67]\n",
      "Train Error: \n",
      " Accuracy: 70.1%, Avg loss: 1.021362\n",
      "Validation Error: \n",
      " Accuracy: 64.7%, Avg loss: 1.199587\n",
      "Epoch 113\n",
      "-------------------------------\n",
      "loss: 0.838444  [   67/   67]\n",
      "Train Error: \n",
      " Accuracy: 70.1%, Avg loss: 1.020393\n",
      "Validation Error: \n",
      " Accuracy: 64.7%, Avg loss: 1.199241\n",
      "Epoch 114\n",
      "-------------------------------\n",
      "loss: 0.836901  [   67/   67]\n",
      "Train Error: \n",
      " Accuracy: 70.1%, Avg loss: 1.019430\n",
      "Validation Error: \n",
      " Accuracy: 64.7%, Avg loss: 1.198894\n",
      "Epoch 115\n",
      "-------------------------------\n",
      "loss: 0.835373  [   67/   67]\n",
      "Train Error: \n",
      " Accuracy: 70.1%, Avg loss: 1.018473\n",
      "Validation Error: \n",
      " Accuracy: 64.7%, Avg loss: 1.198546\n",
      "Epoch 116\n",
      "-------------------------------\n",
      "loss: 0.833858  [   67/   67]\n",
      "Train Error: \n",
      " Accuracy: 70.1%, Avg loss: 1.017521\n",
      "Validation Error: \n",
      " Accuracy: 64.7%, Avg loss: 1.198197\n",
      "Epoch 117\n",
      "-------------------------------\n",
      "loss: 0.832356  [   67/   67]\n",
      "Train Error: \n",
      " Accuracy: 70.1%, Avg loss: 1.016575\n",
      "Validation Error: \n",
      " Accuracy: 64.7%, Avg loss: 1.197847\n",
      "Epoch 118\n",
      "-------------------------------\n",
      "loss: 0.830867  [   67/   67]\n",
      "Train Error: \n",
      " Accuracy: 70.1%, Avg loss: 1.015634\n",
      "Validation Error: \n",
      " Accuracy: 64.7%, Avg loss: 1.197496\n",
      "Epoch 119\n",
      "-------------------------------\n",
      "loss: 0.829391  [   67/   67]\n",
      "Train Error: \n",
      " Accuracy: 70.1%, Avg loss: 1.014699\n",
      "Validation Error: \n",
      " Accuracy: 64.7%, Avg loss: 1.197144\n",
      "Epoch 120\n",
      "-------------------------------\n",
      "loss: 0.827926  [   67/   67]\n",
      "Train Error: \n",
      " Accuracy: 70.1%, Avg loss: 1.013768\n",
      "Validation Error: \n",
      " Accuracy: 64.7%, Avg loss: 1.196790\n",
      "Epoch 121\n",
      "-------------------------------\n",
      "loss: 0.826474  [   67/   67]\n",
      "Train Error: \n",
      " Accuracy: 70.1%, Avg loss: 1.012842\n",
      "Validation Error: \n",
      " Accuracy: 64.7%, Avg loss: 1.196436\n",
      "Epoch 122\n",
      "-------------------------------\n",
      "loss: 0.825034  [   67/   67]\n",
      "Train Error: \n",
      " Accuracy: 70.1%, Avg loss: 1.011922\n",
      "Validation Error: \n",
      " Accuracy: 64.7%, Avg loss: 1.196081\n",
      "Epoch 123\n",
      "-------------------------------\n",
      "loss: 0.823605  [   67/   67]\n",
      "Train Error: \n",
      " Accuracy: 70.1%, Avg loss: 1.011006\n",
      "Validation Error: \n",
      " Accuracy: 64.7%, Avg loss: 1.195724\n",
      "Epoch 124\n",
      "-------------------------------\n",
      "loss: 0.822188  [   67/   67]\n",
      "Train Error: \n",
      " Accuracy: 70.1%, Avg loss: 1.010094\n",
      "Validation Error: \n",
      " Accuracy: 64.7%, Avg loss: 1.195367\n",
      "Epoch 125\n",
      "-------------------------------\n",
      "loss: 0.820781  [   67/   67]\n",
      "Train Error: \n",
      " Accuracy: 70.1%, Avg loss: 1.009187\n",
      "Validation Error: \n",
      " Accuracy: 64.7%, Avg loss: 1.195008\n",
      "Epoch 126\n",
      "-------------------------------\n",
      "loss: 0.819386  [   67/   67]\n",
      "Train Error: \n",
      " Accuracy: 70.1%, Avg loss: 1.008285\n",
      "Validation Error: \n",
      " Accuracy: 64.7%, Avg loss: 1.194648\n",
      "Epoch 127\n",
      "-------------------------------\n",
      "loss: 0.818001  [   67/   67]\n",
      "Train Error: \n",
      " Accuracy: 70.1%, Avg loss: 1.007386\n",
      "Validation Error: \n",
      " Accuracy: 64.7%, Avg loss: 1.194287\n",
      "Epoch 128\n",
      "-------------------------------\n",
      "loss: 0.816627  [   67/   67]\n",
      "Train Error: \n",
      " Accuracy: 70.1%, Avg loss: 1.006492\n",
      "Validation Error: \n",
      " Accuracy: 64.7%, Avg loss: 1.193924\n",
      "Epoch 129\n",
      "-------------------------------\n",
      "loss: 0.815263  [   67/   67]\n",
      "Train Error: \n",
      " Accuracy: 70.1%, Avg loss: 1.005603\n",
      "Validation Error: \n",
      " Accuracy: 64.7%, Avg loss: 1.193561\n",
      "Epoch 130\n",
      "-------------------------------\n",
      "loss: 0.813910  [   67/   67]\n",
      "Train Error: \n",
      " Accuracy: 70.1%, Avg loss: 1.004717\n",
      "Validation Error: \n",
      " Accuracy: 64.7%, Avg loss: 1.193197\n",
      "Epoch 131\n",
      "-------------------------------\n",
      "loss: 0.812566  [   67/   67]\n",
      "Train Error: \n",
      " Accuracy: 70.1%, Avg loss: 1.003835\n",
      "Validation Error: \n",
      " Accuracy: 64.7%, Avg loss: 1.192832\n",
      "Epoch 132\n",
      "-------------------------------\n",
      "loss: 0.811232  [   67/   67]\n",
      "Train Error: \n",
      " Accuracy: 70.1%, Avg loss: 1.002957\n",
      "Validation Error: \n",
      " Accuracy: 64.7%, Avg loss: 1.192466\n",
      "Epoch 133\n",
      "-------------------------------\n",
      "loss: 0.809908  [   67/   67]\n",
      "Train Error: \n",
      " Accuracy: 70.1%, Avg loss: 1.002083\n",
      "Validation Error: \n",
      " Accuracy: 64.7%, Avg loss: 1.192098\n",
      "Epoch 134\n",
      "-------------------------------\n",
      "loss: 0.808593  [   67/   67]\n",
      "Train Error: \n",
      " Accuracy: 70.1%, Avg loss: 1.001212\n",
      "Validation Error: \n",
      " Accuracy: 64.7%, Avg loss: 1.191729\n",
      "Epoch 135\n",
      "-------------------------------\n",
      "loss: 0.807287  [   67/   67]\n",
      "Train Error: \n",
      " Accuracy: 70.1%, Avg loss: 1.000346\n",
      "Validation Error: \n",
      " Accuracy: 64.7%, Avg loss: 1.191360\n",
      "Epoch 136\n",
      "-------------------------------\n",
      "loss: 0.805991  [   67/   67]\n",
      "Train Error: \n",
      " Accuracy: 70.1%, Avg loss: 0.999483\n",
      "Validation Error: \n",
      " Accuracy: 64.7%, Avg loss: 1.190989\n",
      "Epoch 137\n",
      "-------------------------------\n",
      "loss: 0.804703  [   67/   67]\n",
      "Train Error: \n",
      " Accuracy: 70.1%, Avg loss: 0.998623\n",
      "Validation Error: \n",
      " Accuracy: 64.7%, Avg loss: 1.190618\n",
      "Epoch 138\n",
      "-------------------------------\n",
      "loss: 0.803424  [   67/   67]\n",
      "Train Error: \n",
      " Accuracy: 70.1%, Avg loss: 0.997767\n",
      "Validation Error: \n",
      " Accuracy: 64.7%, Avg loss: 1.190245\n",
      "Epoch 139\n",
      "-------------------------------\n",
      "loss: 0.802153  [   67/   67]\n",
      "Train Error: \n",
      " Accuracy: 70.1%, Avg loss: 0.996914\n",
      "Validation Error: \n",
      " Accuracy: 64.7%, Avg loss: 1.189871\n",
      "Epoch 140\n",
      "-------------------------------\n",
      "loss: 0.800891  [   67/   67]\n",
      "Train Error: \n",
      " Accuracy: 70.1%, Avg loss: 0.996064\n",
      "Validation Error: \n",
      " Accuracy: 64.7%, Avg loss: 1.189496\n",
      "Epoch 141\n",
      "-------------------------------\n",
      "loss: 0.799638  [   67/   67]\n",
      "Train Error: \n",
      " Accuracy: 70.1%, Avg loss: 0.995218\n",
      "Validation Error: \n",
      " Accuracy: 64.7%, Avg loss: 1.189121\n",
      "Epoch 142\n",
      "-------------------------------\n",
      "loss: 0.798392  [   67/   67]\n",
      "Train Error: \n",
      " Accuracy: 70.1%, Avg loss: 0.994375\n",
      "Validation Error: \n",
      " Accuracy: 64.7%, Avg loss: 1.188744\n",
      "Epoch 143\n",
      "-------------------------------\n",
      "loss: 0.797155  [   67/   67]\n",
      "Train Error: \n",
      " Accuracy: 70.1%, Avg loss: 0.993535\n",
      "Validation Error: \n",
      " Accuracy: 64.7%, Avg loss: 1.188367\n",
      "Epoch 144\n",
      "-------------------------------\n",
      "loss: 0.795925  [   67/   67]\n",
      "Train Error: \n",
      " Accuracy: 70.1%, Avg loss: 0.992698\n",
      "Validation Error: \n",
      " Accuracy: 64.7%, Avg loss: 1.187988\n",
      "Epoch 145\n",
      "-------------------------------\n",
      "loss: 0.794703  [   67/   67]\n",
      "Train Error: \n",
      " Accuracy: 70.1%, Avg loss: 0.991864\n",
      "Validation Error: \n",
      " Accuracy: 64.7%, Avg loss: 1.187609\n",
      "Epoch 146\n",
      "-------------------------------\n",
      "loss: 0.793488  [   67/   67]\n",
      "Train Error: \n",
      " Accuracy: 70.1%, Avg loss: 0.991034\n",
      "Validation Error: \n",
      " Accuracy: 64.7%, Avg loss: 1.187228\n",
      "Epoch 147\n",
      "-------------------------------\n",
      "loss: 0.792281  [   67/   67]\n",
      "Train Error: \n",
      " Accuracy: 70.1%, Avg loss: 0.990205\n",
      "Validation Error: \n",
      " Accuracy: 64.7%, Avg loss: 1.186847\n",
      "Epoch 148\n",
      "-------------------------------\n",
      "loss: 0.791081  [   67/   67]\n",
      "Train Error: \n",
      " Accuracy: 70.1%, Avg loss: 0.989380\n",
      "Validation Error: \n",
      " Accuracy: 64.7%, Avg loss: 1.186465\n",
      "Epoch 149\n",
      "-------------------------------\n",
      "loss: 0.789889  [   67/   67]\n",
      "Train Error: \n",
      " Accuracy: 70.1%, Avg loss: 0.988558\n",
      "Validation Error: \n",
      " Accuracy: 64.7%, Avg loss: 1.186082\n",
      "Epoch 150\n",
      "-------------------------------\n",
      "loss: 0.788703  [   67/   67]\n",
      "Train Error: \n",
      " Accuracy: 70.1%, Avg loss: 0.987738\n",
      "Validation Error: \n",
      " Accuracy: 64.7%, Avg loss: 1.185698\n",
      "Epoch 151\n",
      "-------------------------------\n",
      "loss: 0.787525  [   67/   67]\n",
      "Train Error: \n",
      " Accuracy: 70.1%, Avg loss: 0.986922\n",
      "Validation Error: \n",
      " Accuracy: 64.7%, Avg loss: 1.185314\n",
      "Epoch 152\n",
      "-------------------------------\n",
      "loss: 0.786353  [   67/   67]\n",
      "Train Error: \n",
      " Accuracy: 70.1%, Avg loss: 0.986107\n",
      "Validation Error: \n",
      " Accuracy: 64.7%, Avg loss: 1.184928\n",
      "Epoch 153\n",
      "-------------------------------\n",
      "loss: 0.785188  [   67/   67]\n",
      "Train Error: \n",
      " Accuracy: 70.1%, Avg loss: 0.985296\n",
      "Validation Error: \n",
      " Accuracy: 64.7%, Avg loss: 1.184542\n",
      "Epoch 154\n",
      "-------------------------------\n",
      "loss: 0.784030  [   67/   67]\n",
      "Train Error: \n",
      " Accuracy: 70.1%, Avg loss: 0.984487\n",
      "Validation Error: \n",
      " Accuracy: 64.7%, Avg loss: 1.184155\n",
      "Epoch 155\n",
      "-------------------------------\n",
      "loss: 0.782878  [   67/   67]\n",
      "Train Error: \n",
      " Accuracy: 70.1%, Avg loss: 0.983680\n",
      "Validation Error: \n",
      " Accuracy: 64.7%, Avg loss: 1.183767\n",
      "Epoch 156\n",
      "-------------------------------\n",
      "loss: 0.781732  [   67/   67]\n",
      "Train Error: \n",
      " Accuracy: 70.1%, Avg loss: 0.982876\n",
      "Validation Error: \n",
      " Accuracy: 64.7%, Avg loss: 1.183378\n",
      "Epoch 157\n",
      "-------------------------------\n",
      "loss: 0.780593  [   67/   67]\n",
      "Train Error: \n",
      " Accuracy: 70.1%, Avg loss: 0.982075\n",
      "Validation Error: \n",
      " Accuracy: 64.7%, Avg loss: 1.182989\n",
      "Epoch 158\n",
      "-------------------------------\n",
      "loss: 0.779460  [   67/   67]\n",
      "Train Error: \n",
      " Accuracy: 70.1%, Avg loss: 0.981276\n",
      "Validation Error: \n",
      " Accuracy: 64.7%, Avg loss: 1.182598\n",
      "Epoch 159\n",
      "-------------------------------\n",
      "loss: 0.778333  [   67/   67]\n",
      "Train Error: \n",
      " Accuracy: 70.1%, Avg loss: 0.980479\n",
      "Validation Error: \n",
      " Accuracy: 64.7%, Avg loss: 1.182208\n",
      "Epoch 160\n",
      "-------------------------------\n",
      "loss: 0.777212  [   67/   67]\n",
      "Train Error: \n",
      " Accuracy: 70.1%, Avg loss: 0.979685\n",
      "Validation Error: \n",
      " Accuracy: 64.7%, Avg loss: 1.181816\n",
      "Epoch 161\n",
      "-------------------------------\n",
      "loss: 0.776097  [   67/   67]\n",
      "Train Error: \n",
      " Accuracy: 70.1%, Avg loss: 0.978893\n",
      "Validation Error: \n",
      " Accuracy: 64.7%, Avg loss: 1.181424\n",
      "Epoch 162\n",
      "-------------------------------\n",
      "loss: 0.774987  [   67/   67]\n",
      "Train Error: \n",
      " Accuracy: 70.1%, Avg loss: 0.978103\n",
      "Validation Error: \n",
      " Accuracy: 64.7%, Avg loss: 1.181031\n",
      "Epoch 163\n",
      "-------------------------------\n",
      "loss: 0.773884  [   67/   67]\n",
      "Train Error: \n",
      " Accuracy: 70.1%, Avg loss: 0.977315\n",
      "Validation Error: \n",
      " Accuracy: 64.7%, Avg loss: 1.180637\n",
      "Epoch 164\n",
      "-------------------------------\n",
      "loss: 0.772785  [   67/   67]\n",
      "Train Error: \n",
      " Accuracy: 70.1%, Avg loss: 0.976530\n",
      "Validation Error: \n",
      " Accuracy: 64.7%, Avg loss: 1.180243\n",
      "Epoch 165\n",
      "-------------------------------\n",
      "loss: 0.771693  [   67/   67]\n",
      "Train Error: \n",
      " Accuracy: 70.1%, Avg loss: 0.975746\n",
      "Validation Error: \n",
      " Accuracy: 64.7%, Avg loss: 1.179848\n",
      "Epoch 166\n",
      "-------------------------------\n",
      "loss: 0.770606  [   67/   67]\n",
      "Train Error: \n",
      " Accuracy: 70.1%, Avg loss: 0.974965\n",
      "Validation Error: \n",
      " Accuracy: 64.7%, Avg loss: 1.179452\n",
      "Epoch 167\n",
      "-------------------------------\n",
      "loss: 0.769524  [   67/   67]\n",
      "Train Error: \n",
      " Accuracy: 70.1%, Avg loss: 0.974186\n",
      "Validation Error: \n",
      " Accuracy: 64.7%, Avg loss: 1.179056\n",
      "Epoch 168\n",
      "-------------------------------\n",
      "loss: 0.768447  [   67/   67]\n",
      "Train Error: \n",
      " Accuracy: 70.1%, Avg loss: 0.973410\n",
      "Validation Error: \n",
      " Accuracy: 64.7%, Avg loss: 1.178660\n",
      "Epoch 169\n",
      "-------------------------------\n",
      "loss: 0.767376  [   67/   67]\n",
      "Train Error: \n",
      " Accuracy: 70.1%, Avg loss: 0.972635\n",
      "Validation Error: \n",
      " Accuracy: 64.7%, Avg loss: 1.178262\n",
      "Epoch 170\n",
      "-------------------------------\n",
      "loss: 0.766310  [   67/   67]\n",
      "Train Error: \n",
      " Accuracy: 70.1%, Avg loss: 0.971862\n",
      "Validation Error: \n",
      " Accuracy: 64.7%, Avg loss: 1.177865\n",
      "Epoch 171\n",
      "-------------------------------\n",
      "loss: 0.765248  [   67/   67]\n",
      "Train Error: \n",
      " Accuracy: 70.1%, Avg loss: 0.971091\n",
      "Validation Error: \n",
      " Accuracy: 64.7%, Avg loss: 1.177466\n",
      "Epoch 172\n",
      "-------------------------------\n",
      "loss: 0.764192  [   67/   67]\n",
      "Train Error: \n",
      " Accuracy: 70.1%, Avg loss: 0.970322\n",
      "Validation Error: \n",
      " Accuracy: 64.7%, Avg loss: 1.177067\n",
      "Epoch 173\n",
      "-------------------------------\n",
      "loss: 0.763140  [   67/   67]\n",
      "Train Error: \n",
      " Accuracy: 70.1%, Avg loss: 0.969555\n",
      "Validation Error: \n",
      " Accuracy: 64.7%, Avg loss: 1.176668\n",
      "Epoch 174\n",
      "-------------------------------\n",
      "loss: 0.762093  [   67/   67]\n",
      "Train Error: \n",
      " Accuracy: 70.1%, Avg loss: 0.968790\n",
      "Validation Error: \n",
      " Accuracy: 64.7%, Avg loss: 1.176268\n",
      "Epoch 175\n",
      "-------------------------------\n",
      "loss: 0.761051  [   67/   67]\n",
      "Train Error: \n",
      " Accuracy: 70.1%, Avg loss: 0.968027\n",
      "Validation Error: \n",
      " Accuracy: 64.7%, Avg loss: 1.175867\n",
      "Epoch 176\n",
      "-------------------------------\n",
      "loss: 0.760014  [   67/   67]\n",
      "Train Error: \n",
      " Accuracy: 70.1%, Avg loss: 0.967265\n",
      "Validation Error: \n",
      " Accuracy: 64.7%, Avg loss: 1.175466\n",
      "Epoch 177\n",
      "-------------------------------\n",
      "loss: 0.758981  [   67/   67]\n",
      "Train Error: \n",
      " Accuracy: 70.1%, Avg loss: 0.966506\n",
      "Validation Error: \n",
      " Accuracy: 64.7%, Avg loss: 1.175065\n",
      "Epoch 178\n",
      "-------------------------------\n",
      "loss: 0.757952  [   67/   67]\n",
      "Train Error: \n",
      " Accuracy: 70.1%, Avg loss: 0.965748\n",
      "Validation Error: \n",
      " Accuracy: 64.7%, Avg loss: 1.174663\n",
      "Epoch 179\n",
      "-------------------------------\n",
      "loss: 0.756929  [   67/   67]\n",
      "Train Error: \n",
      " Accuracy: 70.1%, Avg loss: 0.964992\n",
      "Validation Error: \n",
      " Accuracy: 64.7%, Avg loss: 1.174261\n",
      "Epoch 180\n",
      "-------------------------------\n",
      "loss: 0.755909  [   67/   67]\n",
      "Train Error: \n",
      " Accuracy: 70.1%, Avg loss: 0.964238\n",
      "Validation Error: \n",
      " Accuracy: 64.7%, Avg loss: 1.173858\n",
      "Epoch 181\n",
      "-------------------------------\n",
      "loss: 0.754894  [   67/   67]\n",
      "Train Error: \n",
      " Accuracy: 70.1%, Avg loss: 0.963486\n",
      "Validation Error: \n",
      " Accuracy: 64.7%, Avg loss: 1.173455\n",
      "Epoch 182\n",
      "-------------------------------\n",
      "loss: 0.753882  [   67/   67]\n",
      "Train Error: \n",
      " Accuracy: 70.1%, Avg loss: 0.962735\n",
      "Validation Error: \n",
      " Accuracy: 64.7%, Avg loss: 1.173052\n",
      "Epoch 183\n",
      "-------------------------------\n",
      "loss: 0.752876  [   67/   67]\n",
      "Train Error: \n",
      " Accuracy: 70.1%, Avg loss: 0.961986\n",
      "Validation Error: \n",
      " Accuracy: 64.7%, Avg loss: 1.172648\n",
      "Epoch 184\n",
      "-------------------------------\n",
      "loss: 0.751873  [   67/   67]\n",
      "Train Error: \n",
      " Accuracy: 70.1%, Avg loss: 0.961239\n",
      "Validation Error: \n",
      " Accuracy: 64.7%, Avg loss: 1.172244\n",
      "Epoch 185\n",
      "-------------------------------\n",
      "loss: 0.750874  [   67/   67]\n",
      "Train Error: \n",
      " Accuracy: 70.1%, Avg loss: 0.960493\n",
      "Validation Error: \n",
      " Accuracy: 64.7%, Avg loss: 1.171839\n",
      "Epoch 186\n",
      "-------------------------------\n",
      "loss: 0.749879  [   67/   67]\n",
      "Train Error: \n",
      " Accuracy: 70.1%, Avg loss: 0.959749\n",
      "Validation Error: \n",
      " Accuracy: 64.7%, Avg loss: 1.171434\n",
      "Epoch 187\n",
      "-------------------------------\n",
      "loss: 0.748888  [   67/   67]\n",
      "Train Error: \n",
      " Accuracy: 70.1%, Avg loss: 0.959007\n",
      "Validation Error: \n",
      " Accuracy: 64.7%, Avg loss: 1.171029\n",
      "Epoch 188\n",
      "-------------------------------\n",
      "loss: 0.747901  [   67/   67]\n",
      "Train Error: \n",
      " Accuracy: 70.1%, Avg loss: 0.958266\n",
      "Validation Error: \n",
      " Accuracy: 64.7%, Avg loss: 1.170623\n",
      "Epoch 189\n",
      "-------------------------------\n",
      "loss: 0.746918  [   67/   67]\n",
      "Train Error: \n",
      " Accuracy: 70.1%, Avg loss: 0.957527\n",
      "Validation Error: \n",
      " Accuracy: 64.7%, Avg loss: 1.170217\n",
      "Epoch 190\n",
      "-------------------------------\n",
      "loss: 0.745939  [   67/   67]\n",
      "Train Error: \n",
      " Accuracy: 70.1%, Avg loss: 0.956789\n",
      "Validation Error: \n",
      " Accuracy: 64.7%, Avg loss: 1.169811\n",
      "Epoch 191\n",
      "-------------------------------\n",
      "loss: 0.744963  [   67/   67]\n",
      "Train Error: \n",
      " Accuracy: 70.1%, Avg loss: 0.956053\n",
      "Validation Error: \n",
      " Accuracy: 64.7%, Avg loss: 1.169405\n",
      "Epoch 192\n",
      "-------------------------------\n",
      "loss: 0.743991  [   67/   67]\n",
      "Train Error: \n",
      " Accuracy: 70.1%, Avg loss: 0.955318\n",
      "Validation Error: \n",
      " Accuracy: 64.7%, Avg loss: 1.168998\n",
      "Epoch 193\n",
      "-------------------------------\n",
      "loss: 0.743023  [   67/   67]\n",
      "Train Error: \n",
      " Accuracy: 70.1%, Avg loss: 0.954585\n",
      "Validation Error: \n",
      " Accuracy: 64.7%, Avg loss: 1.168591\n",
      "Epoch 194\n",
      "-------------------------------\n",
      "loss: 0.742058  [   67/   67]\n",
      "Train Error: \n",
      " Accuracy: 70.1%, Avg loss: 0.953853\n",
      "Validation Error: \n",
      " Accuracy: 64.7%, Avg loss: 1.168184\n",
      "Epoch 195\n",
      "-------------------------------\n",
      "loss: 0.741096  [   67/   67]\n",
      "Train Error: \n",
      " Accuracy: 70.1%, Avg loss: 0.953123\n",
      "Validation Error: \n",
      " Accuracy: 64.7%, Avg loss: 1.167776\n",
      "Epoch 196\n",
      "-------------------------------\n",
      "loss: 0.740139  [   67/   67]\n",
      "Train Error: \n",
      " Accuracy: 70.1%, Avg loss: 0.952394\n",
      "Validation Error: \n",
      " Accuracy: 64.7%, Avg loss: 1.167369\n",
      "Epoch 197\n",
      "-------------------------------\n",
      "loss: 0.739184  [   67/   67]\n",
      "Train Error: \n",
      " Accuracy: 70.1%, Avg loss: 0.951667\n",
      "Validation Error: \n",
      " Accuracy: 64.7%, Avg loss: 1.166961\n",
      "Epoch 198\n",
      "-------------------------------\n",
      "loss: 0.738233  [   67/   67]\n",
      "Train Error: \n",
      " Accuracy: 70.1%, Avg loss: 0.950941\n",
      "Validation Error: \n",
      " Accuracy: 64.7%, Avg loss: 1.166552\n",
      "Epoch 199\n",
      "-------------------------------\n",
      "loss: 0.737285  [   67/   67]\n",
      "Train Error: \n",
      " Accuracy: 70.1%, Avg loss: 0.950217\n",
      "Validation Error: \n",
      " Accuracy: 64.7%, Avg loss: 1.166144\n",
      "Epoch 200\n",
      "-------------------------------\n",
      "loss: 0.736341  [   67/   67]\n",
      "Train Error: \n",
      " Accuracy: 70.1%, Avg loss: 0.949494\n",
      "Validation Error: \n",
      " Accuracy: 64.7%, Avg loss: 1.165735\n",
      "Done!\n"
     ]
    }
   ],
   "source": [
    "#run the code for\n",
    "epochs = 200\n",
    "for t in range(epochs):\n",
    "    print(f\"Epoch {t+1}\\n-------------------------------\")\n",
    "    train_loop(train_dataloader, model, loss_fn, optimizer)\n",
    "    test_loop(train_dataloader, val_dataloader, model, loss_fn)\n",
    "print(\"Done!\")"
   ]
  },
  {
   "cell_type": "code",
   "execution_count": 56,
   "id": "njm93tZUJt-z",
   "metadata": {
    "id": "njm93tZUJt-z"
   },
   "outputs": [],
   "source": [
    "# Note: ann above stagnates after ~200 epochs"
   ]
  },
  {
   "cell_type": "markdown",
   "id": "7Ar94TeCSV1e",
   "metadata": {
    "id": "7Ar94TeCSV1e"
   },
   "source": [
    "## Feed Forward ANN (MLPClassifier from sklearn)"
   ]
  },
  {
   "cell_type": "code",
   "execution_count": 57,
   "id": "c978d58e-cdc1-488c-9d49-18148459864a",
   "metadata": {
    "colab": {
     "base_uri": "https://localhost:8080/"
    },
    "id": "c978d58e-cdc1-488c-9d49-18148459864a",
    "outputId": "0235c3f4-22d7-459e-905d-a4717f78bfe2"
   },
   "outputs": [
    {
     "name": "stderr",
     "output_type": "stream",
     "text": [
      "/Users/rachelholman/anaconda3/lib/python3.10/site-packages/sklearn/neural_network/_multilayer_perceptron.py:691: ConvergenceWarning: Stochastic Optimizer: Maximum iterations (300) reached and the optimization hasn't converged yet.\n",
      "  warnings.warn(\n"
     ]
    }
   ],
   "source": [
    "from sklearn.neural_network import MLPClassifier\n",
    "from sklearn.datasets import make_classification\n",
    "from sklearn.model_selection import train_test_split\n",
    "\n",
    "clf = MLPClassifier(random_state=1, max_iter=300).fit(X_train, y_train)"
   ]
  },
  {
   "cell_type": "code",
   "execution_count": 58,
   "id": "c46a1768-84ef-4594-aeca-3e38c813d0de",
   "metadata": {
    "tags": []
   },
   "outputs": [
    {
     "data": {
      "text/html": [
       "<style>#sk-container-id-2 {color: black;}#sk-container-id-2 pre{padding: 0;}#sk-container-id-2 div.sk-toggleable {background-color: white;}#sk-container-id-2 label.sk-toggleable__label {cursor: pointer;display: block;width: 100%;margin-bottom: 0;padding: 0.3em;box-sizing: border-box;text-align: center;}#sk-container-id-2 label.sk-toggleable__label-arrow:before {content: \"▸\";float: left;margin-right: 0.25em;color: #696969;}#sk-container-id-2 label.sk-toggleable__label-arrow:hover:before {color: black;}#sk-container-id-2 div.sk-estimator:hover label.sk-toggleable__label-arrow:before {color: black;}#sk-container-id-2 div.sk-toggleable__content {max-height: 0;max-width: 0;overflow: hidden;text-align: left;background-color: #f0f8ff;}#sk-container-id-2 div.sk-toggleable__content pre {margin: 0.2em;color: black;border-radius: 0.25em;background-color: #f0f8ff;}#sk-container-id-2 input.sk-toggleable__control:checked~div.sk-toggleable__content {max-height: 200px;max-width: 100%;overflow: auto;}#sk-container-id-2 input.sk-toggleable__control:checked~label.sk-toggleable__label-arrow:before {content: \"▾\";}#sk-container-id-2 div.sk-estimator input.sk-toggleable__control:checked~label.sk-toggleable__label {background-color: #d4ebff;}#sk-container-id-2 div.sk-label input.sk-toggleable__control:checked~label.sk-toggleable__label {background-color: #d4ebff;}#sk-container-id-2 input.sk-hidden--visually {border: 0;clip: rect(1px 1px 1px 1px);clip: rect(1px, 1px, 1px, 1px);height: 1px;margin: -1px;overflow: hidden;padding: 0;position: absolute;width: 1px;}#sk-container-id-2 div.sk-estimator {font-family: monospace;background-color: #f0f8ff;border: 1px dotted black;border-radius: 0.25em;box-sizing: border-box;margin-bottom: 0.5em;}#sk-container-id-2 div.sk-estimator:hover {background-color: #d4ebff;}#sk-container-id-2 div.sk-parallel-item::after {content: \"\";width: 100%;border-bottom: 1px solid gray;flex-grow: 1;}#sk-container-id-2 div.sk-label:hover label.sk-toggleable__label {background-color: #d4ebff;}#sk-container-id-2 div.sk-serial::before {content: \"\";position: absolute;border-left: 1px solid gray;box-sizing: border-box;top: 0;bottom: 0;left: 50%;z-index: 0;}#sk-container-id-2 div.sk-serial {display: flex;flex-direction: column;align-items: center;background-color: white;padding-right: 0.2em;padding-left: 0.2em;position: relative;}#sk-container-id-2 div.sk-item {position: relative;z-index: 1;}#sk-container-id-2 div.sk-parallel {display: flex;align-items: stretch;justify-content: center;background-color: white;position: relative;}#sk-container-id-2 div.sk-item::before, #sk-container-id-2 div.sk-parallel-item::before {content: \"\";position: absolute;border-left: 1px solid gray;box-sizing: border-box;top: 0;bottom: 0;left: 50%;z-index: -1;}#sk-container-id-2 div.sk-parallel-item {display: flex;flex-direction: column;z-index: 1;position: relative;background-color: white;}#sk-container-id-2 div.sk-parallel-item:first-child::after {align-self: flex-end;width: 50%;}#sk-container-id-2 div.sk-parallel-item:last-child::after {align-self: flex-start;width: 50%;}#sk-container-id-2 div.sk-parallel-item:only-child::after {width: 0;}#sk-container-id-2 div.sk-dashed-wrapped {border: 1px dashed gray;margin: 0 0.4em 0.5em 0.4em;box-sizing: border-box;padding-bottom: 0.4em;background-color: white;}#sk-container-id-2 div.sk-label label {font-family: monospace;font-weight: bold;display: inline-block;line-height: 1.2em;}#sk-container-id-2 div.sk-label-container {text-align: center;}#sk-container-id-2 div.sk-container {/* jupyter's `normalize.less` sets `[hidden] { display: none; }` but bootstrap.min.css set `[hidden] { display: none !important; }` so we also need the `!important` here to be able to override the default hidden behavior on the sphinx rendered scikit-learn.org. See: https://github.com/scikit-learn/scikit-learn/issues/21755 */display: inline-block !important;position: relative;}#sk-container-id-2 div.sk-text-repr-fallback {display: none;}</style><div id=\"sk-container-id-2\" class=\"sk-top-container\"><div class=\"sk-text-repr-fallback\"><pre>MLPClassifier(max_iter=300, random_state=1)</pre><b>In a Jupyter environment, please rerun this cell to show the HTML representation or trust the notebook. <br />On GitHub, the HTML representation is unable to render, please try loading this page with nbviewer.org.</b></div><div class=\"sk-container\" hidden><div class=\"sk-item\"><div class=\"sk-estimator sk-toggleable\"><input class=\"sk-toggleable__control sk-hidden--visually\" id=\"sk-estimator-id-2\" type=\"checkbox\" checked><label for=\"sk-estimator-id-2\" class=\"sk-toggleable__label sk-toggleable__label-arrow\">MLPClassifier</label><div class=\"sk-toggleable__content\"><pre>MLPClassifier(max_iter=300, random_state=1)</pre></div></div></div></div></div>"
      ],
      "text/plain": [
       "MLPClassifier(max_iter=300, random_state=1)"
      ]
     },
     "execution_count": 58,
     "metadata": {},
     "output_type": "execute_result"
    }
   ],
   "source": [
    "clf"
   ]
  },
  {
   "cell_type": "code",
   "execution_count": 59,
   "id": "427230f5-a979-4716-a2dc-541bf4088c77",
   "metadata": {
    "colab": {
     "base_uri": "https://localhost:8080/"
    },
    "id": "427230f5-a979-4716-a2dc-541bf4088c77",
    "outputId": "a50fd1ba-1493-41d5-e73e-93a756c80abb"
   },
   "outputs": [
    {
     "data": {
      "text/plain": [
       "array([[0.39288166, 0.53150067, 0.03988034, 0.03573734],\n",
       "       [0.05629019, 0.00999102, 0.92398809, 0.0097307 ],\n",
       "       [0.19293684, 0.64208792, 0.07604437, 0.08893086],\n",
       "       [0.26651506, 0.06300134, 0.64006383, 0.03041976],\n",
       "       [0.09940403, 0.00423281, 0.89184353, 0.00451963],\n",
       "       [0.02817765, 0.90166106, 0.00279033, 0.06737095],\n",
       "       [0.0877717 , 0.86171924, 0.01006397, 0.0404451 ],\n",
       "       [0.25229098, 0.10038593, 0.61260293, 0.03472016],\n",
       "       [0.13177502, 0.70882812, 0.06877593, 0.09062093],\n",
       "       [0.20825054, 0.61924001, 0.10907242, 0.06343703],\n",
       "       [0.15789108, 0.0566973 , 0.75467899, 0.03073262],\n",
       "       [0.07750788, 0.44671596, 0.26587008, 0.20990608],\n",
       "       [0.56013336, 0.40186187, 0.0225684 , 0.01543637],\n",
       "       [0.1893382 , 0.01333427, 0.78558496, 0.01174256],\n",
       "       [0.59379278, 0.20176984, 0.17997991, 0.02445747],\n",
       "       [0.09494997, 0.01327994, 0.87746128, 0.01430882],\n",
       "       [0.59620771, 0.189693  , 0.19434419, 0.0197551 ]])"
      ]
     },
     "execution_count": 59,
     "metadata": {},
     "output_type": "execute_result"
    }
   ],
   "source": [
    "clf.predict_proba(X_val)"
   ]
  },
  {
   "cell_type": "code",
   "execution_count": 60,
   "id": "fd77e7bc-4c55-41d7-a8c9-461c2880cf54",
   "metadata": {
    "colab": {
     "base_uri": "https://localhost:8080/"
    },
    "id": "fd77e7bc-4c55-41d7-a8c9-461c2880cf54",
    "outputId": "baedf11f-f8cc-4bc0-f161-aa7fd0a7273b"
   },
   "outputs": [
    {
     "data": {
      "text/plain": [
       "array([1, 2, 1, 2, 2, 1, 1, 2, 1, 1, 2, 1, 0, 2, 0, 2, 0])"
      ]
     },
     "execution_count": 60,
     "metadata": {},
     "output_type": "execute_result"
    }
   ],
   "source": [
    "y_pred = clf.predict(X_val)\n",
    "y_pred"
   ]
  },
  {
   "cell_type": "code",
   "execution_count": 61,
   "id": "32aca2be-70d6-4dd4-b1fe-df29c2a5087d",
   "metadata": {
    "tags": []
   },
   "outputs": [
    {
     "data": {
      "text/plain": [
       "County\n",
       "51145    1\n",
       "51053    2\n",
       "51197    1\n",
       "51015    2\n",
       "51077    2\n",
       "51107    3\n",
       "51111    1\n",
       "51003    0\n",
       "51113    1\n",
       "51091    1\n",
       "51177    2\n",
       "51043    1\n",
       "51027    0\n",
       "51099    2\n",
       "51125    0\n",
       "51183    2\n",
       "51005    0\n",
       "Name: cluster, dtype: int64"
      ]
     },
     "execution_count": 61,
     "metadata": {},
     "output_type": "execute_result"
    }
   ],
   "source": [
    "y_val"
   ]
  },
  {
   "cell_type": "code",
   "execution_count": 62,
   "id": "7efee276-c012-4871-9121-2e438315a494",
   "metadata": {
    "colab": {
     "base_uri": "https://localhost:8080/"
    },
    "id": "7efee276-c012-4871-9121-2e438315a494",
    "outputId": "5cfb355b-bcec-4502-82dc-4ce42e75cbd2"
   },
   "outputs": [
    {
     "data": {
      "text/plain": [
       "0.8823529411764706"
      ]
     },
     "execution_count": 62,
     "metadata": {},
     "output_type": "execute_result"
    }
   ],
   "source": [
    "clf.score(X_val, y_val)"
   ]
  },
  {
   "cell_type": "code",
   "execution_count": 63,
   "id": "aa0caf5d-a3c0-4c97-93f3-3987224952fa",
   "metadata": {
    "colab": {
     "base_uri": "https://localhost:8080/"
    },
    "id": "aa0caf5d-a3c0-4c97-93f3-3987224952fa",
    "outputId": "19480008-1caa-4700-847f-20d171731dc3",
    "tags": []
   },
   "outputs": [
    {
     "name": "stdout",
     "output_type": "stream",
     "text": [
      "              precision    recall  f1-score   support\n",
      "\n",
      "           0       1.00      0.75      0.86         4\n",
      "           1       0.86      1.00      0.92         6\n",
      "           2       0.86      1.00      0.92         6\n",
      "           3       0.00      0.00      0.00         1\n",
      "\n",
      "    accuracy                           0.88        17\n",
      "   macro avg       0.68      0.69      0.68        17\n",
      "weighted avg       0.84      0.88      0.85        17\n",
      "\n"
     ]
    },
    {
     "name": "stderr",
     "output_type": "stream",
     "text": [
      "/Users/rachelholman/anaconda3/lib/python3.10/site-packages/sklearn/metrics/_classification.py:1469: UndefinedMetricWarning: Precision and F-score are ill-defined and being set to 0.0 in labels with no predicted samples. Use `zero_division` parameter to control this behavior.\n",
      "  _warn_prf(average, modifier, msg_start, len(result))\n",
      "/Users/rachelholman/anaconda3/lib/python3.10/site-packages/sklearn/metrics/_classification.py:1469: UndefinedMetricWarning: Precision and F-score are ill-defined and being set to 0.0 in labels with no predicted samples. Use `zero_division` parameter to control this behavior.\n",
      "  _warn_prf(average, modifier, msg_start, len(result))\n",
      "/Users/rachelholman/anaconda3/lib/python3.10/site-packages/sklearn/metrics/_classification.py:1469: UndefinedMetricWarning: Precision and F-score are ill-defined and being set to 0.0 in labels with no predicted samples. Use `zero_division` parameter to control this behavior.\n",
      "  _warn_prf(average, modifier, msg_start, len(result))\n"
     ]
    }
   ],
   "source": [
    "cr = classification_report(y_val, y_pred)\n",
    "print(cr)"
   ]
  },
  {
   "cell_type": "code",
   "execution_count": null,
   "id": "9gOkZB0fT97T",
   "metadata": {
    "id": "9gOkZB0fT97T"
   },
   "outputs": [],
   "source": []
  },
  {
   "cell_type": "code",
   "execution_count": null,
   "id": "sL5NxjegT99l",
   "metadata": {
    "id": "sL5NxjegT99l"
   },
   "outputs": [],
   "source": []
  },
  {
   "cell_type": "code",
   "execution_count": null,
   "id": "IjiMa42YT9_9",
   "metadata": {
    "id": "IjiMa42YT9_9"
   },
   "outputs": [],
   "source": []
  },
  {
   "cell_type": "code",
   "execution_count": null,
   "id": "WeEYanJST-CH",
   "metadata": {
    "id": "WeEYanJST-CH"
   },
   "outputs": [],
   "source": []
  }
 ],
 "metadata": {
  "accelerator": "GPU",
  "colab": {
   "gpuType": "T4",
   "provenance": []
  },
  "kernelspec": {
   "display_name": "Python 3 (ipykernel)",
   "language": "python",
   "name": "python3"
  },
  "language_info": {
   "codemirror_mode": {
    "name": "ipython",
    "version": 3
   },
   "file_extension": ".py",
   "mimetype": "text/x-python",
   "name": "python",
   "nbconvert_exporter": "python",
   "pygments_lexer": "ipython3",
   "version": "3.10.11"
  }
 },
 "nbformat": 4,
 "nbformat_minor": 5
}
