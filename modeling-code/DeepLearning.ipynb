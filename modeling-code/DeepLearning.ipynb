{
 "cells": [
  {
   "cell_type": "markdown",
   "id": "ee5325fe-33d7-471d-a9e5-fc85373cc892",
   "metadata": {},
   "source": [
    "# Deep learning Project\n",
    "\n",
    "## Predicting County Suitability for Various CO2 Removal Technologies in Virginia\n",
    "\n",
    "**Motivation:**\n",
    "\n",
    "Carbon removal is a broad set of approaches, some natural and some engineered, used to remove CO2 from the atmosphere. The approaches can be as simple as reforestation, or as complex as growing bioenergy crops for producing bioenergy with carbon capture. We will develop a various Neural Networks to predict how suitable land is for various CO2 removal techniques in VA at the county scale. This will help researchers with the goal of reducing carbon emissions by providing information on how to utilize available and suitable land for reforestation plans,  enhanced weathering (EW), and biochar.\n",
    "\n",
    "\n",
    "**Technical plan:**\n",
    "\n",
    "We will input GGR technique specific predictor variables into an unsupervised algorithm, KMeans, to assign a ‘suitability level’ to each county in VA. Next, these labeled counties will be fed into a feed-forward neural network, a simple ANN, and a deep and cross neutal network. The neural nets will output the ‘suitability level’ for implementing the CO2 removal techniques of reforestation, EW, and biochar respectively. We will create our own models and utilize pre-trained moels like the MLPClassifier from sklearn. \n"
   ]
  },
  {
   "cell_type": "markdown",
   "id": "63d0a1b5-f924-4a3f-8333-8a4eeef1e385",
   "metadata": {
    "id": "63d0a1b5-f924-4a3f-8333-8a4eeef1e385"
   },
   "source": [
    "# Code for Hierarchical Clustering to obtain labels (suitability category)"
   ]
  },
  {
   "cell_type": "code",
   "execution_count": 1,
   "id": "d9ea12df-584e-424a-9622-cfe100acd1b3",
   "metadata": {
    "id": "d9ea12df-584e-424a-9622-cfe100acd1b3",
    "tags": []
   },
   "outputs": [],
   "source": [
    "import pandas as pd\n",
    "import numpy as np\n",
    "import seaborn as sns\n",
    "import matplotlib.pyplot as plt\n",
    "from sklearn import metrics\n",
    "from sklearn.cluster import KMeans\n",
    "from sklearn.cluster import AgglomerativeClustering\n",
    "import scipy.cluster.hierarchy as sch\n",
    "from sklearn.metrics import classification_report\n",
    "from sklearn.metrics import accuracy_score"
   ]
  },
  {
   "cell_type": "code",
   "execution_count": 2,
   "id": "d15c990b-86ba-48cf-9f44-be430bb68fbf",
   "metadata": {
    "tags": []
   },
   "outputs": [
    {
     "data": {
      "text/plain": [
       "<torch._C.Generator at 0x16c42aeb0>"
      ]
     },
     "execution_count": 2,
     "metadata": {},
     "output_type": "execute_result"
    }
   ],
   "source": [
    "# Set seed for whole notebook\n",
    "import random\n",
    "random.seed(10)\n",
    "import torch\n",
    "torch.manual_seed(1)"
   ]
  },
  {
   "cell_type": "code",
   "execution_count": 3,
   "id": "8a30ee99-fb62-4434-97e8-84e586137dff",
   "metadata": {
    "colab": {
     "base_uri": "https://localhost:8080/",
     "height": 707
    },
    "id": "8a30ee99-fb62-4434-97e8-84e586137dff",
    "outputId": "8e85760b-aa09-4111-f02b-ae18efc9c4bb",
    "tags": []
   },
   "outputs": [
    {
     "data": {
      "text/html": [
       "<div>\n",
       "<style scoped>\n",
       "    .dataframe tbody tr th:only-of-type {\n",
       "        vertical-align: middle;\n",
       "    }\n",
       "\n",
       "    .dataframe tbody tr th {\n",
       "        vertical-align: top;\n",
       "    }\n",
       "\n",
       "    .dataframe thead th {\n",
       "        text-align: right;\n",
       "    }\n",
       "</style>\n",
       "<table border=\"1\" class=\"dataframe\">\n",
       "  <thead>\n",
       "    <tr style=\"text-align: right;\">\n",
       "      <th></th>\n",
       "      <th>Income</th>\n",
       "      <th>DSCI</th>\n",
       "      <th>PQ1</th>\n",
       "      <th>PQ2</th>\n",
       "      <th>PQ3</th>\n",
       "      <th>PQ4</th>\n",
       "      <th>TQ1</th>\n",
       "      <th>TQ2</th>\n",
       "      <th>TQ3</th>\n",
       "      <th>TQ4</th>\n",
       "      <th>Forest</th>\n",
       "      <th>Agriculture</th>\n",
       "      <th>Watershed</th>\n",
       "      <th>Biomass</th>\n",
       "      <th>Power</th>\n",
       "      <th>Water Availability</th>\n",
       "      <th>Log_Bio</th>\n",
       "      <th>Log_Water</th>\n",
       "      <th>Log_Power</th>\n",
       "    </tr>\n",
       "    <tr>\n",
       "      <th>FIPS</th>\n",
       "      <th></th>\n",
       "      <th></th>\n",
       "      <th></th>\n",
       "      <th></th>\n",
       "      <th></th>\n",
       "      <th></th>\n",
       "      <th></th>\n",
       "      <th></th>\n",
       "      <th></th>\n",
       "      <th></th>\n",
       "      <th></th>\n",
       "      <th></th>\n",
       "      <th></th>\n",
       "      <th></th>\n",
       "      <th></th>\n",
       "      <th></th>\n",
       "      <th></th>\n",
       "      <th></th>\n",
       "      <th></th>\n",
       "    </tr>\n",
       "  </thead>\n",
       "  <tbody>\n",
       "    <tr>\n",
       "      <th>51001</th>\n",
       "      <td>0.075854</td>\n",
       "      <td>0.148920</td>\n",
       "      <td>0.319901</td>\n",
       "      <td>0.435870</td>\n",
       "      <td>0.410805</td>\n",
       "      <td>0.412876</td>\n",
       "      <td>0.398849</td>\n",
       "      <td>0.223717</td>\n",
       "      <td>0.178736</td>\n",
       "      <td>0.296552</td>\n",
       "      <td>0.064338</td>\n",
       "      <td>0.289624</td>\n",
       "      <td>1</td>\n",
       "      <td>0.185901</td>\n",
       "      <td>0.601097</td>\n",
       "      <td>0.020793</td>\n",
       "      <td>0.606148</td>\n",
       "      <td>0.417871</td>\n",
       "      <td>0.931630</td>\n",
       "    </tr>\n",
       "    <tr>\n",
       "      <th>51003</th>\n",
       "      <td>0.108095</td>\n",
       "      <td>0.182011</td>\n",
       "      <td>0.281478</td>\n",
       "      <td>0.361577</td>\n",
       "      <td>0.330150</td>\n",
       "      <td>0.398268</td>\n",
       "      <td>0.652957</td>\n",
       "      <td>0.669414</td>\n",
       "      <td>0.672845</td>\n",
       "      <td>0.580575</td>\n",
       "      <td>0.679813</td>\n",
       "      <td>0.081093</td>\n",
       "      <td>1</td>\n",
       "      <td>0.354645</td>\n",
       "      <td>0.494455</td>\n",
       "      <td>0.157825</td>\n",
       "      <td>0.754033</td>\n",
       "      <td>0.718885</td>\n",
       "      <td>0.000000</td>\n",
       "    </tr>\n",
       "    <tr>\n",
       "      <th>51005</th>\n",
       "      <td>0.187226</td>\n",
       "      <td>0.147870</td>\n",
       "      <td>0.208440</td>\n",
       "      <td>0.382735</td>\n",
       "      <td>0.309672</td>\n",
       "      <td>0.361536</td>\n",
       "      <td>0.590581</td>\n",
       "      <td>0.651482</td>\n",
       "      <td>0.660489</td>\n",
       "      <td>0.531379</td>\n",
       "      <td>0.897165</td>\n",
       "      <td>0.020858</td>\n",
       "      <td>1</td>\n",
       "      <td>0.654945</td>\n",
       "      <td>0.494455</td>\n",
       "      <td>0.083128</td>\n",
       "      <td>0.898739</td>\n",
       "      <td>0.622105</td>\n",
       "      <td>0.000000</td>\n",
       "    </tr>\n",
       "    <tr>\n",
       "      <th>51007</th>\n",
       "      <td>0.157467</td>\n",
       "      <td>0.144258</td>\n",
       "      <td>0.319836</td>\n",
       "      <td>0.347694</td>\n",
       "      <td>0.488828</td>\n",
       "      <td>0.370654</td>\n",
       "      <td>0.753323</td>\n",
       "      <td>0.808243</td>\n",
       "      <td>0.809483</td>\n",
       "      <td>0.716207</td>\n",
       "      <td>0.651586</td>\n",
       "      <td>0.155517</td>\n",
       "      <td>1</td>\n",
       "      <td>0.648261</td>\n",
       "      <td>0.515919</td>\n",
       "      <td>0.018988</td>\n",
       "      <td>0.896297</td>\n",
       "      <td>0.404927</td>\n",
       "      <td>0.861198</td>\n",
       "    </tr>\n",
       "    <tr>\n",
       "      <th>51009</th>\n",
       "      <td>0.184217</td>\n",
       "      <td>0.145333</td>\n",
       "      <td>0.205452</td>\n",
       "      <td>0.416978</td>\n",
       "      <td>0.325681</td>\n",
       "      <td>0.367647</td>\n",
       "      <td>0.499006</td>\n",
       "      <td>0.525380</td>\n",
       "      <td>0.539368</td>\n",
       "      <td>0.463678</td>\n",
       "      <td>0.770831</td>\n",
       "      <td>0.072140</td>\n",
       "      <td>1</td>\n",
       "      <td>0.236541</td>\n",
       "      <td>0.502679</td>\n",
       "      <td>0.145085</td>\n",
       "      <td>0.660592</td>\n",
       "      <td>0.706138</td>\n",
       "      <td>0.819049</td>\n",
       "    </tr>\n",
       "    <tr>\n",
       "      <th>51011</th>\n",
       "      <td>0.140248</td>\n",
       "      <td>0.158561</td>\n",
       "      <td>0.278259</td>\n",
       "      <td>0.427413</td>\n",
       "      <td>0.398133</td>\n",
       "      <td>0.403431</td>\n",
       "      <td>0.427002</td>\n",
       "      <td>0.337238</td>\n",
       "      <td>0.280747</td>\n",
       "      <td>0.347356</td>\n",
       "      <td>0.662506</td>\n",
       "      <td>0.159655</td>\n",
       "      <td>1</td>\n",
       "      <td>0.099752</td>\n",
       "      <td>0.516467</td>\n",
       "      <td>0.082587</td>\n",
       "      <td>0.471095</td>\n",
       "      <td>0.621123</td>\n",
       "      <td>0.862305</td>\n",
       "    </tr>\n",
       "    <tr>\n",
       "      <th>51013</th>\n",
       "      <td>0.142115</td>\n",
       "      <td>0.105105</td>\n",
       "      <td>0.229655</td>\n",
       "      <td>0.409510</td>\n",
       "      <td>0.284420</td>\n",
       "      <td>0.314118</td>\n",
       "      <td>0.436525</td>\n",
       "      <td>0.430658</td>\n",
       "      <td>0.397845</td>\n",
       "      <td>0.371264</td>\n",
       "      <td>0.089268</td>\n",
       "      <td>0.001349</td>\n",
       "      <td>1</td>\n",
       "      <td>0.101754</td>\n",
       "      <td>0.494455</td>\n",
       "      <td>0.023823</td>\n",
       "      <td>0.475250</td>\n",
       "      <td>0.437398</td>\n",
       "      <td>0.000000</td>\n",
       "    </tr>\n",
       "    <tr>\n",
       "      <th>51015</th>\n",
       "      <td>0.197927</td>\n",
       "      <td>0.147820</td>\n",
       "      <td>0.225123</td>\n",
       "      <td>0.379990</td>\n",
       "      <td>0.321457</td>\n",
       "      <td>0.383072</td>\n",
       "      <td>0.615071</td>\n",
       "      <td>0.686479</td>\n",
       "      <td>0.682759</td>\n",
       "      <td>0.561379</td>\n",
       "      <td>0.582228</td>\n",
       "      <td>0.137797</td>\n",
       "      <td>1</td>\n",
       "      <td>0.421279</td>\n",
       "      <td>0.494455</td>\n",
       "      <td>0.126500</td>\n",
       "      <td>0.794329</td>\n",
       "      <td>0.685401</td>\n",
       "      <td>0.000000</td>\n",
       "    </tr>\n",
       "    <tr>\n",
       "      <th>51017</th>\n",
       "      <td>0.382682</td>\n",
       "      <td>0.130588</td>\n",
       "      <td>0.262562</td>\n",
       "      <td>0.372108</td>\n",
       "      <td>0.370891</td>\n",
       "      <td>0.394608</td>\n",
       "      <td>0.681005</td>\n",
       "      <td>0.768185</td>\n",
       "      <td>0.779741</td>\n",
       "      <td>0.641724</td>\n",
       "      <td>0.899831</td>\n",
       "      <td>0.020852</td>\n",
       "      <td>1</td>\n",
       "      <td>0.165266</td>\n",
       "      <td>0.000000</td>\n",
       "      <td>0.098558</td>\n",
       "      <td>0.579941</td>\n",
       "      <td>0.647728</td>\n",
       "      <td>0.000000</td>\n",
       "    </tr>\n",
       "    <tr>\n",
       "      <th>51019</th>\n",
       "      <td>0.263026</td>\n",
       "      <td>0.149943</td>\n",
       "      <td>0.237767</td>\n",
       "      <td>0.395053</td>\n",
       "      <td>0.355923</td>\n",
       "      <td>0.371536</td>\n",
       "      <td>0.549974</td>\n",
       "      <td>0.557484</td>\n",
       "      <td>0.521695</td>\n",
       "      <td>0.476207</td>\n",
       "      <td>0.625380</td>\n",
       "      <td>0.131675</td>\n",
       "      <td>0</td>\n",
       "      <td>0.293397</td>\n",
       "      <td>0.536815</td>\n",
       "      <td>0.145693</td>\n",
       "      <td>0.710030</td>\n",
       "      <td>0.706772</td>\n",
       "      <td>0.891066</td>\n",
       "    </tr>\n",
       "    <tr>\n",
       "      <th>51021</th>\n",
       "      <td>0.118443</td>\n",
       "      <td>0.129919</td>\n",
       "      <td>0.357997</td>\n",
       "      <td>0.408425</td>\n",
       "      <td>0.355311</td>\n",
       "      <td>0.373595</td>\n",
       "      <td>0.443537</td>\n",
       "      <td>0.314678</td>\n",
       "      <td>0.279310</td>\n",
       "      <td>0.338736</td>\n",
       "      <td>0.777309</td>\n",
       "      <td>0.054450</td>\n",
       "      <td>0</td>\n",
       "      <td>0.086126</td>\n",
       "      <td>0.494455</td>\n",
       "      <td>0.155006</td>\n",
       "      <td>0.440766</td>\n",
       "      <td>0.716155</td>\n",
       "      <td>0.000000</td>\n",
       "    </tr>\n",
       "    <tr>\n",
       "      <th>51023</th>\n",
       "      <td>0.149779</td>\n",
       "      <td>0.110621</td>\n",
       "      <td>0.249655</td>\n",
       "      <td>0.355290</td>\n",
       "      <td>0.318886</td>\n",
       "      <td>0.310065</td>\n",
       "      <td>0.424699</td>\n",
       "      <td>0.373102</td>\n",
       "      <td>0.334052</td>\n",
       "      <td>0.345862</td>\n",
       "      <td>0.749672</td>\n",
       "      <td>0.082782</td>\n",
       "      <td>1</td>\n",
       "      <td>0.117020</td>\n",
       "      <td>0.494455</td>\n",
       "      <td>0.100031</td>\n",
       "      <td>0.504804</td>\n",
       "      <td>0.649964</td>\n",
       "      <td>0.000000</td>\n",
       "    </tr>\n",
       "    <tr>\n",
       "      <th>51025</th>\n",
       "      <td>0.702975</td>\n",
       "      <td>0.132096</td>\n",
       "      <td>0.192874</td>\n",
       "      <td>0.363204</td>\n",
       "      <td>0.354637</td>\n",
       "      <td>0.357810</td>\n",
       "      <td>0.542125</td>\n",
       "      <td>0.665365</td>\n",
       "      <td>0.745115</td>\n",
       "      <td>0.563563</td>\n",
       "      <td>0.715016</td>\n",
       "      <td>0.075226</td>\n",
       "      <td>0</td>\n",
       "      <td>0.539180</td>\n",
       "      <td>0.521036</td>\n",
       "      <td>0.131652</td>\n",
       "      <td>0.852539</td>\n",
       "      <td>0.691437</td>\n",
       "      <td>0.870593</td>\n",
       "    </tr>\n",
       "    <tr>\n",
       "      <th>51027</th>\n",
       "      <td>0.391627</td>\n",
       "      <td>0.134775</td>\n",
       "      <td>0.155074</td>\n",
       "      <td>0.412382</td>\n",
       "      <td>0.309734</td>\n",
       "      <td>0.345882</td>\n",
       "      <td>0.453061</td>\n",
       "      <td>0.475488</td>\n",
       "      <td>0.497126</td>\n",
       "      <td>0.423563</td>\n",
       "      <td>0.889480</td>\n",
       "      <td>0.001734</td>\n",
       "      <td>0</td>\n",
       "      <td>0.021180</td>\n",
       "      <td>0.494455</td>\n",
       "      <td>0.082522</td>\n",
       "      <td>0.197892</td>\n",
       "      <td>0.621005</td>\n",
       "      <td>0.000000</td>\n",
       "    </tr>\n",
       "    <tr>\n",
       "      <th>51029</th>\n",
       "      <td>0.111130</td>\n",
       "      <td>0.148215</td>\n",
       "      <td>0.320657</td>\n",
       "      <td>0.451636</td>\n",
       "      <td>0.410468</td>\n",
       "      <td>0.419183</td>\n",
       "      <td>0.486866</td>\n",
       "      <td>0.383659</td>\n",
       "      <td>0.330460</td>\n",
       "      <td>0.392529</td>\n",
       "      <td>0.740312</td>\n",
       "      <td>0.082614</td>\n",
       "      <td>1</td>\n",
       "      <td>0.519162</td>\n",
       "      <td>0.526423</td>\n",
       "      <td>0.190123</td>\n",
       "      <td>0.843583</td>\n",
       "      <td>0.747116</td>\n",
       "      <td>0.878699</td>\n",
       "    </tr>\n",
       "    <tr>\n",
       "      <th>51031</th>\n",
       "      <td>0.254414</td>\n",
       "      <td>0.155045</td>\n",
       "      <td>0.253103</td>\n",
       "      <td>0.383724</td>\n",
       "      <td>0.338843</td>\n",
       "      <td>0.414771</td>\n",
       "      <td>0.543380</td>\n",
       "      <td>0.560521</td>\n",
       "      <td>0.542672</td>\n",
       "      <td>0.483563</td>\n",
       "      <td>0.608641</td>\n",
       "      <td>0.164864</td>\n",
       "      <td>0</td>\n",
       "      <td>0.631516</td>\n",
       "      <td>0.813647</td>\n",
       "      <td>0.154164</td>\n",
       "      <td>0.890068</td>\n",
       "      <td>0.715329</td>\n",
       "      <td>0.979797</td>\n",
       "    </tr>\n",
       "    <tr>\n",
       "      <th>51033</th>\n",
       "      <td>0.213683</td>\n",
       "      <td>0.123943</td>\n",
       "      <td>0.257931</td>\n",
       "      <td>0.373608</td>\n",
       "      <td>0.390389</td>\n",
       "      <td>0.405065</td>\n",
       "      <td>0.662271</td>\n",
       "      <td>0.761099</td>\n",
       "      <td>0.778305</td>\n",
       "      <td>0.632529</td>\n",
       "      <td>0.622196</td>\n",
       "      <td>0.136588</td>\n",
       "      <td>1</td>\n",
       "      <td>0.336109</td>\n",
       "      <td>0.494455</td>\n",
       "      <td>0.039441</td>\n",
       "      <td>0.741532</td>\n",
       "      <td>0.510977</td>\n",
       "      <td>0.000000</td>\n",
       "    </tr>\n",
       "    <tr>\n",
       "      <th>51035</th>\n",
       "      <td>0.192495</td>\n",
       "      <td>0.144379</td>\n",
       "      <td>0.320000</td>\n",
       "      <td>0.284698</td>\n",
       "      <td>0.333884</td>\n",
       "      <td>0.392157</td>\n",
       "      <td>0.651073</td>\n",
       "      <td>0.686913</td>\n",
       "      <td>0.805747</td>\n",
       "      <td>0.721034</td>\n",
       "      <td>0.633690</td>\n",
       "      <td>0.084687</td>\n",
       "      <td>0</td>\n",
       "      <td>0.102974</td>\n",
       "      <td>0.543709</td>\n",
       "      <td>0.131946</td>\n",
       "      <td>0.477747</td>\n",
       "      <td>0.691775</td>\n",
       "      <td>0.897690</td>\n",
       "    </tr>\n",
       "    <tr>\n",
       "      <th>51036</th>\n",
       "      <td>0.303286</td>\n",
       "      <td>0.116830</td>\n",
       "      <td>0.306962</td>\n",
       "      <td>0.353247</td>\n",
       "      <td>0.500061</td>\n",
       "      <td>0.364379</td>\n",
       "      <td>0.769545</td>\n",
       "      <td>0.828923</td>\n",
       "      <td>0.837213</td>\n",
       "      <td>0.757701</td>\n",
       "      <td>0.512239</td>\n",
       "      <td>0.153190</td>\n",
       "      <td>1</td>\n",
       "      <td>0.132101</td>\n",
       "      <td>0.538254</td>\n",
       "      <td>0.083057</td>\n",
       "      <td>0.530861</td>\n",
       "      <td>0.621976</td>\n",
       "      <td>0.892534</td>\n",
       "    </tr>\n",
       "    <tr>\n",
       "      <th>51037</th>\n",
       "      <td>0.397302</td>\n",
       "      <td>0.109994</td>\n",
       "      <td>0.297833</td>\n",
       "      <td>0.381203</td>\n",
       "      <td>0.444781</td>\n",
       "      <td>0.384477</td>\n",
       "      <td>0.734589</td>\n",
       "      <td>0.826753</td>\n",
       "      <td>0.857759</td>\n",
       "      <td>0.731379</td>\n",
       "      <td>0.652536</td>\n",
       "      <td>0.136965</td>\n",
       "      <td>0</td>\n",
       "      <td>0.681647</td>\n",
       "      <td>0.512150</td>\n",
       "      <td>0.165457</td>\n",
       "      <td>0.908261</td>\n",
       "      <td>0.726042</td>\n",
       "      <td>0.852714</td>\n",
       "    </tr>\n",
       "  </tbody>\n",
       "</table>\n",
       "</div>"
      ],
      "text/plain": [
       "         Income      DSCI       PQ1       PQ2       PQ3       PQ4       TQ1  \\\n",
       "FIPS                                                                          \n",
       "51001  0.075854  0.148920  0.319901  0.435870  0.410805  0.412876  0.398849   \n",
       "51003  0.108095  0.182011  0.281478  0.361577  0.330150  0.398268  0.652957   \n",
       "51005  0.187226  0.147870  0.208440  0.382735  0.309672  0.361536  0.590581   \n",
       "51007  0.157467  0.144258  0.319836  0.347694  0.488828  0.370654  0.753323   \n",
       "51009  0.184217  0.145333  0.205452  0.416978  0.325681  0.367647  0.499006   \n",
       "51011  0.140248  0.158561  0.278259  0.427413  0.398133  0.403431  0.427002   \n",
       "51013  0.142115  0.105105  0.229655  0.409510  0.284420  0.314118  0.436525   \n",
       "51015  0.197927  0.147820  0.225123  0.379990  0.321457  0.383072  0.615071   \n",
       "51017  0.382682  0.130588  0.262562  0.372108  0.370891  0.394608  0.681005   \n",
       "51019  0.263026  0.149943  0.237767  0.395053  0.355923  0.371536  0.549974   \n",
       "51021  0.118443  0.129919  0.357997  0.408425  0.355311  0.373595  0.443537   \n",
       "51023  0.149779  0.110621  0.249655  0.355290  0.318886  0.310065  0.424699   \n",
       "51025  0.702975  0.132096  0.192874  0.363204  0.354637  0.357810  0.542125   \n",
       "51027  0.391627  0.134775  0.155074  0.412382  0.309734  0.345882  0.453061   \n",
       "51029  0.111130  0.148215  0.320657  0.451636  0.410468  0.419183  0.486866   \n",
       "51031  0.254414  0.155045  0.253103  0.383724  0.338843  0.414771  0.543380   \n",
       "51033  0.213683  0.123943  0.257931  0.373608  0.390389  0.405065  0.662271   \n",
       "51035  0.192495  0.144379  0.320000  0.284698  0.333884  0.392157  0.651073   \n",
       "51036  0.303286  0.116830  0.306962  0.353247  0.500061  0.364379  0.769545   \n",
       "51037  0.397302  0.109994  0.297833  0.381203  0.444781  0.384477  0.734589   \n",
       "\n",
       "            TQ2       TQ3       TQ4    Forest  Agriculture  Watershed  \\\n",
       "FIPS                                                                    \n",
       "51001  0.223717  0.178736  0.296552  0.064338     0.289624          1   \n",
       "51003  0.669414  0.672845  0.580575  0.679813     0.081093          1   \n",
       "51005  0.651482  0.660489  0.531379  0.897165     0.020858          1   \n",
       "51007  0.808243  0.809483  0.716207  0.651586     0.155517          1   \n",
       "51009  0.525380  0.539368  0.463678  0.770831     0.072140          1   \n",
       "51011  0.337238  0.280747  0.347356  0.662506     0.159655          1   \n",
       "51013  0.430658  0.397845  0.371264  0.089268     0.001349          1   \n",
       "51015  0.686479  0.682759  0.561379  0.582228     0.137797          1   \n",
       "51017  0.768185  0.779741  0.641724  0.899831     0.020852          1   \n",
       "51019  0.557484  0.521695  0.476207  0.625380     0.131675          0   \n",
       "51021  0.314678  0.279310  0.338736  0.777309     0.054450          0   \n",
       "51023  0.373102  0.334052  0.345862  0.749672     0.082782          1   \n",
       "51025  0.665365  0.745115  0.563563  0.715016     0.075226          0   \n",
       "51027  0.475488  0.497126  0.423563  0.889480     0.001734          0   \n",
       "51029  0.383659  0.330460  0.392529  0.740312     0.082614          1   \n",
       "51031  0.560521  0.542672  0.483563  0.608641     0.164864          0   \n",
       "51033  0.761099  0.778305  0.632529  0.622196     0.136588          1   \n",
       "51035  0.686913  0.805747  0.721034  0.633690     0.084687          0   \n",
       "51036  0.828923  0.837213  0.757701  0.512239     0.153190          1   \n",
       "51037  0.826753  0.857759  0.731379  0.652536     0.136965          0   \n",
       "\n",
       "        Biomass     Power  Water Availability   Log_Bio  Log_Water  Log_Power  \n",
       "FIPS                                                                           \n",
       "51001  0.185901  0.601097            0.020793  0.606148   0.417871   0.931630  \n",
       "51003  0.354645  0.494455            0.157825  0.754033   0.718885   0.000000  \n",
       "51005  0.654945  0.494455            0.083128  0.898739   0.622105   0.000000  \n",
       "51007  0.648261  0.515919            0.018988  0.896297   0.404927   0.861198  \n",
       "51009  0.236541  0.502679            0.145085  0.660592   0.706138   0.819049  \n",
       "51011  0.099752  0.516467            0.082587  0.471095   0.621123   0.862305  \n",
       "51013  0.101754  0.494455            0.023823  0.475250   0.437398   0.000000  \n",
       "51015  0.421279  0.494455            0.126500  0.794329   0.685401   0.000000  \n",
       "51017  0.165266  0.000000            0.098558  0.579941   0.647728   0.000000  \n",
       "51019  0.293397  0.536815            0.145693  0.710030   0.706772   0.891066  \n",
       "51021  0.086126  0.494455            0.155006  0.440766   0.716155   0.000000  \n",
       "51023  0.117020  0.494455            0.100031  0.504804   0.649964   0.000000  \n",
       "51025  0.539180  0.521036            0.131652  0.852539   0.691437   0.870593  \n",
       "51027  0.021180  0.494455            0.082522  0.197892   0.621005   0.000000  \n",
       "51029  0.519162  0.526423            0.190123  0.843583   0.747116   0.878699  \n",
       "51031  0.631516  0.813647            0.154164  0.890068   0.715329   0.979797  \n",
       "51033  0.336109  0.494455            0.039441  0.741532   0.510977   0.000000  \n",
       "51035  0.102974  0.543709            0.131946  0.477747   0.691775   0.897690  \n",
       "51036  0.132101  0.538254            0.083057  0.530861   0.621976   0.892534  \n",
       "51037  0.681647  0.512150            0.165457  0.908261   0.726042   0.852714  "
      ]
     },
     "execution_count": 3,
     "metadata": {},
     "output_type": "execute_result"
    }
   ],
   "source": [
    "#Loading locational dataset\n",
    "df = pd.read_csv('final-scaled-df.csv', index_col='FIPS')\n",
    "df.head(20)"
   ]
  },
  {
   "cell_type": "code",
   "execution_count": 4,
   "id": "FcXQiiA7HHpx",
   "metadata": {
    "id": "FcXQiiA7HHpx"
   },
   "outputs": [],
   "source": [
    "TEST_RATIO = 0.2\n",
    "BATCH_SIZE = 64\n",
    "\n",
    "size_all = len(df)\n",
    "\n",
    "# training/val/test dataset\n",
    "size_train = size_all - 6\n",
    "size_val = int(size_train * TEST_RATIO)\n",
    "size_train_sub = size_train - size_val\n",
    "\n",
    "# split data into train and test\n",
    "# Test = 6 counties of interst: Accomack, Fauquier, Greensville, Hanover, Rockingham, Wise\n",
    "dataset_val = df.loc[[51001, 51061, 51081, 51085, 51165, 51195]]\n",
    "\n",
    "# Train = all except 6 counties of interest\n",
    "dataset_train = df.drop([51001, 51061, 51081, 51085, 51165, 51195])\n"
   ]
  },
  {
   "cell_type": "code",
   "execution_count": 5,
   "id": "10f95bd6-1b0b-4f2e-a8ec-bd5a8ce3c22e",
   "metadata": {
    "id": "10f95bd6-1b0b-4f2e-a8ec-bd5a8ce3c22e",
    "tags": []
   },
   "outputs": [],
   "source": [
    "cols = ['Income', 'DSCI', 'PQ1', 'PQ2', 'PQ3', 'PQ4', 'TQ1', 'TQ2', 'TQ3', 'TQ4', 'Forest', \n",
    "        'Agriculture', 'Biomass', 'Power', 'Water Availability', 'Watershed',\n",
    "       'Log_Bio','Log_Water','Log_Power']\n",
    "cols_rf = ['PQ1', 'PQ2', 'PQ3', 'PQ4', 'TQ1', 'TQ2', 'TQ3', 'TQ4', 'Forest','Water Availability', 'Log_Water']\n",
    "cols_ew = ['PQ1', 'PQ2', 'PQ3', 'PQ4', 'TQ1', 'TQ2', 'TQ3', 'TQ4', 'Income', 'Power', 'Log_Power', 'Agriculture']\n",
    "cols_bio = ['PQ1', 'PQ2', 'PQ3', 'PQ4', 'TQ1', 'TQ2', 'TQ3', 'TQ4', 'Income', 'Biomass', 'Log_Bio','Agriculture']\n",
    "\n",
    "# Using the elbow method to determine the k value to be applied\n",
    "k_rng = range(1, 10)\n",
    "sse = []\n",
    "for k in k_rng:\n",
    "    km = KMeans(n_clusters=k, n_init=10)\n",
    "    km.fit(df[cols])\n",
    "    sse.append(km.inertia_)"
   ]
  },
  {
   "cell_type": "code",
   "execution_count": 6,
   "id": "6501a9b5-1bd9-48eb-8634-913e5ea087dd",
   "metadata": {
    "colab": {
     "base_uri": "https://localhost:8080/",
     "height": 466
    },
    "id": "6501a9b5-1bd9-48eb-8634-913e5ea087dd",
    "outputId": "e87c2adf-bc75-46c5-8035-0f1cad580770"
   },
   "outputs": [
    {
     "data": {
      "text/plain": [
       "[<matplotlib.lines.Line2D at 0x334596830>]"
      ]
     },
     "execution_count": 6,
     "metadata": {},
     "output_type": "execute_result"
    },
    {
     "data": {
      "image/png": "[encoded data removed]",
      "text/plain": [
       "<Figure size 640x480 with 1 Axes>"
      ]
     },
     "metadata": {},
     "output_type": "display_data"
    }
   ],
   "source": [
    "# Plot to obtain elbow\n",
    "plt.xlabel('K')\n",
    "plt.ylabel('Sum of squared error')\n",
    "plt.plot(k_rng, sse)"
   ]
  },
  {
   "cell_type": "code",
   "execution_count": 7,
   "id": "58151fd4-fced-4c31-a196-ad82bf276f29",
   "metadata": {
    "id": "58151fd4-fced-4c31-a196-ad82bf276f29"
   },
   "outputs": [],
   "source": [
    "# create clusters using k value = 4\n",
    "hc = AgglomerativeClustering(n_clusters=4, affinity = 'euclidean', linkage = 'ward')"
   ]
  },
  {
   "cell_type": "code",
   "execution_count": 8,
   "id": "c53e90bf-e922-4c51-90b1-4bfa397f72f7",
   "metadata": {
    "colab": {
     "base_uri": "https://localhost:8080/"
    },
    "id": "c53e90bf-e922-4c51-90b1-4bfa397f72f7",
    "outputId": "ec9b90d1-88fd-45a7-ef3b-a3ebabe613f0"
   },
   "outputs": [
    {
     "name": "stderr",
     "output_type": "stream",
     "text": [
      "/Users/rachelholman/anaconda3/lib/python3.10/site-packages/sklearn/cluster/_agglomerative.py:983: FutureWarning: Attribute `affinity` was deprecated in version 1.2 and will be removed in 1.4. Use `metric` instead\n",
      "  warnings.warn(\n",
      "/Users/rachelholman/anaconda3/lib/python3.10/site-packages/sklearn/cluster/_agglomerative.py:983: FutureWarning: Attribute `affinity` was deprecated in version 1.2 and will be removed in 1.4. Use `metric` instead\n",
      "  warnings.warn(\n",
      "/Users/rachelholman/anaconda3/lib/python3.10/site-packages/sklearn/cluster/_agglomerative.py:983: FutureWarning: Attribute `affinity` was deprecated in version 1.2 and will be removed in 1.4. Use `metric` instead\n",
      "  warnings.warn(\n"
     ]
    }
   ],
   "source": [
    "# Determining mean cluster characterisitics REFORESTATION\n",
    "y_hc = hc.fit_predict(dataset_train[cols_rf])\n",
    "dataset_train['Reforest'] = y_hc\n",
    "dataset_train.sort_values(\"Reforest\", inplace = True, ascending=True)\n",
    "\n",
    "#average input vars by cluster\n",
    "df_rfcluster = dataset_train.groupby('Reforest').mean()\n",
    "\n",
    "\n",
    "# Determining mean cluster characterisitics ENHANCED WEATHERING\n",
    "y_hc = hc.fit_predict(dataset_train[cols_ew])\n",
    "dataset_train['EW'] = y_hc\n",
    "dataset_train.sort_values(\"EW\", inplace = True, ascending=True)\n",
    "\n",
    "#average input vars by cluster\n",
    "df_ewcluster = dataset_train.groupby('EW').mean()\n",
    "\n",
    "\n",
    "# Determining mean cluster characterisitics BIOCHAR\n",
    "y_hc = hc.fit_predict(dataset_train[cols_bio])\n",
    "dataset_train['Biochar'] = y_hc\n",
    "dataset_train.sort_values(\"Biochar\", inplace = True, ascending=True)\n",
    "\n",
    "#average input vars by cluster\n",
    "df_biocluster = dataset_train.groupby('Biochar').mean()"
   ]
  },
  {
   "cell_type": "code",
   "execution_count": 9,
   "id": "ebcef5cd-a552-4dd2-b451-8ddce6157a92",
   "metadata": {
    "colab": {
     "base_uri": "https://localhost:8080/",
     "height": 539
    },
    "id": "ebcef5cd-a552-4dd2-b451-8ddce6157a92",
    "outputId": "7628de03-d5c2-4238-b43e-d646148b459c",
    "tags": []
   },
   "outputs": [
    {
     "data": {
      "text/plain": [
       "<Axes: ylabel='Biochar'>"
      ]
     },
     "execution_count": 9,
     "metadata": {},
     "output_type": "execute_result"
    },
    {
     "data": {
      "image/png": "[encoded data removed]",
      "text/plain": [
       "<Figure size 1000x600 with 2 Axes>"
      ]
     },
     "metadata": {},
     "output_type": "display_data"
    },
    {
     "data": {
      "image/png": "[encoded data removed]",
      "text/plain": [
       "<Figure size 1000x600 with 2 Axes>"
      ]
     },
     "metadata": {},
     "output_type": "display_data"
    },
    {
     "data": {
      "image/png": "[encoded data removed]",
      "text/plain": [
       "<Figure size 1000x600 with 2 Axes>"
      ]
     },
     "metadata": {},
     "output_type": "display_data"
    }
   ],
   "source": [
    "#Heatmap of cluster characteristics reforestation\n",
    "plt.figure(figsize=(10,6))\n",
    "sns.heatmap(df_rfcluster[cols], annot=True, cmap=\"Blues\", linewidths=.5)\n",
    "\n",
    "plt.figure(figsize=(10,6))\n",
    "sns.heatmap(df_ewcluster[cols], annot=True, cmap=\"Blues\", linewidths=.5)\n",
    "\n",
    "plt.figure(figsize=(10,6))\n",
    "sns.heatmap(df_biocluster[cols], annot=True, cmap=\"Blues\", linewidths=.5)"
   ]
  },
  {
   "cell_type": "code",
   "execution_count": 10,
   "id": "06dd88cf-c4c7-4eb6-81e8-cb33239bd9bf",
   "metadata": {
    "colab": {
     "base_uri": "https://localhost:8080/"
    },
    "id": "06dd88cf-c4c7-4eb6-81e8-cb33239bd9bf",
    "outputId": "1c158ea2-3461-4723-b6a6-668498b662d3",
    "tags": []
   },
   "outputs": [
    {
     "data": {
      "text/plain": [
       "1    31\n",
       "2    26\n",
       "0    24\n",
       "3     3\n",
       "Name: Reforest, dtype: int64"
      ]
     },
     "execution_count": 10,
     "metadata": {},
     "output_type": "execute_result"
    }
   ],
   "source": [
    "# see how clusters are distributed\n",
    "dataset_train['Reforest'].value_counts()"
   ]
  },
  {
   "cell_type": "code",
   "execution_count": 11,
   "id": "dc74557a-0fe2-44dd-a8a1-1fabb512a87d",
   "metadata": {
    "tags": []
   },
   "outputs": [
    {
     "data": {
      "text/plain": [
       "0    24\n",
       "1    22\n",
       "3    20\n",
       "2    18\n",
       "Name: EW, dtype: int64"
      ]
     },
     "execution_count": 11,
     "metadata": {},
     "output_type": "execute_result"
    }
   ],
   "source": [
    "dataset_train['EW'].value_counts()"
   ]
  },
  {
   "cell_type": "code",
   "execution_count": 12,
   "id": "88a1b357-17a7-49e4-9fc0-5d53b98801e0",
   "metadata": {
    "tags": []
   },
   "outputs": [
    {
     "data": {
      "text/plain": [
       "1    30\n",
       "3    23\n",
       "0    19\n",
       "2    12\n",
       "Name: Biochar, dtype: int64"
      ]
     },
     "execution_count": 12,
     "metadata": {},
     "output_type": "execute_result"
    }
   ],
   "source": [
    "dataset_train['Biochar'].value_counts()"
   ]
  },
  {
   "cell_type": "code",
   "execution_count": 13,
   "id": "8b74d556-a0ca-4fc1-b820-085103bc5f47",
   "metadata": {
    "colab": {
     "base_uri": "https://localhost:8080/",
     "height": 206
    },
    "id": "8b74d556-a0ca-4fc1-b820-085103bc5f47",
    "outputId": "957eeab5-edb4-4992-cf4f-b1b040c25820",
    "tags": []
   },
   "outputs": [
    {
     "data": {
      "text/html": [
       "<div>\n",
       "<style scoped>\n",
       "    .dataframe tbody tr th:only-of-type {\n",
       "        vertical-align: middle;\n",
       "    }\n",
       "\n",
       "    .dataframe tbody tr th {\n",
       "        vertical-align: top;\n",
       "    }\n",
       "\n",
       "    .dataframe thead th {\n",
       "        text-align: right;\n",
       "    }\n",
       "</style>\n",
       "<table border=\"1\" class=\"dataframe\">\n",
       "  <thead>\n",
       "    <tr style=\"text-align: right;\">\n",
       "      <th></th>\n",
       "      <th>Income</th>\n",
       "      <th>DSCI</th>\n",
       "      <th>PQ1</th>\n",
       "      <th>PQ2</th>\n",
       "      <th>PQ3</th>\n",
       "      <th>PQ4</th>\n",
       "      <th>TQ1</th>\n",
       "      <th>TQ2</th>\n",
       "      <th>TQ3</th>\n",
       "      <th>TQ4</th>\n",
       "      <th>...</th>\n",
       "      <th>Watershed</th>\n",
       "      <th>Biomass</th>\n",
       "      <th>Power</th>\n",
       "      <th>Water Availability</th>\n",
       "      <th>Log_Bio</th>\n",
       "      <th>Log_Water</th>\n",
       "      <th>Log_Power</th>\n",
       "      <th>Reforest</th>\n",
       "      <th>EW</th>\n",
       "      <th>Biochar</th>\n",
       "    </tr>\n",
       "    <tr>\n",
       "      <th>FIPS</th>\n",
       "      <th></th>\n",
       "      <th></th>\n",
       "      <th></th>\n",
       "      <th></th>\n",
       "      <th></th>\n",
       "      <th></th>\n",
       "      <th></th>\n",
       "      <th></th>\n",
       "      <th></th>\n",
       "      <th></th>\n",
       "      <th></th>\n",
       "      <th></th>\n",
       "      <th></th>\n",
       "      <th></th>\n",
       "      <th></th>\n",
       "      <th></th>\n",
       "      <th></th>\n",
       "      <th></th>\n",
       "      <th></th>\n",
       "      <th></th>\n",
       "      <th></th>\n",
       "    </tr>\n",
       "  </thead>\n",
       "  <tbody>\n",
       "    <tr>\n",
       "      <th>51115</th>\n",
       "      <td>0.131867</td>\n",
       "      <td>0.118457</td>\n",
       "      <td>0.362594</td>\n",
       "      <td>0.415861</td>\n",
       "      <td>0.354178</td>\n",
       "      <td>0.358072</td>\n",
       "      <td>0.411094</td>\n",
       "      <td>0.293565</td>\n",
       "      <td>0.254598</td>\n",
       "      <td>0.315172</td>\n",
       "      <td>...</td>\n",
       "      <td>1</td>\n",
       "      <td>0.006277</td>\n",
       "      <td>0.494455</td>\n",
       "      <td>0.000000</td>\n",
       "      <td>0.076886</td>\n",
       "      <td>0.000000</td>\n",
       "      <td>0.00000</td>\n",
       "      <td>3</td>\n",
       "      <td>3</td>\n",
       "      <td>1</td>\n",
       "    </tr>\n",
       "    <tr>\n",
       "      <th>51013</th>\n",
       "      <td>0.142115</td>\n",
       "      <td>0.105105</td>\n",
       "      <td>0.229655</td>\n",
       "      <td>0.409510</td>\n",
       "      <td>0.284420</td>\n",
       "      <td>0.314118</td>\n",
       "      <td>0.436525</td>\n",
       "      <td>0.430658</td>\n",
       "      <td>0.397845</td>\n",
       "      <td>0.371264</td>\n",
       "      <td>...</td>\n",
       "      <td>1</td>\n",
       "      <td>0.101754</td>\n",
       "      <td>0.494455</td>\n",
       "      <td>0.023823</td>\n",
       "      <td>0.475250</td>\n",
       "      <td>0.437398</td>\n",
       "      <td>0.00000</td>\n",
       "      <td>3</td>\n",
       "      <td>3</td>\n",
       "      <td>1</td>\n",
       "    </tr>\n",
       "    <tr>\n",
       "      <th>51131</th>\n",
       "      <td>0.099351</td>\n",
       "      <td>0.117189</td>\n",
       "      <td>0.439573</td>\n",
       "      <td>0.415893</td>\n",
       "      <td>0.389930</td>\n",
       "      <td>0.397124</td>\n",
       "      <td>0.467713</td>\n",
       "      <td>0.404628</td>\n",
       "      <td>0.346264</td>\n",
       "      <td>0.386092</td>\n",
       "      <td>...</td>\n",
       "      <td>1</td>\n",
       "      <td>0.100844</td>\n",
       "      <td>0.519490</td>\n",
       "      <td>0.007939</td>\n",
       "      <td>0.473371</td>\n",
       "      <td>0.285964</td>\n",
       "      <td>0.86796</td>\n",
       "      <td>3</td>\n",
       "      <td>0</td>\n",
       "      <td>1</td>\n",
       "    </tr>\n",
       "  </tbody>\n",
       "</table>\n",
       "<p>3 rows × 22 columns</p>\n",
       "</div>"
      ],
      "text/plain": [
       "         Income      DSCI       PQ1       PQ2       PQ3       PQ4       TQ1  \\\n",
       "FIPS                                                                          \n",
       "51115  0.131867  0.118457  0.362594  0.415861  0.354178  0.358072  0.411094   \n",
       "51013  0.142115  0.105105  0.229655  0.409510  0.284420  0.314118  0.436525   \n",
       "51131  0.099351  0.117189  0.439573  0.415893  0.389930  0.397124  0.467713   \n",
       "\n",
       "            TQ2       TQ3       TQ4  ...  Watershed   Biomass     Power  \\\n",
       "FIPS                                 ...                                  \n",
       "51115  0.293565  0.254598  0.315172  ...          1  0.006277  0.494455   \n",
       "51013  0.430658  0.397845  0.371264  ...          1  0.101754  0.494455   \n",
       "51131  0.404628  0.346264  0.386092  ...          1  0.100844  0.519490   \n",
       "\n",
       "       Water Availability   Log_Bio  Log_Water  Log_Power  Reforest  EW  \\\n",
       "FIPS                                                                      \n",
       "51115            0.000000  0.076886   0.000000    0.00000         3   3   \n",
       "51013            0.023823  0.475250   0.437398    0.00000         3   3   \n",
       "51131            0.007939  0.473371   0.285964    0.86796         3   0   \n",
       "\n",
       "       Biochar  \n",
       "FIPS            \n",
       "51115        1  \n",
       "51013        1  \n",
       "51131        1  \n",
       "\n",
       "[3 rows x 22 columns]"
      ]
     },
     "execution_count": 13,
     "metadata": {},
     "output_type": "execute_result"
    }
   ],
   "source": [
    "# Look at counties in smallest cluster\n",
    "dataset_train[dataset_train['Reforest'] == 3]"
   ]
  },
  {
   "cell_type": "markdown",
   "id": "7253b926-47c5-4262-876d-b4f345be9c41",
   "metadata": {
    "id": "7253b926-47c5-4262-876d-b4f345be9c41",
    "tags": []
   },
   "source": [
    "# Test Train Split"
   ]
  },
  {
   "cell_type": "code",
   "execution_count": 14,
   "id": "8a152855-76c0-4ef1-967b-9a917a6e9be6",
   "metadata": {
    "id": "8a152855-76c0-4ef1-967b-9a917a6e9be6"
   },
   "outputs": [],
   "source": [
    "from sklearn.model_selection import train_test_split\n",
    "\n",
    "# creating input identity\n",
    "sub_df = dataset_train[cols]\n",
    "X = sub_df\n",
    "y = dataset_train[['Reforest','EW','Biochar']]\n",
    "X_train, X_test, y_train, y_test = train_test_split(X, y, train_size=0.8, random_state=1)"
   ]
  },
  {
   "cell_type": "code",
   "execution_count": 15,
   "id": "bcde15bd-d676-4e55-817c-f8c627e27b1c",
   "metadata": {
    "tags": []
   },
   "outputs": [],
   "source": [
    "X_train_rf = X_train[cols_rf]\n",
    "X_train_ew = X_train[cols_ew]\n",
    "X_train_bio = X_train[cols_bio]\n",
    "\n",
    "X_test_rf = X_test[cols_rf]\n",
    "X_test_ew = X_test[cols_ew]\n",
    "X_test_bio = X_test[cols_bio]\n",
    "\n",
    "y_train_rf = y_train[['Reforest']]\n",
    "y_train_ew = y_train[['EW']]\n",
    "y_train_bio = y_train[['Biochar']]\n",
    "\n",
    "y_test_rf = y_test[['Reforest']]\n",
    "y_test_ew = y_test[['EW']]\n",
    "y_test_bio = y_test[['Biochar']]"
   ]
  },
  {
   "cell_type": "code",
   "execution_count": 16,
   "id": "1b747c5d-e264-4095-8090-6802c979cc6c",
   "metadata": {
    "tags": []
   },
   "outputs": [
    {
     "data": {
      "text/plain": [
       "1    23\n",
       "2    22\n",
       "0    19\n",
       "3     3\n",
       "Name: Reforest, dtype: int64"
      ]
     },
     "execution_count": 16,
     "metadata": {},
     "output_type": "execute_result"
    }
   ],
   "source": [
    "y_train['Reforest'].value_counts()"
   ]
  },
  {
   "cell_type": "code",
   "execution_count": 17,
   "id": "f947240c-751e-4ff7-89cf-3a7faa76e4f6",
   "metadata": {
    "tags": []
   },
   "outputs": [
    {
     "data": {
      "text/plain": [
       "1    7\n",
       "0    5\n",
       "3    3\n",
       "2    2\n",
       "Name: EW, dtype: int64"
      ]
     },
     "execution_count": 17,
     "metadata": {},
     "output_type": "execute_result"
    }
   ],
   "source": [
    "y_test['EW'].value_counts()"
   ]
  },
  {
   "cell_type": "code",
   "execution_count": 18,
   "id": "4f65d9d3-6194-43f8-9af0-0a00a0922347",
   "metadata": {
    "tags": []
   },
   "outputs": [
    {
     "data": {
      "text/plain": [
       "3    8\n",
       "1    5\n",
       "2    3\n",
       "0    1\n",
       "Name: Biochar, dtype: int64"
      ]
     },
     "execution_count": 18,
     "metadata": {},
     "output_type": "execute_result"
    }
   ],
   "source": [
    "y_test['Biochar'].value_counts()"
   ]
  },
  {
   "cell_type": "code",
   "execution_count": null,
   "id": "db9b912e-8303-4b77-89c2-63e4d8f60c3c",
   "metadata": {},
   "outputs": [],
   "source": []
  },
  {
   "cell_type": "markdown",
   "id": "4b923baf-0d77-4fcf-b1e7-df7263f5f77c",
   "metadata": {
    "id": "4b923baf-0d77-4fcf-b1e7-df7263f5f77c"
   },
   "source": [
    "# Supervised Neural Nets for suitability prediction"
   ]
  },
  {
   "cell_type": "markdown",
   "id": "dddc3213-6d61-4ebb-ba35-82b8a3210a0a",
   "metadata": {
    "id": "dddc3213-6d61-4ebb-ba35-82b8a3210a0a"
   },
   "source": [
    "## Simple ANN"
   ]
  },
  {
   "cell_type": "code",
   "execution_count": 19,
   "id": "80e2f061-0693-4db9-8f15-00d47da2697c",
   "metadata": {
    "id": "80e2f061-0693-4db9-8f15-00d47da2697c",
    "tags": []
   },
   "outputs": [],
   "source": [
    "# loading everything that might be helpful\n",
    "import sys\n",
    "import sklearn\n",
    "import os\n",
    "import numpy as np\n",
    "import matplotlib as mpl\n",
    "import matplotlib.pyplot as plt\n",
    "from functools import partial\n",
    "import PIL\n",
    "import PIL.Image\n",
    "import torch\n",
    "from torch.utils.data import DataLoader, random_split\n",
    "from torch import Generator\n",
    "from torchvision.transforms import ToTensor\n",
    "from torchvision.datasets import ImageFolder\n",
    "from torch import manual_seed as torch_manual_seed\n",
    "import random\n",
    "import numpy as np\n",
    "\n",
    "from torch.cuda import max_memory_allocated, set_device, manual_seed_all\n",
    "from torch.backends import cudnn"
   ]
  },
  {
   "cell_type": "code",
   "execution_count": 20,
   "id": "F35lJf6WKMLL",
   "metadata": {
    "id": "F35lJf6WKMLL"
   },
   "outputs": [],
   "source": [
    "from sklearn.model_selection import train_test_split\n",
    "from torch.utils.data import TensorDataset, DataLoader"
   ]
  },
  {
   "cell_type": "code",
   "execution_count": 21,
   "id": "15f0b894-3214-4f5a-bf98-d1932051e00a",
   "metadata": {
    "tags": []
   },
   "outputs": [],
   "source": [
    "dataset_val_rf = dataset_val[cols_rf]\n",
    "dataset_val_ew = dataset_val[cols_ew]\n",
    "dataset_val_bio = dataset_val[cols_bio]"
   ]
  },
  {
   "cell_type": "code",
   "execution_count": 22,
   "id": "j0PF-0X6EnlB",
   "metadata": {
    "id": "j0PF-0X6EnlB"
   },
   "outputs": [],
   "source": [
    "# Make data into tensor objects\n",
    "X_train_rf_tensor = torch.tensor(X_train_rf.values, dtype=torch.float32)\n",
    "X_train_ew_tensor = torch.tensor(X_train_ew.values, dtype=torch.float32)\n",
    "X_train_bio_tensor = torch.tensor(X_train_bio.values, dtype=torch.float32)\n",
    "\n",
    "X_test_rf_tensor = torch.tensor(X_test_rf.values, dtype=torch.float32)\n",
    "X_test_ew_tensor = torch.tensor(X_test_ew.values, dtype=torch.float32)\n",
    "X_test_bio_tensor = torch.tensor(X_test_bio.values, dtype=torch.float32)\n",
    "\n",
    "y_train_rf_tensor = torch.tensor(y_train_rf['Reforest'].values, dtype=torch.float32)\n",
    "y_train_ew_tensor = torch.tensor(y_train_ew['EW'].values, dtype=torch.float32)\n",
    "y_train_bio_tensor = torch.tensor(y_train_bio['Biochar'].values, dtype=torch.float32)\n",
    "\n",
    "y_test_rf_tensor = torch.tensor(y_test_rf['Reforest'].values, dtype=torch.float32)\n",
    "y_test_ew_tensor = torch.tensor(y_test_ew['EW'].values, dtype=torch.float32)\n",
    "y_test_bio_tensor = torch.tensor(y_test_bio['Biochar'].values, dtype=torch.float32)\n",
    "\n",
    "# Make test data into tensor objects\n",
    "X_val_rf_tensor = torch.tensor(dataset_val_rf.values, dtype=torch.float32)\n",
    "X_val_ew_tensor = torch.tensor(dataset_val_ew.values, dtype=torch.float32)\n",
    "X_val_bio_tensor = torch.tensor(dataset_val_bio.values, dtype=torch.float32)"
   ]
  },
  {
   "cell_type": "code",
   "execution_count": 23,
   "id": "PKDvbs6bEzb5",
   "metadata": {
    "id": "PKDvbs6bEzb5"
   },
   "outputs": [],
   "source": [
    "#train data\n",
    "training_data_rf = TensorDataset(X_train_rf_tensor, y_train_rf_tensor)\n",
    "train_dataloader_rf = DataLoader(training_data_rf, batch_size=64)\n",
    "\n",
    "training_data_ew = TensorDataset(X_train_ew_tensor, y_train_ew_tensor)\n",
    "train_dataloader_ew = DataLoader(training_data_ew, batch_size=64)\n",
    "\n",
    "training_data_bio = TensorDataset(X_train_bio_tensor, y_train_bio_tensor)\n",
    "train_dataloader_bio = DataLoader(training_data_bio, batch_size=64)\n",
    "\n",
    "\n",
    "#test data\n",
    "test_data_rf = TensorDataset(X_test_rf_tensor,  y_test_rf_tensor)\n",
    "test_dataloader_rf = DataLoader(test_data_rf, batch_size=64)\n",
    "\n",
    "test_data_ew = TensorDataset(X_test_ew_tensor,  y_test_ew_tensor)\n",
    "test_dataloader_ew = DataLoader(test_data_ew, batch_size=64)\n",
    "\n",
    "test_data_bio = TensorDataset(X_test_bio_tensor,  y_test_bio_tensor)\n",
    "test_dataloader_bio = DataLoader(test_data_bio, batch_size=64)\n",
    "\n",
    "\n",
    "#validate data\n",
    "val_data_rf = TensorDataset(X_val_rf_tensor)\n",
    "val_dataloader_rf = DataLoader(val_data_rf, batch_size=64)\n",
    "\n",
    "val_data_ew = TensorDataset(X_val_ew_tensor)\n",
    "val_dataloader_ew = DataLoader(val_data_ew, batch_size=64)\n",
    "\n",
    "val_data_bio = TensorDataset(X_val_bio_tensor)\n",
    "val_dataloader_bio = DataLoader(val_data_bio, batch_size=64)"
   ]
  },
  {
   "cell_type": "code",
   "execution_count": 24,
   "id": "f8b48ba4-dd12-4fce-903a-df58b7148e29",
   "metadata": {
    "id": "f8b48ba4-dd12-4fce-903a-df58b7148e29"
   },
   "outputs": [],
   "source": [
    "# Simple ANN"
   ]
  },
  {
   "cell_type": "code",
   "execution_count": 25,
   "id": "4a4151aa-f490-481c-a310-73ddbd366ffd",
   "metadata": {
    "colab": {
     "base_uri": "https://localhost:8080/"
    },
    "id": "4a4151aa-f490-481c-a310-73ddbd366ffd",
    "outputId": "1cd092a3-fa12-4f25-ed71-93b5cbfaa420"
   },
   "outputs": [
    {
     "data": {
      "text/plain": [
       "net_rf(\n",
       "  (linear_model): Sequential(\n",
       "    (0): Linear(in_features=11, out_features=500, bias=True)\n",
       "    (1): Tanh()\n",
       "    (2): Linear(in_features=500, out_features=4, bias=True)\n",
       "  )\n",
       ")"
      ]
     },
     "execution_count": 25,
     "metadata": {},
     "output_type": "execute_result"
    }
   ],
   "source": [
    "import torch.nn as nn\n",
    "\n",
    "#define model\n",
    "class net_rf(nn.Module):\n",
    "    def __init__(self):\n",
    "        super().__init__()\n",
    "        self.linear_model = nn.Sequential(\n",
    "            nn.Linear(len(cols_rf),500), #input columns\n",
    "            nn.Tanh(),\n",
    "            nn.Linear(500,4)#4 output classes\n",
    "    )\n",
    "    def forward(self, x):\n",
    "        logits = self.linear_model(x)\n",
    "        return logits\n",
    "    \n",
    "class net_ew(nn.Module):\n",
    "    def __init__(self):\n",
    "        super().__init__()\n",
    "        self.linear_model = nn.Sequential(\n",
    "            nn.Linear(len(cols_ew),500), #input columns\n",
    "            nn.Tanh(),\n",
    "            nn.Linear(500,4)#4 output classes\n",
    "    )\n",
    "    def forward(self, x):\n",
    "        logits = self.linear_model(x)\n",
    "        return logits\n",
    "    \n",
    "class net_bio(nn.Module):\n",
    "    def __init__(self):\n",
    "        super().__init__()\n",
    "        self.linear_model = nn.Sequential(\n",
    "            nn.Linear(len(cols_bio),500), #input columns\n",
    "            nn.Tanh(),\n",
    "            nn.Linear(500,4)#4 output classes\n",
    "    )\n",
    "    def forward(self, x):\n",
    "        logits = self.linear_model(x)\n",
    "        return logits\n",
    "\n",
    "model_rf = net_rf()\n",
    "model_ew = net_ew()\n",
    "model_bio = net_bio()\n",
    "model_rf"
   ]
  },
  {
   "cell_type": "code",
   "execution_count": 26,
   "id": "trY6e2LXGSyr",
   "metadata": {
    "id": "trY6e2LXGSyr"
   },
   "outputs": [],
   "source": [
    "learning_rate = 0.01 \n",
    "batch_size = 124\n",
    "epochs = 500\n",
    "loss_fn = nn.CrossEntropyLoss()\n",
    "optimizer_rf = torch.optim.SGD(model_rf.parameters(), lr=learning_rate)\n",
    "optimizer_ew = torch.optim.SGD(model_ew.parameters(), lr=learning_rate)\n",
    "optimizer_bio = torch.optim.SGD(model_bio.parameters(), lr=learning_rate)"
   ]
  },
  {
   "cell_type": "code",
   "execution_count": 27,
   "id": "W-MHAPGqGS1r",
   "metadata": {
    "id": "W-MHAPGqGS1r"
   },
   "outputs": [],
   "source": [
    "#train loop\n",
    "def train_loop(dataloader, model, loss_fn, optimizer):\n",
    "    model.train() #set model in train mode\n",
    "    size = len(dataloader.dataset)\n",
    "\n",
    "    for batch, (X,y) in enumerate(dataloader):\n",
    "        #prediction and loss\n",
    "        #y = y.unsqueeze(1)\n",
    "        y = y.long()\n",
    "        pred = model(X)\n",
    "        loss = loss_fn(pred, y)\n",
    "\n",
    "        #backward pass\n",
    "        loss.backward()\n",
    "        optimizer.step()\n",
    "        optimizer.zero_grad()\n",
    "\n",
    "    if batch % 10 == 0:\n",
    "        loss, current = loss.item(), batch * batch_size + len(X)\n",
    "        print(f\"loss: {loss:>7f}  [{current:>5d}/{size:>5d}]\")"
   ]
  },
  {
   "cell_type": "code",
   "execution_count": 28,
   "id": "KCYzHxmWGS4e",
   "metadata": {
    "id": "KCYzHxmWGS4e"
   },
   "outputs": [],
   "source": [
    "def test_loop(train_dataloader, test_dataloader, model, loss_fn):\n",
    "    model.eval()  # set model in evaluation mode\n",
    "\n",
    "    size_train = len(train_dataloader.dataset)\n",
    "    size_test = len(test_dataloader.dataset)\n",
    "\n",
    "    num_batches_train = len(train_dataloader)\n",
    "    num_batches_test = len(test_dataloader)\n",
    "\n",
    "    train_loss, correct_train = 0, 0\n",
    "    test_loss, correct_test = 0, 0\n",
    "\n",
    "    # Evaluate model on train data\n",
    "    with torch.no_grad():\n",
    "        for X, y in train_dataloader:\n",
    "            #y = y.unsqueeze(1)\n",
    "            y = y.long()\n",
    "            pred = model(X)\n",
    "            train_loss += loss_fn(pred, y).item()\n",
    "            correct_train += (pred.argmax(1) == y).type(torch.float).sum().item()\n",
    "\n",
    "    train_loss /= num_batches_train\n",
    "    correct_train /= size_train\n",
    "    #print(f\"Train Error: \\n Accuracy: {(100*correct_train):>0.1f}%, Avg loss: {train_loss:>8f}\")\n",
    "    train_acc= (100*correct_train)\n",
    "    \n",
    "    # Evaluate model on test data\n",
    "    with torch.no_grad():\n",
    "        for X, y in test_dataloader:\n",
    "            #y = y.unsqueeze(1)\n",
    "            y = y.long()\n",
    "            pred = model(X)\n",
    "            test_loss += loss_fn(pred, y).item()\n",
    "            correct_test += (pred.argmax(1) == y).type(torch.float).sum().item()\n",
    "\n",
    "    test_loss /= num_batches_test\n",
    "    correct_test /= size_test\n",
    "    #print(f\"Validation Error: \\n Accuracy: {(100*correct_test):>0.1f}%, Avg loss: {test_loss:>8f}\")\n",
    "    test_acc = (100*correct_test)\n",
    "    \n",
    "    return train_acc, train_loss, test_acc, test_loss\n"
   ]
  },
  {
   "cell_type": "code",
   "execution_count": 29,
   "id": "kQZKmtTiJt8x",
   "metadata": {
    "colab": {
     "base_uri": "https://localhost:8080/"
    },
    "id": "kQZKmtTiJt8x",
    "outputId": "61e8832e-053c-4c5a-ab2d-5d8f54442f79"
   },
   "outputs": [
    {
     "name": "stdout",
     "output_type": "stream",
     "text": [
      "Train Error: \n",
      " Accuracy: 83.6%, Avg loss: 0.277883\n",
      "Test Error: \n",
      " Accuracy: 88.2%, Avg loss: 0.336121\n"
     ]
    }
   ],
   "source": [
    "#run the code for rf\n",
    "epochs = 1000\n",
    "for t in range(epochs):\n",
    "    #print(f\"Epoch {t+1}\\n-------------------------------\")\n",
    "    train_loop(train_dataloader_rf, model_rf, loss_fn, optimizer_rf)\n",
    "    train_acc, train_loss, test_acc, test_loss = test_loop(train_dataloader_rf, test_dataloader_rf, model_rf, loss_fn)\n",
    "print(f\"Train Error: \\n Accuracy: {(train_acc):>0.1f}%, Avg loss: {train_loss:>8f}\")\n",
    "print(f\"Test Error: \\n Accuracy: {(test_acc):>0.1f}%, Avg loss: {test_loss:>8f}\")\n",
    "                                   "
   ]
  },
  {
   "cell_type": "code",
   "execution_count": 30,
   "id": "29cbb33d-de1f-4f3c-8692-dff73947f108",
   "metadata": {
    "tags": []
   },
   "outputs": [
    {
     "name": "stdout",
     "output_type": "stream",
     "text": [
      "Train Error: \n",
      " Accuracy: 95.5%, Avg loss: 0.153596\n",
      "Test Error: \n",
      " Accuracy: 94.1%, Avg loss: 0.207576\n"
     ]
    }
   ],
   "source": [
    "#run the code for ew\n",
    "epochs = 1000\n",
    "for t in range(epochs):\n",
    "    #print(f\"Epoch {t+1}\\n-------------------------------\")\n",
    "    train_loop(train_dataloader_ew, model_ew, loss_fn, optimizer_ew)\n",
    "    train_acc, train_loss, test_acc, test_loss = test_loop(train_dataloader_ew, test_dataloader_ew, model_ew, loss_fn)\n",
    "print(f\"Train Error: \\n Accuracy: {(train_acc):>0.1f}%, Avg loss: {train_loss:>8f}\")\n",
    "print(f\"Test Error: \\n Accuracy: {(test_acc):>0.1f}%, Avg loss: {test_loss:>8f}\")\n"
   ]
  },
  {
   "cell_type": "code",
   "execution_count": 31,
   "id": "a1a85dec-525a-42b2-8fdc-37387b099adb",
   "metadata": {
    "tags": []
   },
   "outputs": [
    {
     "name": "stdout",
     "output_type": "stream",
     "text": [
      "Train Error: \n",
      " Accuracy: 77.6%, Avg loss: 0.358743\n",
      "Test Error: \n",
      " Accuracy: 88.2%, Avg loss: 0.425380\n"
     ]
    }
   ],
   "source": [
    "#run the code for biochar\n",
    "epochs = 1000\n",
    "for t in range(epochs):\n",
    "    #print(f\"Epoch {t+1}\\n-------------------------------\")\n",
    "    train_loop(train_dataloader_bio, model_bio, loss_fn, optimizer_bio)\n",
    "    train_acc, train_loss, test_acc, test_loss = test_loop(train_dataloader_bio, test_dataloader_bio, model_bio, loss_fn)\n",
    "print(f\"Train Error: \\n Accuracy: {(train_acc):>0.1f}%, Avg loss: {train_loss:>8f}\")\n",
    "print(f\"Test Error: \\n Accuracy: {(test_acc):>0.1f}%, Avg loss: {test_loss:>8f}\")\n"
   ]
  },
  {
   "cell_type": "code",
   "execution_count": null,
   "id": "9d164b12-997a-4729-80e8-cfb280b25a46",
   "metadata": {},
   "outputs": [],
   "source": []
  },
  {
   "cell_type": "markdown",
   "id": "7Ar94TeCSV1e",
   "metadata": {
    "id": "7Ar94TeCSV1e"
   },
   "source": [
    "## Feed Forward ANN (MLPClassifier from sklearn)"
   ]
  },
  {
   "cell_type": "code",
   "execution_count": 32,
   "id": "cd191cda-1361-471d-b6b8-b440614a77bd",
   "metadata": {
    "tags": []
   },
   "outputs": [],
   "source": [
    "### Loss Function: Cross Entropy\n",
    "### Optimization: Adam\n",
    "### Learning Rate: 0.0001, ‘constant’\n",
    "### Batch Size: ‘auto’\n",
    "### Max Iterations: 300\n",
    "### Hidden Layer Size: 100 neurons"
   ]
  },
  {
   "cell_type": "code",
   "execution_count": 33,
   "id": "c978d58e-cdc1-488c-9d49-18148459864a",
   "metadata": {
    "colab": {
     "base_uri": "https://localhost:8080/"
    },
    "id": "c978d58e-cdc1-488c-9d49-18148459864a",
    "outputId": "0235c3f4-22d7-459e-905d-a4717f78bfe2"
   },
   "outputs": [
    {
     "name": "stderr",
     "output_type": "stream",
     "text": [
      "/Users/rachelholman/anaconda3/lib/python3.10/site-packages/sklearn/neural_network/_multilayer_perceptron.py:1098: DataConversionWarning: A column-vector y was passed when a 1d array was expected. Please change the shape of y to (n_samples, ), for example using ravel().\n",
      "  y = column_or_1d(y, warn=True)\n",
      "/Users/rachelholman/anaconda3/lib/python3.10/site-packages/sklearn/neural_network/_multilayer_perceptron.py:686: ConvergenceWarning: Stochastic Optimizer: Maximum iterations (300) reached and the optimization hasn't converged yet.\n",
      "  warnings.warn(\n",
      "/Users/rachelholman/anaconda3/lib/python3.10/site-packages/sklearn/neural_network/_multilayer_perceptron.py:1098: DataConversionWarning: A column-vector y was passed when a 1d array was expected. Please change the shape of y to (n_samples, ), for example using ravel().\n",
      "  y = column_or_1d(y, warn=True)\n",
      "/Users/rachelholman/anaconda3/lib/python3.10/site-packages/sklearn/neural_network/_multilayer_perceptron.py:686: ConvergenceWarning: Stochastic Optimizer: Maximum iterations (300) reached and the optimization hasn't converged yet.\n",
      "  warnings.warn(\n",
      "/Users/rachelholman/anaconda3/lib/python3.10/site-packages/sklearn/neural_network/_multilayer_perceptron.py:1098: DataConversionWarning: A column-vector y was passed when a 1d array was expected. Please change the shape of y to (n_samples, ), for example using ravel().\n",
      "  y = column_or_1d(y, warn=True)\n",
      "/Users/rachelholman/anaconda3/lib/python3.10/site-packages/sklearn/neural_network/_multilayer_perceptron.py:686: ConvergenceWarning: Stochastic Optimizer: Maximum iterations (300) reached and the optimization hasn't converged yet.\n",
      "  warnings.warn(\n"
     ]
    }
   ],
   "source": [
    "from sklearn.neural_network import MLPClassifier\n",
    "from sklearn.datasets import make_classification\n",
    "from sklearn.model_selection import train_test_split\n",
    "\n",
    "clf_rf = MLPClassifier(random_state=1, max_iter=300).fit(X_train_rf, y_train_rf)\n",
    "clf_ew = MLPClassifier(random_state=1, max_iter=300).fit(X_train_ew, y_train_ew)\n",
    "clf_bio = MLPClassifier(random_state=1, max_iter=300).fit(X_train_bio, y_train_bio)"
   ]
  },
  {
   "cell_type": "raw",
   "id": "d9baa05d-abd9-4aad-9173-5808128c13bc",
   "metadata": {
    "tags": []
   },
   "source": [
    "clf_rf.predict_proba(X_test_rf)"
   ]
  },
  {
   "cell_type": "code",
   "execution_count": 34,
   "id": "427230f5-a979-4716-a2dc-541bf4088c77",
   "metadata": {
    "colab": {
     "base_uri": "https://localhost:8080/"
    },
    "id": "427230f5-a979-4716-a2dc-541bf4088c77",
    "outputId": "a50fd1ba-1493-41d5-e73e-93a756c80abb"
   },
   "outputs": [
    {
     "data": {
      "text/plain": [
       "array([1, 1, 2, 0, 1, 1, 0, 0, 0, 1, 2, 1, 1, 1, 2, 1, 0])"
      ]
     },
     "execution_count": 34,
     "metadata": {},
     "output_type": "execute_result"
    }
   ],
   "source": [
    "y_pred_rf = clf_rf.predict(X_test_rf)\n",
    "y_pred_ew = clf_ew.predict(X_test_ew)\n",
    "y_pred_bio = clf_bio.predict(X_test_bio)\n",
    "y_pred_rf"
   ]
  },
  {
   "cell_type": "raw",
   "id": "707ecae8-56a3-4a2b-bfac-71f2795eb0a1",
   "metadata": {
    "tags": []
   },
   "source": [
    "y_val"
   ]
  },
  {
   "cell_type": "code",
   "execution_count": 35,
   "id": "7efee276-c012-4871-9121-2e438315a494",
   "metadata": {
    "colab": {
     "base_uri": "https://localhost:8080/"
    },
    "id": "7efee276-c012-4871-9121-2e438315a494",
    "outputId": "5cfb355b-bcec-4502-82dc-4ce42e75cbd2"
   },
   "outputs": [
    {
     "name": "stdout",
     "output_type": "stream",
     "text": [
      "Reforestation Accuracy: 0.9411764705882353 \n",
      "\n",
      "EW Accuracy: 0.9411764705882353 \n",
      "\n",
      "Biochar Accuracy: 1.0 \n",
      "\n"
     ]
    }
   ],
   "source": [
    "print(\"Reforestation Accuracy:\", accuracy_score(y_test_rf, y_pred_rf), '\\n')\n",
    "print(\"EW Accuracy:\", accuracy_score(y_test_ew, y_pred_ew), '\\n')\n",
    "print(\"Biochar Accuracy:\", accuracy_score(y_test_bio, y_pred_bio), '\\n')"
   ]
  },
  {
   "cell_type": "code",
   "execution_count": 36,
   "id": "bfdb17b5-0f39-4fe1-abac-fcde080c4565",
   "metadata": {
    "tags": []
   },
   "outputs": [],
   "source": [
    "#new version made with the exact same params as the simple ANN\n",
    "\n",
    "### Loss Function: Cross Entropy\n",
    "### Optimization: SVG\n",
    "### Learning Rate: 0.005, ‘constant’\n",
    "### Batch Size: 16\n",
    "### Max Iterations: 1000 (mimicking epochs)\n",
    "### Hidden Layer Size: 500 neurons\n",
    "### Activation: tanh"
   ]
  },
  {
   "cell_type": "code",
   "execution_count": 37,
   "id": "b0e4c598-8e3b-4743-a556-17b9431679cc",
   "metadata": {},
   "outputs": [
    {
     "name": "stderr",
     "output_type": "stream",
     "text": [
      "/Users/rachelholman/anaconda3/lib/python3.10/site-packages/sklearn/neural_network/_multilayer_perceptron.py:1098: DataConversionWarning: A column-vector y was passed when a 1d array was expected. Please change the shape of y to (n_samples, ), for example using ravel().\n",
      "  y = column_or_1d(y, warn=True)\n",
      "/Users/rachelholman/anaconda3/lib/python3.10/site-packages/sklearn/neural_network/_multilayer_perceptron.py:686: ConvergenceWarning: Stochastic Optimizer: Maximum iterations (1000) reached and the optimization hasn't converged yet.\n",
      "  warnings.warn(\n",
      "/Users/rachelholman/anaconda3/lib/python3.10/site-packages/sklearn/neural_network/_multilayer_perceptron.py:1098: DataConversionWarning: A column-vector y was passed when a 1d array was expected. Please change the shape of y to (n_samples, ), for example using ravel().\n",
      "  y = column_or_1d(y, warn=True)\n",
      "/Users/rachelholman/anaconda3/lib/python3.10/site-packages/sklearn/neural_network/_multilayer_perceptron.py:686: ConvergenceWarning: Stochastic Optimizer: Maximum iterations (1000) reached and the optimization hasn't converged yet.\n",
      "  warnings.warn(\n",
      "/Users/rachelholman/anaconda3/lib/python3.10/site-packages/sklearn/neural_network/_multilayer_perceptron.py:1098: DataConversionWarning: A column-vector y was passed when a 1d array was expected. Please change the shape of y to (n_samples, ), for example using ravel().\n",
      "  y = column_or_1d(y, warn=True)\n",
      "/Users/rachelholman/anaconda3/lib/python3.10/site-packages/sklearn/neural_network/_multilayer_perceptron.py:686: ConvergenceWarning: Stochastic Optimizer: Maximum iterations (1000) reached and the optimization hasn't converged yet.\n",
      "  warnings.warn(\n"
     ]
    }
   ],
   "source": [
    "clf_rf2 = MLPClassifier(random_state=1, max_iter=1000, activation='tanh', \n",
    "                        solver='sgd', alpha=0.01, hidden_layer_sizes=(500,),\n",
    "                       batch_size=16).fit(X_train_rf, y_train_rf)\n",
    "clf_ew2 = MLPClassifier(random_state=1, max_iter=1000, activation='tanh', \n",
    "                        solver='sgd', alpha=0.01, hidden_layer_sizes=(500,),\n",
    "                       batch_size=16).fit(X_train_ew, y_train_ew)\n",
    "clf_bio2 = MLPClassifier(random_state=1, max_iter=1000, activation='tanh', \n",
    "                        solver='sgd', alpha=0.01, hidden_layer_sizes=(500,),\n",
    "                       batch_size=16).fit(X_train_bio, y_train_bio)"
   ]
  },
  {
   "cell_type": "code",
   "execution_count": 38,
   "id": "7eacc523-eda4-44a0-9837-f1f74f64b6f4",
   "metadata": {},
   "outputs": [],
   "source": [
    "y_pred_rf2 = clf_rf2.predict(X_test_rf)\n",
    "y_pred_ew2 = clf_ew2.predict(X_test_ew)\n",
    "y_pred_bio2 = clf_bio2.predict(X_test_bio)"
   ]
  },
  {
   "cell_type": "code",
   "execution_count": 39,
   "id": "d4b03b52-77a0-448e-8dd0-f501a63b56c2",
   "metadata": {},
   "outputs": [
    {
     "name": "stdout",
     "output_type": "stream",
     "text": [
      "Reforestation Accuracy: 0.9411764705882353 \n",
      "\n",
      "EW Accuracy: 0.9411764705882353 \n",
      "\n",
      "Biochar Accuracy: 1.0 \n",
      "\n"
     ]
    }
   ],
   "source": [
    "print(\"Reforestation Accuracy:\", accuracy_score(y_test_rf, y_pred_rf2), '\\n')\n",
    "print(\"EW Accuracy:\", accuracy_score(y_test_ew, y_pred_ew2), '\\n')\n",
    "print(\"Biochar Accuracy:\", accuracy_score(y_test_bio, y_pred_bio2), '\\n')"
   ]
  },
  {
   "cell_type": "code",
   "execution_count": 40,
   "id": "20cdb045-13ae-47ab-b1be-42a9a1ba31a4",
   "metadata": {},
   "outputs": [],
   "source": [
    "# testing what would make MLPClassifier have worse accuracy\n",
    "# note: smaller max_iter = worse performance. higher max_iter = performance levels out at a point\n",
    "\n",
    "# max_iter = 1000: accuracies rf=94%, ew=94%, bio=100%\n",
    "# max_iter = 500: accuracies rf=94%, ew=94%, bio=100%\n",
    "# max_iter = 100: accuracies rf=76%, ew=100%, bio=54%\n",
    "# max_iter = 50: accuracies rf=58%, ew=58%, bio=41%"
   ]
  },
  {
   "cell_type": "code",
   "execution_count": 41,
   "id": "dcff7d17-39a6-4b1a-aab2-8a893fbbb4ed",
   "metadata": {
    "tags": []
   },
   "outputs": [
    {
     "name": "stderr",
     "output_type": "stream",
     "text": [
      "/Users/rachelholman/anaconda3/lib/python3.10/site-packages/sklearn/neural_network/_multilayer_perceptron.py:1098: DataConversionWarning: A column-vector y was passed when a 1d array was expected. Please change the shape of y to (n_samples, ), for example using ravel().\n",
      "  y = column_or_1d(y, warn=True)\n",
      "/Users/rachelholman/anaconda3/lib/python3.10/site-packages/sklearn/neural_network/_multilayer_perceptron.py:686: ConvergenceWarning: Stochastic Optimizer: Maximum iterations (100) reached and the optimization hasn't converged yet.\n",
      "  warnings.warn(\n",
      "/Users/rachelholman/anaconda3/lib/python3.10/site-packages/sklearn/neural_network/_multilayer_perceptron.py:1098: DataConversionWarning: A column-vector y was passed when a 1d array was expected. Please change the shape of y to (n_samples, ), for example using ravel().\n",
      "  y = column_or_1d(y, warn=True)\n",
      "/Users/rachelholman/anaconda3/lib/python3.10/site-packages/sklearn/neural_network/_multilayer_perceptron.py:686: ConvergenceWarning: Stochastic Optimizer: Maximum iterations (100) reached and the optimization hasn't converged yet.\n",
      "  warnings.warn(\n",
      "/Users/rachelholman/anaconda3/lib/python3.10/site-packages/sklearn/neural_network/_multilayer_perceptron.py:1098: DataConversionWarning: A column-vector y was passed when a 1d array was expected. Please change the shape of y to (n_samples, ), for example using ravel().\n",
      "  y = column_or_1d(y, warn=True)\n",
      "/Users/rachelholman/anaconda3/lib/python3.10/site-packages/sklearn/neural_network/_multilayer_perceptron.py:686: ConvergenceWarning: Stochastic Optimizer: Maximum iterations (100) reached and the optimization hasn't converged yet.\n",
      "  warnings.warn(\n",
      "/Users/rachelholman/anaconda3/lib/python3.10/site-packages/sklearn/neural_network/_multilayer_perceptron.py:1098: DataConversionWarning: A column-vector y was passed when a 1d array was expected. Please change the shape of y to (n_samples, ), for example using ravel().\n",
      "  y = column_or_1d(y, warn=True)\n",
      "/Users/rachelholman/anaconda3/lib/python3.10/site-packages/sklearn/neural_network/_multilayer_perceptron.py:686: ConvergenceWarning: Stochastic Optimizer: Maximum iterations (100) reached and the optimization hasn't converged yet.\n",
      "  warnings.warn(\n",
      "/Users/rachelholman/anaconda3/lib/python3.10/site-packages/sklearn/neural_network/_multilayer_perceptron.py:1098: DataConversionWarning: A column-vector y was passed when a 1d array was expected. Please change the shape of y to (n_samples, ), for example using ravel().\n",
      "  y = column_or_1d(y, warn=True)\n",
      "/Users/rachelholman/anaconda3/lib/python3.10/site-packages/sklearn/neural_network/_multilayer_perceptron.py:686: ConvergenceWarning: Stochastic Optimizer: Maximum iterations (100) reached and the optimization hasn't converged yet.\n",
      "  warnings.warn(\n"
     ]
    }
   ],
   "source": [
    "clf_rf3 = MLPClassifier(random_state=1, max_iter=100, activation='tanh', \n",
    "                        solver='sgd', alpha=0.01, hidden_layer_sizes=(500,),\n",
    "                       batch_size=16).fit(X_train_rf, y_train_rf)\n",
    "clf_ew3 = MLPClassifier(random_state=1, max_iter=100, activation='tanh', \n",
    "                        solver='sgd', alpha=0.01, hidden_layer_sizes=(500,),\n",
    "                       batch_size=16).fit(X_train_rf, y_train_rf).fit(X_train_ew, y_train_ew)\n",
    "clf_bio3 = MLPClassifier(random_state=1, max_iter=100, activation='tanh', \n",
    "                        solver='sgd', alpha=0.01, hidden_layer_sizes=(500,),\n",
    "                       batch_size=16).fit(X_train_rf, y_train_rf).fit(X_train_bio, y_train_bio)"
   ]
  },
  {
   "cell_type": "code",
   "execution_count": 42,
   "id": "cf7ad87f-4385-4d28-a10c-c96be93f1c8e",
   "metadata": {
    "tags": []
   },
   "outputs": [],
   "source": [
    "y_pred_rf3 = clf_rf3.predict(X_test_rf)\n",
    "y_pred_ew3 = clf_ew3.predict(X_test_ew)\n",
    "y_pred_bio3 = clf_bio3.predict(X_test_bio)"
   ]
  },
  {
   "cell_type": "code",
   "execution_count": 43,
   "id": "3144fda2-bac8-4c98-a9a3-4bdd67a5b5a9",
   "metadata": {
    "tags": []
   },
   "outputs": [
    {
     "name": "stdout",
     "output_type": "stream",
     "text": [
      "Reforestation Accuracy: 0.7647058823529411 \n",
      "\n",
      "EW Accuracy: 1.0 \n",
      "\n",
      "Biochar Accuracy: 0.5882352941176471 \n",
      "\n"
     ]
    }
   ],
   "source": [
    "print(\"Reforestation Accuracy:\", accuracy_score(y_test_rf, y_pred_rf3), '\\n')\n",
    "print(\"EW Accuracy:\", accuracy_score(y_test_ew, y_pred_ew3), '\\n')\n",
    "print(\"Biochar Accuracy:\", accuracy_score(y_test_bio, y_pred_bio3), '\\n')"
   ]
  },
  {
   "cell_type": "code",
   "execution_count": null,
   "id": "f285222d-5f32-4785-a8ca-7491e78aca83",
   "metadata": {},
   "outputs": [],
   "source": []
  },
  {
   "cell_type": "code",
   "execution_count": 44,
   "id": "e3fe2889-9eb0-45ae-9206-2429e318c57f",
   "metadata": {
    "tags": []
   },
   "outputs": [
    {
     "name": "stderr",
     "output_type": "stream",
     "text": [
      "/Users/rachelholman/anaconda3/lib/python3.10/site-packages/sklearn/neural_network/_multilayer_perceptron.py:1098: DataConversionWarning: A column-vector y was passed when a 1d array was expected. Please change the shape of y to (n_samples, ), for example using ravel().\n",
      "  y = column_or_1d(y, warn=True)\n",
      "/Users/rachelholman/anaconda3/lib/python3.10/site-packages/sklearn/neural_network/_multilayer_perceptron.py:686: ConvergenceWarning: Stochastic Optimizer: Maximum iterations (50) reached and the optimization hasn't converged yet.\n",
      "  warnings.warn(\n",
      "/Users/rachelholman/anaconda3/lib/python3.10/site-packages/sklearn/neural_network/_multilayer_perceptron.py:1098: DataConversionWarning: A column-vector y was passed when a 1d array was expected. Please change the shape of y to (n_samples, ), for example using ravel().\n",
      "  y = column_or_1d(y, warn=True)\n",
      "/Users/rachelholman/anaconda3/lib/python3.10/site-packages/sklearn/neural_network/_multilayer_perceptron.py:686: ConvergenceWarning: Stochastic Optimizer: Maximum iterations (50) reached and the optimization hasn't converged yet.\n",
      "  warnings.warn(\n",
      "/Users/rachelholman/anaconda3/lib/python3.10/site-packages/sklearn/neural_network/_multilayer_perceptron.py:1098: DataConversionWarning: A column-vector y was passed when a 1d array was expected. Please change the shape of y to (n_samples, ), for example using ravel().\n",
      "  y = column_or_1d(y, warn=True)\n",
      "/Users/rachelholman/anaconda3/lib/python3.10/site-packages/sklearn/neural_network/_multilayer_perceptron.py:686: ConvergenceWarning: Stochastic Optimizer: Maximum iterations (50) reached and the optimization hasn't converged yet.\n",
      "  warnings.warn(\n"
     ]
    }
   ],
   "source": [
    "clf_rf4 = MLPClassifier(random_state=1, max_iter=50, activation='tanh', \n",
    "                        solver='sgd', alpha=0.01, hidden_layer_sizes=(500,),\n",
    "                       batch_size=16).fit(X_train_rf, y_train_rf)\n",
    "clf_ew4 = MLPClassifier(random_state=1, max_iter=50, activation='tanh', \n",
    "                        solver='sgd', alpha=0.01, hidden_layer_sizes=(500,),\n",
    "                       batch_size=16).fit(X_train_ew, y_train_ew)\n",
    "clf_bio4 = MLPClassifier(random_state=1, max_iter=50, activation='tanh', \n",
    "                        solver='sgd', alpha=0.01, hidden_layer_sizes=(500,),\n",
    "                       batch_size=16).fit(X_train_bio, y_train_bio)"
   ]
  },
  {
   "cell_type": "code",
   "execution_count": 45,
   "id": "062e42ad-a039-42e1-b6d6-d8608a266b22",
   "metadata": {
    "tags": []
   },
   "outputs": [],
   "source": [
    "y_pred_rf4 = clf_rf4.predict(X_test_rf)\n",
    "y_pred_ew4 = clf_ew4.predict(X_test_ew)\n",
    "y_pred_bio4 = clf_bio4.predict(X_test_bio)"
   ]
  },
  {
   "cell_type": "code",
   "execution_count": 46,
   "id": "4d414319-67b5-4de6-a720-7379176ed3d0",
   "metadata": {
    "tags": []
   },
   "outputs": [
    {
     "name": "stdout",
     "output_type": "stream",
     "text": [
      "Reforestation Accuracy: 0.5882352941176471 \n",
      "\n",
      "EW Accuracy: 0.5882352941176471 \n",
      "\n",
      "Biochar Accuracy: 0.4117647058823529 \n",
      "\n"
     ]
    }
   ],
   "source": [
    "print(\"Reforestation Accuracy:\", accuracy_score(y_test_rf, y_pred_rf4), '\\n')\n",
    "print(\"EW Accuracy:\", accuracy_score(y_test_ew, y_pred_ew4), '\\n')\n",
    "print(\"Biochar Accuracy:\", accuracy_score(y_test_bio, y_pred_bio4), '\\n')"
   ]
  },
  {
   "cell_type": "code",
   "execution_count": 47,
   "id": "d55aead8-9bfc-4d0b-8fb9-227e7c9e8162",
   "metadata": {},
   "outputs": [],
   "source": [
    "# now testing hidden layer size impact\n",
    "# lower hidden_layer_sizes = lower accuracy, higher hidden_layer_sizes = performance levels out at a point\n",
    "\n",
    "# hidden_layer_sizes = 100: accuracies rf=94%, ew=94%, bio=100%\n",
    "# hidden_layer_sizes = 500: accuracies rf=94%, ew=94%, bio=100%\n",
    "# hidden_layer_sizes = 20: accuracies rf=94%, ew=94%, bio=94%\n",
    "# hidden_layer_sizes = 3: accuracies rf=82%, ew=94%, bio=76%"
   ]
  },
  {
   "cell_type": "code",
   "execution_count": 48,
   "id": "e288c37b-7268-4202-886b-cb06af57f528",
   "metadata": {
    "tags": []
   },
   "outputs": [
    {
     "name": "stderr",
     "output_type": "stream",
     "text": [
      "/Users/rachelholman/anaconda3/lib/python3.10/site-packages/sklearn/neural_network/_multilayer_perceptron.py:1098: DataConversionWarning: A column-vector y was passed when a 1d array was expected. Please change the shape of y to (n_samples, ), for example using ravel().\n",
      "  y = column_or_1d(y, warn=True)\n",
      "/Users/rachelholman/anaconda3/lib/python3.10/site-packages/sklearn/neural_network/_multilayer_perceptron.py:686: ConvergenceWarning: Stochastic Optimizer: Maximum iterations (500) reached and the optimization hasn't converged yet.\n",
      "  warnings.warn(\n",
      "/Users/rachelholman/anaconda3/lib/python3.10/site-packages/sklearn/neural_network/_multilayer_perceptron.py:1098: DataConversionWarning: A column-vector y was passed when a 1d array was expected. Please change the shape of y to (n_samples, ), for example using ravel().\n",
      "  y = column_or_1d(y, warn=True)\n",
      "/Users/rachelholman/anaconda3/lib/python3.10/site-packages/sklearn/neural_network/_multilayer_perceptron.py:686: ConvergenceWarning: Stochastic Optimizer: Maximum iterations (500) reached and the optimization hasn't converged yet.\n",
      "  warnings.warn(\n",
      "/Users/rachelholman/anaconda3/lib/python3.10/site-packages/sklearn/neural_network/_multilayer_perceptron.py:1098: DataConversionWarning: A column-vector y was passed when a 1d array was expected. Please change the shape of y to (n_samples, ), for example using ravel().\n",
      "  y = column_or_1d(y, warn=True)\n",
      "/Users/rachelholman/anaconda3/lib/python3.10/site-packages/sklearn/neural_network/_multilayer_perceptron.py:686: ConvergenceWarning: Stochastic Optimizer: Maximum iterations (500) reached and the optimization hasn't converged yet.\n",
      "  warnings.warn(\n"
     ]
    }
   ],
   "source": [
    "clf_rf5 = MLPClassifier(random_state=1, max_iter=500, activation='tanh', \n",
    "                        solver='sgd', alpha=0.01, hidden_layer_sizes=(20,),\n",
    "                       batch_size=16).fit(X_train_rf, y_train_rf)\n",
    "clf_ew5 = MLPClassifier(random_state=1, max_iter=500, activation='tanh', \n",
    "                        solver='sgd', alpha=0.01, hidden_layer_sizes=(20,),\n",
    "                       batch_size=16).fit(X_train_ew, y_train_ew)\n",
    "clf_bio5 = MLPClassifier(random_state=1, max_iter=500, activation='tanh', \n",
    "                        solver='sgd', alpha=0.01, hidden_layer_sizes=(20,),\n",
    "                       batch_size=16).fit(X_train_bio, y_train_bio)"
   ]
  },
  {
   "cell_type": "code",
   "execution_count": 49,
   "id": "cafa33fc-156d-4e31-949d-a2baa71be951",
   "metadata": {
    "tags": []
   },
   "outputs": [],
   "source": [
    "y_pred_rf5 = clf_rf5.predict(X_test_rf)\n",
    "y_pred_ew5 = clf_ew5.predict(X_test_ew)\n",
    "y_pred_bio5 = clf_bio5.predict(X_test_bio)"
   ]
  },
  {
   "cell_type": "code",
   "execution_count": 50,
   "id": "ec0ed3c8-a362-4c9a-878b-73b85a7d2682",
   "metadata": {
    "tags": []
   },
   "outputs": [
    {
     "name": "stdout",
     "output_type": "stream",
     "text": [
      "Reforestation Accuracy: 0.9411764705882353 \n",
      "\n",
      "EW Accuracy: 0.9411764705882353 \n",
      "\n",
      "Biochar Accuracy: 0.9411764705882353 \n",
      "\n"
     ]
    }
   ],
   "source": [
    "print(\"Reforestation Accuracy:\", accuracy_score(y_test_rf, y_pred_rf5), '\\n')\n",
    "print(\"EW Accuracy:\", accuracy_score(y_test_ew, y_pred_ew5), '\\n')\n",
    "print(\"Biochar Accuracy:\", accuracy_score(y_test_bio, y_pred_bio5), '\\n')"
   ]
  },
  {
   "cell_type": "code",
   "execution_count": null,
   "id": "21c78913-4c48-4f16-b344-34dac1c16394",
   "metadata": {},
   "outputs": [],
   "source": []
  },
  {
   "cell_type": "code",
   "execution_count": 51,
   "id": "b808e2f1-d948-41ec-8e73-26e73b53b739",
   "metadata": {
    "tags": []
   },
   "outputs": [
    {
     "name": "stderr",
     "output_type": "stream",
     "text": [
      "/Users/rachelholman/anaconda3/lib/python3.10/site-packages/sklearn/neural_network/_multilayer_perceptron.py:1098: DataConversionWarning: A column-vector y was passed when a 1d array was expected. Please change the shape of y to (n_samples, ), for example using ravel().\n",
      "  y = column_or_1d(y, warn=True)\n",
      "/Users/rachelholman/anaconda3/lib/python3.10/site-packages/sklearn/neural_network/_multilayer_perceptron.py:686: ConvergenceWarning: Stochastic Optimizer: Maximum iterations (500) reached and the optimization hasn't converged yet.\n",
      "  warnings.warn(\n",
      "/Users/rachelholman/anaconda3/lib/python3.10/site-packages/sklearn/neural_network/_multilayer_perceptron.py:1098: DataConversionWarning: A column-vector y was passed when a 1d array was expected. Please change the shape of y to (n_samples, ), for example using ravel().\n",
      "  y = column_or_1d(y, warn=True)\n",
      "/Users/rachelholman/anaconda3/lib/python3.10/site-packages/sklearn/neural_network/_multilayer_perceptron.py:686: ConvergenceWarning: Stochastic Optimizer: Maximum iterations (500) reached and the optimization hasn't converged yet.\n",
      "  warnings.warn(\n",
      "/Users/rachelholman/anaconda3/lib/python3.10/site-packages/sklearn/neural_network/_multilayer_perceptron.py:1098: DataConversionWarning: A column-vector y was passed when a 1d array was expected. Please change the shape of y to (n_samples, ), for example using ravel().\n",
      "  y = column_or_1d(y, warn=True)\n",
      "/Users/rachelholman/anaconda3/lib/python3.10/site-packages/sklearn/neural_network/_multilayer_perceptron.py:686: ConvergenceWarning: Stochastic Optimizer: Maximum iterations (500) reached and the optimization hasn't converged yet.\n",
      "  warnings.warn(\n"
     ]
    }
   ],
   "source": [
    "clf_rf6 = MLPClassifier(random_state=1, max_iter=500, activation='tanh', \n",
    "                        solver='sgd', alpha=0.01, hidden_layer_sizes=(3,),\n",
    "                       batch_size=16).fit(X_train_rf, y_train_rf)\n",
    "clf_ew6 = MLPClassifier(random_state=1, max_iter=500, activation='tanh', \n",
    "                        solver='sgd', alpha=0.01, hidden_layer_sizes=(3,),\n",
    "                       batch_size=16).fit(X_train_ew, y_train_ew)\n",
    "clf_bio6 = MLPClassifier(random_state=1, max_iter=500, activation='tanh', \n",
    "                        solver='sgd', alpha=0.01, hidden_layer_sizes=(3,),\n",
    "                       batch_size=16).fit(X_train_bio, y_train_bio)"
   ]
  },
  {
   "cell_type": "code",
   "execution_count": 52,
   "id": "e19ee117-b914-4c15-932c-f4cc04534ace",
   "metadata": {
    "tags": []
   },
   "outputs": [],
   "source": [
    "y_pred_rf6 = clf_rf6.predict(X_test_rf)\n",
    "y_pred_ew6 = clf_ew6.predict(X_test_ew)\n",
    "y_pred_bio6 = clf_bio6.predict(X_test_bio)"
   ]
  },
  {
   "cell_type": "code",
   "execution_count": 53,
   "id": "6f13e6a9-d2df-47e6-9a10-b15162475e28",
   "metadata": {
    "tags": []
   },
   "outputs": [
    {
     "name": "stdout",
     "output_type": "stream",
     "text": [
      "Reforestation Accuracy: 0.8235294117647058 \n",
      "\n",
      "EW Accuracy: 0.9411764705882353 \n",
      "\n",
      "Biochar Accuracy: 0.7647058823529411 \n",
      "\n"
     ]
    }
   ],
   "source": [
    "print(\"Reforestation Accuracy:\", accuracy_score(y_test_rf, y_pred_rf6), '\\n')\n",
    "print(\"EW Accuracy:\", accuracy_score(y_test_ew, y_pred_ew6), '\\n')\n",
    "print(\"Biochar Accuracy:\", accuracy_score(y_test_bio, y_pred_bio6), '\\n')"
   ]
  },
  {
   "cell_type": "code",
   "execution_count": null,
   "id": "e5843bf6-f97b-41fd-b64f-d8b9988e0b8a",
   "metadata": {},
   "outputs": [],
   "source": [
    "# changing activation function and solver had no impact on accuracy\n",
    "# changing alpha value (learning rate) had very little to no impact on accuracy"
   ]
  },
  {
   "cell_type": "code",
   "execution_count": null,
   "id": "bb354469-cfc1-4ec5-95de-37d9ec9f6134",
   "metadata": {},
   "outputs": [],
   "source": []
  },
  {
   "cell_type": "markdown",
   "id": "ed10c042-ae20-469d-bbec-6ff48fe340c1",
   "metadata": {
    "id": "9gOkZB0fT97T"
   },
   "source": [
    "# Deep and Cross Neural Net"
   ]
  },
  {
   "cell_type": "code",
   "execution_count": 54,
   "id": "sL5NxjegT99l",
   "metadata": {
    "id": "sL5NxjegT99l"
   },
   "outputs": [],
   "source": [
    "# TBD"
   ]
  },
  {
   "cell_type": "code",
   "execution_count": null,
   "id": "IjiMa42YT9_9",
   "metadata": {
    "id": "IjiMa42YT9_9"
   },
   "outputs": [],
   "source": []
  },
  {
   "cell_type": "markdown",
   "id": "0774bcdb-4da0-4d0b-a5a1-c6f250986931",
   "metadata": {},
   "source": [
    "# Visuals"
   ]
  },
  {
   "cell_type": "code",
   "execution_count": 55,
   "id": "32dfc736-82a7-4928-a373-022b9c9e7e0f",
   "metadata": {
    "tags": []
   },
   "outputs": [],
   "source": [
    "rf_dict = {0:'Suitable',\n",
    "          1: 'Possible',\n",
    "          2: 'Highly Suitable',\n",
    "          3: 'Unsuitable'}"
   ]
  },
  {
   "cell_type": "code",
   "execution_count": 56,
   "id": "8088508e-8815-4a95-9310-f187379909fc",
   "metadata": {
    "tags": []
   },
   "outputs": [],
   "source": [
    "ew_dict = {0:'Highly Suitable',\n",
    "          1: 'Suitable',\n",
    "          2: 'Unsuitable',\n",
    "          3: 'Possible'}"
   ]
  },
  {
   "cell_type": "code",
   "execution_count": 57,
   "id": "b08e969e-efba-43d5-a501-e9f53053027d",
   "metadata": {
    "tags": []
   },
   "outputs": [],
   "source": [
    "bio_dict = {0:'Highly Suitable',\n",
    "          1: 'Possible',\n",
    "          2: 'Unsuitable',\n",
    "          3: 'Suitable'}"
   ]
  },
  {
   "cell_type": "code",
   "execution_count": 58,
   "id": "7b78e11e-03ba-43ea-93c5-6ee17a3ce74f",
   "metadata": {
    "tags": []
   },
   "outputs": [],
   "source": [
    "dataset_val_rf = dataset_val[cols_rf]\n",
    "dataset_val_ew = dataset_val[cols_ew]\n",
    "dataset_val_bio = dataset_val[cols_bio]"
   ]
  },
  {
   "cell_type": "code",
   "execution_count": 59,
   "id": "d04dca3a-a8af-4a9a-aaa8-8cde990991a6",
   "metadata": {
    "tags": []
   },
   "outputs": [
    {
     "data": {
      "text/html": [
       "<div>\n",
       "<style scoped>\n",
       "    .dataframe tbody tr th:only-of-type {\n",
       "        vertical-align: middle;\n",
       "    }\n",
       "\n",
       "    .dataframe tbody tr th {\n",
       "        vertical-align: top;\n",
       "    }\n",
       "\n",
       "    .dataframe thead th {\n",
       "        text-align: right;\n",
       "    }\n",
       "</style>\n",
       "<table border=\"1\" class=\"dataframe\">\n",
       "  <thead>\n",
       "    <tr style=\"text-align: right;\">\n",
       "      <th></th>\n",
       "      <th>Reforestation</th>\n",
       "      <th>EW</th>\n",
       "      <th>Biochar</th>\n",
       "    </tr>\n",
       "  </thead>\n",
       "  <tbody>\n",
       "    <tr>\n",
       "      <th>0</th>\n",
       "      <td>0</td>\n",
       "      <td>0</td>\n",
       "      <td>1</td>\n",
       "    </tr>\n",
       "    <tr>\n",
       "      <th>1</th>\n",
       "      <td>0</td>\n",
       "      <td>0</td>\n",
       "      <td>3</td>\n",
       "    </tr>\n",
       "    <tr>\n",
       "      <th>2</th>\n",
       "      <td>1</td>\n",
       "      <td>1</td>\n",
       "      <td>0</td>\n",
       "    </tr>\n",
       "    <tr>\n",
       "      <th>3</th>\n",
       "      <td>0</td>\n",
       "      <td>0</td>\n",
       "      <td>1</td>\n",
       "    </tr>\n",
       "    <tr>\n",
       "      <th>4</th>\n",
       "      <td>1</td>\n",
       "      <td>1</td>\n",
       "      <td>3</td>\n",
       "    </tr>\n",
       "    <tr>\n",
       "      <th>5</th>\n",
       "      <td>1</td>\n",
       "      <td>1</td>\n",
       "      <td>3</td>\n",
       "    </tr>\n",
       "  </tbody>\n",
       "</table>\n",
       "</div>"
      ],
      "text/plain": [
       "   Reforestation  EW  Biochar\n",
       "0              0   0        1\n",
       "1              0   0        3\n",
       "2              1   1        0\n",
       "3              0   0        1\n",
       "4              1   1        3\n",
       "5              1   1        3"
      ]
     },
     "execution_count": 59,
     "metadata": {},
     "output_type": "execute_result"
    }
   ],
   "source": [
    "rf_vals = clf_rf.predict(dataset_val_rf)\n",
    "ew_vals = clf_ew.predict(dataset_val_ew)\n",
    "bio_vals = clf_bio.predict(dataset_val_bio)\n",
    "\n",
    "data = {'Reforestation' : rf_vals,\n",
    "        'EW' : ew_vals,\n",
    "        'Biochar' : bio_vals\n",
    "}\n",
    "\n",
    "df = pd.DataFrame(data)\n",
    "df"
   ]
  },
  {
   "cell_type": "code",
   "execution_count": 60,
   "id": "32ea1a1f-817c-4275-8f4a-1de63e261063",
   "metadata": {
    "tags": []
   },
   "outputs": [
    {
     "data": {
      "text/html": [
       "<div>\n",
       "<style scoped>\n",
       "    .dataframe tbody tr th:only-of-type {\n",
       "        vertical-align: middle;\n",
       "    }\n",
       "\n",
       "    .dataframe tbody tr th {\n",
       "        vertical-align: top;\n",
       "    }\n",
       "\n",
       "    .dataframe thead th {\n",
       "        text-align: right;\n",
       "    }\n",
       "</style>\n",
       "<table border=\"1\" class=\"dataframe\">\n",
       "  <thead>\n",
       "    <tr style=\"text-align: right;\">\n",
       "      <th></th>\n",
       "      <th>Reforestation</th>\n",
       "      <th>EW</th>\n",
       "      <th>Biochar</th>\n",
       "    </tr>\n",
       "  </thead>\n",
       "  <tbody>\n",
       "    <tr>\n",
       "      <th>51001</th>\n",
       "      <td>Suitable</td>\n",
       "      <td>Highly Suitable</td>\n",
       "      <td>Possible</td>\n",
       "    </tr>\n",
       "    <tr>\n",
       "      <th>51061</th>\n",
       "      <td>Suitable</td>\n",
       "      <td>Highly Suitable</td>\n",
       "      <td>Suitable</td>\n",
       "    </tr>\n",
       "    <tr>\n",
       "      <th>51081</th>\n",
       "      <td>Possible</td>\n",
       "      <td>Suitable</td>\n",
       "      <td>Highly Suitable</td>\n",
       "    </tr>\n",
       "    <tr>\n",
       "      <th>51085</th>\n",
       "      <td>Suitable</td>\n",
       "      <td>Highly Suitable</td>\n",
       "      <td>Possible</td>\n",
       "    </tr>\n",
       "    <tr>\n",
       "      <th>51165</th>\n",
       "      <td>Possible</td>\n",
       "      <td>Suitable</td>\n",
       "      <td>Suitable</td>\n",
       "    </tr>\n",
       "    <tr>\n",
       "      <th>51195</th>\n",
       "      <td>Possible</td>\n",
       "      <td>Suitable</td>\n",
       "      <td>Suitable</td>\n",
       "    </tr>\n",
       "  </tbody>\n",
       "</table>\n",
       "</div>"
      ],
      "text/plain": [
       "      Reforestation               EW          Biochar\n",
       "51001      Suitable  Highly Suitable         Possible\n",
       "51061      Suitable  Highly Suitable         Suitable\n",
       "51081      Possible         Suitable  Highly Suitable\n",
       "51085      Suitable  Highly Suitable         Possible\n",
       "51165      Possible         Suitable         Suitable\n",
       "51195      Possible         Suitable         Suitable"
      ]
     },
     "execution_count": 60,
     "metadata": {},
     "output_type": "execute_result"
    }
   ],
   "source": [
    "df.Reforestation = df.Reforestation.map(rf_dict)\n",
    "df.EW = df.EW.map(ew_dict)\n",
    "df.Biochar = df.Biochar.map(bio_dict)\n",
    "\n",
    "index = ['51001','51061','51081','51085','51165','51195']\n",
    "df.set_index(pd.Index(index), inplace=True)\n",
    "df"
   ]
  },
  {
   "cell_type": "code",
   "execution_count": 61,
   "id": "6c2cd749-8301-4c98-88b1-46cdec3ab781",
   "metadata": {
    "tags": []
   },
   "outputs": [],
   "source": [
    "big_dict = {'Highly Suitable': 4,\n",
    "           'Suitable': 3,\n",
    "           'Possible': 2,\n",
    "           'Unsuitable': 1}\n",
    "index_dict = {'51001': 'Accomack',\n",
    "             '51061': 'Fauquier',\n",
    "             '51081': 'Greensville',\n",
    "             '51085': 'Hanover',\n",
    "             '51165': 'Rockingham',\n",
    "             '51195': 'Wise'}"
   ]
  },
  {
   "cell_type": "code",
   "execution_count": 62,
   "id": "6471dd71-93e0-4b0b-bd18-642263a9da16",
   "metadata": {
    "tags": []
   },
   "outputs": [],
   "source": [
    "df.Reforestation = df.Reforestation.map(big_dict)\n",
    "df.EW = df.EW.map(big_dict)\n",
    "df.Biochar = df.Biochar.map(big_dict)\n",
    "df.index = df.index.map(index_dict)"
   ]
  },
  {
   "cell_type": "code",
   "execution_count": 63,
   "id": "2936fa2b-98fc-4f2c-9c08-fd873df63619",
   "metadata": {
    "tags": []
   },
   "outputs": [
    {
     "data": {
      "text/html": [
       "<div>\n",
       "<style scoped>\n",
       "    .dataframe tbody tr th:only-of-type {\n",
       "        vertical-align: middle;\n",
       "    }\n",
       "\n",
       "    .dataframe tbody tr th {\n",
       "        vertical-align: top;\n",
       "    }\n",
       "\n",
       "    .dataframe thead th {\n",
       "        text-align: right;\n",
       "    }\n",
       "</style>\n",
       "<table border=\"1\" class=\"dataframe\">\n",
       "  <thead>\n",
       "    <tr style=\"text-align: right;\">\n",
       "      <th></th>\n",
       "      <th>Reforestation</th>\n",
       "      <th>EW</th>\n",
       "      <th>Biochar</th>\n",
       "    </tr>\n",
       "  </thead>\n",
       "  <tbody>\n",
       "    <tr>\n",
       "      <th>Accomack</th>\n",
       "      <td>3</td>\n",
       "      <td>4</td>\n",
       "      <td>2</td>\n",
       "    </tr>\n",
       "    <tr>\n",
       "      <th>Fauquier</th>\n",
       "      <td>3</td>\n",
       "      <td>4</td>\n",
       "      <td>3</td>\n",
       "    </tr>\n",
       "    <tr>\n",
       "      <th>Greensville</th>\n",
       "      <td>2</td>\n",
       "      <td>3</td>\n",
       "      <td>4</td>\n",
       "    </tr>\n",
       "    <tr>\n",
       "      <th>Hanover</th>\n",
       "      <td>3</td>\n",
       "      <td>4</td>\n",
       "      <td>2</td>\n",
       "    </tr>\n",
       "    <tr>\n",
       "      <th>Rockingham</th>\n",
       "      <td>2</td>\n",
       "      <td>3</td>\n",
       "      <td>3</td>\n",
       "    </tr>\n",
       "    <tr>\n",
       "      <th>Wise</th>\n",
       "      <td>2</td>\n",
       "      <td>3</td>\n",
       "      <td>3</td>\n",
       "    </tr>\n",
       "  </tbody>\n",
       "</table>\n",
       "</div>"
      ],
      "text/plain": [
       "             Reforestation  EW  Biochar\n",
       "Accomack                 3   4        2\n",
       "Fauquier                 3   4        3\n",
       "Greensville              2   3        4\n",
       "Hanover                  3   4        2\n",
       "Rockingham               2   3        3\n",
       "Wise                     2   3        3"
      ]
     },
     "execution_count": 63,
     "metadata": {},
     "output_type": "execute_result"
    }
   ],
   "source": [
    "df"
   ]
  },
  {
   "cell_type": "code",
   "execution_count": 64,
   "id": "29020010-8db9-4d6c-b36e-15ad90038c82",
   "metadata": {
    "tags": []
   },
   "outputs": [],
   "source": [
    "custom_labels = ['Unsuitable','Possible','Suitable','Highly Suitable']\n",
    "positions = 1,2,3,4"
   ]
  },
  {
   "cell_type": "code",
   "execution_count": 65,
   "id": "337f0e2a-3231-4054-8251-06aefba49c42",
   "metadata": {
    "tags": []
   },
   "outputs": [
    {
     "data": {
      "image/png": "[encoded data removed]",
      "text/plain": [
       "<Figure size 640x480 with 1 Axes>"
      ]
     },
     "metadata": {},
     "output_type": "display_data"
    }
   ],
   "source": [
    "df.plot(kind='bar')\n",
    "plt.xlabel('VA County')\n",
    "plt.ylabel('Suitability Level')\n",
    "plt.xticks(rotation=360)\n",
    "plt.yticks(positions, custom_labels)\n",
    "plt.title('Suitability Levels for Validation Set')\n",
    "\n",
    "plt.legend(loc='upper center', bbox_to_anchor=(0.5, -0.15), fancybox=True, shadow=True, ncol=4)\n",
    "\n",
    "plt.show()"
   ]
  },
  {
   "cell_type": "code",
   "execution_count": null,
   "id": "WeEYanJST-CH",
   "metadata": {
    "id": "WeEYanJST-CH"
   },
   "outputs": [],
   "source": []
  },
  {
   "cell_type": "code",
   "execution_count": null,
   "id": "6c09c5cd-033a-4db0-9370-9eb78d09c8a2",
   "metadata": {},
   "outputs": [],
   "source": []
  }
 ],
 "metadata": {
  "accelerator": "GPU",
  "colab": {
   "gpuType": "T4",
   "provenance": []
  },
  "kernelspec": {
   "display_name": "Python 3 (ipykernel)",
   "language": "python",
   "name": "python3"
  },
  "language_info": {
   "codemirror_mode": {
    "name": "ipython",
    "version": 3
   },
   "file_extension": ".py",
   "mimetype": "text/x-python",
   "name": "python",
   "nbconvert_exporter": "python",
   "pygments_lexer": "ipython3",
   "version": "3.10.11"
  }
 },
 "nbformat": 4,
 "nbformat_minor": 5
}
